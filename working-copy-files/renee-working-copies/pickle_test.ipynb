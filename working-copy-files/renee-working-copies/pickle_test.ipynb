{
 "cells": [
  {
   "cell_type": "code",
   "execution_count": 1,
   "metadata": {},
   "outputs": [],
   "source": [
    "# Pickle import test"
   ]
  },
  {
   "cell_type": "code",
   "execution_count": 5,
   "metadata": {},
   "outputs": [],
   "source": [
    "import pickle\n",
    "file_path = '/Users/reneehall/Documents/Learning/lighthouse_labs/coursework-lighthouse-labs/Mid-term project/lighthouse-mid-term-project/working-copy-files/renee-working-copies/pickles/'\n",
    "filename= path+'RF_CV1'\n",
    "model = pickle.load(open(filename, 'rb'))"
   ]
  },
  {
   "cell_type": "code",
   "execution_count": 7,
   "metadata": {},
   "outputs": [],
   "source": [
    "# bring in data\n",
    "import pandas as pd\n",
    "\n",
    "path = '/Users/reneehall/Documents/Learning/lighthouse_labs/coursework-lighthouse-labs/Mid-term project/colab_data/'\n",
    "flights = pd.read_csv(path+'mini_sample.csv')\n",
    "\n",
    "# assign X and y\n",
    "cols=['day', 'month', 'weekday', 'op_unique_carrier', \n",
    "      'origin', 'dest',\n",
    "           'crs_arr_daytime', 'crs_dep_daytime', \n",
    "           'origin_airport_size', 'dest_airport_size', \n",
    "      'dist_group', 'season', 'dep_early_morning',\n",
    "      'percent_delay_dep', 'dist_group_delay_ratio']\n",
    "# 'mkt_carrier_fl_num', 'op_carrier_fl_num', 'mkt_unique_carrier',\n",
    "\n",
    "flights['arr_delay_flag'] = flights['arr_delay'].map(lambda x: 1 if x > 0 else 0)\n",
    "\n",
    "X = flights[cols]\n",
    "y = flights['arr_delay_flag']\n",
    "\n",
    "X = pd.get_dummies(X, columns=['op_unique_carrier','origin','dest',\n",
    "                               'crs_arr_daytime','crs_dep_daytime',\n",
    "                               'month','weekday','day',\n",
    "                               'dist_group','season','dep_early_morning',\n",
    "                               'origin_airport_size','dest_airport_size'])\n",
    "\n",
    "# make train-test split\n",
    "from sklearn.model_selection import train_test_split\n",
    "from sklearn.preprocessing import StandardScaler\n",
    "scaler = StandardScaler()\n",
    "Xsc = scaler.fit_transform(X)\n",
    "\n",
    "X_train, X_test, y_train, y_test = train_test_split(Xsc, y, train_size=0.7, test_size=0.3, random_state=101)"
   ]
  },
  {
   "cell_type": "code",
   "execution_count": 8,
   "metadata": {},
   "outputs": [],
   "source": [
    "y_pred = model.predict(X_test)"
   ]
  },
  {
   "cell_type": "code",
   "execution_count": 9,
   "metadata": {},
   "outputs": [
    {
     "name": "stdout",
     "output_type": "stream",
     "text": [
      "              precision    recall  f1-score   support\n",
      "\n",
      "           0       0.64      0.80      0.71      7429\n",
      "           1       0.74      0.55      0.63      7571\n",
      "\n",
      "    accuracy                           0.68     15000\n",
      "   macro avg       0.69      0.68      0.67     15000\n",
      "weighted avg       0.69      0.68      0.67     15000\n",
      "\n"
     ]
    }
   ],
   "source": [
    "from sklearn import metrics\n",
    "\n",
    "cnf_matrix = metrics.classification_report(y_test,y_pred)\n",
    "print(cnf_matrix)"
   ]
  },
  {
   "cell_type": "code",
   "execution_count": null,
   "metadata": {},
   "outputs": [],
   "source": []
  }
 ],
 "metadata": {
  "kernelspec": {
   "display_name": "lighthouse",
   "language": "python",
   "name": "lighthouse"
  },
  "language_info": {
   "codemirror_mode": {
    "name": "ipython",
    "version": 3
   },
   "file_extension": ".py",
   "mimetype": "text/x-python",
   "name": "python",
   "nbconvert_exporter": "python",
   "pygments_lexer": "ipython3",
   "version": "3.8.2"
  }
 },
 "nbformat": 4,
 "nbformat_minor": 4
}
