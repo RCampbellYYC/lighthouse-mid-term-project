{
 "cells": [
  {
   "cell_type": "markdown",
   "metadata": {},
   "source": [
    "# Create a balanced sample set"
   ]
  },
  {
   "cell_type": "code",
   "execution_count": 2,
   "metadata": {},
   "outputs": [],
   "source": [
    "import pandas as pd"
   ]
  },
  {
   "cell_type": "code",
   "execution_count": 3,
   "metadata": {},
   "outputs": [],
   "source": [
    "path = '/Users/reneehall/Documents/Learning/lighthouse_labs/coursework-lighthouse-labs/Mid-term project/colab_data/'"
   ]
  },
  {
   "cell_type": "code",
   "execution_count": 4,
   "metadata": {},
   "outputs": [
    {
     "name": "stderr",
     "output_type": "stream",
     "text": [
      "/Users/reneehall/opt/anaconda3/envs/lighthouse/lib/python3.8/site-packages/IPython/core/interactiveshell.py:3145: DtypeWarning: Columns (5) have mixed types.Specify dtype option on import or set low_memory=False.\n",
      "  has_raised = await self.run_ast_nodes(code_ast.body, cell_name,\n"
     ]
    }
   ],
   "source": [
    "data1 = pd.read_csv(path+'flights_data1.csv')\n",
    "data2 = pd.read_csv(path+'flights_data2.csv')\n",
    "data3 = pd.read_csv(path+'flights_data3.csv')\n",
    "data4 = pd.read_csv(path+'flights_data4.csv')"
   ]
  },
  {
   "cell_type": "code",
   "execution_count": 5,
   "metadata": {},
   "outputs": [],
   "source": [
    "flights_data = pd.merge(data1, data2, left_index=True, right_index=True)\n",
    "\n",
    "flights_data = pd.merge(flights_data, data3, left_index=True, right_index=True)\n",
    "\n",
    "flights_data = pd.merge(flights_data, data4, left_index=True, right_index=True)"
   ]
  },
  {
   "cell_type": "code",
   "execution_count": 6,
   "metadata": {},
   "outputs": [
    {
     "data": {
      "text/plain": [
       "(15927485, 41)"
      ]
     },
     "execution_count": 6,
     "metadata": {},
     "output_type": "execute_result"
    }
   ],
   "source": [
    "flights_data.shape"
   ]
  },
  {
   "cell_type": "code",
   "execution_count": 7,
   "metadata": {},
   "outputs": [],
   "source": [
    "flights_class_0 = flights_data.loc[flights_data['arr_delay'] <= 0.0]"
   ]
  },
  {
   "cell_type": "code",
   "execution_count": 8,
   "metadata": {},
   "outputs": [],
   "source": [
    "flights_class_1 = flights_data.loc[flights_data['arr_delay'] > 0.0]"
   ]
  },
  {
   "cell_type": "code",
   "execution_count": 9,
   "metadata": {},
   "outputs": [],
   "source": [
    "class_0_sample = flights_class_0.sample(300000, random_state=27)"
   ]
  },
  {
   "cell_type": "code",
   "execution_count": 10,
   "metadata": {},
   "outputs": [],
   "source": [
    "class_1_sample = flights_class_1.sample(300000, random_state=27)"
   ]
  },
  {
   "cell_type": "code",
   "execution_count": 11,
   "metadata": {},
   "outputs": [],
   "source": [
    "final_sample = class_0_sample.append(class_1_sample)"
   ]
  },
  {
   "cell_type": "code",
   "execution_count": 64,
   "metadata": {},
   "outputs": [],
   "source": [
    "from sklearn.utils import shuffle\n",
    "\n",
    "sample_shuffled = shuffle(final_sample)"
   ]
  },
  {
   "cell_type": "code",
   "execution_count": 23,
   "metadata": {},
   "outputs": [],
   "source": [
    "sample_shuffled.to_csv(path+'balanced_sample.csv', index=False)"
   ]
  },
  {
   "cell_type": "code",
   "execution_count": 24,
   "metadata": {},
   "outputs": [
    {
     "data": {
      "text/plain": [
       "300000"
      ]
     },
     "execution_count": 24,
     "metadata": {},
     "output_type": "execute_result"
    }
   ],
   "source": [
    "sample_shuffled[sample_shuffled['arr_delay'] > 0.0].flights.count()"
   ]
  },
  {
   "cell_type": "code",
   "execution_count": 26,
   "metadata": {},
   "outputs": [
    {
     "data": {
      "text/plain": [
       "(600000, 41)"
      ]
     },
     "execution_count": 26,
     "metadata": {},
     "output_type": "execute_result"
    }
   ],
   "source": [
    "sample_shuffled.shape"
   ]
  },
  {
   "cell_type": "code",
   "execution_count": 29,
   "metadata": {},
   "outputs": [
    {
     "data": {
      "text/html": [
       "<div>\n",
       "<style scoped>\n",
       "    .dataframe tbody tr th:only-of-type {\n",
       "        vertical-align: middle;\n",
       "    }\n",
       "\n",
       "    .dataframe tbody tr th {\n",
       "        vertical-align: top;\n",
       "    }\n",
       "\n",
       "    .dataframe thead th {\n",
       "        text-align: right;\n",
       "    }\n",
       "</style>\n",
       "<table border=\"1\" class=\"dataframe\">\n",
       "  <thead>\n",
       "    <tr style=\"text-align: right;\">\n",
       "      <th></th>\n",
       "      <th>Total</th>\n",
       "      <th>Percent</th>\n",
       "    </tr>\n",
       "  </thead>\n",
       "  <tbody>\n",
       "    <tr>\n",
       "      <th>longest_add_gtime</th>\n",
       "      <td>595902</td>\n",
       "      <td>0.993170</td>\n",
       "    </tr>\n",
       "    <tr>\n",
       "      <th>total_add_gtime</th>\n",
       "      <td>595902</td>\n",
       "      <td>0.993170</td>\n",
       "    </tr>\n",
       "    <tr>\n",
       "      <th>first_dep_time</th>\n",
       "      <td>595770</td>\n",
       "      <td>0.992950</td>\n",
       "    </tr>\n",
       "    <tr>\n",
       "      <th>cancellation_code</th>\n",
       "      <td>589907</td>\n",
       "      <td>0.983178</td>\n",
       "    </tr>\n",
       "    <tr>\n",
       "      <th>late_aircraft_delay</th>\n",
       "      <td>487055</td>\n",
       "      <td>0.811758</td>\n",
       "    </tr>\n",
       "    <tr>\n",
       "      <th>security_delay</th>\n",
       "      <td>486834</td>\n",
       "      <td>0.811390</td>\n",
       "    </tr>\n",
       "    <tr>\n",
       "      <th>nas_delay</th>\n",
       "      <td>486834</td>\n",
       "      <td>0.811390</td>\n",
       "    </tr>\n",
       "    <tr>\n",
       "      <th>weather_delay</th>\n",
       "      <td>486458</td>\n",
       "      <td>0.810763</td>\n",
       "    </tr>\n",
       "    <tr>\n",
       "      <th>carrier_delay</th>\n",
       "      <td>486458</td>\n",
       "      <td>0.810763</td>\n",
       "    </tr>\n",
       "    <tr>\n",
       "      <th>air_time</th>\n",
       "      <td>11977</td>\n",
       "      <td>0.019962</td>\n",
       "    </tr>\n",
       "    <tr>\n",
       "      <th>actual_elapsed_time</th>\n",
       "      <td>11736</td>\n",
       "      <td>0.019560</td>\n",
       "    </tr>\n",
       "    <tr>\n",
       "      <th>taxi_in</th>\n",
       "      <td>10648</td>\n",
       "      <td>0.017747</td>\n",
       "    </tr>\n",
       "    <tr>\n",
       "      <th>wheels_on</th>\n",
       "      <td>10508</td>\n",
       "      <td>0.017513</td>\n",
       "    </tr>\n",
       "    <tr>\n",
       "      <th>taxi_out</th>\n",
       "      <td>10283</td>\n",
       "      <td>0.017138</td>\n",
       "    </tr>\n",
       "    <tr>\n",
       "      <th>wheels_off</th>\n",
       "      <td>10218</td>\n",
       "      <td>0.017030</td>\n",
       "    </tr>\n",
       "  </tbody>\n",
       "</table>\n",
       "</div>"
      ],
      "text/plain": [
       "                      Total   Percent\n",
       "longest_add_gtime    595902  0.993170\n",
       "total_add_gtime      595902  0.993170\n",
       "first_dep_time       595770  0.992950\n",
       "cancellation_code    589907  0.983178\n",
       "late_aircraft_delay  487055  0.811758\n",
       "security_delay       486834  0.811390\n",
       "nas_delay            486834  0.811390\n",
       "weather_delay        486458  0.810763\n",
       "carrier_delay        486458  0.810763\n",
       "air_time              11977  0.019962\n",
       "actual_elapsed_time   11736  0.019560\n",
       "taxi_in               10648  0.017747\n",
       "wheels_on             10508  0.017513\n",
       "taxi_out              10283  0.017138\n",
       "wheels_off            10218  0.017030"
      ]
     },
     "execution_count": 29,
     "metadata": {},
     "output_type": "execute_result"
    }
   ],
   "source": [
    "# missing data for flights_sample\n",
    "total = sample_shuffled.isnull().sum().sort_values(ascending=False)\n",
    "percent = (sample_shuffled.isnull().sum()/sample_shuffled.isnull().count()).sort_values(ascending=False)\n",
    "missing_data = pd.concat([total, percent], axis=1, keys=['Total', 'Percent'])\n",
    "missing_data.head(15)"
   ]
  },
  {
   "cell_type": "code",
   "execution_count": 65,
   "metadata": {},
   "outputs": [],
   "source": [
    "cat_cols = sample_shuffled.select_dtypes(include='object')"
   ]
  },
  {
   "cell_type": "code",
   "execution_count": 66,
   "metadata": {},
   "outputs": [
    {
     "data": {
      "text/plain": [
       "cancellation_code     0.983178\n",
       "tail_num              0.003088\n",
       "dup                   0.000000\n",
       "dest_city_name        0.000000\n",
       "dest                  0.000000\n",
       "origin_city_name      0.000000\n",
       "origin                0.000000\n",
       "op_unique_carrier     0.000000\n",
       "mkt_carrier           0.000000\n",
       "branded_code_share    0.000000\n",
       "mkt_unique_carrier    0.000000\n",
       "fl_date               0.000000\n",
       "dtype: float64"
      ]
     },
     "execution_count": 66,
     "metadata": {},
     "output_type": "execute_result"
    }
   ],
   "source": [
    "(cat_cols.isnull().sum()/cat_cols.isnull().count()).sort_values(ascending=False)"
   ]
  },
  {
   "cell_type": "code",
   "execution_count": 67,
   "metadata": {},
   "outputs": [
    {
     "data": {
      "text/plain": [
       "longest_add_gtime      0.993170\n",
       "total_add_gtime        0.993170\n",
       "first_dep_time         0.992950\n",
       "late_aircraft_delay    0.811758\n",
       "security_delay         0.811390\n",
       "nas_delay              0.811390\n",
       "weather_delay          0.810763\n",
       "carrier_delay          0.810763\n",
       "air_time               0.019962\n",
       "actual_elapsed_time    0.019560\n",
       "taxi_in                0.017747\n",
       "wheels_on              0.017513\n",
       "taxi_out               0.017138\n",
       "wheels_off             0.017030\n",
       "dep_delay              0.016523\n",
       "dep_time               0.016225\n",
       "crs_elapsed_time       0.000002\n",
       "origin_airport_id      0.000000\n",
       "dest_airport_id        0.000000\n",
       "op_carrier_fl_num      0.000000\n",
       "crs_dep_time           0.000000\n",
       "cancelled              0.000000\n",
       "crs_arr_time           0.000000\n",
       "arr_time               0.000000\n",
       "arr_delay              0.000000\n",
       "diverted               0.000000\n",
       "flights                0.000000\n",
       "distance               0.000000\n",
       "mkt_carrier_fl_num     0.000000\n",
       "dtype: float64"
      ]
     },
     "execution_count": 67,
     "metadata": {},
     "output_type": "execute_result"
    }
   ],
   "source": [
    "cat_cols.columns.tolist()\n",
    "var_cols = sample_shuffled.drop(labels=cat_cols.columns.tolist(), axis=1)\n",
    "(var_cols.isnull().sum()/var_cols.isnull().count()).sort_values(ascending=False)"
   ]
  },
  {
   "cell_type": "code",
   "execution_count": 68,
   "metadata": {},
   "outputs": [],
   "source": [
    "# replace tail_num NaN's with 'tail_num_unknown'\n",
    "sample_shuffled['tail_num'] = sample_shuffled['tail_num'].fillna('tail_num_unknown')"
   ]
  },
  {
   "cell_type": "code",
   "execution_count": 69,
   "metadata": {},
   "outputs": [],
   "source": [
    "# replace null values with mean\n",
    "to_mean = ['air_time','arr_delay','actual_elapsed_time','taxi_in','wheels_on','wheels_off','arr_time','taxi_out','dep_delay','dep_time','crs_elapsed_time']"
   ]
  },
  {
   "cell_type": "code",
   "execution_count": 43,
   "metadata": {},
   "outputs": [],
   "source": [
    "sample_df2 = sample_shuffled"
   ]
  },
  {
   "cell_type": "code",
   "execution_count": 70,
   "metadata": {},
   "outputs": [],
   "source": [
    "for col in to_mean:\n",
    "    sample_shuffled[col] = sample_shuffled[col].fillna(sample_shuffled[col].mean())"
   ]
  },
  {
   "cell_type": "code",
   "execution_count": 71,
   "metadata": {},
   "outputs": [
    {
     "data": {
      "text/plain": [
       "longest_add_gtime      0.993170\n",
       "total_add_gtime        0.993170\n",
       "first_dep_time         0.992950\n",
       "cancellation_code      0.983178\n",
       "late_aircraft_delay    0.811758\n",
       "security_delay         0.811390\n",
       "nas_delay              0.811390\n",
       "weather_delay          0.810763\n",
       "carrier_delay          0.810763\n",
       "dest_city_name         0.000000\n",
       "dest                   0.000000\n",
       "dest_airport_id        0.000000\n",
       "origin_city_name       0.000000\n",
       "origin                 0.000000\n",
       "origin_airport_id      0.000000\n",
       "op_unique_carrier      0.000000\n",
       "op_carrier_fl_num      0.000000\n",
       "tail_num               0.000000\n",
       "dep_time               0.000000\n",
       "mkt_carrier_fl_num     0.000000\n",
       "dtype: float64"
      ]
     },
     "execution_count": 71,
     "metadata": {},
     "output_type": "execute_result"
    }
   ],
   "source": [
    "(sample_shuffled.isnull().sum()/sample_shuffled.isnull().count()).sort_values(ascending=False).head(20)"
   ]
  },
  {
   "cell_type": "code",
   "execution_count": 46,
   "metadata": {},
   "outputs": [],
   "source": [
    "sample_shuffled.to_csv(path+'cleaned_balanced_sample.csv', index=False)"
   ]
  },
  {
   "cell_type": "code",
   "execution_count": 47,
   "metadata": {
    "collapsed": true,
    "jupyter": {
     "outputs_hidden": true
    }
   },
   "outputs": [
    {
     "data": {
      "text/plain": [
       "fl_date                 object\n",
       "mkt_unique_carrier      object\n",
       "branded_code_share      object\n",
       "mkt_carrier             object\n",
       "mkt_carrier_fl_num       int64\n",
       "op_unique_carrier       object\n",
       "tail_num                object\n",
       "op_carrier_fl_num        int64\n",
       "origin_airport_id        int64\n",
       "origin                  object\n",
       "origin_city_name        object\n",
       "dest_airport_id          int64\n",
       "dest                    object\n",
       "dest_city_name          object\n",
       "crs_dep_time             int64\n",
       "dep_time               float64\n",
       "dep_delay              float64\n",
       "taxi_out               float64\n",
       "wheels_off             float64\n",
       "wheels_on              float64\n",
       "taxi_in                float64\n",
       "crs_arr_time             int64\n",
       "arr_time               float64\n",
       "arr_delay              float64\n",
       "cancelled              float64\n",
       "cancellation_code       object\n",
       "diverted               float64\n",
       "dup                     object\n",
       "crs_elapsed_time       float64\n",
       "actual_elapsed_time    float64\n",
       "air_time               float64\n",
       "flights                float64\n",
       "distance               float64\n",
       "carrier_delay          float64\n",
       "weather_delay          float64\n",
       "nas_delay              float64\n",
       "security_delay         float64\n",
       "late_aircraft_delay    float64\n",
       "first_dep_time         float64\n",
       "total_add_gtime        float64\n",
       "longest_add_gtime      float64\n",
       "dtype: object"
      ]
     },
     "execution_count": 47,
     "metadata": {},
     "output_type": "execute_result"
    }
   ],
   "source": [
    "sample_shuffled.dtypes"
   ]
  },
  {
   "cell_type": "code",
   "execution_count": 72,
   "metadata": {},
   "outputs": [
    {
     "data": {
      "text/plain": [
       "distance              0.0\n",
       "flights               0.0\n",
       "mkt_unique_carrier    0.0\n",
       "branded_code_share    0.0\n",
       "mkt_carrier           0.0\n",
       "dtype: float64"
      ]
     },
     "execution_count": 72,
     "metadata": {},
     "output_type": "execute_result"
    }
   ],
   "source": [
    "sample_shuffled.drop(labels=['longest_add_gtime','total_add_gtime','first_dep_time','cancellation_code','late_aircraft_delay','security_delay','nas_delay','weather_delay','carrier_delay'], axis=1, inplace=True)\n",
    "(sample_shuffled.isnull().sum()/sample_shuffled.isnull().count()).sort_values(ascending=False).head()"
   ]
  },
  {
   "cell_type": "code",
   "execution_count": 73,
   "metadata": {},
   "outputs": [
    {
     "data": {
      "text/plain": [
       "Index(['fl_date', 'mkt_unique_carrier', 'branded_code_share', 'mkt_carrier',\n",
       "       'op_unique_carrier', 'tail_num', 'origin', 'origin_city_name', 'dest',\n",
       "       'dest_city_name', 'dup'],\n",
       "      dtype='object')"
      ]
     },
     "execution_count": 73,
     "metadata": {},
     "output_type": "execute_result"
    }
   ],
   "source": [
    "sample_shuffled.select_dtypes('object').columns"
   ]
  },
  {
   "cell_type": "code",
   "execution_count": 52,
   "metadata": {},
   "outputs": [
    {
     "data": {
      "text/plain": [
       "array(['N'], dtype=object)"
      ]
     },
     "execution_count": 52,
     "metadata": {},
     "output_type": "execute_result"
    }
   ],
   "source": [
    "sample_shuffled.dup.unique()"
   ]
  },
  {
   "cell_type": "code",
   "execution_count": 74,
   "metadata": {},
   "outputs": [],
   "source": [
    "sample_shuffled.drop(labels='dup', axis=1, inplace=True)"
   ]
  },
  {
   "cell_type": "code",
   "execution_count": 55,
   "metadata": {},
   "outputs": [
    {
     "data": {
      "text/plain": [
       "Index(['fl_date', 'mkt_unique_carrier', 'branded_code_share', 'mkt_carrier',\n",
       "       'mkt_carrier_fl_num', 'op_unique_carrier', 'tail_num',\n",
       "       'op_carrier_fl_num', 'origin_airport_id', 'origin', 'origin_city_name',\n",
       "       'dest_airport_id', 'dest', 'dest_city_name', 'crs_dep_time', 'dep_time',\n",
       "       'dep_delay', 'taxi_out', 'wheels_off', 'wheels_on', 'taxi_in',\n",
       "       'crs_arr_time', 'arr_time', 'arr_delay', 'cancelled', 'diverted',\n",
       "       'crs_elapsed_time', 'actual_elapsed_time', 'air_time', 'flights',\n",
       "       'distance'],\n",
       "      dtype='object')"
      ]
     },
     "execution_count": 55,
     "metadata": {},
     "output_type": "execute_result"
    }
   ],
   "source": [
    "sample_shuffled.columns"
   ]
  },
  {
   "cell_type": "code",
   "execution_count": 56,
   "metadata": {},
   "outputs": [
    {
     "data": {
      "text/plain": [
       "array([0., 1.])"
      ]
     },
     "execution_count": 56,
     "metadata": {},
     "output_type": "execute_result"
    }
   ],
   "source": [
    "sample_shuffled.cancelled.unique()"
   ]
  },
  {
   "cell_type": "code",
   "execution_count": 57,
   "metadata": {},
   "outputs": [
    {
     "data": {
      "text/plain": [
       "array([0., 1.])"
      ]
     },
     "execution_count": 57,
     "metadata": {},
     "output_type": "execute_result"
    }
   ],
   "source": [
    "sample_shuffled.diverted.unique()"
   ]
  },
  {
   "cell_type": "code",
   "execution_count": 75,
   "metadata": {},
   "outputs": [],
   "source": [
    "sample_shuffled['cancelled'] = sample_shuffled.cancelled.astype('category')\n",
    "sample_shuffled['diverted'] = sample_shuffled.diverted.astype('category')"
   ]
  },
  {
   "cell_type": "code",
   "execution_count": 59,
   "metadata": {},
   "outputs": [
    {
     "data": {
      "text/plain": [
       "fl_date                  object\n",
       "mkt_unique_carrier       object\n",
       "branded_code_share       object\n",
       "mkt_carrier              object\n",
       "mkt_carrier_fl_num        int64\n",
       "op_unique_carrier        object\n",
       "tail_num                 object\n",
       "op_carrier_fl_num         int64\n",
       "origin_airport_id         int64\n",
       "origin                   object\n",
       "origin_city_name         object\n",
       "dest_airport_id           int64\n",
       "dest                     object\n",
       "dest_city_name           object\n",
       "crs_dep_time              int64\n",
       "dep_time                float64\n",
       "dep_delay               float64\n",
       "taxi_out                float64\n",
       "wheels_off              float64\n",
       "wheels_on               float64\n",
       "taxi_in                 float64\n",
       "crs_arr_time              int64\n",
       "arr_time                float64\n",
       "arr_delay               float64\n",
       "cancelled              category\n",
       "diverted               category\n",
       "crs_elapsed_time        float64\n",
       "actual_elapsed_time     float64\n",
       "air_time                float64\n",
       "flights                 float64\n",
       "distance                float64\n",
       "dtype: object"
      ]
     },
     "execution_count": 59,
     "metadata": {},
     "output_type": "execute_result"
    }
   ],
   "source": [
    "sample_shuffled.dtypes"
   ]
  },
  {
   "cell_type": "code",
   "execution_count": 79,
   "metadata": {},
   "outputs": [
    {
     "data": {
      "text/plain": [
       "Index(['fl_date', 'mkt_unique_carrier', 'branded_code_share', 'mkt_carrier',\n",
       "       'op_unique_carrier', 'tail_num', 'origin', 'origin_city_name', 'dest',\n",
       "       'dest_city_name'],\n",
       "      dtype='object')"
      ]
     },
     "execution_count": 79,
     "metadata": {},
     "output_type": "execute_result"
    }
   ],
   "source": [
    "sample_shuffled.select_dtypes('object').columns"
   ]
  },
  {
   "cell_type": "code",
   "execution_count": 80,
   "metadata": {},
   "outputs": [],
   "source": [
    "# encode object vars\n",
    "from sklearn import preprocessing\n",
    "\n",
    "label_encoder = preprocessing.LabelEncoder()\n",
    "\n",
    "cat_vars = ['mkt_unique_carrier', 'branded_code_share', 'mkt_carrier',\n",
    "       'op_unique_carrier', 'tail_num', 'origin', 'origin_city_name', 'dest',\n",
    "       'dest_city_name']\n",
    "for col in cat_vars:\n",
    "    sample_shuffled[col] = label_encoder.fit_transform(sample_shuffled[col])"
   ]
  },
  {
   "cell_type": "code",
   "execution_count": 81,
   "metadata": {},
   "outputs": [
    {
     "data": {
      "text/plain": [
       "fl_date                  object\n",
       "mkt_unique_carrier        int64\n",
       "branded_code_share        int64\n",
       "mkt_carrier               int64\n",
       "mkt_carrier_fl_num        int64\n",
       "op_unique_carrier         int64\n",
       "tail_num                  int64\n",
       "op_carrier_fl_num         int64\n",
       "origin_airport_id         int64\n",
       "origin                    int64\n",
       "origin_city_name          int64\n",
       "dest_airport_id           int64\n",
       "dest                      int64\n",
       "dest_city_name            int64\n",
       "crs_dep_time              int64\n",
       "dep_time                float64\n",
       "dep_delay               float64\n",
       "taxi_out                float64\n",
       "wheels_off              float64\n",
       "wheels_on               float64\n",
       "taxi_in                 float64\n",
       "crs_arr_time              int64\n",
       "arr_time                float64\n",
       "arr_delay               float64\n",
       "cancelled              category\n",
       "diverted               category\n",
       "crs_elapsed_time        float64\n",
       "actual_elapsed_time     float64\n",
       "air_time                float64\n",
       "flights                 float64\n",
       "distance                float64\n",
       "dtype: object"
      ]
     },
     "execution_count": 81,
     "metadata": {},
     "output_type": "execute_result"
    }
   ],
   "source": [
    "sample_shuffled.dtypes"
   ]
  },
  {
   "cell_type": "code",
   "execution_count": 82,
   "metadata": {},
   "outputs": [
    {
     "data": {
      "text/html": [
       "<div>\n",
       "<style scoped>\n",
       "    .dataframe tbody tr th:only-of-type {\n",
       "        vertical-align: middle;\n",
       "    }\n",
       "\n",
       "    .dataframe tbody tr th {\n",
       "        vertical-align: top;\n",
       "    }\n",
       "\n",
       "    .dataframe thead th {\n",
       "        text-align: right;\n",
       "    }\n",
       "</style>\n",
       "<table border=\"1\" class=\"dataframe\">\n",
       "  <thead>\n",
       "    <tr style=\"text-align: right;\">\n",
       "      <th></th>\n",
       "      <th>fl_date</th>\n",
       "      <th>mkt_unique_carrier</th>\n",
       "      <th>branded_code_share</th>\n",
       "      <th>mkt_carrier</th>\n",
       "      <th>mkt_carrier_fl_num</th>\n",
       "      <th>op_unique_carrier</th>\n",
       "      <th>tail_num</th>\n",
       "      <th>op_carrier_fl_num</th>\n",
       "      <th>origin_airport_id</th>\n",
       "      <th>origin</th>\n",
       "      <th>...</th>\n",
       "      <th>crs_arr_time</th>\n",
       "      <th>arr_time</th>\n",
       "      <th>arr_delay</th>\n",
       "      <th>cancelled</th>\n",
       "      <th>diverted</th>\n",
       "      <th>crs_elapsed_time</th>\n",
       "      <th>actual_elapsed_time</th>\n",
       "      <th>air_time</th>\n",
       "      <th>flights</th>\n",
       "      <th>distance</th>\n",
       "    </tr>\n",
       "  </thead>\n",
       "  <tbody>\n",
       "    <tr>\n",
       "      <th>13157014</th>\n",
       "      <td>2018-04-05</td>\n",
       "      <td>3</td>\n",
       "      <td>15</td>\n",
       "      <td>10</td>\n",
       "      <td>136</td>\n",
       "      <td>24</td>\n",
       "      <td>5787</td>\n",
       "      <td>2617</td>\n",
       "      <td>14057</td>\n",
       "      <td>267</td>\n",
       "      <td>...</td>\n",
       "      <td>1655</td>\n",
       "      <td>735.0</td>\n",
       "      <td>-10.0</td>\n",
       "      <td>0.0</td>\n",
       "      <td>0.0</td>\n",
       "      <td>249.0</td>\n",
       "      <td>64.0</td>\n",
       "      <td>50.0</td>\n",
       "      <td>1.0</td>\n",
       "      <td>198.0</td>\n",
       "    </tr>\n",
       "    <tr>\n",
       "      <th>622981</th>\n",
       "      <td>2019-07-05</td>\n",
       "      <td>8</td>\n",
       "      <td>2</td>\n",
       "      <td>1</td>\n",
       "      <td>3833</td>\n",
       "      <td>16</td>\n",
       "      <td>2259</td>\n",
       "      <td>2256</td>\n",
       "      <td>12889</td>\n",
       "      <td>194</td>\n",
       "      <td>...</td>\n",
       "      <td>559</td>\n",
       "      <td>2206.0</td>\n",
       "      <td>352.0</td>\n",
       "      <td>0.0</td>\n",
       "      <td>0.0</td>\n",
       "      <td>160.0</td>\n",
       "      <td>169.0</td>\n",
       "      <td>149.0</td>\n",
       "      <td>1.0</td>\n",
       "      <td>1013.0</td>\n",
       "    </tr>\n",
       "    <tr>\n",
       "      <th>12518624</th>\n",
       "      <td>2018-09-06</td>\n",
       "      <td>0</td>\n",
       "      <td>15</td>\n",
       "      <td>10</td>\n",
       "      <td>3792</td>\n",
       "      <td>19</td>\n",
       "      <td>1558</td>\n",
       "      <td>1362</td>\n",
       "      <td>11057</td>\n",
       "      <td>74</td>\n",
       "      <td>...</td>\n",
       "      <td>1445</td>\n",
       "      <td>948.0</td>\n",
       "      <td>13.0</td>\n",
       "      <td>0.0</td>\n",
       "      <td>0.0</td>\n",
       "      <td>195.0</td>\n",
       "      <td>144.0</td>\n",
       "      <td>125.0</td>\n",
       "      <td>1.0</td>\n",
       "      <td>641.0</td>\n",
       "    </tr>\n",
       "    <tr>\n",
       "      <th>3038437</th>\n",
       "      <td>2019-10-22</td>\n",
       "      <td>10</td>\n",
       "      <td>15</td>\n",
       "      <td>10</td>\n",
       "      <td>2045</td>\n",
       "      <td>24</td>\n",
       "      <td>5746</td>\n",
       "      <td>676</td>\n",
       "      <td>12266</td>\n",
       "      <td>169</td>\n",
       "      <td>...</td>\n",
       "      <td>1638</td>\n",
       "      <td>538.0</td>\n",
       "      <td>35.0</td>\n",
       "      <td>0.0</td>\n",
       "      <td>0.0</td>\n",
       "      <td>93.0</td>\n",
       "      <td>121.0</td>\n",
       "      <td>104.0</td>\n",
       "      <td>1.0</td>\n",
       "      <td>533.0</td>\n",
       "    </tr>\n",
       "    <tr>\n",
       "      <th>15055897</th>\n",
       "      <td>2019-05-30</td>\n",
       "      <td>8</td>\n",
       "      <td>15</td>\n",
       "      <td>10</td>\n",
       "      <td>715</td>\n",
       "      <td>2</td>\n",
       "      <td>2284</td>\n",
       "      <td>613</td>\n",
       "      <td>13204</td>\n",
       "      <td>219</td>\n",
       "      <td>...</td>\n",
       "      <td>1150</td>\n",
       "      <td>2115.0</td>\n",
       "      <td>10.0</td>\n",
       "      <td>0.0</td>\n",
       "      <td>0.0</td>\n",
       "      <td>166.0</td>\n",
       "      <td>123.0</td>\n",
       "      <td>95.0</td>\n",
       "      <td>1.0</td>\n",
       "      <td>1592.0</td>\n",
       "    </tr>\n",
       "  </tbody>\n",
       "</table>\n",
       "<p>5 rows × 31 columns</p>\n",
       "</div>"
      ],
      "text/plain": [
       "             fl_date  mkt_unique_carrier  branded_code_share  mkt_carrier  \\\n",
       "13157014  2018-04-05                   3                  15           10   \n",
       "622981    2019-07-05                   8                   2            1   \n",
       "12518624  2018-09-06                   0                  15           10   \n",
       "3038437   2019-10-22                  10                  15           10   \n",
       "15055897  2019-05-30                   8                  15           10   \n",
       "\n",
       "          mkt_carrier_fl_num  op_unique_carrier  tail_num  op_carrier_fl_num  \\\n",
       "13157014                 136                 24      5787               2617   \n",
       "622981                  3833                 16      2259               2256   \n",
       "12518624                3792                 19      1558               1362   \n",
       "3038437                 2045                 24      5746                676   \n",
       "15055897                 715                  2      2284                613   \n",
       "\n",
       "          origin_airport_id  origin  ...  crs_arr_time  arr_time  arr_delay  \\\n",
       "13157014              14057     267  ...          1655     735.0      -10.0   \n",
       "622981                12889     194  ...           559    2206.0      352.0   \n",
       "12518624              11057      74  ...          1445     948.0       13.0   \n",
       "3038437               12266     169  ...          1638     538.0       35.0   \n",
       "15055897              13204     219  ...          1150    2115.0       10.0   \n",
       "\n",
       "          cancelled  diverted  crs_elapsed_time  actual_elapsed_time  \\\n",
       "13157014        0.0       0.0             249.0                 64.0   \n",
       "622981          0.0       0.0             160.0                169.0   \n",
       "12518624        0.0       0.0             195.0                144.0   \n",
       "3038437         0.0       0.0              93.0                121.0   \n",
       "15055897        0.0       0.0             166.0                123.0   \n",
       "\n",
       "          air_time  flights  distance  \n",
       "13157014      50.0      1.0     198.0  \n",
       "622981       149.0      1.0    1013.0  \n",
       "12518624     125.0      1.0     641.0  \n",
       "3038437      104.0      1.0     533.0  \n",
       "15055897      95.0      1.0    1592.0  \n",
       "\n",
       "[5 rows x 31 columns]"
      ]
     },
     "execution_count": 82,
     "metadata": {},
     "output_type": "execute_result"
    }
   ],
   "source": [
    "sample_shuffled.head()"
   ]
  },
  {
   "cell_type": "code",
   "execution_count": 83,
   "metadata": {},
   "outputs": [],
   "source": [
    "sample_shuffled.to_csv(path+'encoded_balanced_sample.csv', index=False)"
   ]
  },
  {
   "cell_type": "code",
   "execution_count": null,
   "metadata": {},
   "outputs": [],
   "source": []
  }
 ],
 "metadata": {
  "kernelspec": {
   "display_name": "lighthouse",
   "language": "python",
   "name": "lighthouse"
  },
  "language_info": {
   "codemirror_mode": {
    "name": "ipython",
    "version": 3
   },
   "file_extension": ".py",
   "mimetype": "text/x-python",
   "name": "python",
   "nbconvert_exporter": "python",
   "pygments_lexer": "ipython3",
   "version": "3.8.2"
  }
 },
 "nbformat": 4,
 "nbformat_minor": 4
}
