{
 "cells": [
  {
   "cell_type": "markdown",
   "metadata": {},
   "source": [
    "## Feature Engineering"
   ]
  },
  {
   "cell_type": "code",
   "execution_count": 2,
   "metadata": {},
   "outputs": [],
   "source": [
    "import pandas as pd"
   ]
  },
  {
   "cell_type": "code",
   "execution_count": 7,
   "metadata": {},
   "outputs": [],
   "source": [
    "# load data\n",
    "# bring in data\n",
    "path = '/Users/reneehall/Documents/Learning/lighthouse_labs/coursework-lighthouse-labs/Mid-term project/colab_data/'\n",
    "fl_df = pd.read_csv(path+'balanced_more_flight_feats.csv')"
   ]
  },
  {
   "cell_type": "code",
   "execution_count": 115,
   "metadata": {},
   "outputs": [
    {
     "data": {
      "text/plain": [
       "(446299, 59)"
      ]
     },
     "execution_count": 115,
     "metadata": {},
     "output_type": "execute_result"
    }
   ],
   "source": [
    "fl_df.shape"
   ]
  },
  {
   "cell_type": "code",
   "execution_count": 137,
   "metadata": {},
   "outputs": [],
   "source": [
    "# choose smaller dataset for ease of work\n",
    "\n",
    "sm_df = fl_df.sample(50000, random_state=26)"
   ]
  },
  {
   "cell_type": "code",
   "execution_count": 138,
   "metadata": {},
   "outputs": [
    {
     "data": {
      "text/plain": [
       "(50000, 60)"
      ]
     },
     "execution_count": 138,
     "metadata": {},
     "output_type": "execute_result"
    }
   ],
   "source": [
    "sm_df.shape"
   ]
  },
  {
   "cell_type": "code",
   "execution_count": 50,
   "metadata": {
    "collapsed": true,
    "jupyter": {
     "outputs_hidden": true
    }
   },
   "outputs": [
    {
     "data": {
      "text/plain": [
       "fl_date                   24249\n",
       "mkt_unique_carrier        24249\n",
       "branded_code_share        24249\n",
       "mkt_carrier               24249\n",
       "mkt_carrier_fl_num        24249\n",
       "op_unique_carrier         24249\n",
       "tail_num                  24249\n",
       "op_carrier_fl_num         24249\n",
       "origin_airport_id         24249\n",
       "origin                    24249\n",
       "origin_city_name          24249\n",
       "dest_airport_id           24249\n",
       "dest                      24249\n",
       "dest_city_name            24249\n",
       "crs_dep_time              24249\n",
       "dep_time                  24249\n",
       "dep_delay                 24249\n",
       "taxi_out                  24249\n",
       "wheels_off                24249\n",
       "wheels_on                 24249\n",
       "taxi_in                   24249\n",
       "crs_arr_time              24249\n",
       "arr_time                  24249\n",
       "arr_delay                 24249\n",
       "cancelled                 24249\n",
       "diverted                  24249\n",
       "crs_elapsed_time          24249\n",
       "actual_elapsed_time       24249\n",
       "air_time                  24249\n",
       "flights                   24249\n",
       "distance                  24249\n",
       "origin_fl_density         24249\n",
       "dest_fl_density           24249\n",
       "day                       24249\n",
       "month                     24249\n",
       "year                      24249\n",
       "weekday                   24249\n",
       "day_of_year               24249\n",
       "crs_arr_hour              24249\n",
       "crs_dep_hour              24249\n",
       "timestamp                 24249\n",
       "crs_arr_daytime           24249\n",
       "crs_dep_daytime           24249\n",
       "predicted_speed_mi/min    24249\n",
       "actual_speed_mi/min       24249\n",
       "origin_passengers/mo      24249\n",
       "dest_passengers/mo        24249\n",
       "origin_freight/mo         24249\n",
       "dest_freight/mo           24249\n",
       "origin_intl_dep/mo        24249\n",
       "dest_intl_dep/mo          24249\n",
       "origin_intl_arr/mo        24249\n",
       "dest_intl_arr/mo          24249\n",
       "dtype: int64"
      ]
     },
     "execution_count": 50,
     "metadata": {},
     "output_type": "execute_result"
    }
   ],
   "source": [
    "sm_df.loc[sm_df['arr_delay'] < 0.0].count()"
   ]
  },
  {
   "cell_type": "code",
   "execution_count": 139,
   "metadata": {},
   "outputs": [],
   "source": [
    "sm_df.to_csv(path+'mini_sample.csv', index=False)"
   ]
  },
  {
   "cell_type": "code",
   "execution_count": 11,
   "metadata": {},
   "outputs": [],
   "source": [
    "pass_df = pd.read_csv(path+'passengers.csv')"
   ]
  },
  {
   "cell_type": "code",
   "execution_count": 43,
   "metadata": {},
   "outputs": [
    {
     "data": {
      "text/plain": [
       "Index(['fl_date', 'mkt_unique_carrier', 'branded_code_share', 'mkt_carrier',\n",
       "       'mkt_carrier_fl_num', 'op_unique_carrier', 'tail_num',\n",
       "       'op_carrier_fl_num', 'origin_airport_id', 'origin', 'origin_city_name',\n",
       "       'dest_airport_id', 'dest', 'dest_city_name', 'crs_dep_time', 'dep_time',\n",
       "       'dep_delay', 'taxi_out', 'wheels_off', 'wheels_on', 'taxi_in',\n",
       "       'crs_arr_time', 'arr_time', 'arr_delay', 'cancelled', 'diverted',\n",
       "       'crs_elapsed_time', 'actual_elapsed_time', 'air_time', 'flights',\n",
       "       'distance', 'origin_fl_density', 'dest_fl_density', 'day', 'month',\n",
       "       'year', 'weekday', 'day_of_year', 'crs_arr_hour', 'crs_dep_hour',\n",
       "       'timestamp', 'crs_arr_daytime', 'crs_dep_daytime',\n",
       "       'predicted_speed_mi/min', 'actual_speed_mi/min', 'origin_passengers/mo',\n",
       "       'dest_passengers/mo', 'origin_freight/mo', 'dest_freight/mo',\n",
       "       'origin_intl_dep/mo', 'dest_intl_dep/mo', 'origin_intl_arr/mo',\n",
       "       'dest_intl_arr/mo'],\n",
       "      dtype='object')"
      ]
     },
     "execution_count": 43,
     "metadata": {},
     "output_type": "execute_result"
    }
   ],
   "source": [
    "fl_df.columns"
   ]
  },
  {
   "cell_type": "markdown",
   "metadata": {},
   "source": [
    "## Airport size (from num passengers/year)"
   ]
  },
  {
   "cell_type": "code",
   "execution_count": 57,
   "metadata": {},
   "outputs": [],
   "source": [
    "pass_per_yr_origin_airport = pass_df.groupby(by=['origin_airport_id']).sum().sort_values(by='passengers', ascending=False)"
   ]
  },
  {
   "cell_type": "code",
   "execution_count": 135,
   "metadata": {},
   "outputs": [
    {
     "data": {
      "text/plain": [
       "origin_airport_id\n",
       "10715    0.0\n",
       "15676    0.0\n",
       "10748    0.0\n",
       "13681    0.0\n",
       "14646    0.0\n",
       "Name: passengers, dtype: float64"
      ]
     },
     "execution_count": 135,
     "metadata": {},
     "output_type": "execute_result"
    }
   ],
   "source": [
    "pass_per_yr_origin_airport.passengers.tail()"
   ]
  },
  {
   "cell_type": "code",
   "execution_count": 40,
   "metadata": {},
   "outputs": [
    {
     "data": {
      "text/plain": [
       "97729.00000000006"
      ]
     },
     "execution_count": 40,
     "metadata": {},
     "output_type": "execute_result"
    }
   ],
   "source": [
    "import numpy as np\n",
    "small = np.percentile(pass_per_yr_origin_airport, q=78)\n",
    "small"
   ]
  },
  {
   "cell_type": "code",
   "execution_count": 45,
   "metadata": {},
   "outputs": [
    {
     "data": {
      "text/plain": [
       "1021742.9199999986"
      ]
     },
     "execution_count": 45,
     "metadata": {},
     "output_type": "execute_result"
    }
   ],
   "source": [
    "med = np.percentile(pass_per_yr_origin_airport, q=89)\n",
    "med"
   ]
  },
  {
   "cell_type": "code",
   "execution_count": 32,
   "metadata": {},
   "outputs": [
    {
     "data": {
      "text/plain": [
       "257478059.0"
      ]
     },
     "execution_count": 32,
     "metadata": {},
     "output_type": "execute_result"
    }
   ],
   "source": [
    "lrg = np.percentile(pass_per_yr_origin_airport, q=100)\n",
    "lrg"
   ]
  },
  {
   "cell_type": "code",
   "execution_count": 61,
   "metadata": {},
   "outputs": [],
   "source": [
    "airport_size = pass_per_yr_origin_airport"
   ]
  },
  {
   "cell_type": "code",
   "execution_count": 85,
   "metadata": {},
   "outputs": [
    {
     "name": "stderr",
     "output_type": "stream",
     "text": [
      "<ipython-input-85-d605ecf55d8a>:4: SettingWithCopyWarning: \n",
      "A value is trying to be set on a copy of a slice from a DataFrame.\n",
      "Try using .loc[row_indexer,col_indexer] = value instead\n",
      "\n",
      "See the caveats in the documentation: https://pandas.pydata.org/pandas-docs/stable/user_guide/indexing.html#returning-a-view-versus-a-copy\n",
      "  airport_size['size'] = pd.cut(airport_size['passengers'], bins=bins, labels=labels)\n"
     ]
    }
   ],
   "source": [
    "# 1:small, 2:med, 3:lrg, 4, xl\n",
    "bins = [0, 100000, 1000000, 10000000, 300000000]\n",
    "labels = [1,2,3,4]\n",
    "airport_size['size'] = pd.cut(airport_size['passengers'], bins=bins, labels=labels)"
   ]
  },
  {
   "cell_type": "code",
   "execution_count": 86,
   "metadata": {},
   "outputs": [],
   "source": [
    "airport_size = airport_size[['passengers','size']]"
   ]
  },
  {
   "cell_type": "code",
   "execution_count": 87,
   "metadata": {},
   "outputs": [],
   "source": [
    "fl_df = pd.merge(fl_df, airport_size, left_on=['origin_airport_id'], right_on = ['origin_airport_id'])"
   ]
  },
  {
   "cell_type": "code",
   "execution_count": 88,
   "metadata": {},
   "outputs": [],
   "source": [
    "fl_df.drop(labels='passengers', axis=1, inplace=True)"
   ]
  },
  {
   "cell_type": "code",
   "execution_count": 89,
   "metadata": {},
   "outputs": [],
   "source": [
    "fl_df.rename(columns={'size_x': 'origin_airport_size'}, inplace=True)"
   ]
  },
  {
   "cell_type": "code",
   "execution_count": 90,
   "metadata": {},
   "outputs": [],
   "source": [
    "fl_df = pd.merge(fl_df, airport_size, left_on=['dest_airport_id'], right_on = ['origin_airport_id'])"
   ]
  },
  {
   "cell_type": "code",
   "execution_count": 91,
   "metadata": {
    "collapsed": true,
    "jupyter": {
     "outputs_hidden": true
    }
   },
   "outputs": [
    {
     "data": {
      "text/html": [
       "<div>\n",
       "<style scoped>\n",
       "    .dataframe tbody tr th:only-of-type {\n",
       "        vertical-align: middle;\n",
       "    }\n",
       "\n",
       "    .dataframe tbody tr th {\n",
       "        vertical-align: top;\n",
       "    }\n",
       "\n",
       "    .dataframe thead th {\n",
       "        text-align: right;\n",
       "    }\n",
       "</style>\n",
       "<table border=\"1\" class=\"dataframe\">\n",
       "  <thead>\n",
       "    <tr style=\"text-align: right;\">\n",
       "      <th></th>\n",
       "      <th>origin_airport_id</th>\n",
       "      <th>origin_airport_size</th>\n",
       "      <th>dest_airport_id</th>\n",
       "      <th>size_y</th>\n",
       "      <th>passengers</th>\n",
       "    </tr>\n",
       "  </thead>\n",
       "  <tbody>\n",
       "    <tr>\n",
       "      <th>0</th>\n",
       "      <td>12478</td>\n",
       "      <td>3</td>\n",
       "      <td>13495</td>\n",
       "      <td>4</td>\n",
       "      <td>30996075.0</td>\n",
       "    </tr>\n",
       "    <tr>\n",
       "      <th>1</th>\n",
       "      <td>12478</td>\n",
       "      <td>3</td>\n",
       "      <td>13495</td>\n",
       "      <td>4</td>\n",
       "      <td>30996075.0</td>\n",
       "    </tr>\n",
       "    <tr>\n",
       "      <th>2</th>\n",
       "      <td>12478</td>\n",
       "      <td>3</td>\n",
       "      <td>13495</td>\n",
       "      <td>4</td>\n",
       "      <td>30996075.0</td>\n",
       "    </tr>\n",
       "    <tr>\n",
       "      <th>3</th>\n",
       "      <td>12478</td>\n",
       "      <td>3</td>\n",
       "      <td>13495</td>\n",
       "      <td>4</td>\n",
       "      <td>30996075.0</td>\n",
       "    </tr>\n",
       "    <tr>\n",
       "      <th>4</th>\n",
       "      <td>12478</td>\n",
       "      <td>3</td>\n",
       "      <td>13495</td>\n",
       "      <td>4</td>\n",
       "      <td>30996075.0</td>\n",
       "    </tr>\n",
       "    <tr>\n",
       "      <th>...</th>\n",
       "      <td>...</td>\n",
       "      <td>...</td>\n",
       "      <td>...</td>\n",
       "      <td>...</td>\n",
       "      <td>...</td>\n",
       "    </tr>\n",
       "    <tr>\n",
       "      <th>446294</th>\n",
       "      <td>14107</td>\n",
       "      <td>3</td>\n",
       "      <td>12343</td>\n",
       "      <td>1</td>\n",
       "      <td>76623.0</td>\n",
       "    </tr>\n",
       "    <tr>\n",
       "      <th>446295</th>\n",
       "      <td>12892</td>\n",
       "      <td>3</td>\n",
       "      <td>13832</td>\n",
       "      <td>1</td>\n",
       "      <td>88637.0</td>\n",
       "    </tr>\n",
       "    <tr>\n",
       "      <th>446296</th>\n",
       "      <td>14122</td>\n",
       "      <td>3</td>\n",
       "      <td>13832</td>\n",
       "      <td>1</td>\n",
       "      <td>88637.0</td>\n",
       "    </tr>\n",
       "    <tr>\n",
       "      <th>446297</th>\n",
       "      <td>13342</td>\n",
       "      <td>3</td>\n",
       "      <td>10562</td>\n",
       "      <td>1</td>\n",
       "      <td>28064.0</td>\n",
       "    </tr>\n",
       "    <tr>\n",
       "      <th>446298</th>\n",
       "      <td>13342</td>\n",
       "      <td>3</td>\n",
       "      <td>10590</td>\n",
       "      <td>2</td>\n",
       "      <td>606450.0</td>\n",
       "    </tr>\n",
       "  </tbody>\n",
       "</table>\n",
       "<p>446299 rows × 5 columns</p>\n",
       "</div>"
      ],
      "text/plain": [
       "        origin_airport_id origin_airport_size  dest_airport_id size_y  \\\n",
       "0                   12478                   3            13495      4   \n",
       "1                   12478                   3            13495      4   \n",
       "2                   12478                   3            13495      4   \n",
       "3                   12478                   3            13495      4   \n",
       "4                   12478                   3            13495      4   \n",
       "...                   ...                 ...              ...    ...   \n",
       "446294              14107                   3            12343      1   \n",
       "446295              12892                   3            13832      1   \n",
       "446296              14122                   3            13832      1   \n",
       "446297              13342                   3            10562      1   \n",
       "446298              13342                   3            10590      2   \n",
       "\n",
       "        passengers  \n",
       "0       30996075.0  \n",
       "1       30996075.0  \n",
       "2       30996075.0  \n",
       "3       30996075.0  \n",
       "4       30996075.0  \n",
       "...            ...  \n",
       "446294     76623.0  \n",
       "446295     88637.0  \n",
       "446296     88637.0  \n",
       "446297     28064.0  \n",
       "446298    606450.0  \n",
       "\n",
       "[446299 rows x 5 columns]"
      ]
     },
     "execution_count": 91,
     "metadata": {},
     "output_type": "execute_result"
    }
   ],
   "source": [
    "fl_df[['origin_airport_id','origin_airport_size','dest_airport_id','size_y','passengers']]"
   ]
  },
  {
   "cell_type": "code",
   "execution_count": 92,
   "metadata": {},
   "outputs": [],
   "source": [
    "fl_df.drop(labels='passengers', axis=1, inplace=True)"
   ]
  },
  {
   "cell_type": "code",
   "execution_count": 93,
   "metadata": {},
   "outputs": [],
   "source": [
    "fl_df.rename(columns={'size_y': 'dest_airport_size'}, inplace=True)"
   ]
  },
  {
   "cell_type": "code",
   "execution_count": 94,
   "metadata": {
    "collapsed": true,
    "jupyter": {
     "outputs_hidden": true
    }
   },
   "outputs": [
    {
     "data": {
      "text/plain": [
       "fl_date                   0\n",
       "mkt_unique_carrier        0\n",
       "branded_code_share        0\n",
       "mkt_carrier               0\n",
       "mkt_carrier_fl_num        0\n",
       "op_unique_carrier         0\n",
       "tail_num                  0\n",
       "op_carrier_fl_num         0\n",
       "origin_airport_id         0\n",
       "origin                    0\n",
       "origin_city_name          0\n",
       "dest_airport_id           0\n",
       "dest                      0\n",
       "dest_city_name            0\n",
       "crs_dep_time              0\n",
       "dep_time                  0\n",
       "dep_delay                 0\n",
       "taxi_out                  0\n",
       "wheels_off                0\n",
       "wheels_on                 0\n",
       "taxi_in                   0\n",
       "crs_arr_time              0\n",
       "arr_time                  0\n",
       "arr_delay                 0\n",
       "cancelled                 0\n",
       "diverted                  0\n",
       "crs_elapsed_time          0\n",
       "actual_elapsed_time       0\n",
       "air_time                  0\n",
       "flights                   0\n",
       "distance                  0\n",
       "origin_fl_density         0\n",
       "dest_fl_density           0\n",
       "day                       0\n",
       "month                     0\n",
       "year                      0\n",
       "weekday                   0\n",
       "day_of_year               0\n",
       "crs_arr_hour              0\n",
       "crs_dep_hour              0\n",
       "timestamp                 0\n",
       "crs_arr_daytime           0\n",
       "crs_dep_daytime           0\n",
       "predicted_speed_mi/min    0\n",
       "actual_speed_mi/min       0\n",
       "origin_passengers/mo      0\n",
       "dest_passengers/mo        0\n",
       "origin_freight/mo         0\n",
       "dest_freight/mo           0\n",
       "origin_intl_dep/mo        0\n",
       "dest_intl_dep/mo          0\n",
       "origin_intl_arr/mo        0\n",
       "dest_intl_arr/mo          0\n",
       "origin_airport_size       0\n",
       "dest_airport_size         0\n",
       "size_x                    0\n",
       "dest_airport_size         0\n",
       "dtype: int64"
      ]
     },
     "execution_count": 94,
     "metadata": {},
     "output_type": "execute_result"
    }
   ],
   "source": [
    "fl_df.isnull().sum()"
   ]
  },
  {
   "cell_type": "code",
   "execution_count": 95,
   "metadata": {},
   "outputs": [],
   "source": [
    "fl_df.to_csv(path+'balanced_more_flight_feats2.csv')"
   ]
  },
  {
   "cell_type": "markdown",
   "metadata": {},
   "source": [
    "## Routes (origin & dest)"
   ]
  },
  {
   "cell_type": "code",
   "execution_count": null,
   "metadata": {},
   "outputs": [],
   "source": []
  },
  {
   "cell_type": "code",
   "execution_count": null,
   "metadata": {},
   "outputs": [],
   "source": []
  },
  {
   "cell_type": "markdown",
   "metadata": {},
   "source": [
    "## Season"
   ]
  },
  {
   "cell_type": "code",
   "execution_count": 101,
   "metadata": {},
   "outputs": [
    {
     "data": {
      "text/plain": [
       "array([ 4, 12, 10,  1,  3,  8,  6,  2,  7,  5,  9, 11])"
      ]
     },
     "execution_count": 101,
     "metadata": {},
     "output_type": "execute_result"
    }
   ],
   "source": [
    "fl_df.month.unique()"
   ]
  },
  {
   "cell_type": "code",
   "execution_count": 110,
   "metadata": {},
   "outputs": [],
   "source": [
    "# winter dec-feb, spring march-may, summer june-aug, fall sep-nov\n",
    "bins = [0, 2, 5, 8, 11]\n",
    "labels = [1,2,3,4]\n",
    "fl_df['season'] = pd.cut(fl_df['month'], bins=bins, labels=labels)"
   ]
  },
  {
   "cell_type": "code",
   "execution_count": 112,
   "metadata": {},
   "outputs": [],
   "source": [
    "fl_df['season'] = fl_df['season'].fillna(1)"
   ]
  },
  {
   "cell_type": "code",
   "execution_count": 113,
   "metadata": {},
   "outputs": [
    {
     "data": {
      "text/html": [
       "<div>\n",
       "<style scoped>\n",
       "    .dataframe tbody tr th:only-of-type {\n",
       "        vertical-align: middle;\n",
       "    }\n",
       "\n",
       "    .dataframe tbody tr th {\n",
       "        vertical-align: top;\n",
       "    }\n",
       "\n",
       "    .dataframe thead th {\n",
       "        text-align: right;\n",
       "    }\n",
       "</style>\n",
       "<table border=\"1\" class=\"dataframe\">\n",
       "  <thead>\n",
       "    <tr style=\"text-align: right;\">\n",
       "      <th></th>\n",
       "      <th>season</th>\n",
       "      <th>month</th>\n",
       "    </tr>\n",
       "  </thead>\n",
       "  <tbody>\n",
       "    <tr>\n",
       "      <th>0</th>\n",
       "      <td>2</td>\n",
       "      <td>4</td>\n",
       "    </tr>\n",
       "    <tr>\n",
       "      <th>1</th>\n",
       "      <td>2</td>\n",
       "      <td>4</td>\n",
       "    </tr>\n",
       "    <tr>\n",
       "      <th>2</th>\n",
       "      <td>2</td>\n",
       "      <td>4</td>\n",
       "    </tr>\n",
       "    <tr>\n",
       "      <th>3</th>\n",
       "      <td>1</td>\n",
       "      <td>12</td>\n",
       "    </tr>\n",
       "    <tr>\n",
       "      <th>4</th>\n",
       "      <td>1</td>\n",
       "      <td>12</td>\n",
       "    </tr>\n",
       "  </tbody>\n",
       "</table>\n",
       "</div>"
      ],
      "text/plain": [
       "  season  month\n",
       "0      2      4\n",
       "1      2      4\n",
       "2      2      4\n",
       "3      1     12\n",
       "4      1     12"
      ]
     },
     "execution_count": 113,
     "metadata": {},
     "output_type": "execute_result"
    }
   ],
   "source": [
    "fl_df[['season','month']].head()"
   ]
  },
  {
   "cell_type": "code",
   "execution_count": 114,
   "metadata": {},
   "outputs": [],
   "source": [
    "fl_df.to_csv(path+'balanced_more_flight_feats2.csv')"
   ]
  },
  {
   "cell_type": "markdown",
   "metadata": {},
   "source": [
    "## short medium long haul"
   ]
  },
  {
   "cell_type": "code",
   "execution_count": null,
   "metadata": {},
   "outputs": [],
   "source": []
  },
  {
   "cell_type": "code",
   "execution_count": 97,
   "metadata": {},
   "outputs": [],
   "source": [
    "# NOTE intervals of 500, label=1 is shortest\n",
    "bins = [0, 500, 1000, 1500, 2000, 2500, 3000, 3500, 4000, 4500, 5000, 5500]\n",
    "labels = [1,2,3,4,5,6,7,8,9,10,11]\n",
    "fl_df['dist_group'] = pd.cut(fl_df['distance'], bins=bins, labels=labels)"
   ]
  },
  {
   "cell_type": "code",
   "execution_count": 131,
   "metadata": {},
   "outputs": [
    {
     "data": {
      "text/html": [
       "<div>\n",
       "<style scoped>\n",
       "    .dataframe tbody tr th:only-of-type {\n",
       "        vertical-align: middle;\n",
       "    }\n",
       "\n",
       "    .dataframe tbody tr th {\n",
       "        vertical-align: top;\n",
       "    }\n",
       "\n",
       "    .dataframe thead th {\n",
       "        text-align: right;\n",
       "    }\n",
       "</style>\n",
       "<table border=\"1\" class=\"dataframe\">\n",
       "  <thead>\n",
       "    <tr style=\"text-align: right;\">\n",
       "      <th></th>\n",
       "      <th>distance</th>\n",
       "      <th>dist_group</th>\n",
       "    </tr>\n",
       "  </thead>\n",
       "  <tbody>\n",
       "    <tr>\n",
       "      <th>1</th>\n",
       "      <td>224.0</td>\n",
       "      <td>1</td>\n",
       "    </tr>\n",
       "    <tr>\n",
       "      <th>2</th>\n",
       "      <td>289.0</td>\n",
       "      <td>1</td>\n",
       "    </tr>\n",
       "    <tr>\n",
       "      <th>6</th>\n",
       "      <td>127.0</td>\n",
       "      <td>1</td>\n",
       "    </tr>\n",
       "    <tr>\n",
       "      <th>8</th>\n",
       "      <td>317.0</td>\n",
       "      <td>1</td>\n",
       "    </tr>\n",
       "    <tr>\n",
       "      <th>9</th>\n",
       "      <td>192.0</td>\n",
       "      <td>1</td>\n",
       "    </tr>\n",
       "    <tr>\n",
       "      <th>...</th>\n",
       "      <td>...</td>\n",
       "      <td>...</td>\n",
       "    </tr>\n",
       "    <tr>\n",
       "      <th>446293</th>\n",
       "      <td>156.0</td>\n",
       "      <td>1</td>\n",
       "    </tr>\n",
       "    <tr>\n",
       "      <th>446294</th>\n",
       "      <td>196.0</td>\n",
       "      <td>1</td>\n",
       "    </tr>\n",
       "    <tr>\n",
       "      <th>446296</th>\n",
       "      <td>114.0</td>\n",
       "      <td>1</td>\n",
       "    </tr>\n",
       "    <tr>\n",
       "      <th>446297</th>\n",
       "      <td>143.0</td>\n",
       "      <td>1</td>\n",
       "    </tr>\n",
       "    <tr>\n",
       "      <th>446298</th>\n",
       "      <td>119.0</td>\n",
       "      <td>1</td>\n",
       "    </tr>\n",
       "  </tbody>\n",
       "</table>\n",
       "<p>182398 rows × 2 columns</p>\n",
       "</div>"
      ],
      "text/plain": [
       "        distance dist_group\n",
       "1          224.0          1\n",
       "2          289.0          1\n",
       "6          127.0          1\n",
       "8          317.0          1\n",
       "9          192.0          1\n",
       "...          ...        ...\n",
       "446293     156.0          1\n",
       "446294     196.0          1\n",
       "446296     114.0          1\n",
       "446297     143.0          1\n",
       "446298     119.0          1\n",
       "\n",
       "[182398 rows x 2 columns]"
      ]
     },
     "execution_count": 131,
     "metadata": {},
     "output_type": "execute_result"
    }
   ],
   "source": [
    "fl_df[['distance','dist_group']].loc[fl_df['distance'] <= 500]"
   ]
  },
  {
   "cell_type": "code",
   "execution_count": 99,
   "metadata": {},
   "outputs": [],
   "source": [
    "fl_df.to_csv(path+'balanced_more_flight_feats2.csv')"
   ]
  },
  {
   "cell_type": "markdown",
   "metadata": {},
   "source": [
    "## % international"
   ]
  },
  {
   "cell_type": "code",
   "execution_count": null,
   "metadata": {},
   "outputs": [],
   "source": []
  },
  {
   "cell_type": "code",
   "execution_count": null,
   "metadata": {},
   "outputs": [],
   "source": []
  },
  {
   "cell_type": "markdown",
   "metadata": {},
   "source": [
    "## morning vs. afternoon (ex. after 10am)"
   ]
  },
  {
   "cell_type": "code",
   "execution_count": 120,
   "metadata": {},
   "outputs": [
    {
     "data": {
      "text/plain": [
       "array([12,  9, 10, 11,  6, 21, 22, 17, 18,  8, 20, 13, 19,  7, 14, 15, 16,\n",
       "        5, 23,  0,  1,  2,  4,  3])"
      ]
     },
     "execution_count": 120,
     "metadata": {},
     "output_type": "execute_result"
    }
   ],
   "source": [
    "fl_df.crs_dep_hour.unique()"
   ]
  },
  {
   "cell_type": "code",
   "execution_count": 132,
   "metadata": {},
   "outputs": [],
   "source": [
    "# NOTE early morning (before 10am) = 1\n",
    "bins = [-1, 10, 23]\n",
    "labels = [1,0]\n",
    "fl_df['dep_early_morning'] = pd.cut(fl_df['crs_dep_hour'], bins=bins, labels=labels)"
   ]
  },
  {
   "cell_type": "code",
   "execution_count": 136,
   "metadata": {},
   "outputs": [],
   "source": [
    "fl_df.to_csv(path+'balanced_more_flight_feats2.csv')"
   ]
  },
  {
   "cell_type": "markdown",
   "metadata": {},
   "source": [
    "## Region"
   ]
  },
  {
   "cell_type": "code",
   "execution_count": null,
   "metadata": {},
   "outputs": [],
   "source": []
  },
  {
   "cell_type": "code",
   "execution_count": null,
   "metadata": {},
   "outputs": [],
   "source": []
  },
  {
   "cell_type": "code",
   "execution_count": null,
   "metadata": {},
   "outputs": [],
   "source": []
  },
  {
   "cell_type": "code",
   "execution_count": null,
   "metadata": {},
   "outputs": [],
   "source": []
  }
 ],
 "metadata": {
  "kernelspec": {
   "display_name": "lighthouse",
   "language": "python",
   "name": "lighthouse"
  },
  "language_info": {
   "codemirror_mode": {
    "name": "ipython",
    "version": 3
   },
   "file_extension": ".py",
   "mimetype": "text/x-python",
   "name": "python",
   "nbconvert_exporter": "python",
   "pygments_lexer": "ipython3",
   "version": "3.8.2"
  }
 },
 "nbformat": 4,
 "nbformat_minor": 4
}
