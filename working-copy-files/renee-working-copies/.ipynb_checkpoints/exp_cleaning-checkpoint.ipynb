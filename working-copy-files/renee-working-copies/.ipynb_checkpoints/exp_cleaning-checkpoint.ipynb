{
 "cells": [
  {
   "cell_type": "markdown",
   "metadata": {},
   "source": [
    "# Data Cleaning experiment"
   ]
  },
  {
   "cell_type": "code",
   "execution_count": 2,
   "metadata": {},
   "outputs": [],
   "source": [
    "from datacleaner import autoclean\n",
    "import pandas as pd"
   ]
  },
  {
   "cell_type": "code",
   "execution_count": 3,
   "metadata": {},
   "outputs": [],
   "source": [
    "path = '/Users/reneehall/Documents/Learning/lighthouse_labs/coursework-lighthouse-labs/Mid-term project/colab_data/'\n",
    "\n",
    "fl_df = pd.read_csv(path+'balanced_sample.csv')"
   ]
  },
  {
   "cell_type": "code",
   "execution_count": 6,
   "metadata": {},
   "outputs": [
    {
     "data": {
      "text/plain": [
       "longest_add_gtime      0\n",
       "wheels_on              0\n",
       "taxi_out               0\n",
       "dep_delay              0\n",
       "dep_time               0\n",
       "crs_dep_time           0\n",
       "dest_city_name         0\n",
       "dest                   0\n",
       "dest_airport_id        0\n",
       "origin_city_name       0\n",
       "origin                 0\n",
       "origin_airport_id      0\n",
       "op_carrier_fl_num      0\n",
       "tail_num               0\n",
       "op_unique_carrier      0\n",
       "mkt_carrier_fl_num     0\n",
       "mkt_carrier            0\n",
       "branded_code_share     0\n",
       "mkt_unique_carrier     0\n",
       "wheels_off             0\n",
       "taxi_in                0\n",
       "total_add_gtime        0\n",
       "crs_arr_time           0\n",
       "first_dep_time         0\n",
       "late_aircraft_delay    0\n",
       "security_delay         0\n",
       "nas_delay              0\n",
       "weather_delay          0\n",
       "carrier_delay          0\n",
       "distance               0\n",
       "flights                0\n",
       "air_time               0\n",
       "actual_elapsed_time    0\n",
       "crs_elapsed_time       0\n",
       "dup                    0\n",
       "diverted               0\n",
       "cancellation_code      0\n",
       "cancelled              0\n",
       "arr_delay              0\n",
       "arr_time               0\n",
       "fl_date                0\n",
       "dtype: int64"
      ]
     },
     "execution_count": 6,
     "metadata": {},
     "output_type": "execute_result"
    }
   ],
   "source": [
    "fl_df.isnull().sum().sort_values(ascending=False)"
   ]
  },
  {
   "cell_type": "code",
   "execution_count": 5,
   "metadata": {},
   "outputs": [],
   "source": [
    "my_clean_data = autoclean(fl_df)"
   ]
  },
  {
   "cell_type": "code",
   "execution_count": 8,
   "metadata": {},
   "outputs": [],
   "source": [
    "fl_df.to_csv('my_clean_data.csv', index=False)"
   ]
  },
  {
   "cell_type": "code",
   "execution_count": 9,
   "metadata": {},
   "outputs": [
    {
     "data": {
      "text/plain": [
       "Index(['fl_date', 'mkt_unique_carrier', 'branded_code_share', 'mkt_carrier',\n",
       "       'mkt_carrier_fl_num', 'op_unique_carrier', 'tail_num',\n",
       "       'op_carrier_fl_num', 'origin_airport_id', 'origin', 'origin_city_name',\n",
       "       'dest_airport_id', 'dest', 'dest_city_name', 'crs_dep_time', 'dep_time',\n",
       "       'dep_delay', 'taxi_out', 'wheels_off', 'wheels_on', 'taxi_in',\n",
       "       'crs_arr_time', 'arr_time', 'arr_delay', 'cancelled',\n",
       "       'cancellation_code', 'diverted', 'dup', 'crs_elapsed_time',\n",
       "       'actual_elapsed_time', 'air_time', 'flights', 'distance',\n",
       "       'carrier_delay', 'weather_delay', 'nas_delay', 'security_delay',\n",
       "       'late_aircraft_delay', 'first_dep_time', 'total_add_gtime',\n",
       "       'longest_add_gtime'],\n",
       "      dtype='object')"
      ]
     },
     "execution_count": 9,
     "metadata": {},
     "output_type": "execute_result"
    }
   ],
   "source": [
    "fl_df.columns"
   ]
  },
  {
   "cell_type": "code",
   "execution_count": 10,
   "metadata": {},
   "outputs": [],
   "source": [
    "cols=['fl_date', 'mkt_unique_carrier', 'branded_code_share', 'mkt_carrier',\n",
    "       'mkt_carrier_fl_num', 'op_unique_carrier', 'tail_num',\n",
    "       'op_carrier_fl_num', 'origin_airport_id', 'origin', 'origin_city_name',\n",
    "       'dest_airport_id', 'dest', 'dest_city_name', 'crs_dep_time',\n",
    "       \n",
    "       'crs_arr_time',\n",
    "       'crs_elapsed_time',\n",
    "      'distance']"
   ]
  },
  {
   "cell_type": "code",
   "execution_count": 18,
   "metadata": {},
   "outputs": [
    {
     "data": {
      "text/plain": [
       "(600000, 41)"
      ]
     },
     "execution_count": 18,
     "metadata": {},
     "output_type": "execute_result"
    }
   ],
   "source": []
  },
  {
   "cell_type": "code",
   "execution_count": 24,
   "metadata": {},
   "outputs": [],
   "source": [
    "import pandas as pd\n",
    "import numpy as np\n",
    "\n",
    "# bring in data\n",
    "path = '/Users/reneehall/Documents/Learning/lighthouse_labs/coursework-lighthouse-labs/Mid-term project/colab_data/'\n",
    "flights = pd.read_csv(path+'mini_sample.csv')\n",
    "\n",
    "my_clean_data = autoclean(fl_df)\n",
    "\n",
    "# assign X and y\n",
    "cols=[ 'op_unique_carrier',\n",
    "       'origin_airport_id',\n",
    "       'dest_airport_id', \n",
    "       'distance', 'origin_fl_density', 'dest_fl_density','month',\n",
    "       'weekday',\n",
    "       'timestamp', 'crs_arr_daytime', 'crs_dep_daytime',\n",
    "       'origin_airport_size', 'dest_airport_size', 'season', 'dist_group',\n",
    "       'dep_early_morning', 'mean_op_carrier_delay',\n",
    "       'mean_delay_origin_airport', 'mean_delay_dest_airport',\n",
    "       'mean_dep_delay_origin', 'mean_dep_delay_dest', 'predicted_speed',\n",
    "       'dist_group_delay_ratio',\n",
    "       'origin_percent_dep_delay','mean_mo_delay_origin_airport', \n",
    "       ]\n",
    "\n",
    "\n",
    "# 'mkt_carrier_fl_num', 'op_carrier_fl_num', 'mkt_unique_carrier',\n",
    "\n",
    "flights['arr_delay_flag'] = flights['arr_delay'].map(lambda x: 1 if x > 0 else 0)\n",
    "\n",
    "X = flights[cols]\n",
    "y = flights['arr_delay_flag'].astype('category')"
   ]
  },
  {
   "cell_type": "code",
   "execution_count": 25,
   "metadata": {},
   "outputs": [],
   "source": [
    "X[['crs_arr_daytime', 'crs_dep_daytime','dep_early_morning']] = X[['crs_arr_daytime', 'crs_dep_daytime', 'dep_early_morning']].astype('category')\n",
    "\n",
    "X = pd.get_dummies(X, columns=[\n",
    "       'op_unique_carrier',\n",
    "       'origin_airport_id',\n",
    "       'dest_airport_id', \n",
    "       'month',\n",
    "       'weekday',\n",
    "       'origin_airport_size', 'dest_airport_size', 'season', 'dist_group',\n",
    "       ])"
   ]
  },
  {
   "cell_type": "code",
   "execution_count": 26,
   "metadata": {},
   "outputs": [],
   "source": [
    "# scale data\n",
    "from sklearn.model_selection import train_test_split\n",
    "from sklearn.preprocessing import StandardScaler\n",
    "\n",
    "scaler = StandardScaler()\n",
    "Xsc = scaler.fit_transform(X)"
   ]
  },
  {
   "cell_type": "code",
   "execution_count": 27,
   "metadata": {},
   "outputs": [],
   "source": [
    "from sklearn.model_selection import train_test_split\n",
    "\n",
    "X_train, X_test, y_train, y_test = train_test_split(Xsc, y, train_size=0.7, test_size=0.3, random_state=101)"
   ]
  },
  {
   "cell_type": "code",
   "execution_count": 28,
   "metadata": {},
   "outputs": [
    {
     "data": {
      "text/plain": [
       "XGBRegressor(base_score=0.5, booster='gbtree', colsample_bylevel=1,\n",
       "             colsample_bynode=1, colsample_bytree=1, gamma=0, gpu_id=-1,\n",
       "             importance_type='gain', interaction_constraints='',\n",
       "             learning_rate=0.001, max_delta_step=0, max_depth=10,\n",
       "             min_child_weight=1, missing=nan, monotone_constraints='()',\n",
       "             n_estimators=500, n_jobs=4, num_parallel_tree=1, random_state=0,\n",
       "             reg_alpha=0, reg_lambda=1, scale_pos_weight=1, subsample=1,\n",
       "             tree_method='exact', validate_parameters=1, verbosity=None)"
      ]
     },
     "execution_count": 28,
     "metadata": {},
     "output_type": "execute_result"
    }
   ],
   "source": [
    "#Model\n",
    "import xgboost as xgb\n",
    "\n",
    "model = xgb.XGBRegressor(objective='reg:squarederror',\n",
    "        n_estimators=500,\n",
    "      learning_rate=0.001,\n",
    "     max_depth=10)\n",
    "\n",
    "model.fit(X_train, y_train)"
   ]
  },
  {
   "cell_type": "code",
   "execution_count": 29,
   "metadata": {},
   "outputs": [
    {
     "name": "stdout",
     "output_type": "stream",
     "text": [
      "MAE: 0.49835892447630564\n",
      "R2: 0.00344971583588638\n",
      "adj_R2: -0.054108442325637496\n",
      "MAPE: 1122200235426674.5\n"
     ]
    }
   ],
   "source": [
    "y_pred=model.predict(X_test)\n",
    "\n",
    "\n",
    "import xgboost as xgb\n",
    "from sklearn.metrics import mean_absolute_error\n",
    "from sklearn.metrics import r2_score\n",
    "from sklearn.metrics import mean_absolute_percentage_error\n",
    "\n",
    "# evaluate using MAE\n",
    "MAE = mean_absolute_error(y_test, y_pred)\n",
    "print(f\"MAE: {MAE}\")\n",
    "\n",
    "# evaluate using R2\n",
    "R2 = r2_score(y_test, y_pred)\n",
    "print(f\"R2: {R2}\")\n",
    "\n",
    "# evaluate with adjusted R2\n",
    "adj_R2 = 1 - ((1 - R2)*(len(y_test)-1)/(len(y_test)-X_test.shape[1]-1))\n",
    "print(f\"adj_R2: {adj_R2}\")\n",
    "\n",
    "# calculate MAPE\n",
    "MAPE = mean_absolute_percentage_error(y_test,y_pred)\n",
    "print(f\"MAPE: {MAPE}\")"
   ]
  },
  {
   "cell_type": "code",
   "execution_count": null,
   "metadata": {},
   "outputs": [],
   "source": []
  }
 ],
 "metadata": {
  "kernelspec": {
   "display_name": "lighthouse",
   "language": "python",
   "name": "lighthouse"
  },
  "language_info": {
   "codemirror_mode": {
    "name": "ipython",
    "version": 3
   },
   "file_extension": ".py",
   "mimetype": "text/x-python",
   "name": "python",
   "nbconvert_exporter": "python",
   "pygments_lexer": "ipython3",
   "version": "3.8.2"
  }
 },
 "nbformat": 4,
 "nbformat_minor": 4
}
