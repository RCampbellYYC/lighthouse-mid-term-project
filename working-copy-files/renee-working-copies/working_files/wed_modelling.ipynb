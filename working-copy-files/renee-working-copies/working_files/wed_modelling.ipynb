{
 "cells": [
  {
   "cell_type": "markdown",
   "metadata": {},
   "source": [
    "## Wednesday modelling"
   ]
  },
  {
   "cell_type": "code",
   "execution_count": 2,
   "metadata": {},
   "outputs": [],
   "source": [
    "import pandas as pd"
   ]
  },
  {
   "cell_type": "code",
   "execution_count": 3,
   "metadata": {},
   "outputs": [],
   "source": [
    "# bring in dataframe\n",
    "path = path = '/Users/reneehall/Documents/Learning/lighthouse_labs/coursework-lighthouse-labs/Mid-term project/colab_data/'\n",
    "fl_df = pd.read_csv(path+'mini_sample.csv')"
   ]
  },
  {
   "cell_type": "code",
   "execution_count": 5,
   "metadata": {},
   "outputs": [
    {
     "data": {
      "text/plain": [
       "Index(['fl_date', 'mkt_unique_carrier', 'branded_code_share', 'mkt_carrier',\n",
       "       'mkt_carrier_fl_num', 'op_unique_carrier', 'tail_num',\n",
       "       'op_carrier_fl_num', 'origin_airport_id', 'origin', 'origin_city_name',\n",
       "       'dest_airport_id', 'dest', 'dest_city_name', 'crs_dep_time', 'dep_time',\n",
       "       'dep_delay', 'taxi_out', 'wheels_off', 'wheels_on', 'taxi_in',\n",
       "       'crs_arr_time', 'arr_time', 'arr_delay', 'cancelled', 'diverted',\n",
       "       'crs_elapsed_time', 'actual_elapsed_time', 'air_time', 'flights',\n",
       "       'distance', 'origin_fl_density', 'dest_fl_density', 'day', 'month',\n",
       "       'year', 'weekday', 'day_of_year', 'crs_arr_hour', 'crs_dep_hour',\n",
       "       'timestamp', 'crs_arr_daytime', 'crs_dep_daytime', 'predicted_speed',\n",
       "       'actual_speed', 'origin_num_passengers', 'dest_num_passengers',\n",
       "       'origin_num_freight', 'dest_num_freight', 'origin_num_intl_dep',\n",
       "       'dest_num_intl_dep', 'origin_num_intl_arr', 'dest_num_intl_arr',\n",
       "       'dist_group', 'season', 'dep_early_morning', 'origin_airport_size',\n",
       "       'dest_airport_size'],\n",
       "      dtype='object')"
      ]
     },
     "execution_count": 5,
     "metadata": {},
     "output_type": "execute_result"
    }
   ],
   "source": [
    "fl_df.columns"
   ]
  },
  {
   "cell_type": "code",
   "execution_count": 6,
   "metadata": {},
   "outputs": [],
   "source": [
    "cols=['mkt_unique_carrier',\n",
    "       'mkt_carrier_fl_num', 'op_unique_carrier',\n",
    "       'op_carrier_fl_num', 'origin_airport_id',\n",
    "       'dest_airport_id', 'crs_dep_time',\n",
    "       'crs_arr_time',\n",
    "       'crs_elapsed_time',\n",
    "       'distance', 'origin_fl_density', 'dest_fl_density', 'month',\n",
    "       'weekday', 'crs_arr_hour', 'crs_dep_hour',\n",
    "       'crs_arr_daytime', 'crs_dep_daytime', 'predicted_speed',\n",
    "       'dist_group', 'season', 'dep_early_morning', 'origin_airport_size',\n",
    "       'dest_airport_size']"
   ]
  },
  {
   "cell_type": "code",
   "execution_count": null,
   "metadata": {},
   "outputs": [],
   "source": [
    "X = fl_df[cols]\n",
    "y = fl_df['arr_delay']"
   ]
  }
 ],
 "metadata": {
  "kernelspec": {
   "display_name": "lighthouse",
   "language": "python",
   "name": "lighthouse"
  },
  "language_info": {
   "codemirror_mode": {
    "name": "ipython",
    "version": 3
   },
   "file_extension": ".py",
   "mimetype": "text/x-python",
   "name": "python",
   "nbconvert_exporter": "python",
   "pygments_lexer": "ipython3",
   "version": "3.8.2"
  }
 },
 "nbformat": 4,
 "nbformat_minor": 4
}
