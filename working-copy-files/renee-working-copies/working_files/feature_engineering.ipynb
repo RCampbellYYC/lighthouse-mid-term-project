{
 "cells": [
  {
   "cell_type": "markdown",
   "metadata": {},
   "source": [
    "## Feature Engineering"
   ]
  },
  {
   "cell_type": "code",
   "execution_count": 162,
   "metadata": {},
   "outputs": [],
   "source": [
    "import pandas as pd"
   ]
  },
  {
   "cell_type": "code",
   "execution_count": 163,
   "metadata": {},
   "outputs": [],
   "source": [
    "# load data\n",
    "# bring in data\n",
    "path = '/Users/reneehall/Documents/Learning/lighthouse_labs/coursework-lighthouse-labs/Mid-term project/colab_data/'\n",
    "fl_df = pd.read_csv(path+'balanced_more_flight_feats.csv')"
   ]
  },
  {
   "cell_type": "code",
   "execution_count": 42,
   "metadata": {},
   "outputs": [],
   "source": [
    "# choose smaller dataset for ease of work\n",
    "\n",
    "sm_df = fl_df.sample(50000, random_state=26)"
   ]
  },
  {
   "cell_type": "code",
   "execution_count": 43,
   "metadata": {},
   "outputs": [],
   "source": [
    "sm_df.to_csv(path+'mini_sample.csv', index=False)"
   ]
  },
  {
   "cell_type": "code",
   "execution_count": 78,
   "metadata": {},
   "outputs": [],
   "source": [
    "pass_df = pd.read_csv(path+'passengers.csv')"
   ]
  },
  {
   "cell_type": "markdown",
   "metadata": {},
   "source": [
    "## Airport size (from num passengers/year)"
   ]
  },
  {
   "cell_type": "code",
   "execution_count": 79,
   "metadata": {},
   "outputs": [],
   "source": [
    "pass_per_yr_origin_airport = pass_df.groupby(by=['origin_airport_id']).sum().sort_values(by='passengers', ascending=False)"
   ]
  },
  {
   "cell_type": "code",
   "execution_count": 40,
   "metadata": {},
   "outputs": [
    {
     "data": {
      "text/plain": [
       "97729.00000000006"
      ]
     },
     "execution_count": 40,
     "metadata": {},
     "output_type": "execute_result"
    }
   ],
   "source": [
    "import numpy as np\n",
    "small = np.percentile(pass_per_yr_origin_airport, q=78)\n",
    "small"
   ]
  },
  {
   "cell_type": "code",
   "execution_count": 45,
   "metadata": {},
   "outputs": [
    {
     "data": {
      "text/plain": [
       "1021742.9199999986"
      ]
     },
     "execution_count": 45,
     "metadata": {},
     "output_type": "execute_result"
    }
   ],
   "source": [
    "med = np.percentile(pass_per_yr_origin_airport, q=89)\n",
    "med"
   ]
  },
  {
   "cell_type": "code",
   "execution_count": 32,
   "metadata": {},
   "outputs": [
    {
     "data": {
      "text/plain": [
       "257478059.0"
      ]
     },
     "execution_count": 32,
     "metadata": {},
     "output_type": "execute_result"
    }
   ],
   "source": [
    "lrg = np.percentile(pass_per_yr_origin_airport, q=100)\n",
    "lrg"
   ]
  },
  {
   "cell_type": "code",
   "execution_count": 80,
   "metadata": {},
   "outputs": [],
   "source": [
    "airport_size = pass_per_yr_origin_airport"
   ]
  },
  {
   "cell_type": "code",
   "execution_count": 81,
   "metadata": {},
   "outputs": [],
   "source": [
    "# 1:small, 2:med, 3:lrg, 4, xl\n",
    "bins = [0, 100000, 1000000, 10000000, 300000000]\n",
    "labels = [1,2,3,4]\n",
    "airport_size['size'] = pd.cut(airport_size['passengers'], bins=bins, labels=labels)"
   ]
  },
  {
   "cell_type": "code",
   "execution_count": 82,
   "metadata": {},
   "outputs": [],
   "source": [
    "airport_size = airport_size[['passengers','size']]"
   ]
  },
  {
   "cell_type": "code",
   "execution_count": 83,
   "metadata": {},
   "outputs": [],
   "source": [
    "fl_df = pd.merge(fl_df, airport_size, left_on=['origin_airport_id'], right_on = ['origin_airport_id'])"
   ]
  },
  {
   "cell_type": "code",
   "execution_count": 84,
   "metadata": {},
   "outputs": [],
   "source": [
    "fl_df.drop(labels='passengers', axis=1, inplace=True)"
   ]
  },
  {
   "cell_type": "code",
   "execution_count": 85,
   "metadata": {},
   "outputs": [],
   "source": [
    "fl_df.rename(columns={'size': 'origin_airport_size'}, inplace=True)"
   ]
  },
  {
   "cell_type": "code",
   "execution_count": 86,
   "metadata": {},
   "outputs": [],
   "source": [
    "fl_df = pd.merge(fl_df, airport_size, left_on=['dest_airport_id'], right_on = ['origin_airport_id'])"
   ]
  },
  {
   "cell_type": "code",
   "execution_count": 88,
   "metadata": {},
   "outputs": [],
   "source": [
    "fl_df.drop(labels='passengers', axis=1, inplace=True)"
   ]
  },
  {
   "cell_type": "code",
   "execution_count": 89,
   "metadata": {},
   "outputs": [],
   "source": [
    "fl_df.rename(columns={'size': 'dest_airport_size'}, inplace=True)"
   ]
  },
  {
   "cell_type": "code",
   "execution_count": 91,
   "metadata": {},
   "outputs": [
    {
     "data": {
      "text/plain": [
       "(600000, 45)"
      ]
     },
     "execution_count": 91,
     "metadata": {},
     "output_type": "execute_result"
    }
   ],
   "source": [
    "fl_df.shape"
   ]
  },
  {
   "cell_type": "code",
   "execution_count": 92,
   "metadata": {},
   "outputs": [],
   "source": [
    "fl_df.to_csv(path+'balanced_more_flight_feats.csv')"
   ]
  },
  {
   "cell_type": "markdown",
   "metadata": {},
   "source": [
    "## Season"
   ]
  },
  {
   "cell_type": "code",
   "execution_count": 93,
   "metadata": {},
   "outputs": [
    {
     "data": {
      "text/plain": [
       "array([ 4,  7,  5,  6,  9,  1, 10, 12, 11,  3,  8,  2])"
      ]
     },
     "execution_count": 93,
     "metadata": {},
     "output_type": "execute_result"
    }
   ],
   "source": [
    "fl_df.month.unique()"
   ]
  },
  {
   "cell_type": "code",
   "execution_count": 94,
   "metadata": {},
   "outputs": [],
   "source": [
    "# winter dec-feb, spring march-may, summer june-aug, fall sep-nov\n",
    "bins = [0, 2, 5, 8, 11]\n",
    "labels = [1,2,3,4]\n",
    "fl_df['season'] = pd.cut(fl_df['month'], bins=bins, labels=labels)"
   ]
  },
  {
   "cell_type": "code",
   "execution_count": 95,
   "metadata": {},
   "outputs": [],
   "source": [
    "fl_df['season'] = fl_df['season'].fillna(1)"
   ]
  },
  {
   "cell_type": "code",
   "execution_count": 96,
   "metadata": {},
   "outputs": [
    {
     "data": {
      "text/html": [
       "<div>\n",
       "<style scoped>\n",
       "    .dataframe tbody tr th:only-of-type {\n",
       "        vertical-align: middle;\n",
       "    }\n",
       "\n",
       "    .dataframe tbody tr th {\n",
       "        vertical-align: top;\n",
       "    }\n",
       "\n",
       "    .dataframe thead th {\n",
       "        text-align: right;\n",
       "    }\n",
       "</style>\n",
       "<table border=\"1\" class=\"dataframe\">\n",
       "  <thead>\n",
       "    <tr style=\"text-align: right;\">\n",
       "      <th></th>\n",
       "      <th>season</th>\n",
       "      <th>month</th>\n",
       "    </tr>\n",
       "  </thead>\n",
       "  <tbody>\n",
       "    <tr>\n",
       "      <th>0</th>\n",
       "      <td>2</td>\n",
       "      <td>4</td>\n",
       "    </tr>\n",
       "    <tr>\n",
       "      <th>1</th>\n",
       "      <td>3</td>\n",
       "      <td>7</td>\n",
       "    </tr>\n",
       "    <tr>\n",
       "      <th>2</th>\n",
       "      <td>2</td>\n",
       "      <td>5</td>\n",
       "    </tr>\n",
       "    <tr>\n",
       "      <th>3</th>\n",
       "      <td>3</td>\n",
       "      <td>6</td>\n",
       "    </tr>\n",
       "    <tr>\n",
       "      <th>4</th>\n",
       "      <td>4</td>\n",
       "      <td>9</td>\n",
       "    </tr>\n",
       "  </tbody>\n",
       "</table>\n",
       "</div>"
      ],
      "text/plain": [
       "  season  month\n",
       "0      2      4\n",
       "1      3      7\n",
       "2      2      5\n",
       "3      3      6\n",
       "4      4      9"
      ]
     },
     "execution_count": 96,
     "metadata": {},
     "output_type": "execute_result"
    }
   ],
   "source": [
    "fl_df[['season','month']].head()"
   ]
  },
  {
   "cell_type": "code",
   "execution_count": 97,
   "metadata": {},
   "outputs": [
    {
     "data": {
      "text/plain": [
       "(600000, 46)"
      ]
     },
     "execution_count": 97,
     "metadata": {},
     "output_type": "execute_result"
    }
   ],
   "source": [
    "fl_df.shape"
   ]
  },
  {
   "cell_type": "code",
   "execution_count": 99,
   "metadata": {},
   "outputs": [],
   "source": [
    "fl_df.to_csv(path+'balanced_more_flight_feats.csv')"
   ]
  },
  {
   "cell_type": "markdown",
   "metadata": {},
   "source": [
    "## short medium long haul"
   ]
  },
  {
   "cell_type": "code",
   "execution_count": 100,
   "metadata": {},
   "outputs": [],
   "source": [
    "# NOTE intervals of 500, label=1 is shortest\n",
    "bins = [0, 500, 1000, 1500, 2000, 2500, 3000, 3500, 4000, 4500, 5000, 5500]\n",
    "labels = [1,2,3,4,5,6,7,8,9,10,11]\n",
    "fl_df['dist_group'] = pd.cut(fl_df['distance'], bins=bins, labels=labels)"
   ]
  },
  {
   "cell_type": "code",
   "execution_count": 103,
   "metadata": {},
   "outputs": [
    {
     "data": {
      "text/plain": [
       "dist_group         0\n",
       "dest_airport_id    0\n",
       "taxi_in            0\n",
       "wheels_on          0\n",
       "wheels_off         0\n",
       "dtype: int64"
      ]
     },
     "execution_count": 103,
     "metadata": {},
     "output_type": "execute_result"
    }
   ],
   "source": [
    "fl_df.isnull().sum().sort_values(ascending=False).head()"
   ]
  },
  {
   "cell_type": "code",
   "execution_count": 105,
   "metadata": {},
   "outputs": [],
   "source": [
    "fl_df.to_csv(path+'balanced_more_flight_feats.csv')"
   ]
  },
  {
   "cell_type": "code",
   "execution_count": null,
   "metadata": {},
   "outputs": [],
   "source": []
  },
  {
   "cell_type": "markdown",
   "metadata": {},
   "source": [
    "## morning vs. afternoon (ex. after 10am)"
   ]
  },
  {
   "cell_type": "code",
   "execution_count": 106,
   "metadata": {},
   "outputs": [
    {
     "data": {
      "text/plain": [
       "array([12,  8, 16,  9, 17, 11, 19, 18,  6,  7, 21, 14, 20, 10, 15, 13, 22,\n",
       "        5, 23,  0,  1,  2,  4,  3])"
      ]
     },
     "execution_count": 106,
     "metadata": {},
     "output_type": "execute_result"
    }
   ],
   "source": [
    "fl_df.crs_dep_hour.unique()"
   ]
  },
  {
   "cell_type": "code",
   "execution_count": 107,
   "metadata": {},
   "outputs": [],
   "source": [
    "# NOTE early morning (before 10am) = 1\n",
    "bins = [-1, 10, 23]\n",
    "labels = [1,0]\n",
    "fl_df['dep_early_morning'] = pd.cut(fl_df['crs_dep_hour'], bins=bins, labels=labels)"
   ]
  },
  {
   "cell_type": "code",
   "execution_count": 108,
   "metadata": {},
   "outputs": [
    {
     "data": {
      "text/plain": [
       "dep_early_morning    0\n",
       "dist_group           0\n",
       "crs_arr_time         0\n",
       "taxi_in              0\n",
       "wheels_on            0\n",
       "dtype: int64"
      ]
     },
     "execution_count": 108,
     "metadata": {},
     "output_type": "execute_result"
    }
   ],
   "source": [
    "fl_df.isnull().sum().sort_values(ascending=False).head()"
   ]
  },
  {
   "cell_type": "code",
   "execution_count": 109,
   "metadata": {},
   "outputs": [
    {
     "data": {
      "text/plain": [
       "(600000, 48)"
      ]
     },
     "execution_count": 109,
     "metadata": {},
     "output_type": "execute_result"
    }
   ],
   "source": [
    "fl_df.shape"
   ]
  },
  {
   "cell_type": "code",
   "execution_count": 110,
   "metadata": {},
   "outputs": [],
   "source": [
    "fl_df.to_csv(path+'balanced_more_flight_feats.csv')"
   ]
  },
  {
   "cell_type": "markdown",
   "metadata": {},
   "source": [
    "## Delay/carrier overall"
   ]
  },
  {
   "cell_type": "code",
   "execution_count": 111,
   "metadata": {},
   "outputs": [],
   "source": [
    "op_carrier_mean_delay = fl_df.groupby(by=['op_unique_carrier']).arr_delay.mean().sort_values(ascending=False)"
   ]
  },
  {
   "cell_type": "code",
   "execution_count": 221,
   "metadata": {},
   "outputs": [],
   "source": [
    "x = op_carrier_mean_delay.index.tolist()"
   ]
  },
  {
   "cell_type": "code",
   "execution_count": 224,
   "metadata": {},
   "outputs": [
    {
     "data": {
      "image/png": "[encoded data removed]",
      "text/plain": [
       "<Figure size 432x288 with 1 Axes>"
      ]
     },
     "metadata": {
      "needs_background": "light"
     },
     "output_type": "display_data"
    }
   ],
   "source": [
    "import matplotlib.pyplot as plt\n",
    "\n",
    "x = op_carrier_mean_delay.index.tolist()\n",
    "y = op_carrier_mean_delay['arr_delay']\n",
    "plt.bar(x=x, height=y)\n",
    "plt.ylabel('mean arrival delay')\n",
    "plt.show()"
   ]
  },
  {
   "cell_type": "code",
   "execution_count": 112,
   "metadata": {},
   "outputs": [],
   "source": [
    "fl_df = pd.merge(fl_df, op_carrier_mean_delay, left_on=['op_unique_carrier'], right_on = ['op_unique_carrier'])"
   ]
  },
  {
   "cell_type": "code",
   "execution_count": 269,
   "metadata": {
    "collapsed": true,
    "jupyter": {
     "outputs_hidden": true
    }
   },
   "outputs": [
    {
     "data": {
      "text/plain": [
       "fl_date                  0\n",
       "mkt_unique_carrier       0\n",
       "branded_code_share       0\n",
       "mkt_carrier              0\n",
       "mkt_carrier_fl_num       0\n",
       "op_unique_carrier        0\n",
       "tail_num                 0\n",
       "op_carrier_fl_num        0\n",
       "origin_airport_id        0\n",
       "origin                   0\n",
       "origin_city_name         0\n",
       "dest_airport_id          0\n",
       "dest                     0\n",
       "dest_city_name           0\n",
       "crs_dep_time             0\n",
       "dep_time                 0\n",
       "dep_delay                0\n",
       "taxi_out                 0\n",
       "wheels_off               0\n",
       "wheels_on                0\n",
       "taxi_in                  0\n",
       "crs_arr_time             0\n",
       "arr_time                 0\n",
       "arr_delay_x              0\n",
       "cancelled                0\n",
       "diverted                 0\n",
       "crs_elapsed_time         0\n",
       "actual_elapsed_time      0\n",
       "air_time                 0\n",
       "flights                  0\n",
       "distance                 0\n",
       "origin_fl_density        0\n",
       "dest_fl_density          0\n",
       "day                      0\n",
       "month                    0\n",
       "year                     0\n",
       "weekday                  0\n",
       "day_of_year              0\n",
       "crs_arr_hour             0\n",
       "crs_dep_hour             0\n",
       "timestamp                0\n",
       "crs_arr_daytime          0\n",
       "crs_dep_daytime          0\n",
       "predicted_speed          0\n",
       "actual_speed             0\n",
       "origin_num_passengers    0\n",
       "dest_num_passengers      0\n",
       "origin_num_freight       0\n",
       "dest_num_freight         0\n",
       "origin_num_intl_dep      0\n",
       "dest_num_intl_dep        0\n",
       "origin_num_intl_arr      0\n",
       "dest_num_intl_arr        0\n",
       "dist_group               0\n",
       "season                   0\n",
       "dep_early_morning        0\n",
       "origin_airport_size      0\n",
       "dest_airport_size        0\n",
       "mean_op_carrier_delay    0\n",
       "dtype: int64"
      ]
     },
     "execution_count": 269,
     "metadata": {},
     "output_type": "execute_result"
    }
   ],
   "source": [
    "fl_df.isnull().sum()"
   ]
  },
  {
   "cell_type": "code",
   "execution_count": 113,
   "metadata": {
    "collapsed": true,
    "jupyter": {
     "outputs_hidden": true
    }
   },
   "outputs": [
    {
     "data": {
      "text/plain": [
       "Index(['fl_date', 'mkt_unique_carrier', 'branded_code_share', 'mkt_carrier',\n",
       "       'mkt_carrier_fl_num', 'op_unique_carrier', 'tail_num',\n",
       "       'op_carrier_fl_num', 'origin_airport_id', 'origin', 'origin_city_name',\n",
       "       'dest_airport_id', 'dest', 'dest_city_name', 'crs_dep_time', 'dep_time',\n",
       "       'dep_delay', 'taxi_out', 'wheels_off', 'wheels_on', 'taxi_in',\n",
       "       'crs_arr_time', 'arr_time', 'arr_delay_x', 'cancelled', 'diverted',\n",
       "       'crs_elapsed_time', 'actual_elapsed_time', 'air_time', 'flights',\n",
       "       'distance', 'origin_fl_density', 'dest_fl_density', 'day', 'month',\n",
       "       'year', 'weekday', 'day_of_year', 'crs_arr_hour', 'crs_dep_hour',\n",
       "       'timestamp', 'crs_arr_daytime', 'crs_dep_daytime',\n",
       "       'origin_airport_size', 'dest_airport_size', 'season', 'dist_group',\n",
       "       'dep_early_morning', 'mean_op_carrier_delay'],\n",
       "      dtype='object')"
      ]
     },
     "execution_count": 113,
     "metadata": {},
     "output_type": "execute_result"
    }
   ],
   "source": [
    "fl_df.rename(columns={'arr_delay_y': 'mean_op_carrier_delay'}, inplace=True)\n",
    "fl_df.columns"
   ]
  },
  {
   "cell_type": "code",
   "execution_count": 118,
   "metadata": {
    "collapsed": true,
    "jupyter": {
     "outputs_hidden": true
    }
   },
   "outputs": [
    {
     "data": {
      "text/plain": [
       "Index(['fl_date', 'mkt_unique_carrier', 'branded_code_share', 'mkt_carrier',\n",
       "       'mkt_carrier_fl_num', 'op_unique_carrier', 'tail_num',\n",
       "       'op_carrier_fl_num', 'origin_airport_id', 'origin', 'origin_city_name',\n",
       "       'dest_airport_id', 'dest', 'dest_city_name', 'crs_dep_time', 'dep_time',\n",
       "       'dep_delay', 'taxi_out', 'wheels_off', 'wheels_on', 'taxi_in',\n",
       "       'crs_arr_time', 'arr_time', 'arr_delay', 'cancelled', 'diverted',\n",
       "       'crs_elapsed_time', 'actual_elapsed_time', 'air_time', 'flights',\n",
       "       'distance', 'origin_fl_density', 'dest_fl_density', 'day', 'month',\n",
       "       'year', 'weekday', 'day_of_year', 'crs_arr_hour', 'crs_dep_hour',\n",
       "       'timestamp', 'crs_arr_daytime', 'crs_dep_daytime',\n",
       "       'origin_airport_size', 'dest_airport_size', 'season', 'dist_group',\n",
       "       'dep_early_morning', 'mean_op_carrier_delay'],\n",
       "      dtype='object')"
      ]
     },
     "execution_count": 118,
     "metadata": {},
     "output_type": "execute_result"
    }
   ],
   "source": [
    "fl_df.rename(columns={'arr_delay_x': 'arr_delay'}, inplace=True)\n",
    "fl_df.columns"
   ]
  },
  {
   "cell_type": "code",
   "execution_count": 114,
   "metadata": {},
   "outputs": [
    {
     "data": {
      "text/plain": [
       "(600000, 49)"
      ]
     },
     "execution_count": 114,
     "metadata": {},
     "output_type": "execute_result"
    }
   ],
   "source": [
    "fl_df.shape"
   ]
  },
  {
   "cell_type": "code",
   "execution_count": 115,
   "metadata": {},
   "outputs": [
    {
     "data": {
      "text/plain": [
       "mean_op_carrier_delay    0\n",
       "arr_delay_x              0\n",
       "crs_arr_time             0\n",
       "taxi_in                  0\n",
       "wheels_on                0\n",
       "dtype: int64"
      ]
     },
     "execution_count": 115,
     "metadata": {},
     "output_type": "execute_result"
    }
   ],
   "source": [
    "fl_df.isnull().sum().sort_values(ascending=False).head()"
   ]
  },
  {
   "cell_type": "code",
   "execution_count": 119,
   "metadata": {},
   "outputs": [],
   "source": [
    "fl_df.to_csv(path+'balanced_more_flight_feats.csv', index=False)"
   ]
  },
  {
   "cell_type": "markdown",
   "metadata": {},
   "source": [
    "## *Delay/carrier/month"
   ]
  },
  {
   "cell_type": "code",
   "execution_count": 258,
   "metadata": {},
   "outputs": [],
   "source": [
    "op_carrier_mo_mean_delay = fl_df.groupby(by=['op_unique_carrier', 'month']).arr_delay.mean().sort_values(ascending=False)"
   ]
  },
  {
   "cell_type": "code",
   "execution_count": 251,
   "metadata": {
    "collapsed": true,
    "jupyter": {
     "outputs_hidden": true
    }
   },
   "outputs": [
    {
     "data": {
      "text/plain": [
       "month\n",
       "1     15.134149\n",
       "2     13.475744\n",
       "3      8.600000\n",
       "4     13.924051\n",
       "5     14.339252\n",
       "6     13.867948\n",
       "7     14.378797\n",
       "8     10.950471\n",
       "9      9.935552\n",
       "10    15.573561\n",
       "11    12.588639\n",
       "12    13.114132\n",
       "Name: arr_delay, dtype: float64"
      ]
     },
     "execution_count": 251,
     "metadata": {},
     "output_type": "execute_result"
    }
   ],
   "source": [
    "y = fl_df.loc[fl_df['op_unique_carrier'] == i].groupby(by=['month']).arr_delay.mean()\n",
    "y"
   ]
  },
  {
   "cell_type": "code",
   "execution_count": 252,
   "metadata": {},
   "outputs": [
    {
     "data": {
      "image/png": "[encoded data removed]",
      "text/plain": [
       "<Figure size 432x288 with 1 Axes>"
      ]
     },
     "metadata": {
      "needs_background": "light"
     },
     "output_type": "display_data"
    }
   ],
   "source": [
    "import matplotlib.pyplot as plt\n",
    "\n",
    "i = fl_df['op_unique_carrier'].unique().tolist()[0]\n",
    "x = fl_df['month'].unique().tolist()\n",
    "y = fl_df.loc[fl_df['op_unique_carrier'] == i].groupby(by=['month']).arr_delay.mean()                                              \n",
    "plt.bar(x=x, height=y)\n",
    "plt.ylabel('mean arrival delay')\n",
    "plt.show()"
   ]
  },
  {
   "cell_type": "code",
   "execution_count": 270,
   "metadata": {},
   "outputs": [],
   "source": [
    "fl_df = pd.merge(fl_df, op_carrier_mo_mean_delay, left_on=['op_unique_carrier'], right_on = ['op_unique_carrier'])"
   ]
  },
  {
   "cell_type": "code",
   "execution_count": 272,
   "metadata": {
    "collapsed": true,
    "jupyter": {
     "outputs_hidden": true
    }
   },
   "outputs": [
    {
     "data": {
      "text/plain": [
       "Index(['fl_date', 'mkt_unique_carrier', 'branded_code_share', 'mkt_carrier',\n",
       "       'mkt_carrier_fl_num', 'op_unique_carrier', 'tail_num',\n",
       "       'op_carrier_fl_num', 'origin_airport_id', 'origin', 'origin_city_name',\n",
       "       'dest_airport_id', 'dest', 'dest_city_name', 'crs_dep_time', 'dep_time',\n",
       "       'dep_delay', 'taxi_out', 'wheels_off', 'wheels_on', 'taxi_in',\n",
       "       'crs_arr_time', 'arr_time', 'arr_delay_x', 'cancelled', 'diverted',\n",
       "       'crs_elapsed_time', 'actual_elapsed_time', 'air_time', 'flights',\n",
       "       'distance', 'origin_fl_density', 'dest_fl_density', 'day', 'month',\n",
       "       'year', 'weekday', 'day_of_year', 'crs_arr_hour', 'crs_dep_hour',\n",
       "       'timestamp', 'crs_arr_daytime', 'crs_dep_daytime', 'predicted_speed',\n",
       "       'actual_speed', 'origin_num_passengers', 'dest_num_passengers',\n",
       "       'origin_num_freight', 'dest_num_freight', 'origin_num_intl_dep',\n",
       "       'dest_num_intl_dep', 'origin_num_intl_arr', 'dest_num_intl_arr',\n",
       "       'dist_group', 'season', 'dep_early_morning', 'origin_airport_size',\n",
       "       'dest_airport_size', 'mean_op_carrier_delay',\n",
       "       'mean_monthly_op_carrier_delay'],\n",
       "      dtype='object')"
      ]
     },
     "execution_count": 272,
     "metadata": {},
     "output_type": "execute_result"
    }
   ],
   "source": [
    "fl_df.rename(columns={'arr_delay': 'mean_monthly_op_carrier_delay'}, inplace=True)\n",
    "fl_df.columns"
   ]
  },
  {
   "cell_type": "code",
   "execution_count": 276,
   "metadata": {
    "collapsed": true,
    "jupyter": {
     "outputs_hidden": true
    }
   },
   "outputs": [
    {
     "data": {
      "text/plain": [
       "Index(['fl_date', 'mkt_unique_carrier', 'branded_code_share', 'mkt_carrier',\n",
       "       'mkt_carrier_fl_num', 'op_unique_carrier', 'tail_num',\n",
       "       'op_carrier_fl_num', 'origin_airport_id', 'origin', 'origin_city_name',\n",
       "       'dest_airport_id', 'dest', 'dest_city_name', 'crs_dep_time', 'dep_time',\n",
       "       'dep_delay', 'taxi_out', 'wheels_off', 'wheels_on', 'taxi_in',\n",
       "       'crs_arr_time', 'arr_time', 'arr_delay', 'cancelled', 'diverted',\n",
       "       'crs_elapsed_time', 'actual_elapsed_time', 'air_time', 'flights',\n",
       "       'distance', 'origin_fl_density', 'dest_fl_density', 'day', 'month',\n",
       "       'year', 'weekday', 'day_of_year', 'crs_arr_hour', 'crs_dep_hour',\n",
       "       'timestamp', 'crs_arr_daytime', 'crs_dep_daytime', 'predicted_speed',\n",
       "       'actual_speed', 'origin_num_passengers', 'dest_num_passengers',\n",
       "       'origin_num_freight', 'dest_num_freight', 'origin_num_intl_dep',\n",
       "       'dest_num_intl_dep', 'origin_num_intl_arr', 'dest_num_intl_arr',\n",
       "       'dist_group', 'season', 'dep_early_morning', 'origin_airport_size',\n",
       "       'dest_airport_size', 'mean_op_carrier_delay',\n",
       "       'mean_monthly_op_carrier_delay'],\n",
       "      dtype='object')"
      ]
     },
     "execution_count": 276,
     "metadata": {},
     "output_type": "execute_result"
    }
   ],
   "source": [
    "fl_df.rename(columns={'arr_delay_x': 'arr_delay'}, inplace=True)\n",
    "fl_df.columns"
   ]
  },
  {
   "cell_type": "code",
   "execution_count": 278,
   "metadata": {},
   "outputs": [],
   "source": [
    "fl_df.to_csv(path+'balanced_more_flight_feats2.csv', index=False)"
   ]
  },
  {
   "cell_type": "markdown",
   "metadata": {},
   "source": [
    "## Delay/airport overall"
   ]
  },
  {
   "cell_type": "code",
   "execution_count": 164,
   "metadata": {},
   "outputs": [],
   "source": [
    "origin_airport_mean_delay = fl_df.groupby(by=['origin_airport_id']).arr_delay.mean()"
   ]
  },
  {
   "cell_type": "code",
   "execution_count": 290,
   "metadata": {
    "collapsed": true,
    "jupyter": {
     "outputs_hidden": true
    }
   },
   "outputs": [
    {
     "data": {
      "text/plain": [
       "[10754,\n",
       " 13933,\n",
       " 14259,\n",
       " 12265,\n",
       " 16218,\n",
       " 13029,\n",
       " 14512,\n",
       " 12244,\n",
       " 10408,\n",
       " 15356,\n",
       " 11721,\n",
       " 15323,\n",
       " 15295,\n",
       " 11986,\n",
       " 11252,\n",
       " 13230,\n",
       " 12523,\n",
       " 10747,\n",
       " 12323,\n",
       " 13832,\n",
       " 13360,\n",
       " 15070,\n",
       " 11146,\n",
       " 11577,\n",
       " 11977,\n",
       " 10185,\n",
       " 14262,\n",
       " 11122,\n",
       " 12206,\n",
       " 10208,\n",
       " 14321,\n",
       " 15249,\n",
       " 15096,\n",
       " 13485,\n",
       " 11630,\n",
       " 15024,\n",
       " 14908,\n",
       " 13061,\n",
       " 10299,\n",
       " 14696,\n",
       " 13342,\n",
       " 13577,\n",
       " 14307,\n",
       " 10868,\n",
       " 13367,\n",
       " 13830,\n",
       " 13796,\n",
       " 11042,\n",
       " 13232,\n",
       " 11697,\n",
       " 12448,\n",
       " 11775,\n",
       " 13244,\n",
       " 11540,\n",
       " 14027,\n",
       " 12016,\n",
       " 10529,\n",
       " 13891,\n",
       " 11995,\n",
       " 12003,\n",
       " 14524,\n",
       " 10874,\n",
       " 11292,\n",
       " 10581,\n",
       " 12758,\n",
       " 14685,\n",
       " 15370,\n",
       " 10821,\n",
       " 10980,\n",
       " 10599,\n",
       " 11433,\n",
       " 11057,\n",
       " 11278,\n",
       " 13303,\n",
       " 13495,\n",
       " 10423,\n",
       " 12953,\n",
       " 11003,\n",
       " 10994,\n",
       " 11267,\n",
       " 15412,\n",
       " 14107,\n",
       " 12478,\n",
       " 13256,\n",
       " 14100,\n",
       " 13930,\n",
       " 13871,\n",
       " 14122,\n",
       " 10397,\n",
       " 11638,\n",
       " 12173,\n",
       " 12339,\n",
       " 13851,\n",
       " 11298,\n",
       " 14843,\n",
       " 15016,\n",
       " 14679,\n",
       " 11637,\n",
       " 11884,\n",
       " 14747,\n",
       " 11618,\n",
       " 15304,\n",
       " 14986,\n",
       " 12892,\n",
       " 14771,\n",
       " 13487,\n",
       " 14570,\n",
       " 11109,\n",
       " 11066,\n",
       " 14869,\n",
       " 15376,\n",
       " 14492,\n",
       " 11996,\n",
       " 13198,\n",
       " 11193,\n",
       " 12889,\n",
       " 14893,\n",
       " 13204,\n",
       " 11337,\n",
       " 10721,\n",
       " 12266,\n",
       " 10466,\n",
       " 14112,\n",
       " 12191,\n",
       " 14057,\n",
       " 10140,\n",
       " 14730,\n",
       " 10693,\n",
       " 10781,\n",
       " 12197,\n",
       " 10792,\n",
       " 12278,\n",
       " 14683,\n",
       " 11423,\n",
       " 11259,\n",
       " 10785,\n",
       " 14761,\n",
       " 14635,\n",
       " 10849,\n",
       " 14831,\n",
       " 12264,\n",
       " 12884,\n",
       " 10257,\n",
       " 13931,\n",
       " 10158,\n",
       " 12945,\n",
       " 12451,\n",
       " 14576,\n",
       " 14633,\n",
       " 14814,\n",
       " 13158,\n",
       " 12982,\n",
       " 10666,\n",
       " 10732,\n",
       " 12217,\n",
       " 11823,\n",
       " 13873,\n",
       " 14004,\n",
       " 13296,\n",
       " 11648,\n",
       " 15027,\n",
       " 10713,\n",
       " 11898,\n",
       " 13476,\n",
       " 14955,\n",
       " 12391,\n",
       " 11921,\n",
       " 10800,\n",
       " 14689,\n",
       " 12915,\n",
       " 11140,\n",
       " 13184,\n",
       " 14222,\n",
       " 11624,\n",
       " 10135,\n",
       " 12819,\n",
       " 12917,\n",
       " 14254,\n",
       " 11503,\n",
       " 10590,\n",
       " 12343]"
      ]
     },
     "execution_count": 290,
     "metadata": {},
     "output_type": "execute_result"
    }
   ],
   "source": [
    "origin_airport_mean_delay.index.tolist()"
   ]
  },
  {
   "cell_type": "code",
   "execution_count": 165,
   "metadata": {},
   "outputs": [
    {
     "data": {
      "image/png": "[encoded data removed]",
      "text/plain": [
       "<Figure size 432x288 with 1 Axes>"
      ]
     },
     "metadata": {
      "needs_background": "light"
     },
     "output_type": "display_data"
    }
   ],
   "source": [
    "import matplotlib.pyplot as plt\n",
    "\n",
    "x = fl_df.origin.unique().tolist()[:10]\n",
    "y = origin_airport_mean_delay.tolist()[:10]                                           \n",
    "plt.bar(x=x, height=y)\n",
    "plt.ylabel('mean arrival delay')\n",
    "plt.show()"
   ]
  },
  {
   "cell_type": "code",
   "execution_count": 121,
   "metadata": {},
   "outputs": [
    {
     "data": {
      "text/plain": [
       "Index(['fl_date', 'mkt_unique_carrier', 'branded_code_share', 'mkt_carrier',\n",
       "       'mkt_carrier_fl_num', 'op_unique_carrier', 'tail_num',\n",
       "       'op_carrier_fl_num', 'origin_airport_id', 'origin', 'origin_city_name',\n",
       "       'dest_airport_id', 'dest', 'dest_city_name', 'crs_dep_time', 'dep_time',\n",
       "       'dep_delay', 'taxi_out', 'wheels_off', 'wheels_on', 'taxi_in',\n",
       "       'crs_arr_time', 'arr_time', 'arr_delay_x', 'cancelled', 'diverted',\n",
       "       'crs_elapsed_time', 'actual_elapsed_time', 'air_time', 'flights',\n",
       "       'distance', 'origin_fl_density', 'dest_fl_density', 'day', 'month',\n",
       "       'year', 'weekday', 'day_of_year', 'crs_arr_hour', 'crs_dep_hour',\n",
       "       'timestamp', 'crs_arr_daytime', 'crs_dep_daytime',\n",
       "       'origin_airport_size', 'dest_airport_size', 'season', 'dist_group',\n",
       "       'dep_early_morning', 'mean_op_carrier_delay', 'arr_delay_y'],\n",
       "      dtype='object')"
      ]
     },
     "execution_count": 121,
     "metadata": {},
     "output_type": "execute_result"
    }
   ],
   "source": [
    "fl_df = pd.merge(fl_df, origin_airport_mean_delay, left_on=['origin_airport_id'], right_on = ['origin_airport_id'])\n",
    "fl_df.columns"
   ]
  },
  {
   "cell_type": "code",
   "execution_count": 122,
   "metadata": {},
   "outputs": [
    {
     "data": {
      "text/plain": [
       "Index(['fl_date', 'mkt_unique_carrier', 'branded_code_share', 'mkt_carrier',\n",
       "       'mkt_carrier_fl_num', 'op_unique_carrier', 'tail_num',\n",
       "       'op_carrier_fl_num', 'origin_airport_id', 'origin', 'origin_city_name',\n",
       "       'dest_airport_id', 'dest', 'dest_city_name', 'crs_dep_time', 'dep_time',\n",
       "       'dep_delay', 'taxi_out', 'wheels_off', 'wheels_on', 'taxi_in',\n",
       "       'crs_arr_time', 'arr_time', 'arr_delay', 'cancelled', 'diverted',\n",
       "       'crs_elapsed_time', 'actual_elapsed_time', 'air_time', 'flights',\n",
       "       'distance', 'origin_fl_density', 'dest_fl_density', 'day', 'month',\n",
       "       'year', 'weekday', 'day_of_year', 'crs_arr_hour', 'crs_dep_hour',\n",
       "       'timestamp', 'crs_arr_daytime', 'crs_dep_daytime',\n",
       "       'origin_airport_size', 'dest_airport_size', 'season', 'dist_group',\n",
       "       'dep_early_morning', 'mean_op_carrier_delay',\n",
       "       'mean_delay_origin_airport'],\n",
       "      dtype='object')"
      ]
     },
     "execution_count": 122,
     "metadata": {},
     "output_type": "execute_result"
    }
   ],
   "source": [
    "fl_df.rename(columns={'arr_delay_x': 'arr_delay'}, inplace=True)\n",
    "fl_df.rename(columns={'arr_delay_y': 'mean_delay_origin_airport'}, inplace=True)\n",
    "fl_df.columns"
   ]
  },
  {
   "cell_type": "code",
   "execution_count": 123,
   "metadata": {},
   "outputs": [
    {
     "data": {
      "text/plain": [
       "Index(['fl_date', 'mkt_unique_carrier', 'branded_code_share', 'mkt_carrier',\n",
       "       'mkt_carrier_fl_num', 'op_unique_carrier', 'tail_num',\n",
       "       'op_carrier_fl_num', 'origin_airport_id', 'origin', 'origin_city_name',\n",
       "       'dest_airport_id', 'dest', 'dest_city_name', 'crs_dep_time', 'dep_time',\n",
       "       'dep_delay', 'taxi_out', 'wheels_off', 'wheels_on', 'taxi_in',\n",
       "       'crs_arr_time', 'arr_time', 'arr_delay_x', 'cancelled', 'diverted',\n",
       "       'crs_elapsed_time', 'actual_elapsed_time', 'air_time', 'flights',\n",
       "       'distance', 'origin_fl_density', 'dest_fl_density', 'day', 'month',\n",
       "       'year', 'weekday', 'day_of_year', 'crs_arr_hour', 'crs_dep_hour',\n",
       "       'timestamp', 'crs_arr_daytime', 'crs_dep_daytime',\n",
       "       'origin_airport_size', 'dest_airport_size', 'season', 'dist_group',\n",
       "       'dep_early_morning', 'mean_op_carrier_delay',\n",
       "       'mean_delay_origin_airport', 'arr_delay_y'],\n",
       "      dtype='object')"
      ]
     },
     "execution_count": 123,
     "metadata": {},
     "output_type": "execute_result"
    }
   ],
   "source": [
    "fl_df = pd.merge(fl_df, origin_airport_mean_delay, left_on=['dest_airport_id'], right_on = ['origin_airport_id'])\n",
    "fl_df.columns"
   ]
  },
  {
   "cell_type": "code",
   "execution_count": 124,
   "metadata": {},
   "outputs": [
    {
     "data": {
      "text/plain": [
       "Index(['fl_date', 'mkt_unique_carrier', 'branded_code_share', 'mkt_carrier',\n",
       "       'mkt_carrier_fl_num', 'op_unique_carrier', 'tail_num',\n",
       "       'op_carrier_fl_num', 'origin_airport_id', 'origin', 'origin_city_name',\n",
       "       'dest_airport_id', 'dest', 'dest_city_name', 'crs_dep_time', 'dep_time',\n",
       "       'dep_delay', 'taxi_out', 'wheels_off', 'wheels_on', 'taxi_in',\n",
       "       'crs_arr_time', 'arr_time', 'arr_delay', 'cancelled', 'diverted',\n",
       "       'crs_elapsed_time', 'actual_elapsed_time', 'air_time', 'flights',\n",
       "       'distance', 'origin_fl_density', 'dest_fl_density', 'day', 'month',\n",
       "       'year', 'weekday', 'day_of_year', 'crs_arr_hour', 'crs_dep_hour',\n",
       "       'timestamp', 'crs_arr_daytime', 'crs_dep_daytime',\n",
       "       'origin_airport_size', 'dest_airport_size', 'season', 'dist_group',\n",
       "       'dep_early_morning', 'mean_op_carrier_delay',\n",
       "       'mean_delay_origin_airport', 'mean_delay_dest_airport'],\n",
       "      dtype='object')"
      ]
     },
     "execution_count": 124,
     "metadata": {},
     "output_type": "execute_result"
    }
   ],
   "source": [
    "fl_df.rename(columns={'arr_delay_x': 'arr_delay'}, inplace=True)\n",
    "fl_df.rename(columns={'arr_delay_y': 'mean_delay_dest_airport'}, inplace=True)\n",
    "fl_df.columns"
   ]
  },
  {
   "cell_type": "code",
   "execution_count": 125,
   "metadata": {},
   "outputs": [
    {
     "data": {
      "text/plain": [
       "(600000, 51)"
      ]
     },
     "execution_count": 125,
     "metadata": {},
     "output_type": "execute_result"
    }
   ],
   "source": [
    "fl_df.shape"
   ]
  },
  {
   "cell_type": "code",
   "execution_count": 126,
   "metadata": {},
   "outputs": [
    {
     "data": {
      "text/plain": [
       "mean_delay_dest_airport    0\n",
       "dest                       0\n",
       "arr_time                   0\n",
       "crs_arr_time               0\n",
       "taxi_in                    0\n",
       "dtype: int64"
      ]
     },
     "execution_count": 126,
     "metadata": {},
     "output_type": "execute_result"
    }
   ],
   "source": [
    "fl_df.isnull().sum().sort_values(ascending=False).head()"
   ]
  },
  {
   "cell_type": "code",
   "execution_count": 5,
   "metadata": {},
   "outputs": [
    {
     "data": {
      "text/plain": [
       "(600000, 51)"
      ]
     },
     "execution_count": 5,
     "metadata": {},
     "output_type": "execute_result"
    }
   ],
   "source": [
    "fl_df.shape"
   ]
  },
  {
   "cell_type": "code",
   "execution_count": 6,
   "metadata": {},
   "outputs": [
    {
     "data": {
      "text/plain": [
       "599995   -0.538462\n",
       "599996   -0.538462\n",
       "599997   -0.538462\n",
       "599998   -0.538462\n",
       "599999   -9.333333\n",
       "Name: mean_delay_dest_airport, dtype: float64"
      ]
     },
     "execution_count": 6,
     "metadata": {},
     "output_type": "execute_result"
    }
   ],
   "source": []
  },
  {
   "cell_type": "markdown",
   "metadata": {},
   "source": [
    "## Delay/airport monthly"
   ]
  },
  {
   "cell_type": "code",
   "execution_count": 102,
   "metadata": {},
   "outputs": [],
   "source": [
    "origin_airport_mo_mean_delay = fl_df.groupby(by=['origin_airport_id', 'month']).arr_delay.mean()"
   ]
  },
  {
   "cell_type": "code",
   "execution_count": 103,
   "metadata": {},
   "outputs": [
    {
     "data": {
      "text/plain": [
       "[12478]"
      ]
     },
     "execution_count": 103,
     "metadata": {},
     "output_type": "execute_result"
    }
   ],
   "source": [
    "ap = fl_df.origin_airport_id.unique().tolist()[:1]\n",
    "ap"
   ]
  },
  {
   "cell_type": "code",
   "execution_count": 179,
   "metadata": {},
   "outputs": [
    {
     "data": {
      "text/html": [
       "<div>\n",
       "<style scoped>\n",
       "    .dataframe tbody tr th:only-of-type {\n",
       "        vertical-align: middle;\n",
       "    }\n",
       "\n",
       "    .dataframe tbody tr th {\n",
       "        vertical-align: top;\n",
       "    }\n",
       "\n",
       "    .dataframe thead th {\n",
       "        text-align: right;\n",
       "    }\n",
       "</style>\n",
       "<table border=\"1\" class=\"dataframe\">\n",
       "  <thead>\n",
       "    <tr style=\"text-align: right;\">\n",
       "      <th></th>\n",
       "      <th>fl_date</th>\n",
       "      <th>mkt_unique_carrier</th>\n",
       "      <th>branded_code_share</th>\n",
       "      <th>mkt_carrier</th>\n",
       "      <th>mkt_carrier_fl_num</th>\n",
       "      <th>op_unique_carrier</th>\n",
       "      <th>tail_num</th>\n",
       "      <th>op_carrier_fl_num</th>\n",
       "      <th>origin_airport_id</th>\n",
       "      <th>origin</th>\n",
       "      <th>...</th>\n",
       "      <th>mean_delay_origin_airport</th>\n",
       "      <th>mean_delay_dest_airport</th>\n",
       "      <th>mean_mo_delay_origin_airport</th>\n",
       "      <th>mean_dep_delay_origin</th>\n",
       "      <th>mean_dep_delay_dest</th>\n",
       "      <th>percent_delay_dep_x</th>\n",
       "      <th>dist_group_delay_ratio</th>\n",
       "      <th>dist_group_delay_ratio.1</th>\n",
       "      <th>percent_delay_dep_y</th>\n",
       "      <th>dist_group_percent_delayed</th>\n",
       "    </tr>\n",
       "  </thead>\n",
       "  <tbody>\n",
       "    <tr>\n",
       "      <th>0</th>\n",
       "      <td>2018-04-25</td>\n",
       "      <td>DL</td>\n",
       "      <td>AA_CODESHARE</td>\n",
       "      <td>AA</td>\n",
       "      <td>1281</td>\n",
       "      <td>DL</td>\n",
       "      <td>N925WN</td>\n",
       "      <td>4431</td>\n",
       "      <td>12478</td>\n",
       "      <td>JFK</td>\n",
       "      <td>...</td>\n",
       "      <td>13.413861</td>\n",
       "      <td>13.773598</td>\n",
       "      <td>16.807601</td>\n",
       "      <td>10.470292</td>\n",
       "      <td>10.25517</td>\n",
       "      <td>0.142857</td>\n",
       "      <td>0.122635</td>\n",
       "      <td>0.122635</td>\n",
       "      <td>0.219112</td>\n",
       "      <td>50.008806</td>\n",
       "    </tr>\n",
       "    <tr>\n",
       "      <th>1</th>\n",
       "      <td>2019-05-29</td>\n",
       "      <td>AA</td>\n",
       "      <td>AS</td>\n",
       "      <td>AS</td>\n",
       "      <td>318</td>\n",
       "      <td>DL</td>\n",
       "      <td>N997JL</td>\n",
       "      <td>221</td>\n",
       "      <td>12478</td>\n",
       "      <td>JFK</td>\n",
       "      <td>...</td>\n",
       "      <td>13.413861</td>\n",
       "      <td>13.773598</td>\n",
       "      <td>12.443008</td>\n",
       "      <td>10.470292</td>\n",
       "      <td>10.25517</td>\n",
       "      <td>0.000000</td>\n",
       "      <td>0.122635</td>\n",
       "      <td>0.122635</td>\n",
       "      <td>0.219112</td>\n",
       "      <td>50.008806</td>\n",
       "    </tr>\n",
       "    <tr>\n",
       "      <th>2</th>\n",
       "      <td>2019-09-30</td>\n",
       "      <td>NK</td>\n",
       "      <td>AS_CODESHARE</td>\n",
       "      <td>AS</td>\n",
       "      <td>2184</td>\n",
       "      <td>DL</td>\n",
       "      <td>N8509U</td>\n",
       "      <td>1568</td>\n",
       "      <td>12478</td>\n",
       "      <td>JFK</td>\n",
       "      <td>...</td>\n",
       "      <td>13.413861</td>\n",
       "      <td>13.773598</td>\n",
       "      <td>12.020487</td>\n",
       "      <td>10.470292</td>\n",
       "      <td>10.25517</td>\n",
       "      <td>0.000000</td>\n",
       "      <td>0.122635</td>\n",
       "      <td>0.122635</td>\n",
       "      <td>0.219112</td>\n",
       "      <td>50.008806</td>\n",
       "    </tr>\n",
       "    <tr>\n",
       "      <th>3</th>\n",
       "      <td>2018-05-29</td>\n",
       "      <td>WN</td>\n",
       "      <td>UA_CODESHARE</td>\n",
       "      <td>UA</td>\n",
       "      <td>2302</td>\n",
       "      <td>DL</td>\n",
       "      <td>N37263</td>\n",
       "      <td>1298</td>\n",
       "      <td>12478</td>\n",
       "      <td>JFK</td>\n",
       "      <td>...</td>\n",
       "      <td>13.413861</td>\n",
       "      <td>13.773598</td>\n",
       "      <td>12.443008</td>\n",
       "      <td>10.470292</td>\n",
       "      <td>10.25517</td>\n",
       "      <td>-0.000000</td>\n",
       "      <td>0.122635</td>\n",
       "      <td>0.122635</td>\n",
       "      <td>0.219112</td>\n",
       "      <td>50.008806</td>\n",
       "    </tr>\n",
       "    <tr>\n",
       "      <th>4</th>\n",
       "      <td>2018-02-16</td>\n",
       "      <td>AA</td>\n",
       "      <td>DL</td>\n",
       "      <td>DL</td>\n",
       "      <td>1577</td>\n",
       "      <td>DL</td>\n",
       "      <td>N704FR</td>\n",
       "      <td>1391</td>\n",
       "      <td>12478</td>\n",
       "      <td>JFK</td>\n",
       "      <td>...</td>\n",
       "      <td>13.413861</td>\n",
       "      <td>13.773598</td>\n",
       "      <td>12.804378</td>\n",
       "      <td>10.470292</td>\n",
       "      <td>10.25517</td>\n",
       "      <td>0.294118</td>\n",
       "      <td>0.122635</td>\n",
       "      <td>0.122635</td>\n",
       "      <td>0.219112</td>\n",
       "      <td>50.008806</td>\n",
       "    </tr>\n",
       "  </tbody>\n",
       "</table>\n",
       "<p>5 rows × 64 columns</p>\n",
       "</div>"
      ],
      "text/plain": [
       "      fl_date mkt_unique_carrier branded_code_share mkt_carrier  \\\n",
       "0  2018-04-25                 DL       AA_CODESHARE          AA   \n",
       "1  2019-05-29                 AA                 AS          AS   \n",
       "2  2019-09-30                 NK       AS_CODESHARE          AS   \n",
       "3  2018-05-29                 WN       UA_CODESHARE          UA   \n",
       "4  2018-02-16                 AA                 DL          DL   \n",
       "\n",
       "   mkt_carrier_fl_num op_unique_carrier tail_num  op_carrier_fl_num  \\\n",
       "0                1281                DL   N925WN               4431   \n",
       "1                 318                DL   N997JL                221   \n",
       "2                2184                DL   N8509U               1568   \n",
       "3                2302                DL   N37263               1298   \n",
       "4                1577                DL   N704FR               1391   \n",
       "\n",
       "   origin_airport_id origin  ... mean_delay_origin_airport  \\\n",
       "0              12478    JFK  ...                 13.413861   \n",
       "1              12478    JFK  ...                 13.413861   \n",
       "2              12478    JFK  ...                 13.413861   \n",
       "3              12478    JFK  ...                 13.413861   \n",
       "4              12478    JFK  ...                 13.413861   \n",
       "\n",
       "   mean_delay_dest_airport mean_mo_delay_origin_airport mean_dep_delay_origin  \\\n",
       "0                13.773598                    16.807601             10.470292   \n",
       "1                13.773598                    12.443008             10.470292   \n",
       "2                13.773598                    12.020487             10.470292   \n",
       "3                13.773598                    12.443008             10.470292   \n",
       "4                13.773598                    12.804378             10.470292   \n",
       "\n",
       "   mean_dep_delay_dest  percent_delay_dep_x  dist_group_delay_ratio  \\\n",
       "0             10.25517             0.142857                0.122635   \n",
       "1             10.25517             0.000000                0.122635   \n",
       "2             10.25517             0.000000                0.122635   \n",
       "3             10.25517            -0.000000                0.122635   \n",
       "4             10.25517             0.294118                0.122635   \n",
       "\n",
       "   dist_group_delay_ratio.1  percent_delay_dep_y  dist_group_percent_delayed  \n",
       "0                  0.122635             0.219112                   50.008806  \n",
       "1                  0.122635             0.219112                   50.008806  \n",
       "2                  0.122635             0.219112                   50.008806  \n",
       "3                  0.122635             0.219112                   50.008806  \n",
       "4                  0.122635             0.219112                   50.008806  \n",
       "\n",
       "[5 rows x 64 columns]"
      ]
     },
     "execution_count": 179,
     "metadata": {},
     "output_type": "execute_result"
    }
   ],
   "source": [
    "fl_df.loc[fl_df['origin_airport_id']==12478].head()"
   ]
  },
  {
   "cell_type": "code",
   "execution_count": 180,
   "metadata": {},
   "outputs": [
    {
     "data": {
      "image/png": "[encoded data removed]",
      "text/plain": [
       "<Figure size 432x288 with 1 Axes>"
      ]
     },
     "metadata": {
      "needs_background": "light"
     },
     "output_type": "display_data"
    }
   ],
   "source": [
    "import matplotlib.pyplot as plt\n",
    "\n",
    "x = fl_df.loc[fl_df['origin_airport_id']==12478].month.unique().tolist()\n",
    "y = fl_df.loc[fl_df['origin_airport_id']==12478].groupby(by=['month']).arr_delay.mean()                                       \n",
    "plt.bar(x=x, height=y)\n",
    "plt.suptitle('JFK Airport Arrival Delay by Month')\n",
    "plt.ylabel('Mean arrival delay')\n",
    "plt.xlabel('Month')\n",
    "plt.show()"
   ]
  },
  {
   "cell_type": "code",
   "execution_count": 105,
   "metadata": {},
   "outputs": [
    {
     "data": {
      "text/plain": [
       "Index(['fl_date', 'mkt_unique_carrier', 'branded_code_share', 'mkt_carrier',\n",
       "       'mkt_carrier_fl_num', 'op_unique_carrier', 'tail_num',\n",
       "       'op_carrier_fl_num', 'origin_airport_id', 'origin', 'origin_city_name',\n",
       "       'dest_airport_id', 'dest', 'dest_city_name', 'crs_dep_time', 'dep_time',\n",
       "       'dep_delay', 'taxi_out', 'wheels_off', 'wheels_on', 'taxi_in',\n",
       "       'crs_arr_time', 'arr_time', 'arr_delay_x', 'cancelled', 'diverted',\n",
       "       'crs_elapsed_time', 'actual_elapsed_time', 'air_time', 'flights',\n",
       "       'distance', 'origin_fl_density', 'dest_fl_density', 'day', 'month',\n",
       "       'year', 'weekday', 'day_of_year', 'crs_arr_hour', 'crs_dep_hour',\n",
       "       'timestamp', 'crs_arr_daytime', 'crs_dep_daytime',\n",
       "       'origin_airport_size', 'dest_airport_size', 'season', 'dist_group',\n",
       "       'dep_early_morning', 'mean_op_carrier_delay',\n",
       "       'mean_delay_origin_airport', 'mean_delay_dest_airport',\n",
       "       'mean_dep_delay_origin', 'mean_dep_delay_dest', 'predicted_speed',\n",
       "       'percent_dep_delay', 'dist_group_delay_ratio',\n",
       "       'ap_carr_percent_dep_delay', 'arr_delay_y'],\n",
       "      dtype='object')"
      ]
     },
     "execution_count": 105,
     "metadata": {},
     "output_type": "execute_result"
    }
   ],
   "source": [
    "fl_df = pd.merge(fl_df, origin_airport_mo_mean_delay, how='left', left_on=['origin_airport_id','month'], right_on = ['origin_airport_id', 'month'])\n",
    "fl_df.columns"
   ]
  },
  {
   "cell_type": "code",
   "execution_count": 106,
   "metadata": {},
   "outputs": [
    {
     "data": {
      "text/plain": [
       "(600000, 58)"
      ]
     },
     "execution_count": 106,
     "metadata": {},
     "output_type": "execute_result"
    }
   ],
   "source": [
    "fl_df.shape"
   ]
  },
  {
   "cell_type": "code",
   "execution_count": 107,
   "metadata": {},
   "outputs": [
    {
     "data": {
      "text/plain": [
       "Index(['fl_date', 'mkt_unique_carrier', 'branded_code_share', 'mkt_carrier',\n",
       "       'mkt_carrier_fl_num', 'op_unique_carrier', 'tail_num',\n",
       "       'op_carrier_fl_num', 'origin_airport_id', 'origin', 'origin_city_name',\n",
       "       'dest_airport_id', 'dest', 'dest_city_name', 'crs_dep_time', 'dep_time',\n",
       "       'dep_delay', 'taxi_out', 'wheels_off', 'wheels_on', 'taxi_in',\n",
       "       'crs_arr_time', 'arr_time', 'arr_delay', 'cancelled', 'diverted',\n",
       "       'crs_elapsed_time', 'actual_elapsed_time', 'air_time', 'flights',\n",
       "       'distance', 'origin_fl_density', 'dest_fl_density', 'day', 'month',\n",
       "       'year', 'weekday', 'day_of_year', 'crs_arr_hour', 'crs_dep_hour',\n",
       "       'timestamp', 'crs_arr_daytime', 'crs_dep_daytime',\n",
       "       'origin_airport_size', 'dest_airport_size', 'season', 'dist_group',\n",
       "       'dep_early_morning', 'mean_op_carrier_delay',\n",
       "       'mean_delay_origin_airport', 'mean_delay_dest_airport',\n",
       "       'mean_dep_delay_origin', 'mean_dep_delay_dest', 'predicted_speed',\n",
       "       'percent_dep_delay', 'dist_group_delay_ratio',\n",
       "       'ap_carr_percent_dep_delay', 'mean_mo_delay_origin_airport'],\n",
       "      dtype='object')"
      ]
     },
     "execution_count": 107,
     "metadata": {},
     "output_type": "execute_result"
    }
   ],
   "source": [
    "fl_df.rename(columns={'arr_delay_x': 'arr_delay'}, inplace=True)\n",
    "fl_df.rename(columns={'arr_delay_y': 'mean_mo_delay_origin_airport'}, inplace=True)\n",
    "fl_df.columns"
   ]
  },
  {
   "cell_type": "code",
   "execution_count": 99,
   "metadata": {
    "collapsed": true,
    "jupyter": {
     "outputs_hidden": true
    }
   },
   "outputs": [
    {
     "data": {
      "text/plain": [
       "Index(['fl_date', 'mkt_unique_carrier', 'branded_code_share', 'mkt_carrier',\n",
       "       'mkt_carrier_fl_num', 'op_unique_carrier', 'tail_num',\n",
       "       'op_carrier_fl_num', 'origin_airport_id', 'origin', 'origin_city_name',\n",
       "       'dest_airport_id', 'dest', 'dest_city_name', 'crs_dep_time', 'dep_time',\n",
       "       'dep_delay', 'taxi_out', 'wheels_off', 'wheels_on', 'taxi_in',\n",
       "       'crs_arr_time', 'arr_time', 'arr_delay_x', 'cancelled', 'diverted',\n",
       "       'crs_elapsed_time', 'actual_elapsed_time', 'air_time', 'flights',\n",
       "       'distance', 'origin_fl_density', 'dest_fl_density', 'day', 'month',\n",
       "       'year', 'weekday', 'day_of_year', 'crs_arr_hour', 'crs_dep_hour',\n",
       "       'timestamp', 'crs_arr_daytime', 'crs_dep_daytime',\n",
       "       'origin_airport_size', 'dest_airport_size', 'season', 'dist_group',\n",
       "       'dep_early_morning', 'mean_op_carrier_delay',\n",
       "       'mean_delay_origin_airport', 'mean_delay_dest_airport',\n",
       "       'mean_dep_delay_origin', 'mean_dep_delay_dest', 'predicted_speed',\n",
       "       'percent_dep_delay', 'dist_group_delay_ratio',\n",
       "       'ap_carr_percent_dep_delay', 'mean_mo_delay_origin_airport',\n",
       "       'arr_delay_y'],\n",
       "      dtype='object')"
      ]
     },
     "execution_count": 99,
     "metadata": {},
     "output_type": "execute_result"
    }
   ],
   "source": [
    "#fl_df = pd.merge(fl_df, origin_airport_mo_mean_delay, left_on=['dest_airport_id','month'], right_on = ['origin_airport_id','month'])\n",
    "#fl_df.columns"
   ]
  },
  {
   "cell_type": "code",
   "execution_count": 9,
   "metadata": {
    "collapsed": true,
    "jupyter": {
     "outputs_hidden": true
    }
   },
   "outputs": [
    {
     "data": {
      "text/plain": [
       "Index(['fl_date', 'mkt_unique_carrier', 'branded_code_share', 'mkt_carrier',\n",
       "       'mkt_carrier_fl_num', 'op_unique_carrier', 'tail_num',\n",
       "       'op_carrier_fl_num', 'origin_airport_id', 'origin', 'origin_city_name',\n",
       "       'dest_airport_id', 'dest', 'dest_city_name', 'crs_dep_time', 'dep_time',\n",
       "       'dep_delay', 'taxi_out', 'wheels_off', 'wheels_on', 'taxi_in',\n",
       "       'crs_arr_time', 'arr_time', 'arr_delay', 'cancelled', 'diverted',\n",
       "       'crs_elapsed_time', 'actual_elapsed_time', 'air_time', 'flights',\n",
       "       'distance', 'origin_fl_density', 'dest_fl_density', 'day', 'month',\n",
       "       'year', 'weekday', 'day_of_year', 'crs_arr_hour', 'crs_dep_hour',\n",
       "       'timestamp', 'crs_arr_daytime', 'crs_dep_daytime', 'predicted_speed',\n",
       "       'actual_speed', 'origin_num_passengers', 'dest_num_passengers',\n",
       "       'origin_num_freight', 'dest_num_freight', 'origin_num_intl_dep',\n",
       "       'dest_num_intl_dep', 'origin_num_intl_arr', 'dest_num_intl_arr',\n",
       "       'dist_group', 'season', 'dep_early_morning', 'origin_airport_size',\n",
       "       'dest_airport_size', 'mean_op_carrier_delay',\n",
       "       'mean_monthly_op_carrier_delay', 'mean_delay_origin_airport',\n",
       "       'mean_delay_dest_airport', 'mean_mo_delay_origin_airport',\n",
       "       'mean_mo_delay_dest_airport'],\n",
       "      dtype='object')"
      ]
     },
     "execution_count": 9,
     "metadata": {},
     "output_type": "execute_result"
    }
   ],
   "source": [
    "#fl_df.rename(columns={'arr_delay_x': 'arr_delay'}, inplace=True)\n",
    "#fl_df.rename(columns={'arr_delay_y': 'mean_mo_delay_dest_airport'}, inplace=True)\n",
    "#fl_df.columns"
   ]
  },
  {
   "cell_type": "code",
   "execution_count": 109,
   "metadata": {},
   "outputs": [],
   "source": [
    "fl_df.to_csv(path+'balanced_more_flight_feats.csv', index=False)"
   ]
  },
  {
   "cell_type": "code",
   "execution_count": null,
   "metadata": {},
   "outputs": [],
   "source": []
  },
  {
   "cell_type": "markdown",
   "metadata": {},
   "source": [
    "## mean departure delays"
   ]
  },
  {
   "cell_type": "code",
   "execution_count": 166,
   "metadata": {},
   "outputs": [],
   "source": [
    "origin_mean_dep_delay = fl_df.groupby(by=['origin_airport_id']).dep_delay.mean()"
   ]
  },
  {
   "cell_type": "code",
   "execution_count": 167,
   "metadata": {},
   "outputs": [
    {
     "data": {
      "image/png": "[encoded data removed]",
      "text/plain": [
       "<Figure size 432x288 with 1 Axes>"
      ]
     },
     "metadata": {
      "needs_background": "light"
     },
     "output_type": "display_data"
    }
   ],
   "source": [
    "import matplotlib.pyplot as plt\n",
    "\n",
    "x = fl_df.origin.unique().tolist()[:10]\n",
    "y = origin_mean_dep_delay.tolist()[:10]                                           \n",
    "plt.bar(x=x, height=y)\n",
    "plt.suptitle('Departure Delay by Airport')\n",
    "plt.ylabel('Mean departure delay')\n",
    "plt.xlabel('Origin Airport')\n",
    "plt.show()"
   ]
  },
  {
   "cell_type": "code",
   "execution_count": 8,
   "metadata": {},
   "outputs": [
    {
     "data": {
      "text/plain": [
       "Index(['fl_date', 'mkt_unique_carrier', 'branded_code_share', 'mkt_carrier',\n",
       "       'mkt_carrier_fl_num', 'op_unique_carrier', 'tail_num',\n",
       "       'op_carrier_fl_num', 'origin_airport_id', 'origin', 'origin_city_name',\n",
       "       'dest_airport_id', 'dest', 'dest_city_name', 'crs_dep_time', 'dep_time',\n",
       "       'dep_delay_x', 'taxi_out', 'wheels_off', 'wheels_on', 'taxi_in',\n",
       "       'crs_arr_time', 'arr_time', 'arr_delay', 'cancelled', 'diverted',\n",
       "       'crs_elapsed_time', 'actual_elapsed_time', 'air_time', 'flights',\n",
       "       'distance', 'origin_fl_density', 'dest_fl_density', 'day', 'month',\n",
       "       'year', 'weekday', 'day_of_year', 'crs_arr_hour', 'crs_dep_hour',\n",
       "       'timestamp', 'crs_arr_daytime', 'crs_dep_daytime',\n",
       "       'origin_airport_size', 'dest_airport_size', 'season', 'dist_group',\n",
       "       'dep_early_morning', 'mean_op_carrier_delay',\n",
       "       'mean_delay_origin_airport', 'mean_delay_dest_airport', 'dep_delay_y'],\n",
       "      dtype='object')"
      ]
     },
     "execution_count": 8,
     "metadata": {},
     "output_type": "execute_result"
    }
   ],
   "source": [
    "fl_df = pd.merge(fl_df, origin_mean_dep_delay, left_on=['origin_airport_id'], right_on = ['origin_airport_id'])\n",
    "fl_df.columns"
   ]
  },
  {
   "cell_type": "code",
   "execution_count": 9,
   "metadata": {},
   "outputs": [
    {
     "data": {
      "text/plain": [
       "Index(['fl_date', 'mkt_unique_carrier', 'branded_code_share', 'mkt_carrier',\n",
       "       'mkt_carrier_fl_num', 'op_unique_carrier', 'tail_num',\n",
       "       'op_carrier_fl_num', 'origin_airport_id', 'origin', 'origin_city_name',\n",
       "       'dest_airport_id', 'dest', 'dest_city_name', 'crs_dep_time', 'dep_time',\n",
       "       'dep_delay', 'taxi_out', 'wheels_off', 'wheels_on', 'taxi_in',\n",
       "       'crs_arr_time', 'arr_time', 'arr_delay', 'cancelled', 'diverted',\n",
       "       'crs_elapsed_time', 'actual_elapsed_time', 'air_time', 'flights',\n",
       "       'distance', 'origin_fl_density', 'dest_fl_density', 'day', 'month',\n",
       "       'year', 'weekday', 'day_of_year', 'crs_arr_hour', 'crs_dep_hour',\n",
       "       'timestamp', 'crs_arr_daytime', 'crs_dep_daytime',\n",
       "       'origin_airport_size', 'dest_airport_size', 'season', 'dist_group',\n",
       "       'dep_early_morning', 'mean_op_carrier_delay',\n",
       "       'mean_delay_origin_airport', 'mean_delay_dest_airport',\n",
       "       'mean_dep_delay_origin'],\n",
       "      dtype='object')"
      ]
     },
     "execution_count": 9,
     "metadata": {},
     "output_type": "execute_result"
    }
   ],
   "source": [
    "fl_df.rename(columns={'dep_delay_x': 'dep_delay'}, inplace=True)\n",
    "fl_df.rename(columns={'dep_delay_y': 'mean_dep_delay_origin'}, inplace=True)\n",
    "fl_df.columns"
   ]
  },
  {
   "cell_type": "code",
   "execution_count": 10,
   "metadata": {},
   "outputs": [
    {
     "data": {
      "text/plain": [
       "Index(['fl_date', 'mkt_unique_carrier', 'branded_code_share', 'mkt_carrier',\n",
       "       'mkt_carrier_fl_num', 'op_unique_carrier', 'tail_num',\n",
       "       'op_carrier_fl_num', 'origin_airport_id', 'origin', 'origin_city_name',\n",
       "       'dest_airport_id', 'dest', 'dest_city_name', 'crs_dep_time', 'dep_time',\n",
       "       'dep_delay_x', 'taxi_out', 'wheels_off', 'wheels_on', 'taxi_in',\n",
       "       'crs_arr_time', 'arr_time', 'arr_delay', 'cancelled', 'diverted',\n",
       "       'crs_elapsed_time', 'actual_elapsed_time', 'air_time', 'flights',\n",
       "       'distance', 'origin_fl_density', 'dest_fl_density', 'day', 'month',\n",
       "       'year', 'weekday', 'day_of_year', 'crs_arr_hour', 'crs_dep_hour',\n",
       "       'timestamp', 'crs_arr_daytime', 'crs_dep_daytime',\n",
       "       'origin_airport_size', 'dest_airport_size', 'season', 'dist_group',\n",
       "       'dep_early_morning', 'mean_op_carrier_delay',\n",
       "       'mean_delay_origin_airport', 'mean_delay_dest_airport',\n",
       "       'mean_dep_delay_origin', 'dep_delay_y'],\n",
       "      dtype='object')"
      ]
     },
     "execution_count": 10,
     "metadata": {},
     "output_type": "execute_result"
    }
   ],
   "source": [
    "fl_df = pd.merge(fl_df, origin_mean_dep_delay, left_on=['dest_airport_id'], right_on = ['origin_airport_id'])\n",
    "fl_df.columns"
   ]
  },
  {
   "cell_type": "code",
   "execution_count": 11,
   "metadata": {},
   "outputs": [
    {
     "data": {
      "text/plain": [
       "Index(['fl_date', 'mkt_unique_carrier', 'branded_code_share', 'mkt_carrier',\n",
       "       'mkt_carrier_fl_num', 'op_unique_carrier', 'tail_num',\n",
       "       'op_carrier_fl_num', 'origin_airport_id', 'origin', 'origin_city_name',\n",
       "       'dest_airport_id', 'dest', 'dest_city_name', 'crs_dep_time', 'dep_time',\n",
       "       'dep_delay', 'taxi_out', 'wheels_off', 'wheels_on', 'taxi_in',\n",
       "       'crs_arr_time', 'arr_time', 'arr_delay', 'cancelled', 'diverted',\n",
       "       'crs_elapsed_time', 'actual_elapsed_time', 'air_time', 'flights',\n",
       "       'distance', 'origin_fl_density', 'dest_fl_density', 'day', 'month',\n",
       "       'year', 'weekday', 'day_of_year', 'crs_arr_hour', 'crs_dep_hour',\n",
       "       'timestamp', 'crs_arr_daytime', 'crs_dep_daytime',\n",
       "       'origin_airport_size', 'dest_airport_size', 'season', 'dist_group',\n",
       "       'dep_early_morning', 'mean_op_carrier_delay',\n",
       "       'mean_delay_origin_airport', 'mean_delay_dest_airport',\n",
       "       'mean_dep_delay_origin', 'mean_dep_delay_dest'],\n",
       "      dtype='object')"
      ]
     },
     "execution_count": 11,
     "metadata": {},
     "output_type": "execute_result"
    }
   ],
   "source": [
    "fl_df.rename(columns={'dep_delay_x': 'dep_delay'}, inplace=True)\n",
    "fl_df.rename(columns={'dep_delay_y': 'mean_dep_delay_dest'}, inplace=True)\n",
    "fl_df.columns"
   ]
  },
  {
   "cell_type": "code",
   "execution_count": 12,
   "metadata": {},
   "outputs": [],
   "source": [
    "fl_df.rename(columns={'dep_delay_x': 'dep_delay'}, inplace=True)\n",
    "fl_df.rename(columns={'dep_delay_y': 'mean_dep_delay_dest'}, inplace=True)"
   ]
  },
  {
   "cell_type": "code",
   "execution_count": 13,
   "metadata": {},
   "outputs": [
    {
     "data": {
      "text/plain": [
       "Index(['fl_date', 'mkt_unique_carrier', 'branded_code_share', 'mkt_carrier',\n",
       "       'mkt_carrier_fl_num', 'op_unique_carrier', 'tail_num',\n",
       "       'op_carrier_fl_num', 'origin_airport_id', 'origin', 'origin_city_name',\n",
       "       'dest_airport_id', 'dest', 'dest_city_name', 'crs_dep_time', 'dep_time',\n",
       "       'dep_delay', 'taxi_out', 'wheels_off', 'wheels_on', 'taxi_in',\n",
       "       'crs_arr_time', 'arr_time', 'arr_delay', 'cancelled', 'diverted',\n",
       "       'crs_elapsed_time', 'actual_elapsed_time', 'air_time', 'flights',\n",
       "       'distance', 'origin_fl_density', 'dest_fl_density', 'day', 'month',\n",
       "       'year', 'weekday', 'day_of_year', 'crs_arr_hour', 'crs_dep_hour',\n",
       "       'timestamp', 'crs_arr_daytime', 'crs_dep_daytime',\n",
       "       'origin_airport_size', 'dest_airport_size', 'season', 'dist_group',\n",
       "       'dep_early_morning', 'mean_op_carrier_delay',\n",
       "       'mean_delay_origin_airport', 'mean_delay_dest_airport',\n",
       "       'mean_dep_delay_origin', 'mean_dep_delay_dest'],\n",
       "      dtype='object')"
      ]
     },
     "execution_count": 13,
     "metadata": {},
     "output_type": "execute_result"
    }
   ],
   "source": [
    "fl_df.columns"
   ]
  },
  {
   "cell_type": "code",
   "execution_count": 14,
   "metadata": {},
   "outputs": [
    {
     "data": {
      "text/plain": [
       "(600000, 53)"
      ]
     },
     "execution_count": 14,
     "metadata": {},
     "output_type": "execute_result"
    }
   ],
   "source": [
    "fl_df.shape"
   ]
  },
  {
   "cell_type": "code",
   "execution_count": 15,
   "metadata": {},
   "outputs": [
    {
     "data": {
      "text/plain": [
       "mean_dep_delay_dest    0\n",
       "diverted               0\n",
       "arr_delay              0\n",
       "arr_time               0\n",
       "crs_arr_time           0\n",
       "dtype: int64"
      ]
     },
     "execution_count": 15,
     "metadata": {},
     "output_type": "execute_result"
    }
   ],
   "source": [
    "fl_df.isnull().sum().sort_values(ascending=False).head()"
   ]
  },
  {
   "cell_type": "code",
   "execution_count": 18,
   "metadata": {},
   "outputs": [
    {
     "data": {
      "text/plain": [
       "(600000, 53)"
      ]
     },
     "execution_count": 18,
     "metadata": {},
     "output_type": "execute_result"
    }
   ],
   "source": [
    "fl_df.shape"
   ]
  },
  {
   "cell_type": "markdown",
   "metadata": {},
   "source": [
    "## Delay ratio or percentage"
   ]
  },
  {
   "cell_type": "code",
   "execution_count": 22,
   "metadata": {},
   "outputs": [
    {
     "data": {
      "text/plain": [
       "Index(['fl_date', 'mkt_unique_carrier', 'branded_code_share', 'mkt_carrier',\n",
       "       'mkt_carrier_fl_num', 'op_unique_carrier', 'tail_num',\n",
       "       'op_carrier_fl_num', 'origin_airport_id', 'origin', 'origin_city_name',\n",
       "       'dest_airport_id', 'dest', 'dest_city_name', 'crs_dep_time', 'dep_time',\n",
       "       'dep_delay', 'taxi_out', 'wheels_off', 'wheels_on', 'taxi_in',\n",
       "       'crs_arr_time', 'arr_time', 'arr_delay', 'cancelled', 'diverted',\n",
       "       'crs_elapsed_time', 'actual_elapsed_time', 'air_time', 'flights',\n",
       "       'distance', 'origin_fl_density', 'dest_fl_density', 'day', 'month',\n",
       "       'year', 'weekday', 'day_of_year', 'crs_arr_hour', 'crs_dep_hour',\n",
       "       'timestamp', 'crs_arr_daytime', 'crs_dep_daytime',\n",
       "       'origin_airport_size', 'dest_airport_size', 'season', 'dist_group',\n",
       "       'dep_early_morning', 'mean_op_carrier_delay',\n",
       "       'mean_delay_origin_airport', 'mean_delay_dest_airport',\n",
       "       'mean_dep_delay_origin', 'mean_dep_delay_dest', 'predicted_speed',\n",
       "       'percent_delay_dep'],\n",
       "      dtype='object')"
      ]
     },
     "execution_count": 22,
     "metadata": {},
     "output_type": "execute_result"
    }
   ],
   "source": [
    "fl_df.columns"
   ]
  },
  {
   "cell_type": "code",
   "execution_count": 23,
   "metadata": {},
   "outputs": [],
   "source": [
    "delay_types = fl_df[['fl_date','op_carrier_fl_num','dep_delay','arr_delay','crs_elapsed_time']]"
   ]
  },
  {
   "cell_type": "code",
   "execution_count": 5,
   "metadata": {},
   "outputs": [
    {
     "name": "stderr",
     "output_type": "stream",
     "text": [
      "<ipython-input-5-fdabd9113d95>:1: SettingWithCopyWarning: \n",
      "A value is trying to be set on a copy of a slice from a DataFrame.\n",
      "Try using .loc[row_indexer,col_indexer] = value instead\n",
      "\n",
      "See the caveats in the documentation: https://pandas.pydata.org/pandas-docs/stable/user_guide/indexing.html#returning-a-view-versus-a-copy\n",
      "  delay_types['change_delay'] = delay_types['arr_delay'] - delay_types['dep_delay']\n"
     ]
    }
   ],
   "source": [
    "delay_types['change_delay'] = delay_types['arr_delay'] - delay_types['dep_delay']"
   ]
  },
  {
   "cell_type": "code",
   "execution_count": 12,
   "metadata": {},
   "outputs": [],
   "source": [
    "delay_types['percent_dep'] = (delay_types['dep_delay']/(delay_types['dep_delay'] + delay_types['arr_delay']))"
   ]
  },
  {
   "cell_type": "code",
   "execution_count": 13,
   "metadata": {},
   "outputs": [],
   "source": [
    "delay_types['percent_dep'] = delay_types['percent_dep'].fillna(0.0)"
   ]
  },
  {
   "cell_type": "code",
   "execution_count": 14,
   "metadata": {},
   "outputs": [],
   "source": [
    "import numpy as np\n",
    "\n",
    "delay_types = delay_types.replace([np.inf, -np.inf], 0.0)"
   ]
  },
  {
   "cell_type": "code",
   "execution_count": 24,
   "metadata": {},
   "outputs": [],
   "source": [
    "fl_df['delay_time_ratio'] = fl_df['arr_delay']/fl_df['crs_elapsed_time']"
   ]
  },
  {
   "cell_type": "code",
   "execution_count": 30,
   "metadata": {},
   "outputs": [
    {
     "data": {
      "text/plain": [
       "count    600000.000000\n",
       "mean          0.122165\n",
       "std           0.583218\n",
       "min          -2.000000\n",
       "25%          -0.093923\n",
       "50%           0.000000\n",
       "75%           0.141463\n",
       "max          29.109890\n",
       "Name: delay_time_ratio, dtype: float64"
      ]
     },
     "execution_count": 30,
     "metadata": {},
     "output_type": "execute_result"
    }
   ],
   "source": [
    "fl_df.delay_time_ratio.describe()"
   ]
  },
  {
   "cell_type": "code",
   "execution_count": 32,
   "metadata": {},
   "outputs": [
    {
     "data": {
      "text/plain": [
       "delay_time_ratio     0\n",
       "percent_delay_dep    0\n",
       "diverted             0\n",
       "cancelled            0\n",
       "arr_delay            0\n",
       "dtype: int64"
      ]
     },
     "execution_count": 32,
     "metadata": {},
     "output_type": "execute_result"
    }
   ],
   "source": [
    "fl_df.isnull().sum().sort_values(ascending=False).head()"
   ]
  },
  {
   "cell_type": "code",
   "execution_count": 15,
   "metadata": {},
   "outputs": [
    {
     "data": {
      "text/html": [
       "<div>\n",
       "<style scoped>\n",
       "    .dataframe tbody tr th:only-of-type {\n",
       "        vertical-align: middle;\n",
       "    }\n",
       "\n",
       "    .dataframe tbody tr th {\n",
       "        vertical-align: top;\n",
       "    }\n",
       "\n",
       "    .dataframe thead th {\n",
       "        text-align: right;\n",
       "    }\n",
       "</style>\n",
       "<table border=\"1\" class=\"dataframe\">\n",
       "  <thead>\n",
       "    <tr style=\"text-align: right;\">\n",
       "      <th></th>\n",
       "      <th>change_delay</th>\n",
       "      <th>percent_dep</th>\n",
       "    </tr>\n",
       "  </thead>\n",
       "  <tbody>\n",
       "    <tr>\n",
       "      <th>count</th>\n",
       "      <td>600000.000000</td>\n",
       "      <td>600000.000000</td>\n",
       "    </tr>\n",
       "    <tr>\n",
       "      <th>mean</th>\n",
       "      <td>2.972645</td>\n",
       "      <td>0.295496</td>\n",
       "    </tr>\n",
       "    <tr>\n",
       "      <th>std</th>\n",
       "      <td>74.570915</td>\n",
       "      <td>1.829049</td>\n",
       "    </tr>\n",
       "    <tr>\n",
       "      <th>min</th>\n",
       "      <td>-1684.000000</td>\n",
       "      <td>-41.000000</td>\n",
       "    </tr>\n",
       "    <tr>\n",
       "      <th>25%</th>\n",
       "      <td>-16.000000</td>\n",
       "      <td>-0.060345</td>\n",
       "    </tr>\n",
       "    <tr>\n",
       "      <th>50%</th>\n",
       "      <td>-1.000000</td>\n",
       "      <td>0.200000</td>\n",
       "    </tr>\n",
       "    <tr>\n",
       "      <th>75%</th>\n",
       "      <td>17.000000</td>\n",
       "      <td>0.666667</td>\n",
       "    </tr>\n",
       "    <tr>\n",
       "      <th>max</th>\n",
       "      <td>2602.000000</td>\n",
       "      <td>53.000000</td>\n",
       "    </tr>\n",
       "  </tbody>\n",
       "</table>\n",
       "</div>"
      ],
      "text/plain": [
       "        change_delay    percent_dep\n",
       "count  600000.000000  600000.000000\n",
       "mean        2.972645       0.295496\n",
       "std        74.570915       1.829049\n",
       "min     -1684.000000     -41.000000\n",
       "25%       -16.000000      -0.060345\n",
       "50%        -1.000000       0.200000\n",
       "75%        17.000000       0.666667\n",
       "max      2602.000000      53.000000"
      ]
     },
     "execution_count": 15,
     "metadata": {},
     "output_type": "execute_result"
    }
   ],
   "source": [
    "delay_types[['change_delay', 'percent_dep']].describe()"
   ]
  },
  {
   "cell_type": "code",
   "execution_count": 16,
   "metadata": {},
   "outputs": [
    {
     "data": {
      "text/html": [
       "<div>\n",
       "<style scoped>\n",
       "    .dataframe tbody tr th:only-of-type {\n",
       "        vertical-align: middle;\n",
       "    }\n",
       "\n",
       "    .dataframe tbody tr th {\n",
       "        vertical-align: top;\n",
       "    }\n",
       "\n",
       "    .dataframe thead th {\n",
       "        text-align: right;\n",
       "    }\n",
       "</style>\n",
       "<table border=\"1\" class=\"dataframe\">\n",
       "  <thead>\n",
       "    <tr style=\"text-align: right;\">\n",
       "      <th></th>\n",
       "      <th>fl_date</th>\n",
       "      <th>op_carrier_fl_num</th>\n",
       "      <th>dep_delay</th>\n",
       "      <th>arr_delay</th>\n",
       "      <th>change_delay</th>\n",
       "      <th>percent_dep</th>\n",
       "    </tr>\n",
       "  </thead>\n",
       "  <tbody>\n",
       "    <tr>\n",
       "      <th>599990</th>\n",
       "      <td>2018-08-20</td>\n",
       "      <td>1932</td>\n",
       "      <td>0.0</td>\n",
       "      <td>-23.0</td>\n",
       "      <td>-23.0</td>\n",
       "      <td>-0.000000</td>\n",
       "    </tr>\n",
       "    <tr>\n",
       "      <th>599991</th>\n",
       "      <td>2018-08-07</td>\n",
       "      <td>1046</td>\n",
       "      <td>-10.0</td>\n",
       "      <td>14.0</td>\n",
       "      <td>24.0</td>\n",
       "      <td>-2.500000</td>\n",
       "    </tr>\n",
       "    <tr>\n",
       "      <th>599992</th>\n",
       "      <td>2019-10-29</td>\n",
       "      <td>5309</td>\n",
       "      <td>-12.0</td>\n",
       "      <td>-19.0</td>\n",
       "      <td>-7.0</td>\n",
       "      <td>0.387097</td>\n",
       "    </tr>\n",
       "    <tr>\n",
       "      <th>599993</th>\n",
       "      <td>2018-11-21</td>\n",
       "      <td>213</td>\n",
       "      <td>-8.0</td>\n",
       "      <td>48.0</td>\n",
       "      <td>56.0</td>\n",
       "      <td>-0.200000</td>\n",
       "    </tr>\n",
       "    <tr>\n",
       "      <th>599994</th>\n",
       "      <td>2018-03-15</td>\n",
       "      <td>1442</td>\n",
       "      <td>-3.0</td>\n",
       "      <td>-22.0</td>\n",
       "      <td>-19.0</td>\n",
       "      <td>0.120000</td>\n",
       "    </tr>\n",
       "    <tr>\n",
       "      <th>599995</th>\n",
       "      <td>2018-08-28</td>\n",
       "      <td>3386</td>\n",
       "      <td>20.0</td>\n",
       "      <td>-32.0</td>\n",
       "      <td>-52.0</td>\n",
       "      <td>-1.666667</td>\n",
       "    </tr>\n",
       "    <tr>\n",
       "      <th>599996</th>\n",
       "      <td>2019-03-10</td>\n",
       "      <td>772</td>\n",
       "      <td>2.0</td>\n",
       "      <td>-12.0</td>\n",
       "      <td>-14.0</td>\n",
       "      <td>-0.200000</td>\n",
       "    </tr>\n",
       "    <tr>\n",
       "      <th>599997</th>\n",
       "      <td>2018-11-06</td>\n",
       "      <td>2671</td>\n",
       "      <td>15.0</td>\n",
       "      <td>-16.0</td>\n",
       "      <td>-31.0</td>\n",
       "      <td>-15.000000</td>\n",
       "    </tr>\n",
       "    <tr>\n",
       "      <th>599998</th>\n",
       "      <td>2018-08-27</td>\n",
       "      <td>503</td>\n",
       "      <td>-2.0</td>\n",
       "      <td>-7.0</td>\n",
       "      <td>-5.0</td>\n",
       "      <td>0.222222</td>\n",
       "    </tr>\n",
       "    <tr>\n",
       "      <th>599999</th>\n",
       "      <td>2019-07-13</td>\n",
       "      <td>549</td>\n",
       "      <td>-9.0</td>\n",
       "      <td>-13.0</td>\n",
       "      <td>-4.0</td>\n",
       "      <td>0.409091</td>\n",
       "    </tr>\n",
       "  </tbody>\n",
       "</table>\n",
       "</div>"
      ],
      "text/plain": [
       "           fl_date  op_carrier_fl_num  dep_delay  arr_delay  change_delay  \\\n",
       "599990  2018-08-20               1932        0.0      -23.0         -23.0   \n",
       "599991  2018-08-07               1046      -10.0       14.0          24.0   \n",
       "599992  2019-10-29               5309      -12.0      -19.0          -7.0   \n",
       "599993  2018-11-21                213       -8.0       48.0          56.0   \n",
       "599994  2018-03-15               1442       -3.0      -22.0         -19.0   \n",
       "599995  2018-08-28               3386       20.0      -32.0         -52.0   \n",
       "599996  2019-03-10                772        2.0      -12.0         -14.0   \n",
       "599997  2018-11-06               2671       15.0      -16.0         -31.0   \n",
       "599998  2018-08-27                503       -2.0       -7.0          -5.0   \n",
       "599999  2019-07-13                549       -9.0      -13.0          -4.0   \n",
       "\n",
       "        percent_dep  \n",
       "599990    -0.000000  \n",
       "599991    -2.500000  \n",
       "599992     0.387097  \n",
       "599993    -0.200000  \n",
       "599994     0.120000  \n",
       "599995    -1.666667  \n",
       "599996    -0.200000  \n",
       "599997   -15.000000  \n",
       "599998     0.222222  \n",
       "599999     0.409091  "
      ]
     },
     "execution_count": 16,
     "metadata": {},
     "output_type": "execute_result"
    }
   ],
   "source": [
    "delay_types.tail(10)"
   ]
  },
  {
   "cell_type": "code",
   "execution_count": 17,
   "metadata": {},
   "outputs": [
    {
     "data": {
      "text/plain": [
       "(600000, 54)"
      ]
     },
     "execution_count": 17,
     "metadata": {},
     "output_type": "execute_result"
    }
   ],
   "source": [
    "fl_df.shape"
   ]
  },
  {
   "cell_type": "code",
   "execution_count": 18,
   "metadata": {},
   "outputs": [],
   "source": [
    "fl_df['percent_delay_dep'] = delay_types['percent_dep']"
   ]
  },
  {
   "cell_type": "code",
   "execution_count": 20,
   "metadata": {},
   "outputs": [
    {
     "data": {
      "text/html": [
       "<div>\n",
       "<style scoped>\n",
       "    .dataframe tbody tr th:only-of-type {\n",
       "        vertical-align: middle;\n",
       "    }\n",
       "\n",
       "    .dataframe tbody tr th {\n",
       "        vertical-align: top;\n",
       "    }\n",
       "\n",
       "    .dataframe thead th {\n",
       "        text-align: right;\n",
       "    }\n",
       "</style>\n",
       "<table border=\"1\" class=\"dataframe\">\n",
       "  <thead>\n",
       "    <tr style=\"text-align: right;\">\n",
       "      <th></th>\n",
       "      <th>fl_date</th>\n",
       "      <th>op_carrier_fl_num</th>\n",
       "      <th>percent_delay_dep</th>\n",
       "    </tr>\n",
       "  </thead>\n",
       "  <tbody>\n",
       "    <tr>\n",
       "      <th>599990</th>\n",
       "      <td>2018-08-20</td>\n",
       "      <td>1932</td>\n",
       "      <td>-0.000000</td>\n",
       "    </tr>\n",
       "    <tr>\n",
       "      <th>599991</th>\n",
       "      <td>2018-08-07</td>\n",
       "      <td>1046</td>\n",
       "      <td>-2.500000</td>\n",
       "    </tr>\n",
       "    <tr>\n",
       "      <th>599992</th>\n",
       "      <td>2019-10-29</td>\n",
       "      <td>5309</td>\n",
       "      <td>0.387097</td>\n",
       "    </tr>\n",
       "    <tr>\n",
       "      <th>599993</th>\n",
       "      <td>2018-11-21</td>\n",
       "      <td>213</td>\n",
       "      <td>-0.200000</td>\n",
       "    </tr>\n",
       "    <tr>\n",
       "      <th>599994</th>\n",
       "      <td>2018-03-15</td>\n",
       "      <td>1442</td>\n",
       "      <td>0.120000</td>\n",
       "    </tr>\n",
       "    <tr>\n",
       "      <th>599995</th>\n",
       "      <td>2018-08-28</td>\n",
       "      <td>3386</td>\n",
       "      <td>-1.666667</td>\n",
       "    </tr>\n",
       "    <tr>\n",
       "      <th>599996</th>\n",
       "      <td>2019-03-10</td>\n",
       "      <td>772</td>\n",
       "      <td>-0.200000</td>\n",
       "    </tr>\n",
       "    <tr>\n",
       "      <th>599997</th>\n",
       "      <td>2018-11-06</td>\n",
       "      <td>2671</td>\n",
       "      <td>-15.000000</td>\n",
       "    </tr>\n",
       "    <tr>\n",
       "      <th>599998</th>\n",
       "      <td>2018-08-27</td>\n",
       "      <td>503</td>\n",
       "      <td>0.222222</td>\n",
       "    </tr>\n",
       "    <tr>\n",
       "      <th>599999</th>\n",
       "      <td>2019-07-13</td>\n",
       "      <td>549</td>\n",
       "      <td>0.409091</td>\n",
       "    </tr>\n",
       "  </tbody>\n",
       "</table>\n",
       "</div>"
      ],
      "text/plain": [
       "           fl_date  op_carrier_fl_num  percent_delay_dep\n",
       "599990  2018-08-20               1932          -0.000000\n",
       "599991  2018-08-07               1046          -2.500000\n",
       "599992  2019-10-29               5309           0.387097\n",
       "599993  2018-11-21                213          -0.200000\n",
       "599994  2018-03-15               1442           0.120000\n",
       "599995  2018-08-28               3386          -1.666667\n",
       "599996  2019-03-10                772          -0.200000\n",
       "599997  2018-11-06               2671         -15.000000\n",
       "599998  2018-08-27                503           0.222222\n",
       "599999  2019-07-13                549           0.409091"
      ]
     },
     "execution_count": 20,
     "metadata": {},
     "output_type": "execute_result"
    }
   ],
   "source": [
    "fl_df[['fl_date','op_carrier_fl_num','percent_delay_dep']].tail(10)"
   ]
  },
  {
   "cell_type": "code",
   "execution_count": 33,
   "metadata": {},
   "outputs": [],
   "source": [
    "fl_df.to_csv(path+'balanced_more_flight_feats.csv', index=False)"
   ]
  },
  {
   "cell_type": "code",
   "execution_count": 34,
   "metadata": {},
   "outputs": [
    {
     "data": {
      "text/plain": [
       "Index(['fl_date', 'mkt_unique_carrier', 'branded_code_share', 'mkt_carrier',\n",
       "       'mkt_carrier_fl_num', 'op_unique_carrier', 'tail_num',\n",
       "       'op_carrier_fl_num', 'origin_airport_id', 'origin', 'origin_city_name',\n",
       "       'dest_airport_id', 'dest', 'dest_city_name', 'crs_dep_time', 'dep_time',\n",
       "       'dep_delay', 'taxi_out', 'wheels_off', 'wheels_on', 'taxi_in',\n",
       "       'crs_arr_time', 'arr_time', 'arr_delay', 'cancelled', 'diverted',\n",
       "       'crs_elapsed_time', 'actual_elapsed_time', 'air_time', 'flights',\n",
       "       'distance', 'origin_fl_density', 'dest_fl_density', 'day', 'month',\n",
       "       'year', 'weekday', 'day_of_year', 'crs_arr_hour', 'crs_dep_hour',\n",
       "       'timestamp', 'crs_arr_daytime', 'crs_dep_daytime',\n",
       "       'origin_airport_size', 'dest_airport_size', 'season', 'dist_group',\n",
       "       'dep_early_morning', 'mean_op_carrier_delay',\n",
       "       'mean_delay_origin_airport', 'mean_delay_dest_airport',\n",
       "       'mean_dep_delay_origin', 'mean_dep_delay_dest', 'predicted_speed',\n",
       "       'percent_delay_dep', 'delay_time_ratio'],\n",
       "      dtype='object')"
      ]
     },
     "execution_count": 34,
     "metadata": {},
     "output_type": "execute_result"
    }
   ],
   "source": [
    "fl_df.columns"
   ]
  },
  {
   "cell_type": "code",
   "execution_count": 39,
   "metadata": {},
   "outputs": [],
   "source": [
    "delay_types = fl_df.groupby(by=['dist_group']).delay_time_ratio.mean()"
   ]
  },
  {
   "cell_type": "code",
   "execution_count": 41,
   "metadata": {},
   "outputs": [
    {
     "data": {
      "text/plain": [
       "dist_group\n",
       "1     0.123097\n",
       "2     0.122635\n",
       "3     0.120592\n",
       "4     0.122543\n",
       "5     0.115297\n",
       "6     0.119428\n",
       "7     0.090324\n",
       "8     0.098310\n",
       "9     0.072082\n",
       "10    0.112347\n",
       "11   -0.023149\n",
       "Name: delay_time_ratio, dtype: float64"
      ]
     },
     "execution_count": 41,
     "metadata": {},
     "output_type": "execute_result"
    }
   ],
   "source": [
    "delay_types"
   ]
  },
  {
   "cell_type": "code",
   "execution_count": 42,
   "metadata": {
    "collapsed": true,
    "jupyter": {
     "outputs_hidden": true
    }
   },
   "outputs": [
    {
     "data": {
      "text/plain": [
       "Index(['fl_date', 'mkt_unique_carrier', 'branded_code_share', 'mkt_carrier',\n",
       "       'mkt_carrier_fl_num', 'op_unique_carrier', 'tail_num',\n",
       "       'op_carrier_fl_num', 'origin_airport_id', 'origin', 'origin_city_name',\n",
       "       'dest_airport_id', 'dest', 'dest_city_name', 'crs_dep_time', 'dep_time',\n",
       "       'dep_delay', 'taxi_out', 'wheels_off', 'wheels_on', 'taxi_in',\n",
       "       'crs_arr_time', 'arr_time', 'arr_delay', 'cancelled', 'diverted',\n",
       "       'crs_elapsed_time', 'actual_elapsed_time', 'air_time', 'flights',\n",
       "       'distance', 'origin_fl_density', 'dest_fl_density', 'day', 'month',\n",
       "       'year', 'weekday', 'day_of_year', 'crs_arr_hour', 'crs_dep_hour',\n",
       "       'timestamp', 'crs_arr_daytime', 'crs_dep_daytime',\n",
       "       'origin_airport_size', 'dest_airport_size', 'season', 'dist_group',\n",
       "       'dep_early_morning', 'mean_op_carrier_delay',\n",
       "       'mean_delay_origin_airport', 'mean_delay_dest_airport',\n",
       "       'mean_dep_delay_origin', 'mean_dep_delay_dest', 'predicted_speed',\n",
       "       'percent_delay_dep', 'delay_time_ratio_x', 'delay_time_ratio_y'],\n",
       "      dtype='object')"
      ]
     },
     "execution_count": 42,
     "metadata": {},
     "output_type": "execute_result"
    }
   ],
   "source": [
    "fl_df = pd.merge(fl_df, delay_types, left_on=['dist_group'], right_on = ['dist_group'])\n",
    "fl_df.columns"
   ]
  },
  {
   "cell_type": "code",
   "execution_count": 45,
   "metadata": {
    "collapsed": true,
    "jupyter": {
     "outputs_hidden": true
    }
   },
   "outputs": [
    {
     "data": {
      "text/plain": [
       "Index(['fl_date', 'mkt_unique_carrier', 'branded_code_share', 'mkt_carrier',\n",
       "       'mkt_carrier_fl_num', 'op_unique_carrier', 'tail_num',\n",
       "       'op_carrier_fl_num', 'origin_airport_id', 'origin', 'origin_city_name',\n",
       "       'dest_airport_id', 'dest', 'dest_city_name', 'crs_dep_time', 'dep_time',\n",
       "       'dep_delay', 'taxi_out', 'wheels_off', 'wheels_on', 'taxi_in',\n",
       "       'crs_arr_time', 'arr_time', 'arr_delay', 'cancelled', 'diverted',\n",
       "       'crs_elapsed_time', 'actual_elapsed_time', 'air_time', 'flights',\n",
       "       'distance', 'origin_fl_density', 'dest_fl_density', 'day', 'month',\n",
       "       'year', 'weekday', 'day_of_year', 'crs_arr_hour', 'crs_dep_hour',\n",
       "       'timestamp', 'crs_arr_daytime', 'crs_dep_daytime',\n",
       "       'origin_airport_size', 'dest_airport_size', 'season', 'dist_group',\n",
       "       'dep_early_morning', 'mean_op_carrier_delay',\n",
       "       'mean_delay_origin_airport', 'mean_delay_dest_airport',\n",
       "       'mean_dep_delay_origin', 'mean_dep_delay_dest', 'predicted_speed',\n",
       "       'percent_delay_dep', 'dist_group_delay_ratio'],\n",
       "      dtype='object')"
      ]
     },
     "execution_count": 45,
     "metadata": {},
     "output_type": "execute_result"
    }
   ],
   "source": [
    "fl_df.rename(columns={'delay_time_ratio_y': 'dist_group_delay_ratio'}, inplace=True)\n",
    "fl_df.drop(labels=['delay_time_ratio_x'],axis=1, inplace=True)\n",
    "fl_df.columns"
   ]
  },
  {
   "cell_type": "code",
   "execution_count": 47,
   "metadata": {
    "collapsed": true,
    "jupyter": {
     "outputs_hidden": true
    }
   },
   "outputs": [
    {
     "data": {
      "text/html": [
       "<div>\n",
       "<style scoped>\n",
       "    .dataframe tbody tr th:only-of-type {\n",
       "        vertical-align: middle;\n",
       "    }\n",
       "\n",
       "    .dataframe tbody tr th {\n",
       "        vertical-align: top;\n",
       "    }\n",
       "\n",
       "    .dataframe thead th {\n",
       "        text-align: right;\n",
       "    }\n",
       "</style>\n",
       "<table border=\"1\" class=\"dataframe\">\n",
       "  <thead>\n",
       "    <tr style=\"text-align: right;\">\n",
       "      <th></th>\n",
       "      <th>dist_group</th>\n",
       "      <th>dist_group_delay_ratio</th>\n",
       "    </tr>\n",
       "  </thead>\n",
       "  <tbody>\n",
       "    <tr>\n",
       "      <th>599995</th>\n",
       "      <td>11</td>\n",
       "      <td>-0.023149</td>\n",
       "    </tr>\n",
       "    <tr>\n",
       "      <th>599996</th>\n",
       "      <td>11</td>\n",
       "      <td>-0.023149</td>\n",
       "    </tr>\n",
       "    <tr>\n",
       "      <th>599997</th>\n",
       "      <td>11</td>\n",
       "      <td>-0.023149</td>\n",
       "    </tr>\n",
       "    <tr>\n",
       "      <th>599998</th>\n",
       "      <td>11</td>\n",
       "      <td>-0.023149</td>\n",
       "    </tr>\n",
       "    <tr>\n",
       "      <th>599999</th>\n",
       "      <td>11</td>\n",
       "      <td>-0.023149</td>\n",
       "    </tr>\n",
       "  </tbody>\n",
       "</table>\n",
       "</div>"
      ],
      "text/plain": [
       "        dist_group  dist_group_delay_ratio\n",
       "599995          11               -0.023149\n",
       "599996          11               -0.023149\n",
       "599997          11               -0.023149\n",
       "599998          11               -0.023149\n",
       "599999          11               -0.023149"
      ]
     },
     "execution_count": 47,
     "metadata": {},
     "output_type": "execute_result"
    }
   ],
   "source": [
    "fl_df[['dist_group','dist_group_delay_ratio']].tail()"
   ]
  },
  {
   "cell_type": "code",
   "execution_count": 48,
   "metadata": {},
   "outputs": [
    {
     "data": {
      "text/plain": [
       "(600000, 56)"
      ]
     },
     "execution_count": 48,
     "metadata": {},
     "output_type": "execute_result"
    }
   ],
   "source": [
    "fl_df.shape"
   ]
  },
  {
   "cell_type": "code",
   "execution_count": 49,
   "metadata": {},
   "outputs": [
    {
     "data": {
      "text/plain": [
       "arr_delay                 0\n",
       "cancelled                 0\n",
       "diverted                  0\n",
       "percent_delay_dep         0\n",
       "dist_group_delay_ratio    0\n",
       "dtype: int64"
      ]
     },
     "execution_count": 49,
     "metadata": {},
     "output_type": "execute_result"
    }
   ],
   "source": [
    "fl_df.isnull().sum().sort_values().tail()"
   ]
  },
  {
   "cell_type": "code",
   "execution_count": 50,
   "metadata": {},
   "outputs": [],
   "source": [
    "fl_df.to_csv(path+'balanced_more_flight_feats.csv', index=False)"
   ]
  },
  {
   "cell_type": "markdown",
   "metadata": {},
   "source": [
    "## percent departure delay"
   ]
  },
  {
   "cell_type": "code",
   "execution_count": 51,
   "metadata": {
    "collapsed": true,
    "jupyter": {
     "outputs_hidden": true
    }
   },
   "outputs": [
    {
     "data": {
      "text/plain": [
       "Index(['fl_date', 'mkt_unique_carrier', 'branded_code_share', 'mkt_carrier',\n",
       "       'mkt_carrier_fl_num', 'op_unique_carrier', 'tail_num',\n",
       "       'op_carrier_fl_num', 'origin_airport_id', 'origin', 'origin_city_name',\n",
       "       'dest_airport_id', 'dest', 'dest_city_name', 'crs_dep_time', 'dep_time',\n",
       "       'dep_delay', 'taxi_out', 'wheels_off', 'wheels_on', 'taxi_in',\n",
       "       'crs_arr_time', 'arr_time', 'arr_delay', 'cancelled', 'diverted',\n",
       "       'crs_elapsed_time', 'actual_elapsed_time', 'air_time', 'flights',\n",
       "       'distance', 'origin_fl_density', 'dest_fl_density', 'day', 'month',\n",
       "       'year', 'weekday', 'day_of_year', 'crs_arr_hour', 'crs_dep_hour',\n",
       "       'timestamp', 'crs_arr_daytime', 'crs_dep_daytime',\n",
       "       'origin_airport_size', 'dest_airport_size', 'season', 'dist_group',\n",
       "       'dep_early_morning', 'mean_op_carrier_delay',\n",
       "       'mean_delay_origin_airport', 'mean_delay_dest_airport',\n",
       "       'mean_dep_delay_origin', 'mean_dep_delay_dest', 'predicted_speed',\n",
       "       'percent_delay_dep', 'dist_group_delay_ratio'],\n",
       "      dtype='object')"
      ]
     },
     "execution_count": 51,
     "metadata": {},
     "output_type": "execute_result"
    }
   ],
   "source": [
    "fl_df.columns"
   ]
  },
  {
   "cell_type": "markdown",
   "metadata": {},
   "source": [
    "#### percent_delay_dep grouped by dist_group"
   ]
  },
  {
   "cell_type": "code",
   "execution_count": 61,
   "metadata": {},
   "outputs": [],
   "source": [
    "per_dep_delay = fl_df.groupby(by=['dist_group']).percent_delay_dep.mean()"
   ]
  },
  {
   "cell_type": "code",
   "execution_count": 62,
   "metadata": {
    "collapsed": true,
    "jupyter": {
     "outputs_hidden": true
    }
   },
   "outputs": [
    {
     "data": {
      "text/plain": [
       "dist_group\n",
       "1     0.296938\n",
       "2     0.294138\n",
       "3     0.286851\n",
       "4     0.308051\n",
       "5     0.296523\n",
       "6     0.310944\n",
       "7     0.369810\n",
       "8     0.273069\n",
       "9     0.393686\n",
       "10    0.326433\n",
       "11    0.070045\n",
       "Name: percent_delay_dep, dtype: float64"
      ]
     },
     "execution_count": 62,
     "metadata": {},
     "output_type": "execute_result"
    }
   ],
   "source": [
    "per_dep_delay"
   ]
  },
  {
   "cell_type": "code",
   "execution_count": 63,
   "metadata": {},
   "outputs": [
    {
     "data": {
      "text/plain": [
       "count    11.000000\n",
       "mean      0.293317\n",
       "std       0.082387\n",
       "min       0.070045\n",
       "25%       0.290495\n",
       "50%       0.296938\n",
       "75%       0.318688\n",
       "max       0.393686\n",
       "Name: percent_delay_dep, dtype: float64"
      ]
     },
     "execution_count": 63,
     "metadata": {},
     "output_type": "execute_result"
    }
   ],
   "source": [
    "# grouped by dist_group\n",
    "per_dep_delay.describe()"
   ]
  },
  {
   "cell_type": "markdown",
   "metadata": {},
   "source": [
    "#### percent_delay_dep grouped by airport"
   ]
  },
  {
   "cell_type": "code",
   "execution_count": 77,
   "metadata": {},
   "outputs": [],
   "source": [
    "per_dep_delay = fl_df.groupby(by=['origin_airport_id']).percent_delay_dep.mean().sort_values()"
   ]
  },
  {
   "cell_type": "code",
   "execution_count": 78,
   "metadata": {},
   "outputs": [
    {
     "data": {
      "text/plain": [
       "origin_airport_id\n",
       "11336   -0.630910\n",
       "11415   -0.608630\n",
       "14120   -0.458366\n",
       "11097   -0.394484\n",
       "14222   -0.371061\n",
       "Name: percent_delay_dep, dtype: float64"
      ]
     },
     "execution_count": 78,
     "metadata": {},
     "output_type": "execute_result"
    }
   ],
   "source": [
    "per_dep_delay.head()"
   ]
  },
  {
   "cell_type": "code",
   "execution_count": 66,
   "metadata": {
    "collapsed": true,
    "jupyter": {
     "outputs_hidden": true
    }
   },
   "outputs": [
    {
     "data": {
      "text/plain": [
       "origin_airport_id\n",
       "10562    0.708333\n",
       "14113    0.716413\n",
       "14314    0.819070\n",
       "14025    0.901576\n",
       "10245    2.292659\n",
       "Name: percent_delay_dep, dtype: float64"
      ]
     },
     "execution_count": 66,
     "metadata": {},
     "output_type": "execute_result"
    }
   ],
   "source": [
    "per_dep_delay.tail()"
   ]
  },
  {
   "cell_type": "code",
   "execution_count": 79,
   "metadata": {},
   "outputs": [
    {
     "data": {
      "text/plain": [
       "count    375.000000\n",
       "mean       0.279983\n",
       "std        0.194725\n",
       "min       -0.630910\n",
       "25%        0.217335\n",
       "50%        0.286054\n",
       "75%        0.335938\n",
       "max        2.292659\n",
       "Name: percent_delay_dep, dtype: float64"
      ]
     },
     "execution_count": 79,
     "metadata": {},
     "output_type": "execute_result"
    }
   ],
   "source": [
    "# grouped by airport\n",
    "per_dep_delay.describe()"
   ]
  },
  {
   "cell_type": "code",
   "execution_count": 81,
   "metadata": {},
   "outputs": [
    {
     "data": {
      "text/plain": [
       "Index(['fl_date', 'mkt_unique_carrier', 'branded_code_share', 'mkt_carrier',\n",
       "       'mkt_carrier_fl_num', 'op_unique_carrier', 'tail_num',\n",
       "       'op_carrier_fl_num', 'origin_airport_id', 'origin', 'origin_city_name',\n",
       "       'dest_airport_id', 'dest', 'dest_city_name', 'crs_dep_time', 'dep_time',\n",
       "       'dep_delay', 'taxi_out', 'wheels_off', 'wheels_on', 'taxi_in',\n",
       "       'crs_arr_time', 'arr_time', 'arr_delay', 'cancelled', 'diverted',\n",
       "       'crs_elapsed_time', 'actual_elapsed_time', 'air_time', 'flights',\n",
       "       'distance', 'origin_fl_density', 'dest_fl_density', 'day', 'month',\n",
       "       'year', 'weekday', 'day_of_year', 'crs_arr_hour', 'crs_dep_hour',\n",
       "       'timestamp', 'crs_arr_daytime', 'crs_dep_daytime',\n",
       "       'origin_airport_size', 'dest_airport_size', 'season', 'dist_group',\n",
       "       'dep_early_morning', 'mean_op_carrier_delay',\n",
       "       'mean_delay_origin_airport', 'mean_delay_dest_airport',\n",
       "       'mean_dep_delay_origin', 'mean_dep_delay_dest', 'predicted_speed',\n",
       "       'percent_delay_dep_x', 'dist_group_delay_ratio', 'percent_delay_dep_y'],\n",
       "      dtype='object')"
      ]
     },
     "execution_count": 81,
     "metadata": {},
     "output_type": "execute_result"
    }
   ],
   "source": [
    "fl_df = pd.merge(fl_df, per_dep_delay, left_on=['origin_airport_id'], right_on = ['origin_airport_id'])\n",
    "fl_df.columns"
   ]
  },
  {
   "cell_type": "code",
   "execution_count": 82,
   "metadata": {},
   "outputs": [
    {
     "data": {
      "text/plain": [
       "Index(['fl_date', 'mkt_unique_carrier', 'branded_code_share', 'mkt_carrier',\n",
       "       'mkt_carrier_fl_num', 'op_unique_carrier', 'tail_num',\n",
       "       'op_carrier_fl_num', 'origin_airport_id', 'origin', 'origin_city_name',\n",
       "       'dest_airport_id', 'dest', 'dest_city_name', 'crs_dep_time', 'dep_time',\n",
       "       'dep_delay', 'taxi_out', 'wheels_off', 'wheels_on', 'taxi_in',\n",
       "       'crs_arr_time', 'arr_time', 'arr_delay', 'cancelled', 'diverted',\n",
       "       'crs_elapsed_time', 'actual_elapsed_time', 'air_time', 'flights',\n",
       "       'distance', 'origin_fl_density', 'dest_fl_density', 'day', 'month',\n",
       "       'year', 'weekday', 'day_of_year', 'crs_arr_hour', 'crs_dep_hour',\n",
       "       'timestamp', 'crs_arr_daytime', 'crs_dep_daytime',\n",
       "       'origin_airport_size', 'dest_airport_size', 'season', 'dist_group',\n",
       "       'dep_early_morning', 'mean_op_carrier_delay',\n",
       "       'mean_delay_origin_airport', 'mean_delay_dest_airport',\n",
       "       'mean_dep_delay_origin', 'mean_dep_delay_dest', 'predicted_speed',\n",
       "       'percent_delay_dep_x', 'dist_group_delay_ratio',\n",
       "       'dist_percent_delay_dep'],\n",
       "      dtype='object')"
      ]
     },
     "execution_count": 82,
     "metadata": {},
     "output_type": "execute_result"
    }
   ],
   "source": [
    "fl_df.rename(columns={'percent_delay_dep_y': 'dist_percent_delay_dep'}, inplace=True)\n",
    "fl_df.columns"
   ]
  },
  {
   "cell_type": "markdown",
   "metadata": {},
   "source": [
    "#### percent_delay_dep grouped by carrier"
   ]
  },
  {
   "cell_type": "code",
   "execution_count": 57,
   "metadata": {},
   "outputs": [],
   "source": [
    "per_dep_delay = fl_df.groupby(by=['op_unique_carrier']).percent_delay_dep.mean().sort_values()"
   ]
  },
  {
   "cell_type": "code",
   "execution_count": 58,
   "metadata": {
    "collapsed": true,
    "jupyter": {
     "outputs_hidden": true
    }
   },
   "outputs": [
    {
     "data": {
      "text/plain": [
       "op_unique_carrier\n",
       "G7    0.258562\n",
       "PT    0.262799\n",
       "QX    0.271025\n",
       "G4    0.271111\n",
       "9E    0.282300\n",
       "Name: percent_delay_dep, dtype: float64"
      ]
     },
     "execution_count": 58,
     "metadata": {},
     "output_type": "execute_result"
    }
   ],
   "source": [
    "per_dep_delay.head()"
   ]
  },
  {
   "cell_type": "code",
   "execution_count": 59,
   "metadata": {
    "collapsed": true,
    "jupyter": {
     "outputs_hidden": true
    }
   },
   "outputs": [
    {
     "data": {
      "text/plain": [
       "op_unique_carrier\n",
       "B6    0.314706\n",
       "EV    0.320051\n",
       "EM    0.333075\n",
       "VX    0.366565\n",
       "KS    0.431373\n",
       "Name: percent_delay_dep, dtype: float64"
      ]
     },
     "execution_count": 59,
     "metadata": {},
     "output_type": "execute_result"
    }
   ],
   "source": [
    "per_dep_delay.tail()"
   ]
  },
  {
   "cell_type": "code",
   "execution_count": 60,
   "metadata": {},
   "outputs": [
    {
     "data": {
      "text/plain": [
       "count    28.000000\n",
       "mean      0.301257\n",
       "std       0.033220\n",
       "min       0.258562\n",
       "25%       0.288222\n",
       "50%       0.294452\n",
       "75%       0.304511\n",
       "max       0.431373\n",
       "Name: percent_delay_dep, dtype: float64"
      ]
     },
     "execution_count": 60,
     "metadata": {},
     "output_type": "execute_result"
    }
   ],
   "source": [
    "# grouped by carrier\n",
    "per_dep_delay.describe()"
   ]
  },
  {
   "cell_type": "markdown",
   "metadata": {},
   "source": [
    "#### percent_delay_dep grouped by carrier & airport"
   ]
  },
  {
   "cell_type": "code",
   "execution_count": 84,
   "metadata": {},
   "outputs": [],
   "source": [
    "per_dep_delay = fl_df.groupby(by=['op_unique_carrier', 'origin_airport_id']).percent_delay_dep_x.mean().sort_values()"
   ]
  },
  {
   "cell_type": "code",
   "execution_count": 70,
   "metadata": {
    "collapsed": true,
    "jupyter": {
     "outputs_hidden": true
    }
   },
   "outputs": [
    {
     "data": {
      "text/plain": [
       "op_unique_carrier  origin_airport_id\n",
       "F9                 15027               -18.0\n",
       "C5                 10157               -12.0\n",
       "EV                 14802               -11.0\n",
       "KS                 11953               -10.0\n",
       "AA                 11336               -10.0\n",
       "Name: percent_delay_dep, dtype: float64"
      ]
     },
     "execution_count": 70,
     "metadata": {},
     "output_type": "execute_result"
    }
   ],
   "source": [
    "per_dep_delay.head()"
   ]
  },
  {
   "cell_type": "code",
   "execution_count": 85,
   "metadata": {},
   "outputs": [
    {
     "data": {
      "text/plain": [
       "count    8221.000000\n",
       "mean        0.285339\n",
       "std         0.865201\n",
       "min       -18.000000\n",
       "25%         0.072222\n",
       "50%         0.280701\n",
       "75%         0.480604\n",
       "max        21.517951\n",
       "Name: percent_delay_dep_x, dtype: float64"
      ]
     },
     "execution_count": 85,
     "metadata": {},
     "output_type": "execute_result"
    }
   ],
   "source": [
    "# grouped by carrier and airport\n",
    "per_dep_delay.describe()"
   ]
  },
  {
   "cell_type": "code",
   "execution_count": 86,
   "metadata": {},
   "outputs": [],
   "source": [
    "fl_df = pd.merge(fl_df, per_dep_delay, how='left',left_on=['origin_airport_id','op_unique_carrier'], right_on = ['origin_airport_id','op_unique_carrier'])"
   ]
  },
  {
   "cell_type": "code",
   "execution_count": 88,
   "metadata": {},
   "outputs": [
    {
     "data": {
      "text/plain": [
       "Index(['fl_date', 'mkt_unique_carrier', 'branded_code_share', 'mkt_carrier',\n",
       "       'mkt_carrier_fl_num', 'op_unique_carrier', 'tail_num',\n",
       "       'op_carrier_fl_num', 'origin_airport_id', 'origin', 'origin_city_name',\n",
       "       'dest_airport_id', 'dest', 'dest_city_name', 'crs_dep_time', 'dep_time',\n",
       "       'dep_delay', 'taxi_out', 'wheels_off', 'wheels_on', 'taxi_in',\n",
       "       'crs_arr_time', 'arr_time', 'arr_delay', 'cancelled', 'diverted',\n",
       "       'crs_elapsed_time', 'actual_elapsed_time', 'air_time', 'flights',\n",
       "       'distance', 'origin_fl_density', 'dest_fl_density', 'day', 'month',\n",
       "       'year', 'weekday', 'day_of_year', 'crs_arr_hour', 'crs_dep_hour',\n",
       "       'timestamp', 'crs_arr_daytime', 'crs_dep_daytime',\n",
       "       'origin_airport_size', 'dest_airport_size', 'season', 'dist_group',\n",
       "       'dep_early_morning', 'mean_op_carrier_delay',\n",
       "       'mean_delay_origin_airport', 'mean_delay_dest_airport',\n",
       "       'mean_dep_delay_origin', 'mean_dep_delay_dest', 'predicted_speed',\n",
       "       'percent_delay_dep_x_x', 'dist_group_delay_ratio',\n",
       "       'dist_percent_delay_dep', 'percent_delay_dep_x_y'],\n",
       "      dtype='object')"
      ]
     },
     "execution_count": 88,
     "metadata": {},
     "output_type": "execute_result"
    }
   ],
   "source": [
    "fl_df.columns"
   ]
  },
  {
   "cell_type": "code",
   "execution_count": 89,
   "metadata": {},
   "outputs": [
    {
     "data": {
      "text/plain": [
       "Index(['fl_date', 'mkt_unique_carrier', 'branded_code_share', 'mkt_carrier',\n",
       "       'mkt_carrier_fl_num', 'op_unique_carrier', 'tail_num',\n",
       "       'op_carrier_fl_num', 'origin_airport_id', 'origin', 'origin_city_name',\n",
       "       'dest_airport_id', 'dest', 'dest_city_name', 'crs_dep_time', 'dep_time',\n",
       "       'dep_delay', 'taxi_out', 'wheels_off', 'wheels_on', 'taxi_in',\n",
       "       'crs_arr_time', 'arr_time', 'arr_delay', 'cancelled', 'diverted',\n",
       "       'crs_elapsed_time', 'actual_elapsed_time', 'air_time', 'flights',\n",
       "       'distance', 'origin_fl_density', 'dest_fl_density', 'day', 'month',\n",
       "       'year', 'weekday', 'day_of_year', 'crs_arr_hour', 'crs_dep_hour',\n",
       "       'timestamp', 'crs_arr_daytime', 'crs_dep_daytime',\n",
       "       'origin_airport_size', 'dest_airport_size', 'season', 'dist_group',\n",
       "       'dep_early_morning', 'mean_op_carrier_delay',\n",
       "       'mean_delay_origin_airport', 'mean_delay_dest_airport',\n",
       "       'mean_dep_delay_origin', 'mean_dep_delay_dest', 'predicted_speed',\n",
       "       'percent_dep_delay', 'dist_group_delay_ratio',\n",
       "       'ap_carr_percent_dep_delay'],\n",
       "      dtype='object')"
      ]
     },
     "execution_count": 89,
     "metadata": {},
     "output_type": "execute_result"
    }
   ],
   "source": [
    "fl_df.rename(columns={'percent_delay_dep_x_y': 'ap_carr_percent_dep_delay'}, inplace=True)\n",
    "fl_df.rename(columns={'percent_delay_dep_x_x': 'percent_dep_delay'}, inplace=True)\n",
    "fl_df.drop(labels='dist_percent_delay_dep',axis=1, inplace=True)\n",
    "fl_df.columns"
   ]
  },
  {
   "cell_type": "code",
   "execution_count": 90,
   "metadata": {},
   "outputs": [],
   "source": [
    "fl_df.to_csv(path+'balanced_more_flight_feats.csv', index=False)"
   ]
  },
  {
   "cell_type": "markdown",
   "metadata": {},
   "source": [
    "#### percent_delay_dep grouped by month"
   ]
  },
  {
   "cell_type": "code",
   "execution_count": 72,
   "metadata": {},
   "outputs": [],
   "source": [
    "per_dep_delay = fl_df.groupby(by=['month']).percent_delay_dep.mean().sort_values()"
   ]
  },
  {
   "cell_type": "code",
   "execution_count": 73,
   "metadata": {},
   "outputs": [
    {
     "data": {
      "text/plain": [
       "month\n",
       "11    0.282507\n",
       "10    0.284388\n",
       "7     0.284663\n",
       "4     0.287813\n",
       "12    0.287916\n",
       "6     0.289581\n",
       "5     0.291951\n",
       "1     0.294891\n",
       "8     0.296580\n",
       "9     0.304306\n",
       "3     0.321908\n",
       "2     0.324746\n",
       "Name: percent_delay_dep, dtype: float64"
      ]
     },
     "execution_count": 73,
     "metadata": {},
     "output_type": "execute_result"
    }
   ],
   "source": [
    "per_dep_delay"
   ]
  },
  {
   "cell_type": "code",
   "execution_count": 74,
   "metadata": {},
   "outputs": [
    {
     "data": {
      "text/plain": [
       "count    12.000000\n",
       "mean      0.295937\n",
       "std       0.014153\n",
       "min       0.282507\n",
       "25%       0.287026\n",
       "50%       0.290766\n",
       "75%       0.298511\n",
       "max       0.324746\n",
       "Name: percent_delay_dep, dtype: float64"
      ]
     },
     "execution_count": 74,
     "metadata": {},
     "output_type": "execute_result"
    }
   ],
   "source": [
    "# month\n",
    "per_dep_delay.describe()"
   ]
  },
  {
   "cell_type": "code",
   "execution_count": 76,
   "metadata": {
    "collapsed": true,
    "jupyter": {
     "outputs_hidden": true
    }
   },
   "outputs": [
    {
     "data": {
      "text/plain": [
       "Index(['fl_date', 'mkt_unique_carrier', 'branded_code_share', 'mkt_carrier',\n",
       "       'mkt_carrier_fl_num', 'op_unique_carrier', 'tail_num',\n",
       "       'op_carrier_fl_num', 'origin_airport_id', 'origin', 'origin_city_name',\n",
       "       'dest_airport_id', 'dest', 'dest_city_name', 'crs_dep_time', 'dep_time',\n",
       "       'dep_delay', 'taxi_out', 'wheels_off', 'wheels_on', 'taxi_in',\n",
       "       'crs_arr_time', 'arr_time', 'arr_delay', 'cancelled', 'diverted',\n",
       "       'crs_elapsed_time', 'actual_elapsed_time', 'air_time', 'flights',\n",
       "       'distance', 'origin_fl_density', 'dest_fl_density', 'day', 'month',\n",
       "       'year', 'weekday', 'day_of_year', 'crs_arr_hour', 'crs_dep_hour',\n",
       "       'timestamp', 'crs_arr_daytime', 'crs_dep_daytime',\n",
       "       'origin_airport_size', 'dest_airport_size', 'season', 'dist_group',\n",
       "       'dep_early_morning', 'mean_op_carrier_delay',\n",
       "       'mean_delay_origin_airport', 'mean_delay_dest_airport',\n",
       "       'mean_dep_delay_origin', 'mean_dep_delay_dest', 'predicted_speed',\n",
       "       'percent_delay_dep', 'dist_group_delay_ratio'],\n",
       "      dtype='object')"
      ]
     },
     "execution_count": 76,
     "metadata": {},
     "output_type": "execute_result"
    }
   ],
   "source": [
    "fl_df.columns"
   ]
  }
 ],
 "metadata": {
  "kernelspec": {
   "display_name": "lighthouse",
   "language": "python",
   "name": "lighthouse"
  },
  "language_info": {
   "codemirror_mode": {
    "name": "ipython",
    "version": 3
   },
   "file_extension": ".py",
   "mimetype": "text/x-python",
   "name": "python",
   "nbconvert_exporter": "python",
   "pygments_lexer": "ipython3",
   "version": "3.8.2"
  }
 },
 "nbformat": 4,
 "nbformat_minor": 4
}
