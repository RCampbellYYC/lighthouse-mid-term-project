{
 "cells": [
  {
   "cell_type": "markdown",
   "metadata": {},
   "source": [
    "# XGBoost Modelling Tuesday"
   ]
  },
  {
   "cell_type": "markdown",
   "metadata": {},
   "source": [
    "## Stricter delay outlier detection"
   ]
  },
  {
   "cell_type": "code",
   "execution_count": 202,
   "metadata": {},
   "outputs": [],
   "source": [
    "import pandas as pd\n",
    "\n",
    "# bring in data\n",
    "path = '/Users/reneehall/Documents/Learning/lighthouse_labs/coursework-lighthouse-labs/Mid-term project/colab_data/'\n",
    "fl_df = pd.read_csv(path+'cleaned_flights_sample.csv')\n",
    "\n",
    "# remove columns that we can't predict ahead of time, including departure delay\n",
    "to_drop = ['cancellation_code', 'carrier_delay', 'weather_delay', 'nas_delay','security_delay','late_aircraft_delay','first_dep_time','total_add_gtime','longest_add_gtime','cancelled', 'dep_time', 'arr_time', 'actual_elapsed_time']\n",
    "fl_df = fl_df.drop(labels=to_drop, axis=1)"
   ]
  },
  {
   "cell_type": "code",
   "execution_count": 203,
   "metadata": {},
   "outputs": [],
   "source": [
    "y = fl_df['arr_delay']\n",
    "x = "
   ]
  },
  {
   "cell_type": "code",
   "execution_count": 205,
   "metadata": {},
   "outputs": [
    {
     "data": {
      "image/png": "[encoded data removed]",
      "text/plain": [
       "<Figure size 360x360 with 1 Axes>"
      ]
     },
     "metadata": {
      "needs_background": "light"
     },
     "output_type": "display_data"
    }
   ],
   "source": [
    "import matplotlib.pyplot as plt\n",
    "\n",
    "plt.plot(y)\n",
    "plt.show()"
   ]
  },
  {
   "cell_type": "code",
   "execution_count": null,
   "metadata": {},
   "outputs": [],
   "source": []
  },
  {
   "cell_type": "code",
   "execution_count": 4,
   "metadata": {},
   "outputs": [
    {
     "data": {
      "text/plain": [
       "Index(['fl_date', 'mkt_unique_carrier', 'branded_code_share', 'mkt_carrier',\n",
       "       'mkt_carrier_fl_num', 'op_unique_carrier', 'tail_num',\n",
       "       'op_carrier_fl_num', 'origin_airport_id', 'origin', 'origin_city_name',\n",
       "       'dest_airport_id', 'dest', 'dest_city_name', 'crs_dep_time',\n",
       "       'dep_delay', 'taxi_out', 'wheels_off', 'wheels_on', 'taxi_in',\n",
       "       'crs_arr_time', 'arr_delay', 'diverted', 'dup', 'crs_elapsed_time',\n",
       "       'air_time', 'flights', 'distance'],\n",
       "      dtype='object')"
      ]
     },
     "execution_count": 4,
     "metadata": {},
     "output_type": "execute_result"
    }
   ],
   "source": [
    "fl_df.columns"
   ]
  },
  {
   "cell_type": "code",
   "execution_count": 18,
   "metadata": {},
   "outputs": [
    {
     "name": "stdout",
     "output_type": "stream",
     "text": [
      "95% cutoff 75.0\n",
      "5% cutoff -53.0\n"
     ]
    }
   ],
   "source": [
    "# arr_delay\n",
    "# find 0.95 and 0.05 percentile\n",
    "import numpy as np\n",
    "\n",
    "high = np.percentile(fl_df['arr_delay'], q=95.0)\n",
    "print(\"95% cutoff\", high)\n",
    "low = np.percentile(fl_df['arr_delay'], q=0.05)\n",
    "print(\"5% cutoff\", low)"
   ]
  },
  {
   "cell_type": "code",
   "execution_count": 21,
   "metadata": {},
   "outputs": [
    {
     "name": "stdout",
     "output_type": "stream",
     "text": [
      "95% cutoff 75.0\n",
      "5% cutoff -23.0\n"
     ]
    }
   ],
   "source": [
    "# dep_delay\n",
    "# find 0.95 and 0.05 percentile\n",
    "import numpy as np\n",
    "\n",
    "high = np.percentile(fl_df['dep_delay'], q=95.0)\n",
    "print(\"95% cutoff\", high)\n",
    "low = np.percentile(fl_df['dep_delay'], q=0.05)\n",
    "print(\"5% cutoff\", low)"
   ]
  },
  {
   "cell_type": "code",
   "execution_count": 22,
   "metadata": {},
   "outputs": [
    {
     "data": {
      "text/plain": [
       "(541258, 28)"
      ]
     },
     "execution_count": 22,
     "metadata": {},
     "output_type": "execute_result"
    }
   ],
   "source": [
    "# remove outliers from dataset and check shape\n",
    "no_out = fl_df.loc[(fl_df['arr_delay'] <= 75)&(fl_df['arr_delay'] >= -53)&(fl_df['dep_delay'] <= 75)&(fl_df['dep_delay'] >= -23)]\n",
    "no_out.shape"
   ]
  },
  {
   "cell_type": "code",
   "execution_count": 23,
   "metadata": {},
   "outputs": [],
   "source": [
    "def remove_delay_outliers(fl_df):\n",
    "    no_out = fl_df.loc[(fl_df['arr_delay'] <= 75)&(fl_df['arr_delay'] >= -53)&(fl_df['dep_delay'] <= 75)&(fl_df['dep_delay'] >= -23)]\n",
    "    return no_out"
   ]
  },
  {
   "cell_type": "markdown",
   "metadata": {},
   "source": [
    "## XGBoost with outliers gone"
   ]
  },
  {
   "cell_type": "code",
   "execution_count": 36,
   "metadata": {},
   "outputs": [],
   "source": [
    "import pandas as pd\n",
    "\n",
    "# bring in data\n",
    "path = '/Users/reneehall/Documents/Learning/lighthouse_labs/coursework-lighthouse-labs/Mid-term project/colab_data/'\n",
    "fl_df = pd.read_csv(path+'cleaned_flights_sample.csv')\n",
    "\n",
    "# remove columns that we can't predict ahead of time, including departure delay\n",
    "to_drop = ['cancellation_code', 'carrier_delay', 'weather_delay', 'nas_delay','security_delay','late_aircraft_delay','first_dep_time','total_add_gtime','longest_add_gtime','cancelled', 'dep_time', 'arr_time', 'actual_elapsed_time']\n",
    "fl_df = fl_df.drop(labels=to_drop, axis=1)\n",
    "\n",
    "fl_df = remove_delay_outliers(fl_df)"
   ]
  },
  {
   "cell_type": "code",
   "execution_count": 37,
   "metadata": {},
   "outputs": [],
   "source": [
    "# need to transform categorical into continuous\n",
    "\n",
    "# date string to unix\n",
    "import datetime as dt \n",
    "\n",
    "fl_df['fl_date'] = pd.to_datetime(fl_df['fl_date'])\n",
    "fl_df['timestamp'] = fl_df['fl_date'].map(dt.datetime.toordinal)\n",
    "fl_df = fl_df.drop(labels=['fl_date'], axis=1)\n",
    "\n",
    "# encode categorical vars\n",
    "from sklearn import preprocessing\n",
    "\n",
    "label_encoder = preprocessing.LabelEncoder()\n",
    "\n",
    "cat_vars = fl_df.select_dtypes(include= 'object').columns.tolist()\n",
    "for col in cat_vars:\n",
    "    fl_df[col] = label_encoder.fit_transform(fl_df[col])"
   ]
  },
  {
   "cell_type": "code",
   "execution_count": 38,
   "metadata": {},
   "outputs": [],
   "source": [
    "# separate x and y\n",
    "X = fl_df.drop(labels=['arr_delay','dep_delay'], axis=1)\n",
    "y = fl_df['arr_delay']\n",
    "\n",
    "# make train-test split\n",
    "from sklearn.model_selection import train_test_split\n",
    "\n",
    "X_train, X_test, y_train, y_test = train_test_split(X, y, train_size=0.7, test_size=0.3, random_state=101)"
   ]
  },
  {
   "cell_type": "code",
   "execution_count": 39,
   "metadata": {},
   "outputs": [
    {
     "name": "stdout",
     "output_type": "stream",
     "text": [
      "MAE: 14.246088936751073\n",
      "R2: 0.010211556544929445\n",
      "adj_R2: 0.010053045051129916\n",
      "MAPE: 258445662535949.2\n"
     ]
    }
   ],
   "source": [
    "import xgboost as xgb\n",
    "from sklearn.metrics import mean_absolute_error\n",
    "from sklearn.metrics import r2_score\n",
    "from sklearn.metrics import mean_absolute_percentage_error\n",
    "\n",
    "xg = xgb.XGBRegressor()\n",
    "xg.fit(X_train, y_train)\n",
    "y_xg = xg.predict(X_test)\n",
    "\n",
    "# evaluate using MAE\n",
    "MAE = mean_absolute_error(y_test, y_xg)\n",
    "print(f\"MAE: {MAE}\")\n",
    "\n",
    "# evaluate using R2\n",
    "R2 = r2_score(y_test, y_xg)\n",
    "print(f\"R2: {R2}\")\n",
    "\n",
    "# evaluate with adjusted R2\n",
    "adj_R2 = 1 - ((1 - R2)*(len(y_test)-1)/(len(y_test)-X_test.shape[1]-1))\n",
    "print(f\"adj_R2: {adj_R2}\")\n",
    "\n",
    "# calculate MAPE\n",
    "MAPE = mean_absolute_percentage_error(y_test,y_xg)\n",
    "print(f\"MAPE: {MAPE}\")"
   ]
  },
  {
   "cell_type": "markdown",
   "metadata": {},
   "source": [
    "#### plot important features"
   ]
  },
  {
   "cell_type": "code",
   "execution_count": 41,
   "metadata": {},
   "outputs": [
    {
     "data": {
      "image/png": "[encoded data removed]",
      "text/plain": [
       "<Figure size 432x288 with 1 Axes>"
      ]
     },
     "metadata": {
      "needs_background": "light"
     },
     "output_type": "display_data"
    }
   ],
   "source": [
    "import matplotlib.pyplot as plt\n",
    "\n",
    "xgb.plot_importance(xg)\n",
    "plt.rcParams['figure.figsize'] = [5, 5]\n",
    "plt.show()"
   ]
  },
  {
   "cell_type": "markdown",
   "metadata": {},
   "source": [
    "#### correlation matrix"
   ]
  },
  {
   "cell_type": "code",
   "execution_count": 42,
   "metadata": {},
   "outputs": [
    {
     "data": {
      "text/plain": [
       "<AxesSubplot:>"
      ]
     },
     "execution_count": 42,
     "metadata": {},
     "output_type": "execute_result"
    },
    {
     "data": {
      "image/png": "[encoded data removed]",
      "text/plain": [
       "<Figure size 864x648 with 2 Axes>"
      ]
     },
     "metadata": {
      "needs_background": "light"
     },
     "output_type": "display_data"
    }
   ],
   "source": [
    "import matplotlib.pyplot as plt\n",
    "import seaborn as sns\n",
    "\n",
    "corrmat = fl_df.corr()\n",
    "f,ax = plt.subplots(figsize=(12,9))\n",
    "sns.heatmap(corrmat, vmax=.8, square=True, cmap='RdYlGn_r')"
   ]
  },
  {
   "cell_type": "markdown",
   "metadata": {},
   "source": [
    "## Remove feats, based on corr map"
   ]
  },
  {
   "cell_type": "code",
   "execution_count": 43,
   "metadata": {},
   "outputs": [],
   "source": [
    "# remove 'branded_code_share','origin', 'dest_city_name', 'wheels_off'"
   ]
  },
  {
   "cell_type": "code",
   "execution_count": 44,
   "metadata": {},
   "outputs": [],
   "source": [
    "import pandas as pd\n",
    "\n",
    "# bring in data\n",
    "path = '/Users/reneehall/Documents/Learning/lighthouse_labs/coursework-lighthouse-labs/Mid-term project/colab_data/'\n",
    "fl_df = pd.read_csv(path+'cleaned_flights_sample.csv')\n",
    "\n",
    "fl_df = remove_delay_outliers(fl_df)\n",
    "\n",
    "# remove columns that we can't predict ahead of time, including departure delay\n",
    "to_drop = ['cancellation_code', 'carrier_delay', 'weather_delay', 'nas_delay','security_delay','late_aircraft_delay','first_dep_time','total_add_gtime','longest_add_gtime','cancelled', 'dep_time', 'arr_time', 'actual_elapsed_time', 'dep_delay', 'branded_code_share','origin', 'dest_city_name', 'wheels_off']\n",
    "fl_df = fl_df.drop(labels=to_drop, axis=1)\n"
   ]
  },
  {
   "cell_type": "code",
   "execution_count": 45,
   "metadata": {},
   "outputs": [],
   "source": [
    "# need to transform categorical into continuous\n",
    "\n",
    "# date string to unix\n",
    "import datetime as dt \n",
    "\n",
    "fl_df['fl_date'] = pd.to_datetime(fl_df['fl_date'])\n",
    "fl_df['timestamp'] = fl_df['fl_date'].map(dt.datetime.toordinal)\n",
    "fl_df = fl_df.drop(labels=['fl_date'], axis=1)\n",
    "\n",
    "# encode categorical vars\n",
    "from sklearn import preprocessing\n",
    "\n",
    "label_encoder = preprocessing.LabelEncoder()\n",
    "\n",
    "cat_vars = fl_df.select_dtypes(include= 'object').columns.tolist()\n",
    "for col in cat_vars:\n",
    "    fl_df[col] = label_encoder.fit_transform(fl_df[col])"
   ]
  },
  {
   "cell_type": "code",
   "execution_count": 47,
   "metadata": {},
   "outputs": [],
   "source": [
    "# separate x and y\n",
    "X = fl_df.drop(labels=['arr_delay'], axis=1)\n",
    "y = fl_df['arr_delay']\n",
    "\n",
    "# make train-test split\n",
    "from sklearn.model_selection import train_test_split\n",
    "\n",
    "X_train, X_test, y_train, y_test = train_test_split(X, y, train_size=0.7, test_size=0.3, random_state=101)"
   ]
  },
  {
   "cell_type": "code",
   "execution_count": 48,
   "metadata": {},
   "outputs": [
    {
     "name": "stdout",
     "output_type": "stream",
     "text": [
      "MAE: 14.249177953398874\n",
      "R2: 0.01069378332844484\n",
      "adj_R2: 0.010559726867191532\n",
      "MAPE: 262830169871092.1\n"
     ]
    }
   ],
   "source": [
    "import xgboost as xgb\n",
    "from sklearn.metrics import mean_absolute_error\n",
    "from sklearn.metrics import r2_score\n",
    "from sklearn.metrics import mean_absolute_percentage_error\n",
    "\n",
    "xg = xgb.XGBRegressor()\n",
    "xg.fit(X_train, y_train)\n",
    "y_xg = xg.predict(X_test)\n",
    "\n",
    "# evaluate using MAE\n",
    "MAE = mean_absolute_error(y_test, y_xg)\n",
    "print(f\"MAE: {MAE}\")\n",
    "\n",
    "# evaluate using R2\n",
    "R2 = r2_score(y_test, y_xg)\n",
    "print(f\"R2: {R2}\")\n",
    "\n",
    "# evaluate with adjusted R2\n",
    "adj_R2 = 1 - ((1 - R2)*(len(y_test)-1)/(len(y_test)-X_test.shape[1]-1))\n",
    "print(f\"adj_R2: {adj_R2}\")\n",
    "\n",
    "# calculate MAPE\n",
    "MAPE = mean_absolute_percentage_error(y_test,y_xg)\n",
    "print(f\"MAPE: {MAPE}\")"
   ]
  },
  {
   "cell_type": "code",
   "execution_count": 49,
   "metadata": {
    "collapsed": true,
    "jupyter": {
     "outputs_hidden": true
    }
   },
   "outputs": [
    {
     "data": {
      "image/png": "[encoded data removed]",
      "text/plain": [
       "<Figure size 360x360 with 1 Axes>"
      ]
     },
     "metadata": {
      "needs_background": "light"
     },
     "output_type": "display_data"
    }
   ],
   "source": [
    "import matplotlib.pyplot as plt\n",
    "\n",
    "xgb.plot_importance(xg)\n",
    "plt.rcParams['figure.figsize'] = [5, 5]\n",
    "plt.show()"
   ]
  },
  {
   "cell_type": "code",
   "execution_count": 50,
   "metadata": {
    "collapsed": true,
    "jupyter": {
     "outputs_hidden": true
    }
   },
   "outputs": [
    {
     "data": {
      "text/plain": [
       "<AxesSubplot:>"
      ]
     },
     "execution_count": 50,
     "metadata": {},
     "output_type": "execute_result"
    },
    {
     "data": {
      "image/png": "[encoded data removed]",
      "text/plain": [
       "<Figure size 864x648 with 2 Axes>"
      ]
     },
     "metadata": {
      "needs_background": "light"
     },
     "output_type": "display_data"
    }
   ],
   "source": [
    "import matplotlib.pyplot as plt\n",
    "import seaborn as sns\n",
    "\n",
    "corrmat = fl_df.corr()\n",
    "f,ax = plt.subplots(figsize=(12,9))\n",
    "sns.heatmap(corrmat, vmax=.8, square=True, cmap='RdYlGn_r')"
   ]
  },
  {
   "cell_type": "markdown",
   "metadata": {},
   "source": [
    "## remove diverted, add in time columns"
   ]
  },
  {
   "cell_type": "code",
   "execution_count": 51,
   "metadata": {},
   "outputs": [],
   "source": [
    "import pandas as pd\n",
    "\n",
    "# bring in data\n",
    "path = '/Users/reneehall/Documents/Learning/lighthouse_labs/coursework-lighthouse-labs/Mid-term project/colab_data/'\n",
    "fl_df = pd.read_csv(path+'cleaned_flights_sample.csv')\n",
    "\n",
    "fl_df = remove_delay_outliers(fl_df)\n",
    "\n",
    "# remove columns that we can't predict ahead of time, including departure delay\n",
    "to_drop = ['cancellation_code', 'carrier_delay', 'weather_delay', 'nas_delay','security_delay','late_aircraft_delay','first_dep_time','total_add_gtime','longest_add_gtime','cancelled', 'dep_time', 'arr_time', 'actual_elapsed_time', 'dep_delay', 'branded_code_share','origin', 'dest_city_name', 'wheels_off', 'diverted']\n",
    "fl_df = fl_df.drop(labels=to_drop, axis=1)\n",
    "\n"
   ]
  },
  {
   "cell_type": "code",
   "execution_count": 52,
   "metadata": {},
   "outputs": [],
   "source": [
    "# need to transform categorical into continuous\n",
    "\n",
    "# date string to unix\n",
    "import datetime as dt \n",
    "\n",
    "fl_df['month'] = pd.to_datetime(fl_df['fl_date']).dt.month\n",
    "fl_df['year'] = pd.to_datetime(fl_df['fl_date']).dt.year\n",
    "fl_df['weekday'] = pd.to_datetime(fl_df['fl_date']).dt.weekday\n",
    "fl_df['day_of_year'] = pd.to_datetime(fl_df['fl_date']).dt.strftime('%j')\n",
    "fl_df = fl_df.drop(labels=['fl_date'], axis=1)\n",
    "           \n",
    "# create arr_hour and dep_hour columns and clean\n",
    "fl_df['arr_hour'] = fl_df['crs_arr_time'].astype('str').str[:-4]\n",
    "fl_df['arr_hour'] = fl_df.arr_hour.replace('', 0)\n",
    "fl_df['arr_hour'] = fl_df.arr_hour.replace('1464.845427563', 14)\n",
    "fl_df['arr_hour'] = fl_df.arr_hour.astype('int')\n",
    "\n",
    "fl_df['dep_hour'] = fl_df['crs_dep_time'].astype('str').str[:-4]\n",
    "fl_df['dep_hour'] = fl_df.dep_hour.replace('', 0)\n",
    "fl_df['dep_hour'] = fl_df.dep_hour.replace('1335.3619765', 12)\n",
    "fl_df['dep_hour'] = fl_df.dep_hour.astype('int')\n",
    "\n",
    "# encode categorical vars\n",
    "from sklearn import preprocessing\n",
    "\n",
    "label_encoder = preprocessing.LabelEncoder()\n",
    "\n",
    "cat_vars = fl_df.select_dtypes(include= 'object').columns.tolist()\n",
    "for col in cat_vars:\n",
    "    fl_df[col] = label_encoder.fit_transform(fl_df[col])"
   ]
  },
  {
   "cell_type": "code",
   "execution_count": 53,
   "metadata": {},
   "outputs": [],
   "source": [
    "# separate x and y\n",
    "X = fl_df.drop(labels=['arr_delay'], axis=1)\n",
    "y = fl_df['arr_delay']\n",
    "\n",
    "# make train-test split\n",
    "from sklearn.model_selection import train_test_split\n",
    "\n",
    "X_train, X_test, y_train, y_test = train_test_split(X, y, train_size=0.7, test_size=0.3, random_state=101)"
   ]
  },
  {
   "cell_type": "code",
   "execution_count": 54,
   "metadata": {},
   "outputs": [
    {
     "name": "stdout",
     "output_type": "stream",
     "text": [
      "MAE: 14.242610664429263\n",
      "R2: 0.01056787054317665\n",
      "adj_R2: 0.010409416111938907\n",
      "MAPE: 261012918591562.56\n"
     ]
    }
   ],
   "source": [
    "import xgboost as xgb\n",
    "from sklearn.metrics import mean_absolute_error\n",
    "from sklearn.metrics import r2_score\n",
    "from sklearn.metrics import mean_absolute_percentage_error\n",
    "\n",
    "xg = xgb.XGBRegressor()\n",
    "xg.fit(X_train, y_train)\n",
    "y_xg = xg.predict(X_test)\n",
    "\n",
    "# evaluate using MAE\n",
    "MAE = mean_absolute_error(y_test, y_xg)\n",
    "print(f\"MAE: {MAE}\")\n",
    "\n",
    "# evaluate using R2\n",
    "R2 = r2_score(y_test, y_xg)\n",
    "print(f\"R2: {R2}\")\n",
    "\n",
    "# evaluate with adjusted R2\n",
    "adj_R2 = 1 - ((1 - R2)*(len(y_test)-1)/(len(y_test)-X_test.shape[1]-1))\n",
    "print(f\"adj_R2: {adj_R2}\")\n",
    "\n",
    "# calculate MAPE\n",
    "MAPE = mean_absolute_percentage_error(y_test,y_xg)\n",
    "print(f\"MAPE: {MAPE}\")"
   ]
  },
  {
   "cell_type": "code",
   "execution_count": 55,
   "metadata": {},
   "outputs": [
    {
     "data": {
      "image/png": "[encoded data removed]",
      "text/plain": [
       "<Figure size 360x360 with 1 Axes>"
      ]
     },
     "metadata": {
      "needs_background": "light"
     },
     "output_type": "display_data"
    }
   ],
   "source": [
    "import matplotlib.pyplot as plt\n",
    "\n",
    "xgb.plot_importance(xg)\n",
    "plt.rcParams['figure.figsize'] = [5, 5]\n",
    "plt.show()"
   ]
  },
  {
   "cell_type": "code",
   "execution_count": 56,
   "metadata": {},
   "outputs": [
    {
     "data": {
      "text/plain": [
       "<AxesSubplot:>"
      ]
     },
     "execution_count": 56,
     "metadata": {},
     "output_type": "execute_result"
    },
    {
     "data": {
      "image/png": "[encoded data removed]",
      "text/plain": [
       "<Figure size 864x648 with 2 Axes>"
      ]
     },
     "metadata": {
      "needs_background": "light"
     },
     "output_type": "display_data"
    }
   ],
   "source": [
    "import matplotlib.pyplot as plt\n",
    "import seaborn as sns\n",
    "\n",
    "corrmat = fl_df.corr()\n",
    "f,ax = plt.subplots(figsize=(12,9))\n",
    "sns.heatmap(corrmat, vmax=.8, square=True, cmap='RdYlGn_r')"
   ]
  },
  {
   "cell_type": "markdown",
   "metadata": {},
   "source": [
    "## feature engineering balanced dataset"
   ]
  },
  {
   "cell_type": "code",
   "execution_count": 1,
   "metadata": {},
   "outputs": [],
   "source": [
    "import pandas as pd\n",
    "\n",
    "# bring in data\n",
    "path = '/Users/reneehall/Documents/Learning/lighthouse_labs/coursework-lighthouse-labs/Mid-term project/colab_data/'\n",
    "fl_df = pd.read_csv(path+'cleaned_balanced_sample.csv')\n",
    "\n",
    "#fl_df = remove_delay_outliers(fl_df)\n",
    "\n",
    "# remove columns that we can't predict ahead of time, including departure delay\n",
    "#to_drop = ['cancellation_code', 'carrier_delay', 'weather_delay', 'nas_delay','security_delay','late_aircraft_delay','first_dep_time','total_add_gtime','longest_add_gtime','cancelled', 'dep_time', 'arr_time', 'actual_elapsed_time', 'dep_delay', 'branded_code_share','origin', 'dest_city_name', 'wheels_off', 'diverted', 'wheels_on', 'taxi_out','taxi_in']\n",
    "#fl_df = fl_df.drop(labels=to_drop, axis=1)"
   ]
  },
  {
   "cell_type": "code",
   "execution_count": 2,
   "metadata": {},
   "outputs": [
    {
     "data": {
      "text/plain": [
       "fl_date                0\n",
       "mkt_unique_carrier     0\n",
       "branded_code_share     0\n",
       "mkt_carrier            0\n",
       "mkt_carrier_fl_num     0\n",
       "op_unique_carrier      0\n",
       "tail_num               0\n",
       "op_carrier_fl_num      0\n",
       "origin_airport_id      0\n",
       "origin                 0\n",
       "origin_city_name       0\n",
       "dest_airport_id        0\n",
       "dest                   0\n",
       "dest_city_name         0\n",
       "crs_dep_time           0\n",
       "dep_time               0\n",
       "dep_delay              0\n",
       "taxi_out               0\n",
       "wheels_off             0\n",
       "wheels_on              0\n",
       "taxi_in                0\n",
       "crs_arr_time           0\n",
       "arr_time               0\n",
       "arr_delay              0\n",
       "cancelled              0\n",
       "diverted               0\n",
       "crs_elapsed_time       0\n",
       "actual_elapsed_time    0\n",
       "air_time               0\n",
       "flights                0\n",
       "distance               0\n",
       "dtype: int64"
      ]
     },
     "execution_count": 2,
     "metadata": {},
     "output_type": "execute_result"
    }
   ],
   "source": [
    "fl_df.isnull().sum()"
   ]
  },
  {
   "cell_type": "code",
   "execution_count": 3,
   "metadata": {},
   "outputs": [
    {
     "data": {
      "text/plain": [
       "(600000, 31)"
      ]
     },
     "execution_count": 3,
     "metadata": {},
     "output_type": "execute_result"
    }
   ],
   "source": [
    "fl_df.shape"
   ]
  },
  {
   "cell_type": "code",
   "execution_count": 4,
   "metadata": {},
   "outputs": [],
   "source": [
    "origin_daily_flights = fl_df.groupby(by=['fl_date', 'origin_airport_id']).flights.count().sort_values(ascending=False)"
   ]
  },
  {
   "cell_type": "code",
   "execution_count": null,
   "metadata": {},
   "outputs": [],
   "source": []
  },
  {
   "cell_type": "code",
   "execution_count": 6,
   "metadata": {},
   "outputs": [],
   "source": [
    "# join on date and origin_airport_id\n",
    "fl_df = pd.merge(fl_df, origin_daily_flights, left_on=['fl_date','origin_airport_id'], right_on = ['fl_date','origin_airport_id'])"
   ]
  },
  {
   "cell_type": "code",
   "execution_count": 7,
   "metadata": {},
   "outputs": [
    {
     "data": {
      "text/plain": [
       "Index(['fl_date', 'mkt_unique_carrier', 'branded_code_share', 'mkt_carrier',\n",
       "       'mkt_carrier_fl_num', 'op_unique_carrier', 'tail_num',\n",
       "       'op_carrier_fl_num', 'origin_airport_id', 'origin', 'origin_city_name',\n",
       "       'dest_airport_id', 'dest', 'dest_city_name', 'crs_dep_time', 'dep_time',\n",
       "       'dep_delay', 'taxi_out', 'wheels_off', 'wheels_on', 'taxi_in',\n",
       "       'crs_arr_time', 'arr_time', 'arr_delay', 'cancelled', 'diverted',\n",
       "       'crs_elapsed_time', 'actual_elapsed_time', 'air_time', 'flights_x',\n",
       "       'distance', 'origin_fl_density'],\n",
       "      dtype='object')"
      ]
     },
     "execution_count": 7,
     "metadata": {},
     "output_type": "execute_result"
    }
   ],
   "source": [
    "fl_df.rename(columns={'flights_y': 'origin_fl_density'}, inplace=True)\n",
    "fl_df.columns"
   ]
  },
  {
   "cell_type": "code",
   "execution_count": 8,
   "metadata": {},
   "outputs": [
    {
     "data": {
      "text/plain": [
       "fl_date                0\n",
       "mkt_unique_carrier     0\n",
       "branded_code_share     0\n",
       "mkt_carrier            0\n",
       "mkt_carrier_fl_num     0\n",
       "op_unique_carrier      0\n",
       "tail_num               0\n",
       "op_carrier_fl_num      0\n",
       "origin_airport_id      0\n",
       "origin                 0\n",
       "origin_city_name       0\n",
       "dest_airport_id        0\n",
       "dest                   0\n",
       "dest_city_name         0\n",
       "crs_dep_time           0\n",
       "dep_time               0\n",
       "dep_delay              0\n",
       "taxi_out               0\n",
       "wheels_off             0\n",
       "wheels_on              0\n",
       "taxi_in                0\n",
       "crs_arr_time           0\n",
       "arr_time               0\n",
       "arr_delay              0\n",
       "cancelled              0\n",
       "diverted               0\n",
       "crs_elapsed_time       0\n",
       "actual_elapsed_time    0\n",
       "air_time               0\n",
       "flights_x              0\n",
       "distance               0\n",
       "origin_fl_density      0\n",
       "dtype: int64"
      ]
     },
     "execution_count": 8,
     "metadata": {},
     "output_type": "execute_result"
    }
   ],
   "source": [
    "fl_df.isnull().sum()"
   ]
  },
  {
   "cell_type": "code",
   "execution_count": 9,
   "metadata": {},
   "outputs": [
    {
     "data": {
      "text/plain": [
       "(600000, 32)"
      ]
     },
     "execution_count": 9,
     "metadata": {},
     "output_type": "execute_result"
    }
   ],
   "source": [
    "fl_df.shape"
   ]
  },
  {
   "cell_type": "code",
   "execution_count": 10,
   "metadata": {},
   "outputs": [],
   "source": [
    "dest_daily_flights = fl_df.groupby(by=['fl_date', 'dest_airport_id']).flights_x.count().sort_values(ascending=False)"
   ]
  },
  {
   "cell_type": "code",
   "execution_count": 11,
   "metadata": {},
   "outputs": [],
   "source": [
    "# join on date and origin_airport_id\n",
    "fl_df = pd.merge(fl_df, dest_daily_flights, left_on=['fl_date','dest_airport_id'], right_on = ['fl_date','dest_airport_id'])"
   ]
  },
  {
   "cell_type": "code",
   "execution_count": 12,
   "metadata": {},
   "outputs": [
    {
     "data": {
      "text/plain": [
       "Index(['fl_date', 'mkt_unique_carrier', 'branded_code_share', 'mkt_carrier',\n",
       "       'mkt_carrier_fl_num', 'op_unique_carrier', 'tail_num',\n",
       "       'op_carrier_fl_num', 'origin_airport_id', 'origin', 'origin_city_name',\n",
       "       'dest_airport_id', 'dest', 'dest_city_name', 'crs_dep_time', 'dep_time',\n",
       "       'dep_delay', 'taxi_out', 'wheels_off', 'wheels_on', 'taxi_in',\n",
       "       'crs_arr_time', 'arr_time', 'arr_delay', 'cancelled', 'diverted',\n",
       "       'crs_elapsed_time', 'actual_elapsed_time', 'air_time', 'flights',\n",
       "       'distance', 'origin_fl_density', 'dest_fl_density'],\n",
       "      dtype='object')"
      ]
     },
     "execution_count": 12,
     "metadata": {},
     "output_type": "execute_result"
    }
   ],
   "source": [
    "fl_df.rename(columns={'flights_x_x': 'flights', 'flights_x_y': 'dest_fl_density'}, inplace=True)\n",
    "fl_df.columns"
   ]
  },
  {
   "cell_type": "code",
   "execution_count": 13,
   "metadata": {},
   "outputs": [
    {
     "data": {
      "text/plain": [
       "fl_date                0\n",
       "mkt_unique_carrier     0\n",
       "branded_code_share     0\n",
       "mkt_carrier            0\n",
       "mkt_carrier_fl_num     0\n",
       "op_unique_carrier      0\n",
       "tail_num               0\n",
       "op_carrier_fl_num      0\n",
       "origin_airport_id      0\n",
       "origin                 0\n",
       "origin_city_name       0\n",
       "dest_airport_id        0\n",
       "dest                   0\n",
       "dest_city_name         0\n",
       "crs_dep_time           0\n",
       "dep_time               0\n",
       "dep_delay              0\n",
       "taxi_out               0\n",
       "wheels_off             0\n",
       "wheels_on              0\n",
       "taxi_in                0\n",
       "crs_arr_time           0\n",
       "arr_time               0\n",
       "arr_delay              0\n",
       "cancelled              0\n",
       "diverted               0\n",
       "crs_elapsed_time       0\n",
       "actual_elapsed_time    0\n",
       "air_time               0\n",
       "flights                0\n",
       "distance               0\n",
       "origin_fl_density      0\n",
       "dest_fl_density        0\n",
       "dtype: int64"
      ]
     },
     "execution_count": 13,
     "metadata": {},
     "output_type": "execute_result"
    }
   ],
   "source": [
    "fl_df.isnull().sum()"
   ]
  },
  {
   "cell_type": "code",
   "execution_count": 14,
   "metadata": {},
   "outputs": [
    {
     "data": {
      "text/plain": [
       "(600000, 33)"
      ]
     },
     "execution_count": 14,
     "metadata": {},
     "output_type": "execute_result"
    }
   ],
   "source": [
    "fl_df.shape"
   ]
  },
  {
   "cell_type": "code",
   "execution_count": 15,
   "metadata": {},
   "outputs": [],
   "source": [
    "fl_df.to_csv(path+'balanced_more_flight_feats.csv', index=False)"
   ]
  },
  {
   "cell_type": "code",
   "execution_count": 16,
   "metadata": {},
   "outputs": [],
   "source": [
    "import datetime as dt \n",
    "\n",
    "fl_df['day'] = pd.to_datetime(fl_df['fl_date']).dt.day\n",
    "fl_df['month'] = pd.to_datetime(fl_df['fl_date']).dt.month\n",
    "fl_df['year'] = pd.to_datetime(fl_df['fl_date']).dt.year\n",
    "fl_df['weekday'] = pd.to_datetime(fl_df['fl_date']).dt.weekday\n",
    "fl_df['day_of_year'] = pd.to_datetime(fl_df['fl_date']).dt.strftime('%j')"
   ]
  },
  {
   "cell_type": "code",
   "execution_count": 17,
   "metadata": {},
   "outputs": [
    {
     "data": {
      "text/plain": [
       "(600000, 38)"
      ]
     },
     "execution_count": 17,
     "metadata": {},
     "output_type": "execute_result"
    }
   ],
   "source": [
    "fl_df.shape"
   ]
  },
  {
   "cell_type": "code",
   "execution_count": 18,
   "metadata": {
    "collapsed": true,
    "jupyter": {
     "outputs_hidden": true
    }
   },
   "outputs": [
    {
     "ename": "KeyError",
     "evalue": "'timestamp'",
     "output_type": "error",
     "traceback": [
      "\u001b[0;31m---------------------------------------------------------------------------\u001b[0m",
      "\u001b[0;31mKeyError\u001b[0m                                  Traceback (most recent call last)",
      "\u001b[0;32m~/opt/anaconda3/envs/lighthouse/lib/python3.8/site-packages/pandas/core/indexes/base.py\u001b[0m in \u001b[0;36mget_loc\u001b[0;34m(self, key, method, tolerance)\u001b[0m\n\u001b[1;32m   2645\u001b[0m             \u001b[0;32mtry\u001b[0m\u001b[0;34m:\u001b[0m\u001b[0;34m\u001b[0m\u001b[0;34m\u001b[0m\u001b[0m\n\u001b[0;32m-> 2646\u001b[0;31m                 \u001b[0;32mreturn\u001b[0m \u001b[0mself\u001b[0m\u001b[0;34m.\u001b[0m\u001b[0m_engine\u001b[0m\u001b[0;34m.\u001b[0m\u001b[0mget_loc\u001b[0m\u001b[0;34m(\u001b[0m\u001b[0mkey\u001b[0m\u001b[0;34m)\u001b[0m\u001b[0;34m\u001b[0m\u001b[0;34m\u001b[0m\u001b[0m\n\u001b[0m\u001b[1;32m   2647\u001b[0m             \u001b[0;32mexcept\u001b[0m \u001b[0mKeyError\u001b[0m\u001b[0;34m:\u001b[0m\u001b[0;34m\u001b[0m\u001b[0;34m\u001b[0m\u001b[0m\n",
      "\u001b[0;32mpandas/_libs/index.pyx\u001b[0m in \u001b[0;36mpandas._libs.index.IndexEngine.get_loc\u001b[0;34m()\u001b[0m\n",
      "\u001b[0;32mpandas/_libs/index.pyx\u001b[0m in \u001b[0;36mpandas._libs.index.IndexEngine.get_loc\u001b[0;34m()\u001b[0m\n",
      "\u001b[0;32mpandas/_libs/hashtable_class_helper.pxi\u001b[0m in \u001b[0;36mpandas._libs.hashtable.PyObjectHashTable.get_item\u001b[0;34m()\u001b[0m\n",
      "\u001b[0;32mpandas/_libs/hashtable_class_helper.pxi\u001b[0m in \u001b[0;36mpandas._libs.hashtable.PyObjectHashTable.get_item\u001b[0;34m()\u001b[0m\n",
      "\u001b[0;31mKeyError\u001b[0m: 'timestamp'",
      "\nDuring handling of the above exception, another exception occurred:\n",
      "\u001b[0;31mKeyError\u001b[0m                                  Traceback (most recent call last)",
      "\u001b[0;32m<ipython-input-18-0b1df823b50a>\u001b[0m in \u001b[0;36m<module>\u001b[0;34m\u001b[0m\n\u001b[0;32m----> 1\u001b[0;31m \u001b[0mfl_df\u001b[0m\u001b[0;34m[\u001b[0m\u001b[0;34m'timestamp'\u001b[0m\u001b[0;34m]\u001b[0m\u001b[0;34m.\u001b[0m\u001b[0mhead\u001b[0m\u001b[0;34m(\u001b[0m\u001b[0;34m)\u001b[0m\u001b[0;34m\u001b[0m\u001b[0;34m\u001b[0m\u001b[0m\n\u001b[0m",
      "\u001b[0;32m~/opt/anaconda3/envs/lighthouse/lib/python3.8/site-packages/pandas/core/frame.py\u001b[0m in \u001b[0;36m__getitem__\u001b[0;34m(self, key)\u001b[0m\n\u001b[1;32m   2798\u001b[0m             \u001b[0;32mif\u001b[0m \u001b[0mself\u001b[0m\u001b[0;34m.\u001b[0m\u001b[0mcolumns\u001b[0m\u001b[0;34m.\u001b[0m\u001b[0mnlevels\u001b[0m \u001b[0;34m>\u001b[0m \u001b[0;36m1\u001b[0m\u001b[0;34m:\u001b[0m\u001b[0;34m\u001b[0m\u001b[0;34m\u001b[0m\u001b[0m\n\u001b[1;32m   2799\u001b[0m                 \u001b[0;32mreturn\u001b[0m \u001b[0mself\u001b[0m\u001b[0;34m.\u001b[0m\u001b[0m_getitem_multilevel\u001b[0m\u001b[0;34m(\u001b[0m\u001b[0mkey\u001b[0m\u001b[0;34m)\u001b[0m\u001b[0;34m\u001b[0m\u001b[0;34m\u001b[0m\u001b[0m\n\u001b[0;32m-> 2800\u001b[0;31m             \u001b[0mindexer\u001b[0m \u001b[0;34m=\u001b[0m \u001b[0mself\u001b[0m\u001b[0;34m.\u001b[0m\u001b[0mcolumns\u001b[0m\u001b[0;34m.\u001b[0m\u001b[0mget_loc\u001b[0m\u001b[0;34m(\u001b[0m\u001b[0mkey\u001b[0m\u001b[0;34m)\u001b[0m\u001b[0;34m\u001b[0m\u001b[0;34m\u001b[0m\u001b[0m\n\u001b[0m\u001b[1;32m   2801\u001b[0m             \u001b[0;32mif\u001b[0m \u001b[0mis_integer\u001b[0m\u001b[0;34m(\u001b[0m\u001b[0mindexer\u001b[0m\u001b[0;34m)\u001b[0m\u001b[0;34m:\u001b[0m\u001b[0;34m\u001b[0m\u001b[0;34m\u001b[0m\u001b[0m\n\u001b[1;32m   2802\u001b[0m                 \u001b[0mindexer\u001b[0m \u001b[0;34m=\u001b[0m \u001b[0;34m[\u001b[0m\u001b[0mindexer\u001b[0m\u001b[0;34m]\u001b[0m\u001b[0;34m\u001b[0m\u001b[0;34m\u001b[0m\u001b[0m\n",
      "\u001b[0;32m~/opt/anaconda3/envs/lighthouse/lib/python3.8/site-packages/pandas/core/indexes/base.py\u001b[0m in \u001b[0;36mget_loc\u001b[0;34m(self, key, method, tolerance)\u001b[0m\n\u001b[1;32m   2646\u001b[0m                 \u001b[0;32mreturn\u001b[0m \u001b[0mself\u001b[0m\u001b[0;34m.\u001b[0m\u001b[0m_engine\u001b[0m\u001b[0;34m.\u001b[0m\u001b[0mget_loc\u001b[0m\u001b[0;34m(\u001b[0m\u001b[0mkey\u001b[0m\u001b[0;34m)\u001b[0m\u001b[0;34m\u001b[0m\u001b[0;34m\u001b[0m\u001b[0m\n\u001b[1;32m   2647\u001b[0m             \u001b[0;32mexcept\u001b[0m \u001b[0mKeyError\u001b[0m\u001b[0;34m:\u001b[0m\u001b[0;34m\u001b[0m\u001b[0;34m\u001b[0m\u001b[0m\n\u001b[0;32m-> 2648\u001b[0;31m                 \u001b[0;32mreturn\u001b[0m \u001b[0mself\u001b[0m\u001b[0;34m.\u001b[0m\u001b[0m_engine\u001b[0m\u001b[0;34m.\u001b[0m\u001b[0mget_loc\u001b[0m\u001b[0;34m(\u001b[0m\u001b[0mself\u001b[0m\u001b[0;34m.\u001b[0m\u001b[0m_maybe_cast_indexer\u001b[0m\u001b[0;34m(\u001b[0m\u001b[0mkey\u001b[0m\u001b[0;34m)\u001b[0m\u001b[0;34m)\u001b[0m\u001b[0;34m\u001b[0m\u001b[0;34m\u001b[0m\u001b[0m\n\u001b[0m\u001b[1;32m   2649\u001b[0m         \u001b[0mindexer\u001b[0m \u001b[0;34m=\u001b[0m \u001b[0mself\u001b[0m\u001b[0;34m.\u001b[0m\u001b[0mget_indexer\u001b[0m\u001b[0;34m(\u001b[0m\u001b[0;34m[\u001b[0m\u001b[0mkey\u001b[0m\u001b[0;34m]\u001b[0m\u001b[0;34m,\u001b[0m \u001b[0mmethod\u001b[0m\u001b[0;34m=\u001b[0m\u001b[0mmethod\u001b[0m\u001b[0;34m,\u001b[0m \u001b[0mtolerance\u001b[0m\u001b[0;34m=\u001b[0m\u001b[0mtolerance\u001b[0m\u001b[0;34m)\u001b[0m\u001b[0;34m\u001b[0m\u001b[0;34m\u001b[0m\u001b[0m\n\u001b[1;32m   2650\u001b[0m         \u001b[0;32mif\u001b[0m \u001b[0mindexer\u001b[0m\u001b[0;34m.\u001b[0m\u001b[0mndim\u001b[0m \u001b[0;34m>\u001b[0m \u001b[0;36m1\u001b[0m \u001b[0;32mor\u001b[0m \u001b[0mindexer\u001b[0m\u001b[0;34m.\u001b[0m\u001b[0msize\u001b[0m \u001b[0;34m>\u001b[0m \u001b[0;36m1\u001b[0m\u001b[0;34m:\u001b[0m\u001b[0;34m\u001b[0m\u001b[0;34m\u001b[0m\u001b[0m\n",
      "\u001b[0;32mpandas/_libs/index.pyx\u001b[0m in \u001b[0;36mpandas._libs.index.IndexEngine.get_loc\u001b[0;34m()\u001b[0m\n",
      "\u001b[0;32mpandas/_libs/index.pyx\u001b[0m in \u001b[0;36mpandas._libs.index.IndexEngine.get_loc\u001b[0;34m()\u001b[0m\n",
      "\u001b[0;32mpandas/_libs/hashtable_class_helper.pxi\u001b[0m in \u001b[0;36mpandas._libs.hashtable.PyObjectHashTable.get_item\u001b[0;34m()\u001b[0m\n",
      "\u001b[0;32mpandas/_libs/hashtable_class_helper.pxi\u001b[0m in \u001b[0;36mpandas._libs.hashtable.PyObjectHashTable.get_item\u001b[0;34m()\u001b[0m\n",
      "\u001b[0;31mKeyError\u001b[0m: 'timestamp'"
     ]
    }
   ],
   "source": [
    "fl_df['timestamp'].head()"
   ]
  },
  {
   "cell_type": "code",
   "execution_count": 19,
   "metadata": {},
   "outputs": [],
   "source": [
    "# create arr_hour and dep_hour columns and clean\n",
    "fl_df['crs_arr_hour'] = fl_df['crs_arr_time'].astype('str').str[:-2]\n",
    "fl_df['crs_arr_hour'] = fl_df.crs_arr_hour.replace('', 0)\n",
    "fl_df['crs_arr_hour'] = fl_df.crs_arr_hour.astype('int')\n",
    "\n",
    "fl_df['crs_dep_hour'] = fl_df['crs_dep_time'].astype('str').str[:-2]\n",
    "fl_df['crs_dep_hour'] = fl_df.crs_dep_hour.replace('', 0)\n",
    "fl_df['crs_dep_hour'] = fl_df.crs_dep_hour.astype('int')"
   ]
  },
  {
   "cell_type": "code",
   "execution_count": 20,
   "metadata": {},
   "outputs": [],
   "source": [
    "fl_df['timestamp'] = pd.to_datetime(fl_df['fl_date']).map(dt.datetime.toordinal)"
   ]
  },
  {
   "cell_type": "code",
   "execution_count": 21,
   "metadata": {},
   "outputs": [
    {
     "data": {
      "text/plain": [
       "array([12,  7, 13, 10, 17, 20,  8, 16, 19, 15, 11,  1, 21, 22, 18,  9,  6,\n",
       "       14,  5, 23,  0,  2,  3,  4])"
      ]
     },
     "execution_count": 21,
     "metadata": {},
     "output_type": "execute_result"
    }
   ],
   "source": [
    "fl_df.crs_dep_hour.unique()"
   ]
  },
  {
   "cell_type": "code",
   "execution_count": 22,
   "metadata": {},
   "outputs": [
    {
     "data": {
      "text/plain": [
       "(600000, 41)"
      ]
     },
     "execution_count": 22,
     "metadata": {},
     "output_type": "execute_result"
    }
   ],
   "source": [
    "fl_df.shape"
   ]
  },
  {
   "cell_type": "code",
   "execution_count": 23,
   "metadata": {},
   "outputs": [],
   "source": [
    "fl_df.to_csv(path+'balanced_more_flight_feats.csv',index=False)"
   ]
  },
  {
   "cell_type": "code",
   "execution_count": 24,
   "metadata": {},
   "outputs": [],
   "source": [
    "fl_df['crs_arr_daytime'] = (fl_df['crs_arr_hour'] > 6) & (fl_df['crs_arr_hour'] < 18)"
   ]
  },
  {
   "cell_type": "code",
   "execution_count": 25,
   "metadata": {},
   "outputs": [],
   "source": [
    "fl_df['crs_dep_daytime'] = (fl_df['crs_dep_hour'] > 6) & (fl_df['crs_dep_hour'] < 18)"
   ]
  },
  {
   "cell_type": "code",
   "execution_count": 26,
   "metadata": {},
   "outputs": [
    {
     "data": {
      "text/plain": [
       "fl_date                0\n",
       "mkt_unique_carrier     0\n",
       "branded_code_share     0\n",
       "mkt_carrier            0\n",
       "mkt_carrier_fl_num     0\n",
       "op_unique_carrier      0\n",
       "tail_num               0\n",
       "op_carrier_fl_num      0\n",
       "origin_airport_id      0\n",
       "origin                 0\n",
       "origin_city_name       0\n",
       "dest_airport_id        0\n",
       "dest                   0\n",
       "dest_city_name         0\n",
       "crs_dep_time           0\n",
       "dep_time               0\n",
       "dep_delay              0\n",
       "taxi_out               0\n",
       "wheels_off             0\n",
       "wheels_on              0\n",
       "taxi_in                0\n",
       "crs_arr_time           0\n",
       "arr_time               0\n",
       "arr_delay              0\n",
       "cancelled              0\n",
       "diverted               0\n",
       "crs_elapsed_time       0\n",
       "actual_elapsed_time    0\n",
       "air_time               0\n",
       "flights                0\n",
       "distance               0\n",
       "origin_fl_density      0\n",
       "dest_fl_density        0\n",
       "day                    0\n",
       "month                  0\n",
       "year                   0\n",
       "weekday                0\n",
       "day_of_year            0\n",
       "crs_arr_hour           0\n",
       "crs_dep_hour           0\n",
       "timestamp              0\n",
       "crs_arr_daytime        0\n",
       "crs_dep_daytime        0\n",
       "dtype: int64"
      ]
     },
     "execution_count": 26,
     "metadata": {},
     "output_type": "execute_result"
    }
   ],
   "source": [
    "fl_df.isnull().sum()"
   ]
  },
  {
   "cell_type": "code",
   "execution_count": 27,
   "metadata": {},
   "outputs": [],
   "source": [
    "fl_df['crs_dep_daytime'] = fl_df['crs_dep_daytime'].astype(int).astype('category')"
   ]
  },
  {
   "cell_type": "code",
   "execution_count": 28,
   "metadata": {},
   "outputs": [],
   "source": [
    "fl_df['crs_arr_daytime'] = fl_df['crs_arr_daytime'].astype(int).astype('category')"
   ]
  },
  {
   "cell_type": "code",
   "execution_count": 29,
   "metadata": {
    "collapsed": true,
    "jupyter": {
     "outputs_hidden": true
    }
   },
   "outputs": [
    {
     "data": {
      "text/plain": [
       "fl_date                0\n",
       "mkt_unique_carrier     0\n",
       "branded_code_share     0\n",
       "mkt_carrier            0\n",
       "mkt_carrier_fl_num     0\n",
       "op_unique_carrier      0\n",
       "tail_num               0\n",
       "op_carrier_fl_num      0\n",
       "origin_airport_id      0\n",
       "origin                 0\n",
       "origin_city_name       0\n",
       "dest_airport_id        0\n",
       "dest                   0\n",
       "dest_city_name         0\n",
       "crs_dep_time           0\n",
       "dep_time               0\n",
       "dep_delay              0\n",
       "taxi_out               0\n",
       "wheels_off             0\n",
       "wheels_on              0\n",
       "taxi_in                0\n",
       "crs_arr_time           0\n",
       "arr_time               0\n",
       "arr_delay              0\n",
       "cancelled              0\n",
       "diverted               0\n",
       "crs_elapsed_time       0\n",
       "actual_elapsed_time    0\n",
       "air_time               0\n",
       "flights                0\n",
       "distance               0\n",
       "origin_fl_density      0\n",
       "dest_fl_density        0\n",
       "day                    0\n",
       "month                  0\n",
       "year                   0\n",
       "weekday                0\n",
       "day_of_year            0\n",
       "crs_arr_hour           0\n",
       "crs_dep_hour           0\n",
       "timestamp              0\n",
       "crs_arr_daytime        0\n",
       "crs_dep_daytime        0\n",
       "dtype: int64"
      ]
     },
     "execution_count": 29,
     "metadata": {},
     "output_type": "execute_result"
    }
   ],
   "source": [
    "fl_df.isnull().sum()"
   ]
  },
  {
   "cell_type": "code",
   "execution_count": 30,
   "metadata": {},
   "outputs": [
    {
     "data": {
      "text/plain": [
       "(600000, 43)"
      ]
     },
     "execution_count": 30,
     "metadata": {},
     "output_type": "execute_result"
    }
   ],
   "source": [
    "fl_df.shape"
   ]
  },
  {
   "cell_type": "code",
   "execution_count": 32,
   "metadata": {},
   "outputs": [],
   "source": [
    "fl_df = pd.read_csv(path+'balanced_more_flight_feats.csv')"
   ]
  },
  {
   "cell_type": "code",
   "execution_count": 33,
   "metadata": {},
   "outputs": [
    {
     "data": {
      "text/plain": [
       "(600000, 53)"
      ]
     },
     "execution_count": 33,
     "metadata": {},
     "output_type": "execute_result"
    }
   ],
   "source": [
    "fl_df.shape"
   ]
  },
  {
   "cell_type": "code",
   "execution_count": 34,
   "metadata": {},
   "outputs": [],
   "source": [
    "fl_df['predicted_speed'] = fl_df['distance']/fl_df['crs_elapsed_time']"
   ]
  },
  {
   "cell_type": "code",
   "execution_count": 35,
   "metadata": {},
   "outputs": [],
   "source": [
    "fl_df.to_csv(path+'balanced_more_flight_feats.csv',index=False)"
   ]
  },
  {
   "cell_type": "code",
   "execution_count": 372,
   "metadata": {
    "collapsed": true,
    "jupyter": {
     "outputs_hidden": true
    }
   },
   "outputs": [
    {
     "data": {
      "text/plain": [
       "fl_date                   0\n",
       "mkt_unique_carrier        0\n",
       "branded_code_share        0\n",
       "mkt_carrier               0\n",
       "mkt_carrier_fl_num        0\n",
       "op_unique_carrier         0\n",
       "tail_num                  0\n",
       "op_carrier_fl_num         0\n",
       "origin_airport_id         0\n",
       "origin                    0\n",
       "origin_city_name          0\n",
       "dest_airport_id           0\n",
       "dest                      0\n",
       "dest_city_name            0\n",
       "crs_dep_time              0\n",
       "dep_time                  0\n",
       "dep_delay                 0\n",
       "taxi_out                  0\n",
       "wheels_off                0\n",
       "wheels_on                 0\n",
       "taxi_in                   0\n",
       "crs_arr_time              0\n",
       "arr_time                  0\n",
       "arr_delay                 0\n",
       "cancelled                 0\n",
       "diverted                  0\n",
       "crs_elapsed_time          0\n",
       "actual_elapsed_time       0\n",
       "air_time                  0\n",
       "flights                   0\n",
       "distance                  0\n",
       "origin_fl_density         0\n",
       "dest_fl_density           0\n",
       "day                       0\n",
       "month                     0\n",
       "year                      0\n",
       "weekday                   0\n",
       "day_of_year               0\n",
       "crs_arr_hour              0\n",
       "crs_dep_hour              0\n",
       "timestamp                 0\n",
       "crs_arr_daytime           0\n",
       "crs_dep_daytime           0\n",
       "predicted_speed_mi/min    0\n",
       "actual_speed_mi/min       0\n",
       "dtype: int64"
      ]
     },
     "execution_count": 372,
     "metadata": {},
     "output_type": "execute_result"
    }
   ],
   "source": [
    "fl_df.isnull().sum()"
   ]
  },
  {
   "cell_type": "code",
   "execution_count": null,
   "metadata": {},
   "outputs": [],
   "source": []
  },
  {
   "cell_type": "code",
   "execution_count": 175,
   "metadata": {
    "collapsed": true,
    "jupyter": {
     "outputs_hidden": true
    }
   },
   "outputs": [
    {
     "data": {
      "text/html": [
       "<div>\n",
       "<style scoped>\n",
       "    .dataframe tbody tr th:only-of-type {\n",
       "        vertical-align: middle;\n",
       "    }\n",
       "\n",
       "    .dataframe tbody tr th {\n",
       "        vertical-align: top;\n",
       "    }\n",
       "\n",
       "    .dataframe thead th {\n",
       "        text-align: right;\n",
       "    }\n",
       "</style>\n",
       "<table border=\"1\" class=\"dataframe\">\n",
       "  <thead>\n",
       "    <tr style=\"text-align: right;\">\n",
       "      <th></th>\n",
       "      <th>departures_scheduled</th>\n",
       "      <th>departures_performed</th>\n",
       "      <th>payload</th>\n",
       "      <th>seats</th>\n",
       "      <th>passengers</th>\n",
       "      <th>freight</th>\n",
       "      <th>mail</th>\n",
       "      <th>distance</th>\n",
       "      <th>ramp_to_ramp</th>\n",
       "      <th>air_time</th>\n",
       "      <th>...</th>\n",
       "      <th>dest_country</th>\n",
       "      <th>dest_country_name</th>\n",
       "      <th>aircraft_group</th>\n",
       "      <th>aircraft_type</th>\n",
       "      <th>aircraft_config</th>\n",
       "      <th>year</th>\n",
       "      <th>month</th>\n",
       "      <th>distance_group</th>\n",
       "      <th>class</th>\n",
       "      <th>data_source</th>\n",
       "    </tr>\n",
       "  </thead>\n",
       "  <tbody>\n",
       "    <tr>\n",
       "      <th>0</th>\n",
       "      <td>6.0</td>\n",
       "      <td>6.0</td>\n",
       "      <td>223200.0</td>\n",
       "      <td>1116.0</td>\n",
       "      <td>906.0</td>\n",
       "      <td>0.0</td>\n",
       "      <td>0.0</td>\n",
       "      <td>1259.0</td>\n",
       "      <td>1044.0</td>\n",
       "      <td>918.0</td>\n",
       "      <td>...</td>\n",
       "      <td>US</td>\n",
       "      <td>United States</td>\n",
       "      <td>6</td>\n",
       "      <td>694</td>\n",
       "      <td>1</td>\n",
       "      <td>2019</td>\n",
       "      <td>12</td>\n",
       "      <td>3</td>\n",
       "      <td>F</td>\n",
       "      <td>DU</td>\n",
       "    </tr>\n",
       "    <tr>\n",
       "      <th>1</th>\n",
       "      <td>6.0</td>\n",
       "      <td>6.0</td>\n",
       "      <td>187200.0</td>\n",
       "      <td>936.0</td>\n",
       "      <td>861.0</td>\n",
       "      <td>0.0</td>\n",
       "      <td>0.0</td>\n",
       "      <td>1208.0</td>\n",
       "      <td>1062.0</td>\n",
       "      <td>960.0</td>\n",
       "      <td>...</td>\n",
       "      <td>US</td>\n",
       "      <td>United States</td>\n",
       "      <td>6</td>\n",
       "      <td>698</td>\n",
       "      <td>1</td>\n",
       "      <td>2019</td>\n",
       "      <td>12</td>\n",
       "      <td>3</td>\n",
       "      <td>F</td>\n",
       "      <td>DU</td>\n",
       "    </tr>\n",
       "    <tr>\n",
       "      <th>2</th>\n",
       "      <td>6.0</td>\n",
       "      <td>6.0</td>\n",
       "      <td>214200.0</td>\n",
       "      <td>1071.0</td>\n",
       "      <td>982.0</td>\n",
       "      <td>0.0</td>\n",
       "      <td>0.0</td>\n",
       "      <td>917.0</td>\n",
       "      <td>768.0</td>\n",
       "      <td>690.0</td>\n",
       "      <td>...</td>\n",
       "      <td>US</td>\n",
       "      <td>United States</td>\n",
       "      <td>6</td>\n",
       "      <td>694</td>\n",
       "      <td>1</td>\n",
       "      <td>2019</td>\n",
       "      <td>12</td>\n",
       "      <td>2</td>\n",
       "      <td>F</td>\n",
       "      <td>DU</td>\n",
       "    </tr>\n",
       "    <tr>\n",
       "      <th>3</th>\n",
       "      <td>6.0</td>\n",
       "      <td>6.0</td>\n",
       "      <td>216000.0</td>\n",
       "      <td>1080.0</td>\n",
       "      <td>775.0</td>\n",
       "      <td>0.0</td>\n",
       "      <td>0.0</td>\n",
       "      <td>598.0</td>\n",
       "      <td>582.0</td>\n",
       "      <td>492.0</td>\n",
       "      <td>...</td>\n",
       "      <td>US</td>\n",
       "      <td>United States</td>\n",
       "      <td>6</td>\n",
       "      <td>694</td>\n",
       "      <td>1</td>\n",
       "      <td>2019</td>\n",
       "      <td>12</td>\n",
       "      <td>2</td>\n",
       "      <td>F</td>\n",
       "      <td>DU</td>\n",
       "    </tr>\n",
       "    <tr>\n",
       "      <th>4</th>\n",
       "      <td>6.0</td>\n",
       "      <td>6.0</td>\n",
       "      <td>173222.0</td>\n",
       "      <td>0.0</td>\n",
       "      <td>0.0</td>\n",
       "      <td>173220.0</td>\n",
       "      <td>0.0</td>\n",
       "      <td>620.0</td>\n",
       "      <td>542.0</td>\n",
       "      <td>476.0</td>\n",
       "      <td>...</td>\n",
       "      <td>US</td>\n",
       "      <td>United States</td>\n",
       "      <td>6</td>\n",
       "      <td>691</td>\n",
       "      <td>2</td>\n",
       "      <td>2019</td>\n",
       "      <td>2</td>\n",
       "      <td>2</td>\n",
       "      <td>G</td>\n",
       "      <td>DU</td>\n",
       "    </tr>\n",
       "    <tr>\n",
       "      <th>5</th>\n",
       "      <td>6.0</td>\n",
       "      <td>6.0</td>\n",
       "      <td>1359188.0</td>\n",
       "      <td>0.0</td>\n",
       "      <td>0.0</td>\n",
       "      <td>596326.0</td>\n",
       "      <td>24038.0</td>\n",
       "      <td>2603.0</td>\n",
       "      <td>2174.0</td>\n",
       "      <td>2056.0</td>\n",
       "      <td>...</td>\n",
       "      <td>US</td>\n",
       "      <td>United States</td>\n",
       "      <td>8</td>\n",
       "      <td>819</td>\n",
       "      <td>2</td>\n",
       "      <td>2019</td>\n",
       "      <td>2</td>\n",
       "      <td>6</td>\n",
       "      <td>G</td>\n",
       "      <td>DU</td>\n",
       "    </tr>\n",
       "    <tr>\n",
       "      <th>6</th>\n",
       "      <td>6.0</td>\n",
       "      <td>6.0</td>\n",
       "      <td>383246.0</td>\n",
       "      <td>0.0</td>\n",
       "      <td>0.0</td>\n",
       "      <td>176209.0</td>\n",
       "      <td>1920.0</td>\n",
       "      <td>1796.0</td>\n",
       "      <td>1276.0</td>\n",
       "      <td>1168.0</td>\n",
       "      <td>...</td>\n",
       "      <td>US</td>\n",
       "      <td>United States</td>\n",
       "      <td>6</td>\n",
       "      <td>622</td>\n",
       "      <td>2</td>\n",
       "      <td>2019</td>\n",
       "      <td>2</td>\n",
       "      <td>4</td>\n",
       "      <td>G</td>\n",
       "      <td>DU</td>\n",
       "    </tr>\n",
       "    <tr>\n",
       "      <th>7</th>\n",
       "      <td>6.0</td>\n",
       "      <td>6.0</td>\n",
       "      <td>1055335.0</td>\n",
       "      <td>0.0</td>\n",
       "      <td>0.0</td>\n",
       "      <td>434154.0</td>\n",
       "      <td>0.0</td>\n",
       "      <td>1950.0</td>\n",
       "      <td>1406.0</td>\n",
       "      <td>1271.0</td>\n",
       "      <td>...</td>\n",
       "      <td>US</td>\n",
       "      <td>United States</td>\n",
       "      <td>7</td>\n",
       "      <td>740</td>\n",
       "      <td>2</td>\n",
       "      <td>2019</td>\n",
       "      <td>2</td>\n",
       "      <td>4</td>\n",
       "      <td>G</td>\n",
       "      <td>DU</td>\n",
       "    </tr>\n",
       "    <tr>\n",
       "      <th>8</th>\n",
       "      <td>6.0</td>\n",
       "      <td>6.0</td>\n",
       "      <td>1357998.0</td>\n",
       "      <td>0.0</td>\n",
       "      <td>0.0</td>\n",
       "      <td>922930.0</td>\n",
       "      <td>10275.0</td>\n",
       "      <td>4383.0</td>\n",
       "      <td>3425.0</td>\n",
       "      <td>3273.0</td>\n",
       "      <td>...</td>\n",
       "      <td>US</td>\n",
       "      <td>United States</td>\n",
       "      <td>8</td>\n",
       "      <td>821</td>\n",
       "      <td>2</td>\n",
       "      <td>2019</td>\n",
       "      <td>2</td>\n",
       "      <td>9</td>\n",
       "      <td>G</td>\n",
       "      <td>DU</td>\n",
       "    </tr>\n",
       "    <tr>\n",
       "      <th>9</th>\n",
       "      <td>6.0</td>\n",
       "      <td>6.0</td>\n",
       "      <td>367540.0</td>\n",
       "      <td>0.0</td>\n",
       "      <td>0.0</td>\n",
       "      <td>367537.0</td>\n",
       "      <td>0.0</td>\n",
       "      <td>491.0</td>\n",
       "      <td>571.0</td>\n",
       "      <td>465.0</td>\n",
       "      <td>...</td>\n",
       "      <td>US</td>\n",
       "      <td>United States</td>\n",
       "      <td>6</td>\n",
       "      <td>626</td>\n",
       "      <td>2</td>\n",
       "      <td>2019</td>\n",
       "      <td>2</td>\n",
       "      <td>1</td>\n",
       "      <td>G</td>\n",
       "      <td>DU</td>\n",
       "    </tr>\n",
       "  </tbody>\n",
       "</table>\n",
       "<p>10 rows × 38 columns</p>\n",
       "</div>"
      ],
      "text/plain": [
       "   departures_scheduled  departures_performed    payload   seats  passengers  \\\n",
       "0                   6.0                   6.0   223200.0  1116.0       906.0   \n",
       "1                   6.0                   6.0   187200.0   936.0       861.0   \n",
       "2                   6.0                   6.0   214200.0  1071.0       982.0   \n",
       "3                   6.0                   6.0   216000.0  1080.0       775.0   \n",
       "4                   6.0                   6.0   173222.0     0.0         0.0   \n",
       "5                   6.0                   6.0  1359188.0     0.0         0.0   \n",
       "6                   6.0                   6.0   383246.0     0.0         0.0   \n",
       "7                   6.0                   6.0  1055335.0     0.0         0.0   \n",
       "8                   6.0                   6.0  1357998.0     0.0         0.0   \n",
       "9                   6.0                   6.0   367540.0     0.0         0.0   \n",
       "\n",
       "    freight     mail  distance  ramp_to_ramp  air_time  ... dest_country  \\\n",
       "0       0.0      0.0    1259.0        1044.0     918.0  ...           US   \n",
       "1       0.0      0.0    1208.0        1062.0     960.0  ...           US   \n",
       "2       0.0      0.0     917.0         768.0     690.0  ...           US   \n",
       "3       0.0      0.0     598.0         582.0     492.0  ...           US   \n",
       "4  173220.0      0.0     620.0         542.0     476.0  ...           US   \n",
       "5  596326.0  24038.0    2603.0        2174.0    2056.0  ...           US   \n",
       "6  176209.0   1920.0    1796.0        1276.0    1168.0  ...           US   \n",
       "7  434154.0      0.0    1950.0        1406.0    1271.0  ...           US   \n",
       "8  922930.0  10275.0    4383.0        3425.0    3273.0  ...           US   \n",
       "9  367537.0      0.0     491.0         571.0     465.0  ...           US   \n",
       "\n",
       "   dest_country_name aircraft_group aircraft_type aircraft_config  year  \\\n",
       "0      United States              6           694               1  2019   \n",
       "1      United States              6           698               1  2019   \n",
       "2      United States              6           694               1  2019   \n",
       "3      United States              6           694               1  2019   \n",
       "4      United States              6           691               2  2019   \n",
       "5      United States              8           819               2  2019   \n",
       "6      United States              6           622               2  2019   \n",
       "7      United States              7           740               2  2019   \n",
       "8      United States              8           821               2  2019   \n",
       "9      United States              6           626               2  2019   \n",
       "\n",
       "   month  distance_group  class  data_source  \n",
       "0     12               3      F           DU  \n",
       "1     12               3      F           DU  \n",
       "2     12               2      F           DU  \n",
       "3     12               2      F           DU  \n",
       "4      2               2      G           DU  \n",
       "5      2               6      G           DU  \n",
       "6      2               4      G           DU  \n",
       "7      2               4      G           DU  \n",
       "8      2               9      G           DU  \n",
       "9      2               1      G           DU  \n",
       "\n",
       "[10 rows x 38 columns]"
      ]
     },
     "execution_count": 175,
     "metadata": {},
     "output_type": "execute_result"
    }
   ],
   "source": [
    "pass_df = pd.read_csv(path+'cleaned_passengers.csv')\n",
    "pass_df.head(10)"
   ]
  },
  {
   "cell_type": "code",
   "execution_count": 373,
   "metadata": {},
   "outputs": [],
   "source": [
    "pass_per_mo_origin_airport = pass_df.groupby(by=['origin_airport_id','year','month']).passengers.sum().sort_values(ascending=False)"
   ]
  },
  {
   "cell_type": "code",
   "execution_count": 374,
   "metadata": {},
   "outputs": [],
   "source": [
    "fl_df = pd.merge(fl_df, pass_per_mo_origin_airport, left_on=['origin_airport_id','year','month'], right_on = ['origin_airport_id','year','month'])"
   ]
  },
  {
   "cell_type": "code",
   "execution_count": 375,
   "metadata": {},
   "outputs": [
    {
     "data": {
      "text/plain": [
       "Index(['fl_date', 'mkt_unique_carrier', 'branded_code_share', 'mkt_carrier',\n",
       "       'mkt_carrier_fl_num', 'op_unique_carrier', 'tail_num',\n",
       "       'op_carrier_fl_num', 'origin_airport_id', 'origin', 'origin_city_name',\n",
       "       'dest_airport_id', 'dest', 'dest_city_name', 'crs_dep_time', 'dep_time',\n",
       "       'dep_delay', 'taxi_out', 'wheels_off', 'wheels_on', 'taxi_in',\n",
       "       'crs_arr_time', 'arr_time', 'arr_delay', 'cancelled', 'diverted',\n",
       "       'crs_elapsed_time', 'actual_elapsed_time', 'air_time', 'flights',\n",
       "       'distance', 'origin_fl_density', 'dest_fl_density', 'day', 'month',\n",
       "       'year', 'weekday', 'day_of_year', 'crs_arr_hour', 'crs_dep_hour',\n",
       "       'timestamp', 'crs_arr_daytime', 'crs_dep_daytime',\n",
       "       'predicted_speed_mi/min', 'actual_speed_mi/min',\n",
       "       'origin_passengers/mo'],\n",
       "      dtype='object')"
      ]
     },
     "execution_count": 375,
     "metadata": {},
     "output_type": "execute_result"
    }
   ],
   "source": [
    "fl_df.rename(columns={'passengers': 'origin_passengers/mo'}, inplace=True)\n",
    "fl_df.columns"
   ]
  },
  {
   "cell_type": "code",
   "execution_count": 376,
   "metadata": {
    "collapsed": true,
    "jupyter": {
     "outputs_hidden": true
    }
   },
   "outputs": [
    {
     "data": {
      "text/plain": [
       "fl_date                   0\n",
       "mkt_unique_carrier        0\n",
       "branded_code_share        0\n",
       "mkt_carrier               0\n",
       "mkt_carrier_fl_num        0\n",
       "op_unique_carrier         0\n",
       "tail_num                  0\n",
       "op_carrier_fl_num         0\n",
       "origin_airport_id         0\n",
       "origin                    0\n",
       "origin_city_name          0\n",
       "dest_airport_id           0\n",
       "dest                      0\n",
       "dest_city_name            0\n",
       "crs_dep_time              0\n",
       "dep_time                  0\n",
       "dep_delay                 0\n",
       "taxi_out                  0\n",
       "wheels_off                0\n",
       "wheels_on                 0\n",
       "taxi_in                   0\n",
       "crs_arr_time              0\n",
       "arr_time                  0\n",
       "arr_delay                 0\n",
       "cancelled                 0\n",
       "diverted                  0\n",
       "crs_elapsed_time          0\n",
       "actual_elapsed_time       0\n",
       "air_time                  0\n",
       "flights                   0\n",
       "distance                  0\n",
       "origin_fl_density         0\n",
       "dest_fl_density           0\n",
       "day                       0\n",
       "month                     0\n",
       "year                      0\n",
       "weekday                   0\n",
       "day_of_year               0\n",
       "crs_arr_hour              0\n",
       "crs_dep_hour              0\n",
       "timestamp                 0\n",
       "crs_arr_daytime           0\n",
       "crs_dep_daytime           0\n",
       "predicted_speed_mi/min    0\n",
       "actual_speed_mi/min       0\n",
       "origin_passengers/mo      0\n",
       "dtype: int64"
      ]
     },
     "execution_count": 376,
     "metadata": {},
     "output_type": "execute_result"
    }
   ],
   "source": [
    "fl_df.isnull().sum()"
   ]
  },
  {
   "cell_type": "code",
   "execution_count": 377,
   "metadata": {},
   "outputs": [],
   "source": [
    "pass_per_mo_dest_airport = pass_df.groupby(by=['dest_airport_id','year','month']).passengers.sum().sort_values(ascending=False)"
   ]
  },
  {
   "cell_type": "code",
   "execution_count": 196,
   "metadata": {},
   "outputs": [
    {
     "data": {
      "text/plain": [
       "dest_airport_id  year  month\n",
       "10397            2019  7        5027887.0\n",
       "                 2018  7        4851702.0\n",
       "                 2019  6        4844537.0\n",
       "                       8        4840265.0\n",
       "                       5        4774602.0\n",
       "                                  ...    \n",
       "10643            2016  4              0.0\n",
       "13546            2015  6              0.0\n",
       "                       9              0.0\n",
       "                       11             0.0\n",
       "16876            2019  12             0.0\n",
       "Name: passengers, Length: 72234, dtype: float64"
      ]
     },
     "execution_count": 196,
     "metadata": {},
     "output_type": "execute_result"
    }
   ],
   "source": [
    "pass_per_mo_dest_airport"
   ]
  },
  {
   "cell_type": "code",
   "execution_count": 378,
   "metadata": {},
   "outputs": [],
   "source": [
    "fl_df = pd.merge(fl_df, pass_per_mo_dest_airport, left_on=['dest_airport_id','year','month'], right_on = ['dest_airport_id','year','month'])"
   ]
  },
  {
   "cell_type": "code",
   "execution_count": 198,
   "metadata": {
    "collapsed": true,
    "jupyter": {
     "outputs_hidden": true
    }
   },
   "outputs": [
    {
     "data": {
      "text/html": [
       "<div>\n",
       "<style scoped>\n",
       "    .dataframe tbody tr th:only-of-type {\n",
       "        vertical-align: middle;\n",
       "    }\n",
       "\n",
       "    .dataframe tbody tr th {\n",
       "        vertical-align: top;\n",
       "    }\n",
       "\n",
       "    .dataframe thead th {\n",
       "        text-align: right;\n",
       "    }\n",
       "</style>\n",
       "<table border=\"1\" class=\"dataframe\">\n",
       "  <thead>\n",
       "    <tr style=\"text-align: right;\">\n",
       "      <th></th>\n",
       "      <th>origin_airport_id</th>\n",
       "      <th>year</th>\n",
       "      <th>month</th>\n",
       "      <th>passengers</th>\n",
       "    </tr>\n",
       "  </thead>\n",
       "  <tbody>\n",
       "    <tr>\n",
       "      <th>167503</th>\n",
       "      <td>10397</td>\n",
       "      <td>2019</td>\n",
       "      <td>7</td>\n",
       "      <td>1889088.0</td>\n",
       "    </tr>\n",
       "    <tr>\n",
       "      <th>167504</th>\n",
       "      <td>10397</td>\n",
       "      <td>2019</td>\n",
       "      <td>7</td>\n",
       "      <td>1889088.0</td>\n",
       "    </tr>\n",
       "    <tr>\n",
       "      <th>167505</th>\n",
       "      <td>10397</td>\n",
       "      <td>2019</td>\n",
       "      <td>7</td>\n",
       "      <td>1889088.0</td>\n",
       "    </tr>\n",
       "    <tr>\n",
       "      <th>167506</th>\n",
       "      <td>10397</td>\n",
       "      <td>2019</td>\n",
       "      <td>7</td>\n",
       "      <td>1889088.0</td>\n",
       "    </tr>\n",
       "    <tr>\n",
       "      <th>167507</th>\n",
       "      <td>10397</td>\n",
       "      <td>2019</td>\n",
       "      <td>7</td>\n",
       "      <td>1889088.0</td>\n",
       "    </tr>\n",
       "    <tr>\n",
       "      <th>...</th>\n",
       "      <td>...</td>\n",
       "      <td>...</td>\n",
       "      <td>...</td>\n",
       "      <td>...</td>\n",
       "    </tr>\n",
       "    <tr>\n",
       "      <th>474394</th>\n",
       "      <td>10397</td>\n",
       "      <td>2019</td>\n",
       "      <td>7</td>\n",
       "      <td>24682.0</td>\n",
       "    </tr>\n",
       "    <tr>\n",
       "      <th>474405</th>\n",
       "      <td>10397</td>\n",
       "      <td>2019</td>\n",
       "      <td>7</td>\n",
       "      <td>25106.0</td>\n",
       "    </tr>\n",
       "    <tr>\n",
       "      <th>474418</th>\n",
       "      <td>10397</td>\n",
       "      <td>2019</td>\n",
       "      <td>7</td>\n",
       "      <td>5754.0</td>\n",
       "    </tr>\n",
       "    <tr>\n",
       "      <th>474421</th>\n",
       "      <td>10397</td>\n",
       "      <td>2019</td>\n",
       "      <td>7</td>\n",
       "      <td>1006.0</td>\n",
       "    </tr>\n",
       "    <tr>\n",
       "      <th>474424</th>\n",
       "      <td>10397</td>\n",
       "      <td>2019</td>\n",
       "      <td>7</td>\n",
       "      <td>60049.0</td>\n",
       "    </tr>\n",
       "  </tbody>\n",
       "</table>\n",
       "<p>1356 rows × 4 columns</p>\n",
       "</div>"
      ],
      "text/plain": [
       "        origin_airport_id  year  month  passengers\n",
       "167503              10397  2019      7   1889088.0\n",
       "167504              10397  2019      7   1889088.0\n",
       "167505              10397  2019      7   1889088.0\n",
       "167506              10397  2019      7   1889088.0\n",
       "167507              10397  2019      7   1889088.0\n",
       "...                   ...   ...    ...         ...\n",
       "474394              10397  2019      7     24682.0\n",
       "474405              10397  2019      7     25106.0\n",
       "474418              10397  2019      7      5754.0\n",
       "474421              10397  2019      7      1006.0\n",
       "474424              10397  2019      7     60049.0\n",
       "\n",
       "[1356 rows x 4 columns]"
      ]
     },
     "execution_count": 198,
     "metadata": {},
     "output_type": "execute_result"
    }
   ],
   "source": [
    "fl_df[['origin_airport_id','year','month','passengers']].loc[(fl_df['origin_airport_id'] == 10397)&(fl_df['year'] == 2019)&(fl_df['month'] == 7)]"
   ]
  },
  {
   "cell_type": "code",
   "execution_count": 199,
   "metadata": {},
   "outputs": [
    {
     "data": {
      "text/plain": [
       "Index(['fl_date', 'mkt_unique_carrier', 'branded_code_share', 'mkt_carrier',\n",
       "       'mkt_carrier_fl_num', 'op_unique_carrier', 'tail_num',\n",
       "       'op_carrier_fl_num', 'origin_airport_id', 'origin', 'origin_city_name',\n",
       "       'dest_airport_id', 'dest', 'dest_city_name', 'crs_dep_time', 'dep_time',\n",
       "       'dep_delay', 'taxi_out', 'wheels_off', 'wheels_on', 'taxi_in',\n",
       "       'crs_arr_time', 'arr_time', 'arr_delay', 'cancelled',\n",
       "       'cancellation_code', 'diverted', 'dup', 'crs_elapsed_time',\n",
       "       'actual_elapsed_time', 'air_time', 'flights', 'distance',\n",
       "       'carrier_delay', 'weather_delay', 'nas_delay', 'security_delay',\n",
       "       'late_aircraft_delay', 'first_dep_time', 'total_add_gtime',\n",
       "       'longest_add_gtime', 'origin_fl_density', 'dest_fl_density', 'day',\n",
       "       'month', 'year', 'weekday', 'day_of_year', 'arr_hour', 'dep_hour',\n",
       "       'timestamp', 'arr_daytime', 'dep_daytime', 'predicted_speed_mi/min',\n",
       "       'actual_speed_mi/min', 'origin_passengers/mo', 'passengers'],\n",
       "      dtype='object')"
      ]
     },
     "execution_count": 199,
     "metadata": {},
     "output_type": "execute_result"
    }
   ],
   "source": [
    "fl_df.columns"
   ]
  },
  {
   "cell_type": "code",
   "execution_count": 379,
   "metadata": {},
   "outputs": [
    {
     "data": {
      "text/plain": [
       "Index(['fl_date', 'mkt_unique_carrier', 'branded_code_share', 'mkt_carrier',\n",
       "       'mkt_carrier_fl_num', 'op_unique_carrier', 'tail_num',\n",
       "       'op_carrier_fl_num', 'origin_airport_id', 'origin', 'origin_city_name',\n",
       "       'dest_airport_id', 'dest', 'dest_city_name', 'crs_dep_time', 'dep_time',\n",
       "       'dep_delay', 'taxi_out', 'wheels_off', 'wheels_on', 'taxi_in',\n",
       "       'crs_arr_time', 'arr_time', 'arr_delay', 'cancelled', 'diverted',\n",
       "       'crs_elapsed_time', 'actual_elapsed_time', 'air_time', 'flights',\n",
       "       'distance', 'origin_fl_density', 'dest_fl_density', 'day', 'month',\n",
       "       'year', 'weekday', 'day_of_year', 'crs_arr_hour', 'crs_dep_hour',\n",
       "       'timestamp', 'crs_arr_daytime', 'crs_dep_daytime',\n",
       "       'predicted_speed_mi/min', 'actual_speed_mi/min', 'origin_passengers/mo',\n",
       "       'dest_passengers/mo'],\n",
       "      dtype='object')"
      ]
     },
     "execution_count": 379,
     "metadata": {},
     "output_type": "execute_result"
    }
   ],
   "source": [
    "fl_df.rename(columns={'passengers': 'dest_passengers/mo'}, inplace=True)\n",
    "fl_df.columns"
   ]
  },
  {
   "cell_type": "code",
   "execution_count": 380,
   "metadata": {
    "collapsed": true,
    "jupyter": {
     "outputs_hidden": true
    }
   },
   "outputs": [
    {
     "data": {
      "text/plain": [
       "fl_date                   0\n",
       "mkt_unique_carrier        0\n",
       "branded_code_share        0\n",
       "mkt_carrier               0\n",
       "mkt_carrier_fl_num        0\n",
       "op_unique_carrier         0\n",
       "tail_num                  0\n",
       "op_carrier_fl_num         0\n",
       "origin_airport_id         0\n",
       "origin                    0\n",
       "origin_city_name          0\n",
       "dest_airport_id           0\n",
       "dest                      0\n",
       "dest_city_name            0\n",
       "crs_dep_time              0\n",
       "dep_time                  0\n",
       "dep_delay                 0\n",
       "taxi_out                  0\n",
       "wheels_off                0\n",
       "wheels_on                 0\n",
       "taxi_in                   0\n",
       "crs_arr_time              0\n",
       "arr_time                  0\n",
       "arr_delay                 0\n",
       "cancelled                 0\n",
       "diverted                  0\n",
       "crs_elapsed_time          0\n",
       "actual_elapsed_time       0\n",
       "air_time                  0\n",
       "flights                   0\n",
       "distance                  0\n",
       "origin_fl_density         0\n",
       "dest_fl_density           0\n",
       "day                       0\n",
       "month                     0\n",
       "year                      0\n",
       "weekday                   0\n",
       "day_of_year               0\n",
       "crs_arr_hour              0\n",
       "crs_dep_hour              0\n",
       "timestamp                 0\n",
       "crs_arr_daytime           0\n",
       "crs_dep_daytime           0\n",
       "predicted_speed_mi/min    0\n",
       "actual_speed_mi/min       0\n",
       "origin_passengers/mo      0\n",
       "dest_passengers/mo        0\n",
       "dtype: int64"
      ]
     },
     "execution_count": 380,
     "metadata": {},
     "output_type": "execute_result"
    }
   ],
   "source": [
    "fl_df.isnull().sum()"
   ]
  },
  {
   "cell_type": "code",
   "execution_count": 256,
   "metadata": {},
   "outputs": [],
   "source": [
    "fl_df.to_csv(path+'balanced_more_flight_feats.csv',index=False)"
   ]
  },
  {
   "cell_type": "code",
   "execution_count": 381,
   "metadata": {},
   "outputs": [],
   "source": [
    "origin_mo_freight = pass_df.groupby(by=['origin_airport_id','year','month']).freight.sum().sort_values(ascending=False)"
   ]
  },
  {
   "cell_type": "code",
   "execution_count": 382,
   "metadata": {},
   "outputs": [],
   "source": [
    "fl_df = pd.merge(fl_df, origin_mo_freight, left_on=['origin_airport_id','year','month'], right_on = ['origin_airport_id','year','month'])"
   ]
  },
  {
   "cell_type": "code",
   "execution_count": 261,
   "metadata": {},
   "outputs": [
    {
     "data": {
      "text/plain": [
       "Index(['fl_date', 'mkt_unique_carrier', 'branded_code_share', 'mkt_carrier',\n",
       "       'mkt_carrier_fl_num', 'op_unique_carrier', 'tail_num',\n",
       "       'op_carrier_fl_num', 'origin_airport_id', 'origin', 'origin_city_name',\n",
       "       'dest_airport_id', 'dest', 'dest_city_name', 'crs_dep_time', 'dep_time',\n",
       "       'dep_delay', 'taxi_out', 'wheels_off', 'wheels_on', 'taxi_in',\n",
       "       'crs_arr_time', 'arr_time', 'arr_delay', 'cancelled', 'diverted',\n",
       "       'crs_elapsed_time', 'actual_elapsed_time', 'air_time', 'flights',\n",
       "       'distance', 'origin_fl_density', 'dest_fl_density', 'day', 'month',\n",
       "       'year', 'weekday', 'day_of_year', 'crs_dep_hour', 'crs_arr_hour',\n",
       "       'timestamp', 'arr_daytime', 'dep_daytime', 'predicted_speed_mi/min',\n",
       "       'actual_speed_mi/min', 'origin_passengers/mo', 'dest_passengers/mo',\n",
       "       'freight'],\n",
       "      dtype='object')"
      ]
     },
     "execution_count": 261,
     "metadata": {},
     "output_type": "execute_result"
    }
   ],
   "source": [
    "fl_df.columns"
   ]
  },
  {
   "cell_type": "code",
   "execution_count": 383,
   "metadata": {},
   "outputs": [],
   "source": [
    "fl_df.rename(columns={'freight': 'origin_freight/mo'}, inplace=True)"
   ]
  },
  {
   "cell_type": "code",
   "execution_count": 384,
   "metadata": {
    "collapsed": true,
    "jupyter": {
     "outputs_hidden": true
    }
   },
   "outputs": [
    {
     "data": {
      "text/plain": [
       "fl_date                   0\n",
       "mkt_unique_carrier        0\n",
       "branded_code_share        0\n",
       "mkt_carrier               0\n",
       "mkt_carrier_fl_num        0\n",
       "op_unique_carrier         0\n",
       "tail_num                  0\n",
       "op_carrier_fl_num         0\n",
       "origin_airport_id         0\n",
       "origin                    0\n",
       "origin_city_name          0\n",
       "dest_airport_id           0\n",
       "dest                      0\n",
       "dest_city_name            0\n",
       "crs_dep_time              0\n",
       "dep_time                  0\n",
       "dep_delay                 0\n",
       "taxi_out                  0\n",
       "wheels_off                0\n",
       "wheels_on                 0\n",
       "taxi_in                   0\n",
       "crs_arr_time              0\n",
       "arr_time                  0\n",
       "arr_delay                 0\n",
       "cancelled                 0\n",
       "diverted                  0\n",
       "crs_elapsed_time          0\n",
       "actual_elapsed_time       0\n",
       "air_time                  0\n",
       "flights                   0\n",
       "distance                  0\n",
       "origin_fl_density         0\n",
       "dest_fl_density           0\n",
       "day                       0\n",
       "month                     0\n",
       "year                      0\n",
       "weekday                   0\n",
       "day_of_year               0\n",
       "crs_arr_hour              0\n",
       "crs_dep_hour              0\n",
       "timestamp                 0\n",
       "crs_arr_daytime           0\n",
       "crs_dep_daytime           0\n",
       "predicted_speed_mi/min    0\n",
       "actual_speed_mi/min       0\n",
       "origin_passengers/mo      0\n",
       "dest_passengers/mo        0\n",
       "origin_freight/mo         0\n",
       "dtype: int64"
      ]
     },
     "execution_count": 384,
     "metadata": {},
     "output_type": "execute_result"
    }
   ],
   "source": [
    "fl_df.isnull().sum()"
   ]
  },
  {
   "cell_type": "code",
   "execution_count": 385,
   "metadata": {},
   "outputs": [],
   "source": [
    "dest_mo_freight = pass_df.groupby(by=['dest_airport_id','year','month']).freight.sum().sort_values(ascending=False)"
   ]
  },
  {
   "cell_type": "code",
   "execution_count": 386,
   "metadata": {},
   "outputs": [],
   "source": [
    "fl_df = pd.merge(fl_df, dest_mo_freight, left_on=['dest_airport_id','year','month'], right_on = ['dest_airport_id','year','month'])"
   ]
  },
  {
   "cell_type": "code",
   "execution_count": 387,
   "metadata": {
    "collapsed": true,
    "jupyter": {
     "outputs_hidden": true
    }
   },
   "outputs": [
    {
     "data": {
      "text/plain": [
       "Index(['fl_date', 'mkt_unique_carrier', 'branded_code_share', 'mkt_carrier',\n",
       "       'mkt_carrier_fl_num', 'op_unique_carrier', 'tail_num',\n",
       "       'op_carrier_fl_num', 'origin_airport_id', 'origin', 'origin_city_name',\n",
       "       'dest_airport_id', 'dest', 'dest_city_name', 'crs_dep_time', 'dep_time',\n",
       "       'dep_delay', 'taxi_out', 'wheels_off', 'wheels_on', 'taxi_in',\n",
       "       'crs_arr_time', 'arr_time', 'arr_delay', 'cancelled', 'diverted',\n",
       "       'crs_elapsed_time', 'actual_elapsed_time', 'air_time', 'flights',\n",
       "       'distance', 'origin_fl_density', 'dest_fl_density', 'day', 'month',\n",
       "       'year', 'weekday', 'day_of_year', 'crs_arr_hour', 'crs_dep_hour',\n",
       "       'timestamp', 'crs_arr_daytime', 'crs_dep_daytime',\n",
       "       'predicted_speed_mi/min', 'actual_speed_mi/min', 'origin_passengers/mo',\n",
       "       'dest_passengers/mo', 'origin_freight/mo', 'freight'],\n",
       "      dtype='object')"
      ]
     },
     "execution_count": 387,
     "metadata": {},
     "output_type": "execute_result"
    }
   ],
   "source": [
    "fl_df.columns"
   ]
  },
  {
   "cell_type": "code",
   "execution_count": 388,
   "metadata": {
    "collapsed": true,
    "jupyter": {
     "outputs_hidden": true
    }
   },
   "outputs": [
    {
     "data": {
      "text/plain": [
       "fl_date                   0\n",
       "mkt_unique_carrier        0\n",
       "branded_code_share        0\n",
       "mkt_carrier               0\n",
       "mkt_carrier_fl_num        0\n",
       "op_unique_carrier         0\n",
       "tail_num                  0\n",
       "op_carrier_fl_num         0\n",
       "origin_airport_id         0\n",
       "origin                    0\n",
       "origin_city_name          0\n",
       "dest_airport_id           0\n",
       "dest                      0\n",
       "dest_city_name            0\n",
       "crs_dep_time              0\n",
       "dep_time                  0\n",
       "dep_delay                 0\n",
       "taxi_out                  0\n",
       "wheels_off                0\n",
       "wheels_on                 0\n",
       "taxi_in                   0\n",
       "crs_arr_time              0\n",
       "arr_time                  0\n",
       "arr_delay                 0\n",
       "cancelled                 0\n",
       "diverted                  0\n",
       "crs_elapsed_time          0\n",
       "actual_elapsed_time       0\n",
       "air_time                  0\n",
       "flights                   0\n",
       "distance                  0\n",
       "origin_fl_density         0\n",
       "dest_fl_density           0\n",
       "day                       0\n",
       "month                     0\n",
       "year                      0\n",
       "weekday                   0\n",
       "day_of_year               0\n",
       "crs_arr_hour              0\n",
       "crs_dep_hour              0\n",
       "timestamp                 0\n",
       "crs_arr_daytime           0\n",
       "crs_dep_daytime           0\n",
       "predicted_speed_mi/min    0\n",
       "actual_speed_mi/min       0\n",
       "origin_passengers/mo      0\n",
       "dest_passengers/mo        0\n",
       "origin_freight/mo         0\n",
       "freight                   0\n",
       "dtype: int64"
      ]
     },
     "execution_count": 388,
     "metadata": {},
     "output_type": "execute_result"
    }
   ],
   "source": [
    "fl_df.isnull().sum()"
   ]
  },
  {
   "cell_type": "code",
   "execution_count": 389,
   "metadata": {},
   "outputs": [],
   "source": [
    "fl_df.rename(columns={'freight': 'dest_freight/mo'}, inplace=True)"
   ]
  },
  {
   "cell_type": "code",
   "execution_count": 269,
   "metadata": {},
   "outputs": [],
   "source": [
    "fl_df.to_csv(path+'balanced_more_flight_feats.csv',index=False)"
   ]
  },
  {
   "cell_type": "code",
   "execution_count": null,
   "metadata": {},
   "outputs": [],
   "source": []
  },
  {
   "cell_type": "code",
   "execution_count": 390,
   "metadata": {},
   "outputs": [],
   "source": [
    "intl_departures = pass_df.loc[(pass_df['dest_country'] != 'US')&(pass_df['origin_country'] == 'US')].groupby(by=['origin_airport_id','year','month']).departures_performed.sum().sort_values(ascending=False)"
   ]
  },
  {
   "cell_type": "code",
   "execution_count": 391,
   "metadata": {},
   "outputs": [],
   "source": [
    "intl_arrivals = pass_df.loc[(pass_df['origin_country'] != 'US')&(pass_df['dest_country'] == 'US')].groupby(by=['dest_airport_id','year','month']).departures_performed.sum().sort_values(ascending=False)"
   ]
  },
  {
   "cell_type": "code",
   "execution_count": 392,
   "metadata": {},
   "outputs": [],
   "source": [
    "fl_df = pd.merge(fl_df, intl_departures, left_on=['origin_airport_id','year','month'], right_on = ['origin_airport_id','year','month'])"
   ]
  },
  {
   "cell_type": "code",
   "execution_count": 282,
   "metadata": {
    "collapsed": true,
    "jupyter": {
     "outputs_hidden": true
    }
   },
   "outputs": [
    {
     "data": {
      "text/plain": [
       "Index(['fl_date', 'mkt_unique_carrier', 'branded_code_share', 'mkt_carrier',\n",
       "       'mkt_carrier_fl_num', 'op_unique_carrier', 'tail_num',\n",
       "       'op_carrier_fl_num', 'origin_airport_id', 'origin', 'origin_city_name',\n",
       "       'dest_airport_id', 'dest', 'dest_city_name', 'crs_dep_time', 'dep_time',\n",
       "       'dep_delay', 'taxi_out', 'wheels_off', 'wheels_on', 'taxi_in',\n",
       "       'crs_arr_time', 'arr_time', 'arr_delay', 'cancelled', 'diverted',\n",
       "       'crs_elapsed_time', 'actual_elapsed_time', 'air_time', 'flights',\n",
       "       'distance', 'origin_fl_density', 'dest_fl_density', 'day', 'month',\n",
       "       'year', 'weekday', 'day_of_year', 'crs_dep_hour', 'crs_arr_hour',\n",
       "       'timestamp', 'arr_daytime', 'dep_daytime', 'predicted_speed_mi/min',\n",
       "       'actual_speed_mi/min', 'origin_passengers/mo', 'dest_passengers/mo',\n",
       "       'origin_freight/mo', 'dest_freight/mo', 'departures_performed'],\n",
       "      dtype='object')"
      ]
     },
     "execution_count": 282,
     "metadata": {},
     "output_type": "execute_result"
    }
   ],
   "source": [
    "fl_df.columns"
   ]
  },
  {
   "cell_type": "code",
   "execution_count": 393,
   "metadata": {},
   "outputs": [],
   "source": [
    "fl_df.rename(columns={'departures_performed': 'origin_intl_dep/mo'}, inplace=True)"
   ]
  },
  {
   "cell_type": "code",
   "execution_count": 394,
   "metadata": {},
   "outputs": [],
   "source": [
    "fl_df = pd.merge(fl_df, intl_departures, left_on=['dest_airport_id','year','month'], right_on = ['origin_airport_id','year','month'])"
   ]
  },
  {
   "cell_type": "code",
   "execution_count": 287,
   "metadata": {
    "collapsed": true,
    "jupyter": {
     "outputs_hidden": true
    }
   },
   "outputs": [
    {
     "data": {
      "text/plain": [
       "Index(['fl_date', 'mkt_unique_carrier', 'branded_code_share', 'mkt_carrier',\n",
       "       'mkt_carrier_fl_num', 'op_unique_carrier', 'tail_num',\n",
       "       'op_carrier_fl_num', 'origin_airport_id', 'origin', 'origin_city_name',\n",
       "       'dest_airport_id', 'dest', 'dest_city_name', 'crs_dep_time', 'dep_time',\n",
       "       'dep_delay', 'taxi_out', 'wheels_off', 'wheels_on', 'taxi_in',\n",
       "       'crs_arr_time', 'arr_time', 'arr_delay', 'cancelled', 'diverted',\n",
       "       'crs_elapsed_time', 'actual_elapsed_time', 'air_time', 'flights',\n",
       "       'distance', 'origin_fl_density', 'dest_fl_density', 'day', 'month',\n",
       "       'year', 'weekday', 'day_of_year', 'crs_dep_hour', 'crs_arr_hour',\n",
       "       'timestamp', 'arr_daytime', 'dep_daytime', 'predicted_speed_mi/min',\n",
       "       'actual_speed_mi/min', 'origin_passengers/mo', 'dest_passengers/mo',\n",
       "       'origin_freight/mo', 'dest_freight/mo', 'intl_dep/mo',\n",
       "       'departures_performed'],\n",
       "      dtype='object')"
      ]
     },
     "execution_count": 287,
     "metadata": {},
     "output_type": "execute_result"
    }
   ],
   "source": [
    "fl_df.columns"
   ]
  },
  {
   "cell_type": "code",
   "execution_count": 395,
   "metadata": {},
   "outputs": [],
   "source": [
    "fl_df.rename(columns={'departures_performed': 'dest_intl_dep/mo'}, inplace=True)"
   ]
  },
  {
   "cell_type": "code",
   "execution_count": 396,
   "metadata": {},
   "outputs": [],
   "source": [
    "fl_df = pd.merge(fl_df, intl_arrivals, left_on=['origin_airport_id','year','month'], right_on = ['dest_airport_id','year','month'])"
   ]
  },
  {
   "cell_type": "code",
   "execution_count": 290,
   "metadata": {},
   "outputs": [
    {
     "data": {
      "text/plain": [
       "Index(['fl_date', 'mkt_unique_carrier', 'branded_code_share', 'mkt_carrier',\n",
       "       'mkt_carrier_fl_num', 'op_unique_carrier', 'tail_num',\n",
       "       'op_carrier_fl_num', 'origin_airport_id', 'origin', 'origin_city_name',\n",
       "       'dest_airport_id', 'dest', 'dest_city_name', 'crs_dep_time', 'dep_time',\n",
       "       'dep_delay', 'taxi_out', 'wheels_off', 'wheels_on', 'taxi_in',\n",
       "       'crs_arr_time', 'arr_time', 'arr_delay', 'cancelled', 'diverted',\n",
       "       'crs_elapsed_time', 'actual_elapsed_time', 'air_time', 'flights',\n",
       "       'distance', 'origin_fl_density', 'dest_fl_density', 'day', 'month',\n",
       "       'year', 'weekday', 'day_of_year', 'crs_dep_hour', 'crs_arr_hour',\n",
       "       'timestamp', 'arr_daytime', 'dep_daytime', 'predicted_speed_mi/min',\n",
       "       'actual_speed_mi/min', 'origin_passengers/mo', 'dest_passengers/mo',\n",
       "       'origin_freight/mo', 'dest_freight/mo', 'intl_dep/mo',\n",
       "       'dest_intl_dep/mo', 'departures_performed'],\n",
       "      dtype='object')"
      ]
     },
     "execution_count": 290,
     "metadata": {},
     "output_type": "execute_result"
    }
   ],
   "source": [
    "fl_df.columns"
   ]
  },
  {
   "cell_type": "code",
   "execution_count": 397,
   "metadata": {},
   "outputs": [],
   "source": [
    "fl_df.rename(columns={'departures_performed': 'origin_intl_arr/mo'}, inplace=True)"
   ]
  },
  {
   "cell_type": "code",
   "execution_count": 398,
   "metadata": {},
   "outputs": [],
   "source": [
    "fl_df = pd.merge(fl_df, intl_arrivals, left_on=['dest_airport_id','year','month'], right_on = ['dest_airport_id','year','month'])"
   ]
  },
  {
   "cell_type": "code",
   "execution_count": 399,
   "metadata": {},
   "outputs": [],
   "source": [
    "fl_df.rename(columns={'departures_performed': 'dest_intl_arr/mo'}, inplace=True)"
   ]
  },
  {
   "cell_type": "code",
   "execution_count": 400,
   "metadata": {
    "collapsed": true,
    "jupyter": {
     "outputs_hidden": true
    }
   },
   "outputs": [
    {
     "data": {
      "text/plain": [
       "fl_date                   0\n",
       "mkt_unique_carrier        0\n",
       "branded_code_share        0\n",
       "mkt_carrier               0\n",
       "mkt_carrier_fl_num        0\n",
       "op_unique_carrier         0\n",
       "tail_num                  0\n",
       "op_carrier_fl_num         0\n",
       "origin_airport_id         0\n",
       "origin                    0\n",
       "origin_city_name          0\n",
       "dest_airport_id           0\n",
       "dest                      0\n",
       "dest_city_name            0\n",
       "crs_dep_time              0\n",
       "dep_time                  0\n",
       "dep_delay                 0\n",
       "taxi_out                  0\n",
       "wheels_off                0\n",
       "wheels_on                 0\n",
       "taxi_in                   0\n",
       "crs_arr_time              0\n",
       "arr_time                  0\n",
       "arr_delay                 0\n",
       "cancelled                 0\n",
       "diverted                  0\n",
       "crs_elapsed_time          0\n",
       "actual_elapsed_time       0\n",
       "air_time                  0\n",
       "flights                   0\n",
       "distance                  0\n",
       "origin_fl_density         0\n",
       "dest_fl_density           0\n",
       "day                       0\n",
       "month                     0\n",
       "year                      0\n",
       "weekday                   0\n",
       "day_of_year               0\n",
       "crs_arr_hour              0\n",
       "crs_dep_hour              0\n",
       "timestamp                 0\n",
       "crs_arr_daytime           0\n",
       "crs_dep_daytime           0\n",
       "predicted_speed_mi/min    0\n",
       "actual_speed_mi/min       0\n",
       "origin_passengers/mo      0\n",
       "dest_passengers/mo        0\n",
       "origin_freight/mo         0\n",
       "dest_freight/mo           0\n",
       "origin_intl_dep/mo        0\n",
       "dest_intl_dep/mo          0\n",
       "origin_intl_arr/mo        0\n",
       "dest_intl_arr/mo          0\n",
       "dtype: int64"
      ]
     },
     "execution_count": 400,
     "metadata": {},
     "output_type": "execute_result"
    }
   ],
   "source": [
    "fl_df.isnull().sum()"
   ]
  },
  {
   "cell_type": "code",
   "execution_count": 401,
   "metadata": {},
   "outputs": [],
   "source": [
    "fl_df.to_csv(path+'balanced_more_flight_feats.csv',index=False)"
   ]
  },
  {
   "cell_type": "code",
   "execution_count": 296,
   "metadata": {
    "collapsed": true,
    "jupyter": {
     "outputs_hidden": true
    }
   },
   "outputs": [
    {
     "data": {
      "text/html": [
       "<div>\n",
       "<style scoped>\n",
       "    .dataframe tbody tr th:only-of-type {\n",
       "        vertical-align: middle;\n",
       "    }\n",
       "\n",
       "    .dataframe tbody tr th {\n",
       "        vertical-align: top;\n",
       "    }\n",
       "\n",
       "    .dataframe thead th {\n",
       "        text-align: right;\n",
       "    }\n",
       "</style>\n",
       "<table border=\"1\" class=\"dataframe\">\n",
       "  <thead>\n",
       "    <tr style=\"text-align: right;\">\n",
       "      <th></th>\n",
       "      <th>fl_date</th>\n",
       "      <th>mkt_unique_carrier</th>\n",
       "      <th>branded_code_share</th>\n",
       "      <th>mkt_carrier</th>\n",
       "      <th>mkt_carrier_fl_num</th>\n",
       "      <th>op_unique_carrier</th>\n",
       "      <th>tail_num</th>\n",
       "      <th>op_carrier_fl_num</th>\n",
       "      <th>origin_airport_id</th>\n",
       "      <th>origin</th>\n",
       "      <th>...</th>\n",
       "      <th>predicted_speed_mi/min</th>\n",
       "      <th>actual_speed_mi/min</th>\n",
       "      <th>origin_passengers/mo</th>\n",
       "      <th>dest_passengers/mo</th>\n",
       "      <th>origin_freight/mo</th>\n",
       "      <th>dest_freight/mo</th>\n",
       "      <th>intl_dep/mo</th>\n",
       "      <th>dest_intl_dep/mo</th>\n",
       "      <th>origin_intl_arr/mo</th>\n",
       "      <th>dest_intl_arr/mo</th>\n",
       "    </tr>\n",
       "  </thead>\n",
       "  <tbody>\n",
       "    <tr>\n",
       "      <th>0</th>\n",
       "      <td>2018-04-05</td>\n",
       "      <td>3</td>\n",
       "      <td>15</td>\n",
       "      <td>10</td>\n",
       "      <td>136</td>\n",
       "      <td>24</td>\n",
       "      <td>5787</td>\n",
       "      <td>2617</td>\n",
       "      <td>14057</td>\n",
       "      <td>267</td>\n",
       "      <td>...</td>\n",
       "      <td>0.795181</td>\n",
       "      <td>3.093750</td>\n",
       "      <td>768005.0</td>\n",
       "      <td>1180156.0</td>\n",
       "      <td>17979318.0</td>\n",
       "      <td>16306607.0</td>\n",
       "      <td>286.0</td>\n",
       "      <td>409.0</td>\n",
       "      <td>285.0</td>\n",
       "      <td>414.0</td>\n",
       "    </tr>\n",
       "    <tr>\n",
       "      <th>1</th>\n",
       "      <td>2018-04-18</td>\n",
       "      <td>8</td>\n",
       "      <td>6</td>\n",
       "      <td>3</td>\n",
       "      <td>463</td>\n",
       "      <td>3</td>\n",
       "      <td>1910</td>\n",
       "      <td>2215</td>\n",
       "      <td>14057</td>\n",
       "      <td>267</td>\n",
       "      <td>...</td>\n",
       "      <td>4.206107</td>\n",
       "      <td>4.833333</td>\n",
       "      <td>768005.0</td>\n",
       "      <td>1180156.0</td>\n",
       "      <td>17979318.0</td>\n",
       "      <td>16306607.0</td>\n",
       "      <td>286.0</td>\n",
       "      <td>409.0</td>\n",
       "      <td>285.0</td>\n",
       "      <td>414.0</td>\n",
       "    </tr>\n",
       "    <tr>\n",
       "      <th>2</th>\n",
       "      <td>2018-04-06</td>\n",
       "      <td>0</td>\n",
       "      <td>1</td>\n",
       "      <td>0</td>\n",
       "      <td>5686</td>\n",
       "      <td>7</td>\n",
       "      <td>4723</td>\n",
       "      <td>5203</td>\n",
       "      <td>14057</td>\n",
       "      <td>267</td>\n",
       "      <td>...</td>\n",
       "      <td>14.213115</td>\n",
       "      <td>4.982759</td>\n",
       "      <td>768005.0</td>\n",
       "      <td>1180156.0</td>\n",
       "      <td>17979318.0</td>\n",
       "      <td>16306607.0</td>\n",
       "      <td>286.0</td>\n",
       "      <td>409.0</td>\n",
       "      <td>285.0</td>\n",
       "      <td>414.0</td>\n",
       "    </tr>\n",
       "    <tr>\n",
       "      <th>3</th>\n",
       "      <td>2018-04-01</td>\n",
       "      <td>1</td>\n",
       "      <td>5</td>\n",
       "      <td>3</td>\n",
       "      <td>5795</td>\n",
       "      <td>7</td>\n",
       "      <td>1690</td>\n",
       "      <td>1586</td>\n",
       "      <td>14057</td>\n",
       "      <td>267</td>\n",
       "      <td>...</td>\n",
       "      <td>5.379630</td>\n",
       "      <td>4.801653</td>\n",
       "      <td>768005.0</td>\n",
       "      <td>1180156.0</td>\n",
       "      <td>17979318.0</td>\n",
       "      <td>16306607.0</td>\n",
       "      <td>286.0</td>\n",
       "      <td>409.0</td>\n",
       "      <td>285.0</td>\n",
       "      <td>414.0</td>\n",
       "    </tr>\n",
       "    <tr>\n",
       "      <th>4</th>\n",
       "      <td>2018-04-05</td>\n",
       "      <td>3</td>\n",
       "      <td>15</td>\n",
       "      <td>10</td>\n",
       "      <td>5996</td>\n",
       "      <td>19</td>\n",
       "      <td>6047</td>\n",
       "      <td>2397</td>\n",
       "      <td>10397</td>\n",
       "      <td>22</td>\n",
       "      <td>...</td>\n",
       "      <td>4.076923</td>\n",
       "      <td>5.605769</td>\n",
       "      <td>4371731.0</td>\n",
       "      <td>1180156.0</td>\n",
       "      <td>66052566.0</td>\n",
       "      <td>16306607.0</td>\n",
       "      <td>3445.0</td>\n",
       "      <td>409.0</td>\n",
       "      <td>3429.0</td>\n",
       "      <td>414.0</td>\n",
       "    </tr>\n",
       "  </tbody>\n",
       "</table>\n",
       "<p>5 rows × 53 columns</p>\n",
       "</div>"
      ],
      "text/plain": [
       "      fl_date  mkt_unique_carrier  branded_code_share  mkt_carrier  \\\n",
       "0  2018-04-05                   3                  15           10   \n",
       "1  2018-04-18                   8                   6            3   \n",
       "2  2018-04-06                   0                   1            0   \n",
       "3  2018-04-01                   1                   5            3   \n",
       "4  2018-04-05                   3                  15           10   \n",
       "\n",
       "   mkt_carrier_fl_num  op_unique_carrier  tail_num  op_carrier_fl_num  \\\n",
       "0                 136                 24      5787               2617   \n",
       "1                 463                  3      1910               2215   \n",
       "2                5686                  7      4723               5203   \n",
       "3                5795                  7      1690               1586   \n",
       "4                5996                 19      6047               2397   \n",
       "\n",
       "   origin_airport_id  origin  ...  predicted_speed_mi/min  \\\n",
       "0              14057     267  ...                0.795181   \n",
       "1              14057     267  ...                4.206107   \n",
       "2              14057     267  ...               14.213115   \n",
       "3              14057     267  ...                5.379630   \n",
       "4              10397      22  ...                4.076923   \n",
       "\n",
       "   actual_speed_mi/min  origin_passengers/mo  dest_passengers/mo  \\\n",
       "0             3.093750              768005.0           1180156.0   \n",
       "1             4.833333              768005.0           1180156.0   \n",
       "2             4.982759              768005.0           1180156.0   \n",
       "3             4.801653              768005.0           1180156.0   \n",
       "4             5.605769             4371731.0           1180156.0   \n",
       "\n",
       "   origin_freight/mo  dest_freight/mo  intl_dep/mo  dest_intl_dep/mo  \\\n",
       "0         17979318.0       16306607.0        286.0             409.0   \n",
       "1         17979318.0       16306607.0        286.0             409.0   \n",
       "2         17979318.0       16306607.0        286.0             409.0   \n",
       "3         17979318.0       16306607.0        286.0             409.0   \n",
       "4         66052566.0       16306607.0       3445.0             409.0   \n",
       "\n",
       "   origin_intl_arr/mo  dest_intl_arr/mo  \n",
       "0               285.0             414.0  \n",
       "1               285.0             414.0  \n",
       "2               285.0             414.0  \n",
       "3               285.0             414.0  \n",
       "4              3429.0             414.0  \n",
       "\n",
       "[5 rows x 53 columns]"
      ]
     },
     "execution_count": 296,
     "metadata": {},
     "output_type": "execute_result"
    }
   ],
   "source": [
    "fl_df.head()"
   ]
  },
  {
   "cell_type": "code",
   "execution_count": 297,
   "metadata": {},
   "outputs": [
    {
     "data": {
      "text/plain": [
       "Index(['fl_date', 'mkt_unique_carrier', 'branded_code_share', 'mkt_carrier',\n",
       "       'mkt_carrier_fl_num', 'op_unique_carrier', 'tail_num',\n",
       "       'op_carrier_fl_num', 'origin_airport_id', 'origin', 'origin_city_name',\n",
       "       'dest_airport_id', 'dest', 'dest_city_name', 'crs_dep_time', 'dep_time',\n",
       "       'dep_delay', 'taxi_out', 'wheels_off', 'wheels_on', 'taxi_in',\n",
       "       'crs_arr_time', 'arr_time', 'arr_delay', 'cancelled', 'diverted',\n",
       "       'crs_elapsed_time', 'actual_elapsed_time', 'air_time', 'flights',\n",
       "       'distance', 'origin_fl_density', 'dest_fl_density', 'day', 'month',\n",
       "       'year', 'weekday', 'day_of_year', 'crs_dep_hour', 'crs_arr_hour',\n",
       "       'timestamp', 'arr_daytime', 'dep_daytime', 'predicted_speed_mi/min',\n",
       "       'actual_speed_mi/min', 'origin_passengers/mo', 'dest_passengers/mo',\n",
       "       'origin_freight/mo', 'dest_freight/mo', 'intl_dep/mo',\n",
       "       'dest_intl_dep/mo', 'origin_intl_arr/mo', 'dest_intl_arr/mo'],\n",
       "      dtype='object')"
      ]
     },
     "execution_count": 297,
     "metadata": {},
     "output_type": "execute_result"
    }
   ],
   "source": [
    "fl_df.columns"
   ]
  },
  {
   "cell_type": "code",
   "execution_count": null,
   "metadata": {},
   "outputs": [],
   "source": []
  },
  {
   "cell_type": "code",
   "execution_count": 272,
   "metadata": {},
   "outputs": [
    {
     "data": {
      "text/plain": [
       "Index(['departures_scheduled', 'departures_performed', 'payload', 'seats',\n",
       "       'passengers', 'freight', 'mail', 'distance', 'ramp_to_ramp', 'air_time',\n",
       "       'unique_carrier', 'airline_id', 'unique_carrier_name', 'region',\n",
       "       'carrier', 'carrier_name', 'carrier_group', 'carrier_group_new',\n",
       "       'origin_airport_id', 'origin_city_market_id', 'origin',\n",
       "       'origin_city_name', 'origin_country', 'origin_country_name',\n",
       "       'dest_airport_id', 'dest_city_market_id', 'dest', 'dest_city_name',\n",
       "       'dest_country', 'dest_country_name', 'aircraft_group', 'aircraft_type',\n",
       "       'aircraft_config', 'year', 'month', 'distance_group', 'class',\n",
       "       'data_source'],\n",
       "      dtype='object')"
      ]
     },
     "execution_count": 272,
     "metadata": {},
     "output_type": "execute_result"
    }
   ],
   "source": [
    "pass_df.columns"
   ]
  },
  {
   "cell_type": "code",
   "execution_count": 275,
   "metadata": {},
   "outputs": [
    {
     "data": {
      "text/plain": [
       "array(['US', 'CA', 'MX', 'DO', 'BS', 'AR', 'CU', 'EC', 'HK', 'CN', 'IE',\n",
       "       'ES', 'JM', 'SV', 'HN', 'PA', 'GT', 'FR', 'CH', 'JP', 'PW', 'FM',\n",
       "       'TT', 'PF', 'SX', 'CR', 'TC', 'HT', 'KY', 'GD', 'LC', 'KR', 'GB',\n",
       "       'NI', 'PE', 'CO', 'GY', 'AW', 'AG', 'DE', 'BZ', 'MQ', 'BQ', 'BM',\n",
       "       'TW', 'ZA', 'KN', 'BR', 'BB', 'SN', 'CL', 'NL', 'AI', 'PT', 'IT',\n",
       "       'CW', 'IN', 'BE', 'DK', 'IS', 'GR', 'AU', 'NZ', 'HR', 'PH', 'DM',\n",
       "       'NG', 'IL', 'BO', 'GH', 'MH', 'AE', 'BL', 'GP', 'VG', 'UY', 'VE',\n",
       "       'CZ', 'HU', 'SE', 'SG', 'TR', 'WS', 'TO', 'AZ', 'MA', 'SA', 'DZ',\n",
       "       'ET', 'LV', 'LU', 'JO', 'BH', 'EG', 'RS', 'PL', 'NO', 'FI', 'AT',\n",
       "       'KW', 'UA', 'PY', 'SR', 'QA', 'RU', 'MY', 'VC', 'CK', 'KH', 'RO',\n",
       "       'BJ', 'GM', 'UZ', 'KI', 'FJ', 'CY', 'MR', 'KE', 'MO', 'MT', 'BD',\n",
       "       'GL', 'KZ', 'PG', 'GF', 'AF', 'CV', 'TH', 'EE', 'BG', 'MF', 'AO',\n",
       "       'MD', 'MM', 'TJ', 'LT', 'MU', 'NE', 'NP', 'LB', 'ME', 'PK', 'TN',\n",
       "       'NC', 'UG', 'LR', 'GA', 'GE', 'VN', 'DJ', 'MN', 'VU', 'SL', 'CD',\n",
       "       'AL', 'RW', 'CM', 'ID', 'CI', 'BF', 'IQ', 'GQ', 'ZM', 'KV', 'SK',\n",
       "       'SI', 'AM', 'LK', 'MK'], dtype=object)"
      ]
     },
     "execution_count": 275,
     "metadata": {},
     "output_type": "execute_result"
    }
   ],
   "source": [
    "pass_df.dest_country.unique()"
   ]
  },
  {
   "cell_type": "code",
   "execution_count": null,
   "metadata": {},
   "outputs": [],
   "source": [
    "# need to transform categorical into continuous\n",
    "\n",
    "# date string to unix\n",
    "import datetime as dt \n",
    "\n",
    "fl_df['day'] = pd_to_datetime(fl_df['fl_date']).dt.day\n",
    "fl_df['month'] = pd.to_datetime(fl_df['fl_date']).dt.month\n",
    "fl_df['year'] = pd.to_datetime(fl_df['fl_date']).dt.year\n",
    "fl_df['weekday'] = pd.to_datetime(fl_df['fl_date']).dt.weekday\n",
    "fl_df['day_of_year'] = pd.to_datetime(fl_df['fl_date']).dt.strftime('%j')\n",
    "fl_df = fl_df.drop(labels=['fl_date'], axis=1)\n",
    "           \n",
    "# create arr_hour and dep_hour columns and clean\n",
    "fl_df['arr_hour'] = fl_df['crs_arr_time'].astype('str').str[:-4]\n",
    "fl_df['arr_hour'] = fl_df.arr_hour.replace('', 0)\n",
    "fl_df['arr_hour'] = fl_df.arr_hour.replace('1464.845427563', 14)\n",
    "fl_df['arr_hour'] = fl_df.arr_hour.astype('int')\n",
    "\n",
    "fl_df['dep_hour'] = fl_df['crs_dep_time'].astype('str').str[:-4]\n",
    "fl_df['dep_hour'] = fl_df.dep_hour.replace('', 0)\n",
    "fl_df['dep_hour'] = fl_df.dep_hour.replace('1335.3619765', 12)\n",
    "fl_df['dep_hour'] = fl_df.dep_hour.astype('int')\n",
    "\n",
    "# encode categorical vars\n",
    "from sklearn import preprocessing\n",
    "\n",
    "label_encoder = preprocessing.LabelEncoder()\n",
    "\n",
    "cat_vars = fl_df.select_dtypes(include= 'object').columns.tolist()\n",
    "for col in cat_vars:\n",
    "    fl_df[col] = label_encoder.fit_transform(fl_df[col])"
   ]
  },
  {
   "cell_type": "code",
   "execution_count": null,
   "metadata": {},
   "outputs": [],
   "source": []
  },
  {
   "cell_type": "code",
   "execution_count": null,
   "metadata": {},
   "outputs": [],
   "source": []
  },
  {
   "cell_type": "markdown",
   "metadata": {},
   "source": [
    "## Strict outliers, scaled"
   ]
  },
  {
   "cell_type": "code",
   "execution_count": 29,
   "metadata": {},
   "outputs": [],
   "source": [
    "from sklearn.preprocessing import StandardScaler\n",
    "\n",
    "scaler = StandardScaler()\n",
    "\n",
    "Xsc = scaler.fit_transform(X)"
   ]
  },
  {
   "cell_type": "code",
   "execution_count": 31,
   "metadata": {},
   "outputs": [],
   "source": [
    "# make train-test split\n",
    "from sklearn.model_selection import train_test_split\n",
    "\n",
    "X_train, X_test, y_train, y_test = train_test_split(Xsc, y, train_size=0.7, test_size=0.3, random_state=101)"
   ]
  },
  {
   "cell_type": "code",
   "execution_count": 32,
   "metadata": {},
   "outputs": [
    {
     "name": "stdout",
     "output_type": "stream",
     "text": [
      "MAE: 14.246217775565905\n",
      "R2: 0.010168667322529967\n",
      "adj_R2: 0.01001014896015695\n",
      "MAPE: 258445662535949.2\n"
     ]
    }
   ],
   "source": [
    "import xgboost as xgb\n",
    "from sklearn.metrics import mean_absolute_error\n",
    "from sklearn.metrics import r2_score\n",
    "from sklearn.metrics import mean_absolute_percentage_error\n",
    "\n",
    "xg = xgb.XGBRegressor()\n",
    "xg.fit(X_train, y_train)\n",
    "y_xg = xg.predict(X_test)\n",
    "\n",
    "# evaluate using MAE\n",
    "MAE = mean_absolute_error(y_test, y_xg)\n",
    "print(f\"MAE: {MAE}\")\n",
    "\n",
    "# evaluate using R2\n",
    "R2 = r2_score(y_test, y_xg)\n",
    "print(f\"R2: {R2}\")\n",
    "\n",
    "# evaluate with adjusted R2\n",
    "adj_R2 = 1 - ((1 - R2)*(len(y_test)-1)/(len(y_test)-X_test.shape[1]-1))\n",
    "print(f\"adj_R2: {adj_R2}\")\n",
    "\n",
    "# calculate MAPE\n",
    "MAPE = mean_absolute_percentage_error(y_test,y_xg)\n",
    "print(f\"MAPE: {MAPE}\")"
   ]
  },
  {
   "cell_type": "markdown",
   "metadata": {},
   "source": [
    "## Hour model with strict outliers"
   ]
  },
  {
   "cell_type": "code",
   "execution_count": 33,
   "metadata": {},
   "outputs": [],
   "source": [
    "# bring in data\n",
    "path = '/Users/reneehall/Documents/Learning/lighthouse_labs/coursework-lighthouse-labs/Mid-term project/colab_data/'\n",
    "fl_df = pd.read_csv(path+'cleaned_flights_sample.csv')\n",
    "\n",
    "# remove outliers\n",
    "fl_df = remove_delay_outliers(fl_df)\n",
    "\n",
    "# remove columns that we can't predict ahead of time, including departure delay\n",
    "to_drop = ['cancellation_code', 'carrier_delay', 'weather_delay', 'nas_delay','security_delay','late_aircraft_delay','first_dep_time','total_add_gtime','longest_add_gtime', 'dep_delay', 'cancelled', 'dep_time', 'arr_time']\n",
    "fl_df = fl_df.drop(labels=to_drop, axis=1)\n",
    "\n",
    "# encode cat vars\n",
    "import datetime as dt \n",
    "\n",
    "fl_df['month'] = pd.to_datetime(fl_df['fl_date']).dt.month\n",
    "fl_df['year'] = pd.to_datetime(fl_df['fl_date']).dt.year\n",
    "fl_df['weekday'] = pd.to_datetime(fl_df['fl_date']).dt.weekday\n",
    "fl_df['day_of_year'] = pd.to_datetime(fl_df['fl_date']).dt.strftime('%j')\n",
    "fl_df = fl_df.drop(labels=['fl_date'], axis=1)\n",
    "           \n",
    "# create arr_hour and dep_hour columns and clean\n",
    "fl_df['arr_hour'] = fl_df['crs_arr_time'].astype('str').str[:-4]\n",
    "fl_df['arr_hour'] = fl_df.arr_hour.replace('', 0)\n",
    "fl_df['arr_hour'] = fl_df.arr_hour.replace('1464.845427563', 14)\n",
    "fl_df['arr_hour'] = fl_df.arr_hour.astype('int')\n",
    "\n",
    "fl_df['dep_hour'] = fl_df['crs_dep_time'].astype('str').str[:-4]\n",
    "fl_df['dep_hour'] = fl_df.dep_hour.replace('', 0)\n",
    "fl_df['dep_hour'] = fl_df.dep_hour.replace('1335.3619765', 12)\n",
    "fl_df['dep_hour'] = fl_df.dep_hour.astype('int')\n",
    "\n",
    "\n",
    "# encode categorical vars\n",
    "from sklearn import preprocessing\n",
    "\n",
    "label_encoder = preprocessing.LabelEncoder()\n",
    "\n",
    "cat_vars = fl_df.select_dtypes(include= 'object').columns.tolist()\n",
    "for col in cat_vars:\n",
    "    fl_df[col] = label_encoder.fit_transform(fl_df[col])"
   ]
  },
  {
   "cell_type": "code",
   "execution_count": 34,
   "metadata": {},
   "outputs": [],
   "source": [
    "# assign X and y\n",
    "\n",
    "cols = ['mkt_unique_carrier', 'branded_code_share','op_unique_carrier', 'tail_num','origin_airport_id', 'origin_city_name', 'dest_airport_id', 'dest_city_name', 'crs_dep_time', 'dup', 'crs_elapsed_time', 'flights', 'distance','month', 'year', 'weekday', 'day_of_year', 'dep_hour', 'arr_hour']\n",
    "\n",
    "X = fl_df[cols]\n",
    "y = fl_df['arr_delay']"
   ]
  },
  {
   "cell_type": "code",
   "execution_count": 35,
   "metadata": {},
   "outputs": [
    {
     "name": "stdout",
     "output_type": "stream",
     "text": [
      "MAE: 14.244869380093242\n",
      "R2: 0.010257898803893606\n",
      "adj_R2: 0.01014207389891375\n",
      "MAPE: 264508881970958.22\n"
     ]
    }
   ],
   "source": [
    "# make train-test split\n",
    "from sklearn.model_selection import train_test_split\n",
    "from sklearn.preprocessing import StandardScaler\n",
    "\n",
    "scaler = StandardScaler()\n",
    "Xsc = scaler.fit_transform(X)\n",
    "\n",
    "X_train, X_test, y_train, y_test = train_test_split(Xsc, y, train_size=0.7, test_size=0.3, random_state=101)\n",
    "\n",
    "import xgboost as xgb\n",
    "from sklearn.metrics import mean_absolute_error\n",
    "from sklearn.metrics import r2_score\n",
    "from sklearn.metrics import mean_absolute_percentage_error\n",
    "\n",
    "lr = xgb.XGBRegressor(objective = 'reg:squarederror')\n",
    "lr.fit(X_train,y_train)\n",
    "y_lr = lr.predict(X_test)\n",
    "\n",
    "# evaluate using MAE\n",
    "MAE = mean_absolute_error(y_test, y_lr)\n",
    "print(f\"MAE: {MAE}\")\n",
    "\n",
    "# evaluate using R2\n",
    "R2 = r2_score(y_test, y_lr)\n",
    "print(f\"R2: {R2}\")\n",
    "\n",
    "# evaluate with adjusted R2\n",
    "adj_R2 = 1 - ((1 - R2)*(len(y_test)-1)/(len(y_test)-X_test.shape[1]-1))\n",
    "print(f\"adj_R2: {adj_R2}\")\n",
    "\n",
    "# calculate MAPE\n",
    "MAPE = mean_absolute_percentage_error(y_test,y_lr)\n",
    "print(f\"MAPE: {MAPE}\")"
   ]
  },
  {
   "cell_type": "code",
   "execution_count": null,
   "metadata": {},
   "outputs": [],
   "source": [
    "# Today:\n",
    "# Set 0.95 and 0.05 outlier standards\n",
    "# outlier detection destination and origin\n",
    "# speed\n",
    "# long, medium short haul\n",
    "# dummy encoded vs label encoded\n",
    "# outliers gone, all feats with and without PCA\n",
    "# "
   ]
  },
  {
   "cell_type": "code",
   "execution_count": null,
   "metadata": {},
   "outputs": [],
   "source": []
  }
 ],
 "metadata": {
  "kernelspec": {
   "display_name": "lighthouse",
   "language": "python",
   "name": "lighthouse"
  },
  "language_info": {
   "codemirror_mode": {
    "name": "ipython",
    "version": 3
   },
   "file_extension": ".py",
   "mimetype": "text/x-python",
   "name": "python",
   "nbconvert_exporter": "python",
   "pygments_lexer": "ipython3",
   "version": "3.8.2"
  }
 },
 "nbformat": 4,
 "nbformat_minor": 4
}
