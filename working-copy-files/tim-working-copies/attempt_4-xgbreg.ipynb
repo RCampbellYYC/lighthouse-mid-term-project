{
 "cells": [
  {
   "cell_type": "code",
   "execution_count": 1,
   "metadata": {},
   "outputs": [],
   "source": [
    "import pandas as pd\n",
    "import numpy as np\n",
    "import random\n",
    "import matplotlib.pyplot as plt\n",
    "import seaborn as sns\n",
    "import copy"
   ]
  },
  {
   "cell_type": "code",
   "execution_count": 2,
   "metadata": {},
   "outputs": [],
   "source": [
    "file_path = 'C:/Users/Tim/Desktop/lighthouse/w6 - midterm/'\n",
    "# filename = file_path+'flights.csv'\n",
    "\n",
    "# n = sum(1 for line in open(filename)) - 1 #number of records in file (excludes header)\n",
    "# s = 50000 #desired sample size\n",
    "# skip = sorted(random.sample(range(1,n+1),n-s))\n",
    "# df = pd.read_csv(filename,skiprows=skip)\n",
    "\n",
    "filename = file_path+'mini_sample.csv'\n",
    "df = pd.read_csv(filename)"
   ]
  },
  {
   "cell_type": "code",
   "execution_count": 3,
   "metadata": {},
   "outputs": [],
   "source": [
    "data = copy.deepcopy(df)"
   ]
  },
  {
   "cell_type": "code",
   "execution_count": 4,
   "metadata": {},
   "outputs": [],
   "source": [
    "# cols with > 80% missing values\n",
    "\n",
    "drop = [\n",
    "    'no_name',\n",
    "    'total_add_gtime',\n",
    "    'first_dep_time',\n",
    "    'longest_add_gtime',\n",
    "    'cancellation_code',\n",
    "]\n",
    "\n",
    "# missing 80%+ values, but apparently useful?\n",
    "\n",
    "delay_cols = [\n",
    "    'late_aircraft_delay',\n",
    "    'security_delay',\n",
    "    'nas_delay',\n",
    "    'weather_delay',\n",
    "    'carrier_delay'\n",
    "]"
   ]
  },
  {
   "cell_type": "code",
   "execution_count": 5,
   "metadata": {},
   "outputs": [],
   "source": [
    "# split city and country\n",
    "\n",
    "data[['origin_city', 'origin_country']] = data['origin_city_name'].str.split(',', expand=True, n=2)\n",
    "\n",
    "data[['dest_city', 'dest_country']] = data['dest_city_name'].str.split(',', expand=True, n=2)\n",
    "\n",
    "# try using just city data, groupby country data?"
   ]
  },
  {
   "cell_type": "code",
   "execution_count": 6,
   "metadata": {},
   "outputs": [],
   "source": [
    "# removing related carrier identifiers; commented out = used feature\n",
    "\n",
    "carrier_identifiers = [\n",
    "    'mkt_unique_carrier',\n",
    "    'branded_code_share',\n",
    "    #'mkt_carrier',\n",
    "    'mkt_carrier_fl_num',\n",
    "    'op_unique_carrier',\n",
    "    'tail_num',\n",
    "    'op_carrier_fl_num',\n",
    "]\n",
    "\n",
    "# removing related airport, place identifiers\n",
    "\n",
    "place_identifiers = [\n",
    "#origin identifiers\n",
    "    'origin_airport_id',\n",
    "    #'origin',\n",
    "    'origin_city_name',\n",
    "    'origin_city',\n",
    "    'origin_country',\n",
    "#destination identifiers\n",
    "    'dest_airport_id',\n",
    "    #'dest',\n",
    "    'dest_city_name',\n",
    "    'dest_city',\n",
    "    'dest_country',\n",
    "]"
   ]
  },
  {
   "cell_type": "code",
   "execution_count": 7,
   "metadata": {},
   "outputs": [],
   "source": [
    "# avg flights per hr per airport -> fl traffic\n",
    "\n",
    "data['hrly_bin'] = round(data['arr_time'],-2)\n",
    "data['avg_hr_fl'] = data.groupby('dest')['hrly_bin'].transform(lambda x: len(x)/x.nunique())\n",
    "data['avg_day_fl'] = data.groupby('dest')['day'].transform(lambda x: len(x)/x.nunique())\n",
    "# data = data.drop(columns='hrly_bin')"
   ]
  },
  {
   "cell_type": "code",
   "execution_count": 8,
   "metadata": {},
   "outputs": [],
   "source": [
    "# datetime\n",
    "\n",
    "import datetime as dt\n",
    "from datetime import date, time"
   ]
  },
  {
   "cell_type": "code",
   "execution_count": 9,
   "metadata": {},
   "outputs": [],
   "source": [
    "# data['fl_date'] = pd.to_datetime(data['fl_date'])\n",
    "\n",
    "# # month and year\n",
    "\n",
    "# data['day_of_week'] = data['fl_date'].dt.date.isowekday()\n",
    "# data['month'] = data['fl_date'].dt.month\n",
    "# data['year'] = data['fl_date'].dt.year\n",
    "data = data.sort_values(by=['fl_date'])\n",
    "\n",
    "# dep_delay 7 day lag\n",
    "\n",
    "data['dep_delay_lag'] = data['dep_delay'].shift(7)\n",
    "# data['arr_delay_lag'] = data['arr_delay'].shift(7)\n",
    "\n",
    "# dep_delay 7 day mean\n",
    "\n",
    "data['ddl_rolling_mean'] = data['dep_delay'].rolling(window=30).mean()\n",
    "\n",
    "# if we use classifier\n",
    "\n",
    "# data['arr_delay_flag'] = data['arr_delay'].map(lambda x: 1 if x > 0 else 0)\n",
    "\n",
    "data = data.drop(columns = 'fl_date')"
   ]
  },
  {
   "cell_type": "code",
   "execution_count": 10,
   "metadata": {},
   "outputs": [],
   "source": [
    "data['adl_rolling_mean'] = data['arr_delay'].rolling(window=30).mean()"
   ]
  },
  {
   "cell_type": "code",
   "execution_count": 11,
   "metadata": {},
   "outputs": [],
   "source": [
    "data = data.fillna(0)"
   ]
  },
  {
   "cell_type": "code",
   "execution_count": 12,
   "metadata": {},
   "outputs": [],
   "source": [
    "# dep_time\t          wheels_off\t0.9725230213908642\n",
    "# wheels_on\t          arr_time\t    0.9630471247128861\n",
    "# crs_elapsed_time\t  distance\t    0.9827710593474663\n",
    "# actual_elapsed_time air_time\t    0.985116094313287\n",
    "\n",
    "# flights = column of 1s\n",
    "\n",
    "corr_drop = [\n",
    "    'wheels_off',  #dep/arr time could have information on whether or not time of day affects delay\n",
    "    'wheels_on',   #wheels off/on probably time spent in tarmac\n",
    "    'timestamp',\n",
    "    #'dist_group',\n",
    "    'distance'\n",
    "]\n",
    "\n",
    "# don't use dep_delay\n",
    "\n",
    "extra_drop = [\n",
    "    'flights',\n",
    "    #'origin_num_freight',\n",
    "    #'origin_num_passengers',\n",
    "    'crs_elapsed_time',\n",
    "    'crs_arr_daytime',\n",
    "    'crs_dep_daytime',\n",
    "    'actual_elapsed_time',\n",
    "    'predicted_speed',\n",
    "    #'actual_speed',\n",
    "    'dep_early_morning',\n",
    "    'origin_num_intl_dep',\n",
    "    'dest_num_intl_dep',\n",
    "    'origin_num_intl_arr',\n",
    "    'dest_num_intl_arr',\n",
    "    'mean_monthly_op_carrier_delay',\n",
    "    'mean_mo_delay_origin_airport',\n",
    "    'mean_mo_delay_dest_airport',\n",
    "    'taxi_in',\n",
    "    'taxi_out',\n",
    "    'diverted',\n",
    "    'cancelled',\n",
    "    'dep_delay',\n",
    "    'dep_time',\n",
    "    'arr_time',\n",
    "    'day_of_year'\n",
    "]\n",
    "\n",
    "\n",
    "data = data.drop(columns=corr_drop+extra_drop)"
   ]
  },
  {
   "cell_type": "code",
   "execution_count": 13,
   "metadata": {},
   "outputs": [
    {
     "data": {
      "text/html": [
       "<div>\n",
       "<style scoped>\n",
       "    .dataframe tbody tr th:only-of-type {\n",
       "        vertical-align: middle;\n",
       "    }\n",
       "\n",
       "    .dataframe tbody tr th {\n",
       "        vertical-align: top;\n",
       "    }\n",
       "\n",
       "    .dataframe thead th {\n",
       "        text-align: right;\n",
       "    }\n",
       "</style>\n",
       "<table border=\"1\" class=\"dataframe\">\n",
       "  <thead>\n",
       "    <tr style=\"text-align: right;\">\n",
       "      <th></th>\n",
       "      <th>mkt_unique_carrier</th>\n",
       "      <th>mean_carrier_arr_delay</th>\n",
       "    </tr>\n",
       "  </thead>\n",
       "  <tbody>\n",
       "    <tr>\n",
       "      <th>0</th>\n",
       "      <td>AA</td>\n",
       "      <td>12.695256</td>\n",
       "    </tr>\n",
       "    <tr>\n",
       "      <th>1</th>\n",
       "      <td>AS</td>\n",
       "      <td>14.490647</td>\n",
       "    </tr>\n",
       "    <tr>\n",
       "      <th>2</th>\n",
       "      <td>B6</td>\n",
       "      <td>13.136552</td>\n",
       "    </tr>\n",
       "    <tr>\n",
       "      <th>3</th>\n",
       "      <td>DL</td>\n",
       "      <td>13.219501</td>\n",
       "    </tr>\n",
       "    <tr>\n",
       "      <th>4</th>\n",
       "      <td>F9</td>\n",
       "      <td>11.224367</td>\n",
       "    </tr>\n",
       "    <tr>\n",
       "      <th>5</th>\n",
       "      <td>G4</td>\n",
       "      <td>14.273038</td>\n",
       "    </tr>\n",
       "    <tr>\n",
       "      <th>6</th>\n",
       "      <td>HA</td>\n",
       "      <td>16.506024</td>\n",
       "    </tr>\n",
       "    <tr>\n",
       "      <th>7</th>\n",
       "      <td>NK</td>\n",
       "      <td>11.337219</td>\n",
       "    </tr>\n",
       "    <tr>\n",
       "      <th>8</th>\n",
       "      <td>UA</td>\n",
       "      <td>12.960344</td>\n",
       "    </tr>\n",
       "    <tr>\n",
       "      <th>9</th>\n",
       "      <td>VX</td>\n",
       "      <td>14.318182</td>\n",
       "    </tr>\n",
       "    <tr>\n",
       "      <th>10</th>\n",
       "      <td>WN</td>\n",
       "      <td>13.773191</td>\n",
       "    </tr>\n",
       "  </tbody>\n",
       "</table>\n",
       "</div>"
      ],
      "text/plain": [
       "   mkt_unique_carrier  mean_carrier_arr_delay\n",
       "0                  AA               12.695256\n",
       "1                  AS               14.490647\n",
       "2                  B6               13.136552\n",
       "3                  DL               13.219501\n",
       "4                  F9               11.224367\n",
       "5                  G4               14.273038\n",
       "6                  HA               16.506024\n",
       "7                  NK               11.337219\n",
       "8                  UA               12.960344\n",
       "9                  VX               14.318182\n",
       "10                 WN               13.773191"
      ]
     },
     "execution_count": 13,
     "metadata": {},
     "output_type": "execute_result"
    }
   ],
   "source": [
    "cd = data.groupby('mkt_unique_carrier').mean()['arr_delay']\n",
    "cd = cd.reset_index()\n",
    "cd.columns = ['mkt_unique_carrier','mean_carrier_arr_delay']\n",
    "cd"
   ]
  },
  {
   "cell_type": "code",
   "execution_count": 14,
   "metadata": {},
   "outputs": [],
   "source": [
    "data = data.merge(cd, on=['mkt_unique_carrier'], how='left')"
   ]
  },
  {
   "cell_type": "code",
   "execution_count": 15,
   "metadata": {},
   "outputs": [
    {
     "data": {
      "text/html": [
       "<div>\n",
       "<style scoped>\n",
       "    .dataframe tbody tr th:only-of-type {\n",
       "        vertical-align: middle;\n",
       "    }\n",
       "\n",
       "    .dataframe tbody tr th {\n",
       "        vertical-align: top;\n",
       "    }\n",
       "\n",
       "    .dataframe thead th {\n",
       "        text-align: right;\n",
       "    }\n",
       "</style>\n",
       "<table border=\"1\" class=\"dataframe\">\n",
       "  <thead>\n",
       "    <tr style=\"text-align: right;\">\n",
       "      <th></th>\n",
       "      <th>tail_num</th>\n",
       "      <th>tail_num_arr_delay</th>\n",
       "    </tr>\n",
       "  </thead>\n",
       "  <tbody>\n",
       "    <tr>\n",
       "      <th>0</th>\n",
       "      <td>215NV</td>\n",
       "      <td>2.250000</td>\n",
       "    </tr>\n",
       "    <tr>\n",
       "      <th>1</th>\n",
       "      <td>216NV</td>\n",
       "      <td>13.888889</td>\n",
       "    </tr>\n",
       "    <tr>\n",
       "      <th>2</th>\n",
       "      <td>217NV</td>\n",
       "      <td>-10.833333</td>\n",
       "    </tr>\n",
       "    <tr>\n",
       "      <th>3</th>\n",
       "      <td>218NV</td>\n",
       "      <td>18.000000</td>\n",
       "    </tr>\n",
       "    <tr>\n",
       "      <th>4</th>\n",
       "      <td>219NV</td>\n",
       "      <td>12.500000</td>\n",
       "    </tr>\n",
       "    <tr>\n",
       "      <th>...</th>\n",
       "      <td>...</td>\n",
       "      <td>...</td>\n",
       "    </tr>\n",
       "    <tr>\n",
       "      <th>5989</th>\n",
       "      <td>N998JE</td>\n",
       "      <td>12.000000</td>\n",
       "    </tr>\n",
       "    <tr>\n",
       "      <th>5990</th>\n",
       "      <td>N998NN</td>\n",
       "      <td>40.428571</td>\n",
       "    </tr>\n",
       "    <tr>\n",
       "      <th>5991</th>\n",
       "      <td>N999DN</td>\n",
       "      <td>15.333333</td>\n",
       "    </tr>\n",
       "    <tr>\n",
       "      <th>5992</th>\n",
       "      <td>N999JQ</td>\n",
       "      <td>31.000000</td>\n",
       "    </tr>\n",
       "    <tr>\n",
       "      <th>5993</th>\n",
       "      <td>tail_num_unknown</td>\n",
       "      <td>14.686391</td>\n",
       "    </tr>\n",
       "  </tbody>\n",
       "</table>\n",
       "<p>5994 rows × 2 columns</p>\n",
       "</div>"
      ],
      "text/plain": [
       "              tail_num  tail_num_arr_delay\n",
       "0                215NV            2.250000\n",
       "1                216NV           13.888889\n",
       "2                217NV          -10.833333\n",
       "3                218NV           18.000000\n",
       "4                219NV           12.500000\n",
       "...                ...                 ...\n",
       "5989            N998JE           12.000000\n",
       "5990            N998NN           40.428571\n",
       "5991            N999DN           15.333333\n",
       "5992            N999JQ           31.000000\n",
       "5993  tail_num_unknown           14.686391\n",
       "\n",
       "[5994 rows x 2 columns]"
      ]
     },
     "execution_count": 15,
     "metadata": {},
     "output_type": "execute_result"
    }
   ],
   "source": [
    "td = data.groupby('tail_num').mean()['arr_delay']\n",
    "td = td.reset_index()\n",
    "td.columns = ['tail_num','tail_num_arr_delay']\n",
    "td"
   ]
  },
  {
   "cell_type": "code",
   "execution_count": 16,
   "metadata": {},
   "outputs": [],
   "source": [
    "data = data.merge(td, on=['tail_num'], how='left')"
   ]
  },
  {
   "cell_type": "code",
   "execution_count": 17,
   "metadata": {},
   "outputs": [],
   "source": [
    "# op_carrier, origin, dest\n",
    "\n",
    "data['mkt_carrier'] = pd.factorize(data['mkt_carrier'])[0]\n",
    "data['origin'] = pd.factorize(data['origin'])[0]\n",
    "data['dest'] = pd.factorize(data['dest'])[0]"
   ]
  },
  {
   "cell_type": "code",
   "execution_count": 18,
   "metadata": {},
   "outputs": [],
   "source": [
    "# remove cols\n",
    "\n",
    "data = data.drop(columns=\n",
    "                #drop+       # already dropped\n",
    "                #delay_cols+ # not really sure what to do with these columns (already dropped)\n",
    "                carrier_identifiers+\n",
    "                place_identifiers)"
   ]
  },
  {
   "cell_type": "code",
   "execution_count": 19,
   "metadata": {},
   "outputs": [],
   "source": [
    "# features \n",
    "\n",
    "numerical = list(data.dtypes[data.dtypes != 'object'].index)\n",
    "\n",
    "categorical = list(data.dtypes[data.dtypes == 'object'].index)"
   ]
  },
  {
   "cell_type": "code",
   "execution_count": 20,
   "metadata": {},
   "outputs": [
    {
     "data": {
      "text/plain": [
       "['weather_type']"
      ]
     },
     "execution_count": 20,
     "metadata": {},
     "output_type": "execute_result"
    }
   ],
   "source": [
    "categorical"
   ]
  },
  {
   "cell_type": "code",
   "execution_count": 21,
   "metadata": {},
   "outputs": [
    {
     "data": {
      "text/plain": [
       "['mkt_carrier',\n",
       " 'origin',\n",
       " 'dest',\n",
       " 'crs_dep_time',\n",
       " 'crs_arr_time',\n",
       " 'arr_delay',\n",
       " 'air_time',\n",
       " 'origin_fl_density',\n",
       " 'dest_fl_density',\n",
       " 'day',\n",
       " 'month',\n",
       " 'year',\n",
       " 'weekday',\n",
       " 'crs_arr_hour',\n",
       " 'crs_dep_hour',\n",
       " 'actual_speed',\n",
       " 'origin_num_passengers',\n",
       " 'dest_num_passengers',\n",
       " 'origin_num_freight',\n",
       " 'dest_num_freight',\n",
       " 'dist_group',\n",
       " 'season',\n",
       " 'origin_airport_size',\n",
       " 'dest_airport_size',\n",
       " 'mean_op_carrier_delay',\n",
       " 'mean_delay_origin_airport',\n",
       " 'mean_delay_dest_airport',\n",
       " 'totalSnow_cm',\n",
       " 'sunHour',\n",
       " 'cloudcover',\n",
       " 'precipMM',\n",
       " 'hrly_bin',\n",
       " 'avg_hr_fl',\n",
       " 'avg_day_fl',\n",
       " 'dep_delay_lag',\n",
       " 'ddl_rolling_mean',\n",
       " 'adl_rolling_mean',\n",
       " 'mean_carrier_arr_delay',\n",
       " 'tail_num_arr_delay']"
      ]
     },
     "execution_count": 21,
     "metadata": {},
     "output_type": "execute_result"
    }
   ],
   "source": [
    "numerical"
   ]
  },
  {
   "cell_type": "code",
   "execution_count": 22,
   "metadata": {},
   "outputs": [],
   "source": [
    "data['totalSnow_mm'] = data['totalSnow_cm']*10\n",
    "data = data.drop(columns = 'totalSnow_cm')"
   ]
  },
  {
   "cell_type": "code",
   "execution_count": 23,
   "metadata": {},
   "outputs": [],
   "source": [
    "data = pd.get_dummies(data=data,columns=categorical,drop_first=True)"
   ]
  },
  {
   "cell_type": "code",
   "execution_count": 24,
   "metadata": {},
   "outputs": [],
   "source": [
    "# crs_dep_time, arr_time are values in range 0-2.4k -> get hours only\n",
    "\n",
    "data['crs_dep_hour'] = round(data['crs_dep_time']/60)\n",
    "data['crs_arr_hour'] = round(data['crs_arr_time']/60)\n",
    "\n",
    "data = data.drop(columns=['crs_dep_time','crs_arr_time'])"
   ]
  },
  {
   "cell_type": "code",
   "execution_count": 25,
   "metadata": {},
   "outputs": [],
   "source": [
    "# reshuffle\n",
    "data = data.sample(frac=1)\n",
    "data = data.reset_index()\n",
    "# data = data[data['arr_delay']<=200]"
   ]
  },
  {
   "cell_type": "code",
   "execution_count": 26,
   "metadata": {},
   "outputs": [],
   "source": [
    "X = data.drop(columns = ['arr_delay','adl_rolling_mean'])\n",
    "#y = data['arr_delay']\n",
    "y = data['adl_rolling_mean']"
   ]
  },
  {
   "cell_type": "code",
   "execution_count": 27,
   "metadata": {},
   "outputs": [
    {
     "data": {
      "text/plain": [
       "Index(['index', 'mkt_carrier', 'origin', 'dest', 'air_time',\n",
       "       'origin_fl_density', 'dest_fl_density', 'day', 'month', 'year',\n",
       "       'weekday', 'crs_arr_hour', 'crs_dep_hour', 'actual_speed',\n",
       "       'origin_num_passengers', 'dest_num_passengers', 'origin_num_freight',\n",
       "       'dest_num_freight', 'dist_group', 'season', 'origin_airport_size',\n",
       "       'dest_airport_size', 'mean_op_carrier_delay',\n",
       "       'mean_delay_origin_airport', 'mean_delay_dest_airport', 'sunHour',\n",
       "       'cloudcover', 'precipMM', 'hrly_bin', 'avg_hr_fl', 'avg_day_fl',\n",
       "       'dep_delay_lag', 'ddl_rolling_mean', 'mean_carrier_arr_delay',\n",
       "       'tail_num_arr_delay', 'totalSnow_mm', 'weather_type_Rainy',\n",
       "       'weather_type_Snowy', 'weather_type_Sunny'],\n",
       "      dtype='object')"
      ]
     },
     "execution_count": 27,
     "metadata": {},
     "output_type": "execute_result"
    }
   ],
   "source": [
    "X.columns"
   ]
  },
  {
   "cell_type": "code",
   "execution_count": 28,
   "metadata": {},
   "outputs": [],
   "source": [
    "# X to scale\n",
    "scaling = [\n",
    "    'origin_num_passengers', 'dest_num_passengers', 'origin_num_freight',\n",
    "    'dest_num_freight', 'season', 'origin_airport_size',\n",
    "    'dest_airport_size', 'mean_op_carrier_delay',\n",
    "    'mean_delay_origin_airport', 'mean_delay_dest_airport', 'sunHour',\n",
    "    'cloudcover', 'precipMM', 'mean_carrier_arr_delay', 'tail_num_arr_delay', 'totalSnow_mm',\n",
    "]"
   ]
  },
  {
   "cell_type": "code",
   "execution_count": 29,
   "metadata": {},
   "outputs": [],
   "source": [
    "# scale/normalize\n",
    "\n",
    "from sklearn.preprocessing import StandardScaler\n",
    "from sklearn.preprocessing import Normalizer\n",
    "\n",
    "#scaling\n",
    "\n",
    "scaler = StandardScaler()\n",
    "scaler.fit(X)\n",
    "X_scaled = scaler.transform(X)\n",
    "\n",
    "scaled = scaler.fit_transform(X[scaling])"
   ]
  },
  {
   "cell_type": "code",
   "execution_count": 30,
   "metadata": {},
   "outputs": [],
   "source": [
    "for i in range(len(scaling)):\n",
    "    X[scaling[i]] = scaled[:,i]"
   ]
  },
  {
   "cell_type": "code",
   "execution_count": 31,
   "metadata": {},
   "outputs": [
    {
     "data": {
      "text/html": [
       "<div>\n",
       "<style scoped>\n",
       "    .dataframe tbody tr th:only-of-type {\n",
       "        vertical-align: middle;\n",
       "    }\n",
       "\n",
       "    .dataframe tbody tr th {\n",
       "        vertical-align: top;\n",
       "    }\n",
       "\n",
       "    .dataframe thead th {\n",
       "        text-align: right;\n",
       "    }\n",
       "</style>\n",
       "<table border=\"1\" class=\"dataframe\">\n",
       "  <thead>\n",
       "    <tr style=\"text-align: right;\">\n",
       "      <th></th>\n",
       "      <th>index</th>\n",
       "      <th>mkt_carrier</th>\n",
       "      <th>origin</th>\n",
       "      <th>dest</th>\n",
       "      <th>air_time</th>\n",
       "      <th>origin_fl_density</th>\n",
       "      <th>dest_fl_density</th>\n",
       "      <th>day</th>\n",
       "      <th>month</th>\n",
       "      <th>year</th>\n",
       "      <th>...</th>\n",
       "      <th>avg_hr_fl</th>\n",
       "      <th>avg_day_fl</th>\n",
       "      <th>dep_delay_lag</th>\n",
       "      <th>ddl_rolling_mean</th>\n",
       "      <th>mean_carrier_arr_delay</th>\n",
       "      <th>tail_num_arr_delay</th>\n",
       "      <th>totalSnow_mm</th>\n",
       "      <th>weather_type_Rainy</th>\n",
       "      <th>weather_type_Snowy</th>\n",
       "      <th>weather_type_Sunny</th>\n",
       "    </tr>\n",
       "  </thead>\n",
       "  <tbody>\n",
       "    <tr>\n",
       "      <th>0</th>\n",
       "      <td>33369</td>\n",
       "      <td>0</td>\n",
       "      <td>131</td>\n",
       "      <td>19</td>\n",
       "      <td>97.0</td>\n",
       "      <td>2</td>\n",
       "      <td>19</td>\n",
       "      <td>7</td>\n",
       "      <td>5</td>\n",
       "      <td>2019</td>\n",
       "      <td>...</td>\n",
       "      <td>35.880000</td>\n",
       "      <td>28.935484</td>\n",
       "      <td>0.0</td>\n",
       "      <td>14.649579</td>\n",
       "      <td>0.070800</td>\n",
       "      <td>-0.985887</td>\n",
       "      <td>-0.109994</td>\n",
       "      <td>0</td>\n",
       "      <td>0</td>\n",
       "      <td>1</td>\n",
       "    </tr>\n",
       "    <tr>\n",
       "      <th>1</th>\n",
       "      <td>86</td>\n",
       "      <td>3</td>\n",
       "      <td>2</td>\n",
       "      <td>14</td>\n",
       "      <td>126.0</td>\n",
       "      <td>39</td>\n",
       "      <td>26</td>\n",
       "      <td>2</td>\n",
       "      <td>1</td>\n",
       "      <td>2018</td>\n",
       "      <td>...</td>\n",
       "      <td>31.560000</td>\n",
       "      <td>25.451613</td>\n",
       "      <td>-6.0</td>\n",
       "      <td>1.933333</td>\n",
       "      <td>-0.290095</td>\n",
       "      <td>8.488499</td>\n",
       "      <td>-0.109994</td>\n",
       "      <td>0</td>\n",
       "      <td>0</td>\n",
       "      <td>1</td>\n",
       "    </tr>\n",
       "    <tr>\n",
       "      <th>2</th>\n",
       "      <td>341</td>\n",
       "      <td>3</td>\n",
       "      <td>17</td>\n",
       "      <td>29</td>\n",
       "      <td>201.0</td>\n",
       "      <td>9</td>\n",
       "      <td>23</td>\n",
       "      <td>7</td>\n",
       "      <td>1</td>\n",
       "      <td>2018</td>\n",
       "      <td>...</td>\n",
       "      <td>1.428571</td>\n",
       "      <td>1.250000</td>\n",
       "      <td>0.0</td>\n",
       "      <td>6.766667</td>\n",
       "      <td>-0.290095</td>\n",
       "      <td>-0.129142</td>\n",
       "      <td>-0.109994</td>\n",
       "      <td>0</td>\n",
       "      <td>0</td>\n",
       "      <td>1</td>\n",
       "    </tr>\n",
       "    <tr>\n",
       "      <th>3</th>\n",
       "      <td>30798</td>\n",
       "      <td>2</td>\n",
       "      <td>61</td>\n",
       "      <td>27</td>\n",
       "      <td>211.0</td>\n",
       "      <td>7</td>\n",
       "      <td>15</td>\n",
       "      <td>1</td>\n",
       "      <td>4</td>\n",
       "      <td>2019</td>\n",
       "      <td>...</td>\n",
       "      <td>43.080000</td>\n",
       "      <td>34.741935</td>\n",
       "      <td>74.0</td>\n",
       "      <td>47.533333</td>\n",
       "      <td>0.841854</td>\n",
       "      <td>-0.285490</td>\n",
       "      <td>-0.109994</td>\n",
       "      <td>0</td>\n",
       "      <td>0</td>\n",
       "      <td>1</td>\n",
       "    </tr>\n",
       "    <tr>\n",
       "      <th>4</th>\n",
       "      <td>44635</td>\n",
       "      <td>1</td>\n",
       "      <td>46</td>\n",
       "      <td>24</td>\n",
       "      <td>99.0</td>\n",
       "      <td>4</td>\n",
       "      <td>10</td>\n",
       "      <td>13</td>\n",
       "      <td>10</td>\n",
       "      <td>2019</td>\n",
       "      <td>...</td>\n",
       "      <td>72.208333</td>\n",
       "      <td>55.903226</td>\n",
       "      <td>21.0</td>\n",
       "      <td>34.382913</td>\n",
       "      <td>-0.290095</td>\n",
       "      <td>-0.077465</td>\n",
       "      <td>-0.109994</td>\n",
       "      <td>0</td>\n",
       "      <td>0</td>\n",
       "      <td>1</td>\n",
       "    </tr>\n",
       "  </tbody>\n",
       "</table>\n",
       "<p>5 rows × 39 columns</p>\n",
       "</div>"
      ],
      "text/plain": [
       "   index  mkt_carrier  origin  dest  air_time  origin_fl_density  \\\n",
       "0  33369            0     131    19      97.0                  2   \n",
       "1     86            3       2    14     126.0                 39   \n",
       "2    341            3      17    29     201.0                  9   \n",
       "3  30798            2      61    27     211.0                  7   \n",
       "4  44635            1      46    24      99.0                  4   \n",
       "\n",
       "   dest_fl_density  day  month  year  ...  avg_hr_fl  avg_day_fl  \\\n",
       "0               19    7      5  2019  ...  35.880000   28.935484   \n",
       "1               26    2      1  2018  ...  31.560000   25.451613   \n",
       "2               23    7      1  2018  ...   1.428571    1.250000   \n",
       "3               15    1      4  2019  ...  43.080000   34.741935   \n",
       "4               10   13     10  2019  ...  72.208333   55.903226   \n",
       "\n",
       "   dep_delay_lag  ddl_rolling_mean  mean_carrier_arr_delay  \\\n",
       "0            0.0         14.649579                0.070800   \n",
       "1           -6.0          1.933333               -0.290095   \n",
       "2            0.0          6.766667               -0.290095   \n",
       "3           74.0         47.533333                0.841854   \n",
       "4           21.0         34.382913               -0.290095   \n",
       "\n",
       "   tail_num_arr_delay  totalSnow_mm  weather_type_Rainy  weather_type_Snowy  \\\n",
       "0           -0.985887     -0.109994                   0                   0   \n",
       "1            8.488499     -0.109994                   0                   0   \n",
       "2           -0.129142     -0.109994                   0                   0   \n",
       "3           -0.285490     -0.109994                   0                   0   \n",
       "4           -0.077465     -0.109994                   0                   0   \n",
       "\n",
       "   weather_type_Sunny  \n",
       "0                   1  \n",
       "1                   1  \n",
       "2                   1  \n",
       "3                   1  \n",
       "4                   1  \n",
       "\n",
       "[5 rows x 39 columns]"
      ]
     },
     "execution_count": 31,
     "metadata": {},
     "output_type": "execute_result"
    }
   ],
   "source": [
    "X.head()"
   ]
  },
  {
   "cell_type": "code",
   "execution_count": 32,
   "metadata": {},
   "outputs": [
    {
     "data": {
      "text/plain": [
       "<AxesSubplot:xlabel='adl_rolling_mean', ylabel='Count'>"
      ]
     },
     "execution_count": 32,
     "metadata": {},
     "output_type": "execute_result"
    },
    {
     "data": {
      "image/png": "[encoded data removed]",
      "text/plain": [
       "<Figure size 432x288 with 1 Axes>"
      ]
     },
     "metadata": {
      "needs_background": "light"
     },
     "output_type": "display_data"
    }
   ],
   "source": [
    "sns.histplot(y)"
   ]
  },
  {
   "cell_type": "code",
   "execution_count": 33,
   "metadata": {},
   "outputs": [],
   "source": [
    "from scipy.stats import boxcox\n",
    "from numpy import log"
   ]
  },
  {
   "cell_type": "code",
   "execution_count": 34,
   "metadata": {},
   "outputs": [],
   "source": [
    "# splitting\n",
    "\n",
    "from sklearn.model_selection import train_test_split\n",
    "\n",
    "# x_train, x_test, y_train, y_test = train_test_split(X_scaled,y,train_size=0.7) #full scaled X\n",
    "x_train, x_test, y_train, y_test = train_test_split(X,y,train_size=0.7)  #using partially scaled X\n",
    "# x_train, x_test, y_train, y_test = train_test_split(X_scaled,y_,train_size=0.7) #full scaled X, boxcox y"
   ]
  },
  {
   "cell_type": "code",
   "execution_count": 35,
   "metadata": {},
   "outputs": [],
   "source": [
    "from sklearn import metrics\n",
    "import xgboost as xgb\n",
    "from xgboost import XGBRegressor\n",
    "from sklearn.model_selection import cross_validate\n",
    "from sklearn.model_selection import cross_val_score"
   ]
  },
  {
   "cell_type": "code",
   "execution_count": null,
   "metadata": {},
   "outputs": [],
   "source": [
    "# gridsearch cv done from previous notebook"
   ]
  },
  {
   "cell_type": "code",
   "execution_count": 51,
   "metadata": {},
   "outputs": [
    {
     "name": "stdout",
     "output_type": "stream",
     "text": [
      "79.0\n"
     ]
    }
   ],
   "source": [
    "data_dmatrix = xgb.DMatrix(data=X,label=y)\n",
    "\n",
    "model = XGBRegressor(objective ='reg:squarederror',\n",
    "                     booster='gbtree',\n",
    "                     learning_rate = 0.1,\n",
    "                     colsample_bytree = 1,\n",
    "                     max_depth = 10, \n",
    "                     alpha = 10,\n",
    "                     n_estimators = 100)\n",
    "model.fit(x_train,y_train)\n",
    "\n",
    "train_score = cross_val_score(model,x_train,y_train,cv=10)\n",
    "print(round(train_score.mean(),2)*100)"
   ]
  },
  {
   "cell_type": "code",
   "execution_count": 52,
   "metadata": {},
   "outputs": [
    {
     "name": "stdout",
     "output_type": "stream",
     "text": [
      "RMSE: 5.666439\n",
      "0.8110611741208832\n"
     ]
    }
   ],
   "source": [
    "y_pred = model.predict(x_test)\n",
    "\n",
    "rmse = np.sqrt(metrics.mean_squared_error(y_test, y_pred))\n",
    "print(\"RMSE: %f\" % (rmse))\n",
    "print(metrics.r2_score(y_test,y_pred))"
   ]
  },
  {
   "cell_type": "code",
   "execution_count": 50,
   "metadata": {},
   "outputs": [
    {
     "name": "stdout",
     "output_type": "stream",
     "text": [
      "0.8571160639378641\n"
     ]
    }
   ],
   "source": [
    "from sklearn.feature_selection import SelectFromModel\n",
    "\n",
    "# select features using threshold\n",
    "selection = SelectFromModel(model, prefit=True)\n",
    "select_X_train = selection.transform(x_train)\n",
    "# train model\n",
    "selection_model = XGBRegressor(objective ='reg:squarederror',\n",
    "                    booster='gbtree',\n",
    "                    learning_rate = 0.1,\n",
    "                    max_depth = 10, \n",
    "                    alpha = 10,\n",
    "                    n_estimators = 100)\n",
    "selection_model.fit(select_X_train, y_train)\n",
    "\n",
    "select_X_test = selection.transform(x_test)\n",
    "y_pred = selection_model.predict(select_X_test)\n",
    "print(metrics.r2_score(y_test,y_pred))"
   ]
  },
  {
   "cell_type": "code",
   "execution_count": 40,
   "metadata": {},
   "outputs": [],
   "source": [
    "from numpy import sort"
   ]
  },
  {
   "cell_type": "code",
   "execution_count": 44,
   "metadata": {
    "collapsed": true,
    "jupyter": {
     "outputs_hidden": true
    }
   },
   "outputs": [
    {
     "name": "stdout",
     "output_type": "stream",
     "text": [
      "Thresh=0.000, n=39, R2: 73.01%\n",
      "Thresh=0.000, n=39, R2: 73.01%\n",
      "Thresh=0.000, n=39, R2: 73.01%\n",
      "Thresh=0.000, n=39, R2: 73.01%\n",
      "Thresh=0.002, n=35, R2: 72.81%\n",
      "Thresh=0.003, n=34, R2: 72.81%\n",
      "Thresh=0.005, n=33, R2: 73.40%\n",
      "Thresh=0.005, n=32, R2: 74.61%\n",
      "Thresh=0.005, n=31, R2: 74.33%\n",
      "Thresh=0.005, n=30, R2: 73.93%\n",
      "Thresh=0.005, n=29, R2: 75.87%\n",
      "Thresh=0.006, n=28, R2: 76.02%\n",
      "Thresh=0.006, n=27, R2: 75.09%\n",
      "Thresh=0.006, n=26, R2: 73.73%\n",
      "Thresh=0.006, n=25, R2: 73.96%\n",
      "Thresh=0.006, n=24, R2: 75.28%\n",
      "Thresh=0.006, n=23, R2: 73.77%\n",
      "Thresh=0.006, n=22, R2: 75.11%\n",
      "Thresh=0.006, n=21, R2: 76.54%\n",
      "Thresh=0.007, n=20, R2: 77.58%\n",
      "Thresh=0.007, n=19, R2: 76.24%\n",
      "Thresh=0.007, n=18, R2: 77.59%\n",
      "Thresh=0.007, n=17, R2: 77.12%\n",
      "Thresh=0.007, n=16, R2: 77.83%\n",
      "Thresh=0.007, n=15, R2: 77.71%\n",
      "Thresh=0.008, n=14, R2: 77.28%\n",
      "Thresh=0.008, n=13, R2: 77.64%\n",
      "Thresh=0.009, n=12, R2: 78.86%\n",
      "Thresh=0.009, n=11, R2: 77.66%\n",
      "Thresh=0.009, n=10, R2: 78.99%\n",
      "Thresh=0.010, n=9, R2: 79.19%\n",
      "Thresh=0.024, n=8, R2: 78.86%\n",
      "Thresh=0.031, n=7, R2: 80.12%\n",
      "Thresh=0.033, n=6, R2: 82.63%\n",
      "Thresh=0.090, n=5, R2: 84.21%\n",
      "Thresh=0.100, n=4, R2: 84.01%\n",
      "Thresh=0.121, n=3, R2: 56.51%\n",
      "Thresh=0.138, n=2, R2: 30.50%\n",
      "Thresh=0.293, n=1, R2: 2.73%\n"
     ]
    }
   ],
   "source": [
    "thresholds = sort(model.feature_importances_)\n",
    "for thresh in thresholds:\n",
    "\t# select features using threshold\n",
    "\tselection = SelectFromModel(model, threshold=thresh, prefit=True)\n",
    "\tselect_X_train = selection.transform(x_train)\n",
    "\t# train model\n",
    "\tselection_model = XGBRegressor()\n",
    "\tselection_model.fit(select_X_train, y_train)\n",
    "\t# eval model\n",
    "\tselect_X_test = selection.transform(x_test)\n",
    "\tpredictions = selection_model.predict(select_X_test)\n",
    "\taccuracy = metrics.r2_score(y_test, predictions)\n",
    "\tprint(\"Thresh=%.3f, n=%d, R2: %.2f%%\" % (thresh, select_X_train.shape[1], accuracy*100.0))"
   ]
  },
  {
   "cell_type": "code",
   "execution_count": 46,
   "metadata": {},
   "outputs": [
    {
     "data": {
      "text/plain": [
       "array([0.10006594, 0.00337156, 0.00478674, 0.00560654, 0.00452568,\n",
       "       0.00736213, 0.0056342 , 0.13791321, 0.29252023, 0.        ,\n",
       "       0.12116413, 0.00495526, 0.00497755, 0.00600208, 0.00912162,\n",
       "       0.00950052, 0.00718653, 0.00684164, 0.00550489, 0.09001856,\n",
       "       0.        , 0.        , 0.00562494, 0.00759582, 0.00682215,\n",
       "       0.00597679, 0.00678566, 0.0068833 , 0.02421204, 0.00893182,\n",
       "       0.00806492, 0.00570309, 0.03338799, 0.00557768, 0.03136462,\n",
       "       0.0051959 , 0.00868018, 0.        , 0.00213405], dtype=float32)"
      ]
     },
     "execution_count": 46,
     "metadata": {},
     "output_type": "execute_result"
    }
   ],
   "source": [
    "model.feature_importances_"
   ]
  },
  {
   "cell_type": "code",
   "execution_count": 47,
   "metadata": {},
   "outputs": [
    {
     "name": "stdout",
     "output_type": "stream",
     "text": [
      "24.281901719524836\n",
      "0.857119212172445\n"
     ]
    }
   ],
   "source": [
    "from sklearn.metrics import mean_squared_error\n",
    "\n",
    "testing_error = mean_squared_error(y_test,y_pred)\n",
    "print(testing_error)\n",
    "\n",
    "exp_var = metrics.explained_variance_score(y_test,y_pred)\n",
    "print(exp_var)"
   ]
  },
  {
   "cell_type": "code",
   "execution_count": 48,
   "metadata": {},
   "outputs": [
    {
     "name": "stdout",
     "output_type": "stream",
     "text": [
      "[0.74350957 0.76144356 0.77176194 0.76744731 0.75369528 0.74481514\n",
      " 0.77447469 0.76355314 0.77271025 0.74565261]\n"
     ]
    }
   ],
   "source": [
    "cv_results = cross_validate(selection_model,X,y,cv=10,scoring='r2',n_jobs=-1)\n",
    "\n",
    "print(cv_results['test_score'])"
   ]
  },
  {
   "cell_type": "code",
   "execution_count": null,
   "metadata": {},
   "outputs": [],
   "source": []
  },
  {
   "cell_type": "code",
   "execution_count": null,
   "metadata": {},
   "outputs": [],
   "source": [
    "\"\"\"\n",
    "ways to improve model \n",
    "\n",
    "-more weather data\n",
    "    -wind speed, \n",
    "    -use all data - try iterative training using pickles (xgb)\n",
    "    \n",
    "-efficiency \n",
    "    -pipelines\n",
    "\"\"\""
   ]
  },
  {
   "cell_type": "code",
   "execution_count": null,
   "metadata": {},
   "outputs": [],
   "source": []
  },
  {
   "cell_type": "code",
   "execution_count": null,
   "metadata": {},
   "outputs": [],
   "source": []
  }
 ],
 "metadata": {
  "kernelspec": {
   "display_name": "Python 3",
   "language": "python",
   "name": "python3"
  },
  "language_info": {
   "codemirror_mode": {
    "name": "ipython",
    "version": 3
   },
   "file_extension": ".py",
   "mimetype": "text/x-python",
   "name": "python",
   "nbconvert_exporter": "python",
   "pygments_lexer": "ipython3",
   "version": "3.8.5"
  }
 },
 "nbformat": 4,
 "nbformat_minor": 4
}
