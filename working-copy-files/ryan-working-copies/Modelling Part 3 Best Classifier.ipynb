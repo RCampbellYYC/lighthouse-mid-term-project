{
 "cells": [
  {
   "cell_type": "markdown",
   "metadata": {},
   "source": [
    "# Best XGB Model from Feb 9th"
   ]
  },
  {
   "cell_type": "code",
   "execution_count": 1,
   "metadata": {},
   "outputs": [],
   "source": [
    "import pandas as pd\n",
    "import numpy as np\n",
    "import seaborn as sns\n",
    "from datetime import datetime \n",
    "import datetime as dt\n",
    "import matplotlib.pyplot as plt"
   ]
  },
  {
   "cell_type": "markdown",
   "metadata": {},
   "source": [
    "# Load and Prep Data"
   ]
  },
  {
   "cell_type": "code",
   "execution_count": 10,
   "metadata": {},
   "outputs": [],
   "source": [
    "# Prep data for ML\n",
    "\n",
    "#Load balanced data\n",
    "#Even re-sample of delay and no delay from orig dataset\n",
    "flights = pd.read_csv(r'C:\\Users\\Ryan\\Lighthouse\\Bootcamp\\w6\\midterm\\Data\\cleaned\\cleaned_balanced_sample.csv', delimiter=',', low_memory=False)\n",
    "flights.head()\n",
    "\n",
    "#Add Date Featues to table\n",
    "flights['year'] = pd.to_datetime(flights['fl_date']).dt.year\n",
    "flights['quarter'] = pd.to_datetime(flights['fl_date']).dt.quarter\n",
    "flights['month'] = pd.to_datetime(flights['fl_date']).dt.month\n",
    "flights['day_of_month'] = pd.to_datetime(flights['fl_date']).dt.day\n",
    "flights['day_of_week'] = pd.to_datetime(flights['fl_date']).dt.dayofweek\n",
    "\n",
    "#Add time features to table\n",
    "flights['crs_dep_hour'] = pd.to_datetime(flights['crs_dep_time'], format='%H%M', errors ='coerce').dt.hour\n",
    "flights['crs_arr_hour'] = pd.to_datetime(flights['crs_dep_time'], format='%H%M', errors ='coerce').dt.hour\n",
    "\n",
    "#Add column with delay or no delay\n",
    "flights['arr_delay_flag'] = flights['arr_delay'].map(lambda x: 1 if x > 0 else 0)\n",
    "\n",
    "#Import weather data\n",
    "weather = pd.read_csv(r'C:\\Users\\Ryan\\Lighthouse\\Bootcamp\\w6\\midterm\\Weather2\\weather_table.csv', delimiter=',', low_memory=False)\n",
    "\n",
    "#Add weather data to flights\n",
    "flights = pd.merge(flights, weather, how='left', left_on=['fl_date', 'dest'], right_on = ['date_time', 'location'])\n",
    "\n",
    "# Drop nas\n",
    "flights = flights[flights['weather_type'].notna()]\n",
    "\n",
    "#Remove duplicate columns\n",
    "flights = flights.loc[:,~flights.columns.duplicated()]"
   ]
  },
  {
   "cell_type": "markdown",
   "metadata": {},
   "source": [
    "# Best XGB Model"
   ]
  },
  {
   "cell_type": "code",
   "execution_count": 158,
   "metadata": {},
   "outputs": [
    {
     "name": "stderr",
     "output_type": "stream",
     "text": [
      "<ipython-input-158-03b0a21e57d4>:16: SettingWithCopyWarning: \n",
      "A value is trying to be set on a copy of a slice from a DataFrame.\n",
      "Try using .loc[row_indexer,col_indexer] = value instead\n",
      "\n",
      "See the caveats in the documentation: https://pandas.pydata.org/pandas-docs/stable/user_guide/indexing.html#returning-a-view-versus-a-copy\n",
      "  X[col] = label_encoder.fit_transform(X[col])\n",
      "C:\\Users\\Ryan\\anaconda3\\lib\\site-packages\\xgboost\\sklearn.py:888: UserWarning: The use of label encoder in XGBClassifier is deprecated and will be removed in a future release. To remove this warning, do the following: 1) Pass option use_label_encoder=False when constructing XGBClassifier object; and 2) Encode your labels (y) as integers starting with 0, i.e. 0, 1, 2, ..., [num_class - 1].\n",
      "  warnings.warn(label_encoder_deprecation_msg, UserWarning)\n"
     ]
    },
    {
     "name": "stdout",
     "output_type": "stream",
     "text": [
      "              precision    recall  f1-score   support\n",
      "\n",
      "           0       0.55      0.56      0.55     90082\n",
      "           1       0.55      0.54      0.55     89912\n",
      "\n",
      "    accuracy                           0.55    179994\n",
      "   macro avg       0.55      0.55      0.55    179994\n",
      "weighted avg       0.55      0.55      0.55    179994\n",
      "\n",
      "Accuracy: 0.5486627332022178\n",
      "F1 Score: 0.5451399776035835\n",
      "Recall: 0.5414293976332414\n",
      "Precision: 0.5489017679956703\n",
      "AUC Score: 0.5638287876091161\n"
     ]
    }
   ],
   "source": [
    "# XGB Model\n",
    "# Classifier\n",
    "# Updated features included - Added weather_type\n",
    "\n",
    "# assign X and y\n",
    "cols = ['fl_date', 'op_unique_carrier', 'tail_num', 'op_carrier_fl_num', 'origin', 'dest', 'crs_dep_time', \n",
    "        'crs_arr_time', 'crs_elapsed_time', 'distance', 'weather_type']\n",
    "X = flights[cols]\n",
    "y = flights['arr_delay_flag']\n",
    "\n",
    "# encode categorical columns\n",
    "from sklearn import preprocessing\n",
    "label_encoder = preprocessing.LabelEncoder()\n",
    "cat_vars = X.select_dtypes(include= 'object').columns.tolist()\n",
    "for col in cat_vars:\n",
    "    X[col] = label_encoder.fit_transform(X[col])\n",
    "\n",
    "# make train-test split\n",
    "from sklearn.model_selection import train_test_split\n",
    "from sklearn.preprocessing import StandardScaler\n",
    "scaler = StandardScaler()\n",
    "Xsc = scaler.fit_transform(X)\n",
    "X_train, X_test, y_train, y_test = train_test_split(Xsc, y, train_size=0.7, test_size=0.3, random_state=101)\n",
    "\n",
    "#Model\n",
    "import xgboost as xgb\n",
    "model3 = xgb.XGBClassifier(objective = 'reg:squarederror', n_estimators=300)\n",
    "model3 = model3.fit(X_train, y_train)\n",
    "y_pred = model3.predict(X_test)\n",
    "y_score = model3.predict_proba(X_test)[:,1]\n",
    "\n",
    "#Evaluate\n",
    "from sklearn.metrics import classification_report, accuracy_score, recall_score, f1_score, precision_recall_curve\n",
    "from sklearn.metrics import average_precision_score,roc_auc_score, confusion_matrix, plot_confusion_matrix, precision_score\n",
    "print(classification_report(y_test, y_pred))\n",
    "print(\"Accuracy:\", accuracy_score(y_test, y_pred))\n",
    "print(\"F1 Score:\", f1_score(y_test, y_pred))\n",
    "print(\"Recall:\", recall_score(y_test, y_pred))\n",
    "print(\"Precision:\", precision_score(y_test, y_pred))\n",
    "print(\"AUC Score:\", roc_auc_score(y_test, y_score))"
   ]
  },
  {
   "cell_type": "code",
   "execution_count": 26,
   "metadata": {},
   "outputs": [
    {
     "name": "stderr",
     "output_type": "stream",
     "text": [
      "<ipython-input-26-bece2246c1e5>:16: SettingWithCopyWarning: \n",
      "A value is trying to be set on a copy of a slice from a DataFrame.\n",
      "Try using .loc[row_indexer,col_indexer] = value instead\n",
      "\n",
      "See the caveats in the documentation: https://pandas.pydata.org/pandas-docs/stable/user_guide/indexing.html#returning-a-view-versus-a-copy\n",
      "  X[col] = label_encoder.fit_transform(X[col])\n",
      "C:\\Users\\Ryan\\anaconda3\\lib\\site-packages\\xgboost\\sklearn.py:888: UserWarning: The use of label encoder in XGBClassifier is deprecated and will be removed in a future release. To remove this warning, do the following: 1) Pass option use_label_encoder=False when constructing XGBClassifier object; and 2) Encode your labels (y) as integers starting with 0, i.e. 0, 1, 2, ..., [num_class - 1].\n",
      "  warnings.warn(label_encoder_deprecation_msg, UserWarning)\n"
     ]
    },
    {
     "name": "stdout",
     "output_type": "stream",
     "text": [
      "              precision    recall  f1-score   support\n",
      "\n",
      "           0       0.56      0.55      0.55     90082\n",
      "           1       0.55      0.56      0.56     89912\n",
      "\n",
      "    accuracy                           0.56    179994\n",
      "   macro avg       0.56      0.56      0.56    179994\n",
      "weighted avg       0.56      0.56      0.56    179994\n",
      "\n",
      "Accuracy: 0.5552740646910452\n",
      "F1 Score: 0.5582827502483169\n",
      "Recall: 0.562616780852389\n",
      "Precision: 0.5540149822578525\n",
      "AUC Score: 0.5731540258707927\n"
     ]
    }
   ],
   "source": [
    "# XGB Model\n",
    "# Classifier\n",
    "# Updated features included - Added weather_type\n",
    "\n",
    "# assign X and y\n",
    "cols = ['fl_date', 'op_unique_carrier', 'tail_num', 'op_carrier_fl_num', 'origin', 'dest', 'crs_dep_time', \n",
    "        'crs_arr_time', 'crs_elapsed_time', 'distance', 'weather_type']\n",
    "X = flights[cols]\n",
    "y = flights['arr_delay_flag']\n",
    "\n",
    "# encode categorical columns\n",
    "from sklearn import preprocessing\n",
    "label_encoder = preprocessing.LabelEncoder()\n",
    "cat_vars = X.select_dtypes(include= 'object').columns.tolist()\n",
    "for col in cat_vars:\n",
    "    X[col] = label_encoder.fit_transform(X[col])\n",
    "\n",
    "# make train-test split\n",
    "from sklearn.model_selection import train_test_split\n",
    "from sklearn.preprocessing import StandardScaler\n",
    "scaler = StandardScaler()\n",
    "Xsc = scaler.fit_transform(X)\n",
    "X_train, X_test, y_train, y_test = train_test_split(Xsc, y, train_size=0.7, test_size=0.3, random_state=101)\n",
    "\n",
    "#Model\n",
    "import xgboost as xgb\n",
    "model = xgb.XGBClassifier(objective = 'reg:logistic', eval_metric='auc', n_estimators=1000, learning_rate=0.001, max_depth=12)\n",
    "model = model.fit(X_train, y_train)\n",
    "y_pred = model.predict(X_test)\n",
    "y_score = model.predict_proba(X_test)[:,1]\n",
    "\n",
    "#Evaluate\n",
    "from sklearn.metrics import classification_report, accuracy_score, recall_score, f1_score, precision_recall_curve\n",
    "from sklearn.metrics import average_precision_score,roc_auc_score, confusion_matrix, plot_confusion_matrix, precision_score\n",
    "print(classification_report(y_test, y_pred))\n",
    "print(\"Accuracy:\", accuracy_score(y_test, y_pred))\n",
    "print(\"F1 Score:\", f1_score(y_test, y_pred))\n",
    "print(\"Recall:\", recall_score(y_test, y_pred))\n",
    "print(\"Precision:\", precision_score(y_test, y_pred))\n",
    "print(\"AUC Score:\", roc_auc_score(y_test, y_score))"
   ]
  },
  {
   "cell_type": "code",
   "execution_count": 35,
   "metadata": {},
   "outputs": [
    {
     "data": {
      "text/plain": [
       "Text(0.5, 637.6, 'Predicted label')"
      ]
     },
     "execution_count": 35,
     "metadata": {},
     "output_type": "execute_result"
    },
    {
     "data": {
      "image/png": "[encoded data removed]",
      "text/plain": [
       "<Figure size 720x720 with 2 Axes>"
      ]
     },
     "metadata": {
      "needs_background": "light"
     },
     "output_type": "display_data"
    }
   ],
   "source": [
    "from sklearn import metrics\n",
    "cnf_matrix = metrics.confusion_matrix(y_test, y_pred)\n",
    "cnf_matrix\n",
    "\n",
    "# create heatmap\n",
    "class_names=[0,1] # name  of classes\n",
    "fig, ax = plt.subplots()\n",
    "tick_marks = np.arange(len(class_names))\n",
    "plt.xticks(tick_marks, class_names)\n",
    "plt.yticks(tick_marks, class_names)\n",
    "# create heatmap\n",
    "sns.heatmap(pd.DataFrame(cnf_matrix), annot=True, cmap=\"YlGnBu\" ,fmt='g')\n",
    "ax.xaxis.set_label_position(\"top\")\n",
    "plt.tight_layout()\n",
    "plt.title('Confusion matrix', y=1.1)\n",
    "plt.ylabel('Actual label')\n",
    "plt.xlabel('Predicted label')"
   ]
  },
  {
   "cell_type": "code",
   "execution_count": 43,
   "metadata": {},
   "outputs": [
    {
     "name": "stderr",
     "output_type": "stream",
     "text": [
      "<ipython-input-43-56fe31231d15>:16: SettingWithCopyWarning: \n",
      "A value is trying to be set on a copy of a slice from a DataFrame.\n",
      "Try using .loc[row_indexer,col_indexer] = value instead\n",
      "\n",
      "See the caveats in the documentation: https://pandas.pydata.org/pandas-docs/stable/user_guide/indexing.html#returning-a-view-versus-a-copy\n",
      "  X[col] = label_encoder.fit_transform(X[col])\n",
      "C:\\Users\\Ryan\\anaconda3\\lib\\site-packages\\xgboost\\sklearn.py:888: UserWarning: The use of label encoder in XGBClassifier is deprecated and will be removed in a future release. To remove this warning, do the following: 1) Pass option use_label_encoder=False when constructing XGBClassifier object; and 2) Encode your labels (y) as integers starting with 0, i.e. 0, 1, 2, ..., [num_class - 1].\n",
      "  warnings.warn(label_encoder_deprecation_msg, UserWarning)\n"
     ]
    },
    {
     "name": "stdout",
     "output_type": "stream",
     "text": [
      "[15:22:12] WARNING: C:/Users/Administrator/workspace/xgboost-win64_release_1.3.0/src/learner.cc:541: \n",
      "Parameters: { feature_names } might not be used.\n",
      "\n",
      "  This may not be accurate due to some parameters are only used in language bindings but\n",
      "  passed down to XGBoost core.  Or some parameters are not used but slip through this\n",
      "  verification. Please open an issue if you find above cases.\n",
      "\n",
      "\n",
      "              precision    recall  f1-score   support\n",
      "\n",
      "           0       0.55      0.55      0.55     90082\n",
      "           1       0.55      0.54      0.55     89912\n",
      "\n",
      "    accuracy                           0.55    179994\n",
      "   macro avg       0.55      0.55      0.55    179994\n",
      "weighted avg       0.55      0.55      0.55    179994\n",
      "\n",
      "Accuracy: 0.548907185795082\n",
      "F1 Score: 0.5463819612049701\n",
      "Recall: 0.5438539905685559\n",
      "Precision: 0.5489335428828019\n",
      "AUC Score: 0.5652769092678003\n"
     ]
    }
   ],
   "source": [
    "# XGB Model\n",
    "# Classifier\n",
    "# Updated features included - Added weather_type\n",
    "\n",
    "# assign X and y\n",
    "cols = ['fl_date', 'op_unique_carrier', 'tail_num', 'op_carrier_fl_num', 'origin', 'dest', 'crs_dep_time', \n",
    "        'crs_arr_time', 'crs_elapsed_time', 'distance', 'weather_type', 'totalSnow_cm', 'sunHour', 'cloudcover', 'precipMM']\n",
    "X = flights[cols]\n",
    "y = flights['arr_delay_flag']\n",
    "\n",
    "# encode categorical columns\n",
    "from sklearn import preprocessing\n",
    "label_encoder = preprocessing.LabelEncoder()\n",
    "cat_vars = X.select_dtypes(include= 'object').columns.tolist()\n",
    "for col in cat_vars:\n",
    "    X[col] = label_encoder.fit_transform(X[col])\n",
    "\n",
    "# make train-test split\n",
    "from sklearn.model_selection import train_test_split\n",
    "from sklearn.preprocessing import StandardScaler\n",
    "scaler = StandardScaler()\n",
    "Xsc = scaler.fit_transform(X)\n",
    "X_train, X_test, y_train, y_test = train_test_split(Xsc, y, train_size=0.7, test_size=0.3, random_state=101)\n",
    "\n",
    "#Model\n",
    "import xgboost as xgb\n",
    "model2 = xgb.XGBClassifier(objective = 'binary:logistic', eval_metric='auc', n_estimators=300)\n",
    "model2 = model2.fit(X_train, y_train)\n",
    "y_pred = model2.predict(X_test)\n",
    "y_score = model2.predict_proba(X_test)[:,1]\n",
    "\n",
    "#Evaluate\n",
    "from sklearn.metrics import classification_report, accuracy_score, recall_score, f1_score, precision_recall_curve\n",
    "from sklearn.metrics import average_precision_score,roc_auc_score, confusion_matrix, plot_confusion_matrix, precision_score\n",
    "print(classification_report(y_test, y_pred))\n",
    "print(\"Accuracy:\", accuracy_score(y_test, y_pred))\n",
    "print(\"F1 Score:\", f1_score(y_test, y_pred))\n",
    "print(\"Recall:\", recall_score(y_test, y_pred))\n",
    "print(\"Precision:\", precision_score(y_test, y_pred))\n",
    "print(\"AUC Score:\", roc_auc_score(y_test, y_score))"
   ]
  },
  {
   "cell_type": "code",
   "execution_count": 51,
   "metadata": {},
   "outputs": [
    {
     "data": {
      "image/png": "[encoded data removed]",
      "text/plain": [
       "<Figure size 720x720 with 1 Axes>"
      ]
     },
     "metadata": {
      "needs_background": "light"
     },
     "output_type": "display_data"
    }
   ],
   "source": [
    "# Feature Importance Plot\n",
    "model2.get_booster().feature_names = cols\n",
    "fig = xgb.plot_importance(model2.get_booster())\n",
    "plt.rcParams['figure.figsize'] = [10, 10]\n",
    "plt.show()"
   ]
  },
  {
   "cell_type": "code",
   "execution_count": 55,
   "metadata": {},
   "outputs": [
    {
     "data": {
      "image/png": "[encoded data removed]",
      "text/plain": [
       "<Figure size 720x720 with 1 Axes>"
      ]
     },
     "metadata": {
      "needs_background": "light"
     },
     "output_type": "display_data"
    }
   ],
   "source": [
    "# Feature Importance Plot Best Model\n",
    "model.get_booster().feature_names = ['fl_date', 'op_unique_carrier', 'tail_num', 'op_carrier_fl_num', \n",
    "                                     'origin', 'dest', 'crs_dep_time', 'crs_arr_time', 'crs_elapsed_time', 'distance', 'weather_type']\n",
    "fig = xgb.plot_importance(model.get_booster())\n",
    "plt.rcParams['figure.figsize'] = [10, 10]\n",
    "plt.show()"
   ]
  },
  {
   "cell_type": "markdown",
   "metadata": {},
   "source": [
    "# Predict delay or no delay using flights_test and Classifier"
   ]
  },
  {
   "cell_type": "markdown",
   "metadata": {},
   "source": [
    "### Load Data"
   ]
  },
  {
   "cell_type": "code",
   "execution_count": 182,
   "metadata": {},
   "outputs": [],
   "source": [
    "# Prep data for ML\n",
    "\n",
    "#Load flights_test\n",
    "flights_test = pd.read_csv(r'C:\\Users\\Ryan\\Lighthouse\\Bootcamp\\w6\\midterm\\Data\\cleaned\\flights_test.csv', delimiter=',', low_memory=False)\n",
    "\n",
    "#Add Date Featues to table\n",
    "flights_test['year'] = pd.to_datetime(flights_test['fl_date']).dt.year\n",
    "flights_test['quarter'] = pd.to_datetime(flights_test['fl_date']).dt.quarter\n",
    "flights_test['month'] = pd.to_datetime(flights_test['fl_date']).dt.month\n",
    "flights_test['day_of_month'] = pd.to_datetime(flights_test['fl_date']).dt.day\n",
    "flights_test['day_of_week'] = pd.to_datetime(flights_test['fl_date']).dt.dayofweek\n",
    "\n",
    "#Add time features to table\n",
    "flights_test['crs_dep_hour'] = pd.to_datetime(flights_test['crs_dep_time'], format='%H%M', errors ='coerce').dt.hour\n",
    "flights_test['crs_arr_hour'] = pd.to_datetime(flights_test['crs_dep_time'], format='%H%M', errors ='coerce').dt.hour\n",
    "\n",
    "#Import weather data\n",
    "weather_test = pd.read_csv(r'C:\\Users\\Ryan\\Lighthouse\\Bootcamp\\w6\\midterm\\Weather2\\weather_table_test_data.csv', delimiter=',', low_memory=False)\n",
    "\n",
    "#Add weather data to flights\n",
    "flights_test = pd.merge(flights_test, weather_test, how='left', left_on=['fl_date', 'dest'], right_on = ['date_time', 'location'])\n",
    "\n",
    "# Drop nas\n",
    "flights_test = flights_test[flights_test['weather_type'].notna()]\n",
    "\n",
    "#Remove duplicate columns\n",
    "flights_test = flights_test.loc[:,~flights_test.columns.duplicated()]"
   ]
  },
  {
   "cell_type": "markdown",
   "metadata": {},
   "source": [
    "### Predict delay and no delay based on flights table"
   ]
  },
  {
   "cell_type": "code",
   "execution_count": 183,
   "metadata": {},
   "outputs": [
    {
     "name": "stderr",
     "output_type": "stream",
     "text": [
      "<ipython-input-183-3408b233ad2f>:11: SettingWithCopyWarning: \n",
      "A value is trying to be set on a copy of a slice from a DataFrame.\n",
      "Try using .loc[row_indexer,col_indexer] = value instead\n",
      "\n",
      "See the caveats in the documentation: https://pandas.pydata.org/pandas-docs/stable/user_guide/indexing.html#returning-a-view-versus-a-copy\n",
      "  X[col] = label_encoder.fit_transform(X[col].astype(str))\n"
     ]
    }
   ],
   "source": [
    "# Select needed features for model from flights_test and assign to X\n",
    "cols = ['fl_date', 'op_unique_carrier', 'tail_num', 'op_carrier_fl_num', 'origin', 'dest', 'crs_dep_time', \n",
    "        'crs_arr_time', 'crs_elapsed_time', 'distance', 'weather_type']\n",
    "X = flights_test[cols]\n",
    "    \n",
    "# encode categorical columns\n",
    "from sklearn import preprocessing\n",
    "label_encoder = preprocessing.LabelEncoder()\n",
    "cat_vars = X.select_dtypes(include= 'object').columns.tolist()\n",
    "for col in cat_vars:\n",
    "    X[col] = label_encoder.fit_transform(X[col].astype(str))\n",
    "    \n",
    "\n",
    "# Set feature names in model as they didn't come across from orig. Might have to do this always with xgb models\n",
    "model.get_booster().feature_names = ['fl_date', 'op_unique_carrier', 'tail_num', 'op_carrier_fl_num', \n",
    "                                     'origin', 'dest', 'crs_dep_time', 'crs_arr_time', 'crs_elapsed_time', 'distance', 'weather_type']\n",
    "\n",
    "# Predict delay/nodelay with best model\n",
    "y_pred = model.predict(X)\n",
    "\n",
    "# Add prediction to flights_test\n",
    "flights_test['predicted_delay_yes_no'] = y_pred\n",
    "\n",
    "# Export to csv\n",
    "flights_test[['fl_date', 'mkt_carrier', 'mkt_carrier_fl_num', 'origin', 'dest', 'predicted_delay_yes_no']].to_csv('z_flights_test_pred_classifier.csv')"
   ]
  },
  {
   "cell_type": "code",
   "execution_count": 184,
   "metadata": {},
   "outputs": [],
   "source": []
  },
  {
   "cell_type": "code",
   "execution_count": null,
   "metadata": {},
   "outputs": [],
   "source": []
  },
  {
   "cell_type": "code",
   "execution_count": null,
   "metadata": {},
   "outputs": [],
   "source": []
  },
  {
   "cell_type": "code",
   "execution_count": null,
   "metadata": {},
   "outputs": [],
   "source": []
  },
  {
   "cell_type": "code",
   "execution_count": null,
   "metadata": {},
   "outputs": [],
   "source": []
  },
  {
   "cell_type": "code",
   "execution_count": null,
   "metadata": {},
   "outputs": [],
   "source": []
  },
  {
   "cell_type": "code",
   "execution_count": null,
   "metadata": {},
   "outputs": [],
   "source": []
  },
  {
   "cell_type": "code",
   "execution_count": null,
   "metadata": {},
   "outputs": [],
   "source": []
  }
 ],
 "metadata": {
  "kernelspec": {
   "display_name": "Python 3",
   "language": "python",
   "name": "python3"
  },
  "language_info": {
   "codemirror_mode": {
    "name": "ipython",
    "version": 3
   },
   "file_extension": ".py",
   "mimetype": "text/x-python",
   "name": "python",
   "nbconvert_exporter": "python",
   "pygments_lexer": "ipython3",
   "version": "3.8.5"
  }
 },
 "nbformat": 4,
 "nbformat_minor": 4
}
