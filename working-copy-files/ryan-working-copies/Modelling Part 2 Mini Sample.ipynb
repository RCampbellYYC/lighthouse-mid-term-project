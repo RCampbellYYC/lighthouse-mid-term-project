{
 "cells": [
  {
   "cell_type": "markdown",
   "metadata": {},
   "source": [
    "### Data Exploration"
   ]
  },
  {
   "cell_type": "code",
   "execution_count": 118,
   "metadata": {},
   "outputs": [
    {
     "data": {
      "image/png": "[encoded data removed]",
      "text/plain": [
       "<Figure size 720x720 with 1 Axes>"
      ]
     },
     "metadata": {
      "needs_background": "light"
     },
     "output_type": "display_data"
    }
   ],
   "source": [
    "# Lots of data points around zero\n",
    "plt.hist(flights['arr_delay'], bins=100) \n",
    "#plt.ylim(0, 2000)\n",
    "plt.xlim(-250, 500)\n",
    "plt.show()"
   ]
  },
  {
   "cell_type": "code",
   "execution_count": null,
   "metadata": {},
   "outputs": [],
   "source": []
  },
  {
   "cell_type": "markdown",
   "metadata": {},
   "source": [
    "# Modelling"
   ]
  },
  {
   "cell_type": "code",
   "execution_count": null,
   "metadata": {},
   "outputs": [],
   "source": [
    "### Garbage Collect\n",
    "import gc\n",
    "gc.collect()"
   ]
  },
  {
   "cell_type": "markdown",
   "metadata": {},
   "source": [
    "### Load Packages"
   ]
  },
  {
   "cell_type": "code",
   "execution_count": 77,
   "metadata": {},
   "outputs": [],
   "source": [
    "import pandas as pd\n",
    "import numpy as np\n",
    "import seaborn as sns\n",
    "from datetime import datetime \n",
    "import datetime as dt\n",
    "import matplotlib.pyplot as plt"
   ]
  },
  {
   "cell_type": "markdown",
   "metadata": {},
   "source": [
    "### Load and Prep Data"
   ]
  },
  {
   "cell_type": "code",
   "execution_count": 226,
   "metadata": {},
   "outputs": [],
   "source": [
    "# Prep data for ML\n",
    "\n",
    "#Load balanced data\n",
    "#Even re-sample of delay and no delay from orig dataset\n",
    "#flights = pd.read_csv(r'C:\\Users\\Ryan\\Lighthouse\\Bootcamp\\w6\\midterm\\Data\\cleaned\\mini\\mini_sample.csv', delimiter=',', low_memory=False)\n",
    "flights = pd.read_csv(r'C:\\Users\\Ryan\\Lighthouse\\Bootcamp\\w6\\midterm\\Data\\cleaned\\mini\\new5\\twohund_sample.csv', delimiter=',', low_memory=False)\n",
    "flights.head()\n",
    "\n",
    "#Add Date Featues to table\n",
    "flights['year'] = pd.to_datetime(flights['fl_date']).dt.year\n",
    "flights['quarter'] = pd.to_datetime(flights['fl_date']).dt.quarter\n",
    "flights['month'] = pd.to_datetime(flights['fl_date']).dt.month\n",
    "flights['day_of_month'] = pd.to_datetime(flights['fl_date']).dt.day\n",
    "flights['day_of_week'] = pd.to_datetime(flights['fl_date']).dt.dayofweek\n",
    "\n",
    "#Add time features to table\n",
    "flights['crs_dep_hour'] = pd.to_datetime(flights['crs_dep_time'], format='%H%M', errors ='coerce').dt.hour\n",
    "flights['crs_arr_hour'] = pd.to_datetime(flights['crs_dep_time'], format='%H%M', errors ='coerce').dt.hour\n",
    "\n",
    "#Add column with delay or no delay\n",
    "flights['arr_delay_flag'] = flights['arr_delay'].map(lambda x: 1 if x > 0 else 0)\n",
    "\n",
    "#Import weather data\n",
    "weather = pd.read_csv(r'C:\\Users\\Ryan\\Lighthouse\\Bootcamp\\w6\\midterm\\Weather2\\weather_table.csv', delimiter=',', low_memory=False)\n",
    "\n",
    "#Add weather data to flights\n",
    "flights = pd.merge(flights, weather, how='left', left_on=['fl_date', 'dest'], right_on = ['date_time', 'location'])\n",
    "\n",
    "# Drop nas\n",
    "flights = flights[flights['weather_type'].notna()]\n",
    "\n",
    "#Remove duplicate columns\n",
    "flights = flights.loc[:,~flights.columns.duplicated()]"
   ]
  },
  {
   "cell_type": "code",
   "execution_count": null,
   "metadata": {},
   "outputs": [],
   "source": []
  },
  {
   "cell_type": "markdown",
   "metadata": {},
   "source": [
    "# Classifier Modelling for Delay and No Delay"
   ]
  },
  {
   "cell_type": "markdown",
   "metadata": {},
   "source": [
    "### XGBoost with One Hot Encoding - 50,000 Balanced Dataset"
   ]
  },
  {
   "cell_type": "code",
   "execution_count": 8,
   "metadata": {},
   "outputs": [
    {
     "name": "stderr",
     "output_type": "stream",
     "text": [
      "C:\\Users\\Ryan\\anaconda3\\lib\\site-packages\\xgboost\\sklearn.py:888: UserWarning: The use of label encoder in XGBClassifier is deprecated and will be removed in a future release. To remove this warning, do the following: 1) Pass option use_label_encoder=False when constructing XGBClassifier object; and 2) Encode your labels (y) as integers starting with 0, i.e. 0, 1, 2, ..., [num_class - 1].\n",
      "  warnings.warn(label_encoder_deprecation_msg, UserWarning)\n"
     ]
    },
    {
     "name": "stdout",
     "output_type": "stream",
     "text": [
      "              precision    recall  f1-score   support\n",
      "\n",
      "           0       0.52      0.50      0.51      7461\n",
      "           1       0.52      0.55      0.53      7539\n",
      "\n",
      "    accuracy                           0.52     15000\n",
      "   macro avg       0.52      0.52      0.52     15000\n",
      "weighted avg       0.52      0.52      0.52     15000\n",
      "\n",
      "Accuracy: 0.5208\n",
      "F1 Score: 0.533912592400467\n",
      "Recall: 0.5460936463721979\n",
      "Precision: 0.522263097805404\n",
      "AUC Score: 0.5206677855235873\n"
     ]
    }
   ],
   "source": [
    "# XGB Classifier - Balanced Dataset - Onehot Encoding - Cleaned Up Version\n",
    "# Weather Added\n",
    "\n",
    "# Select Features and Assign X and y\n",
    "cols = ['distance', 'crs_arr_time', 'crs_dep_time', 'day_of_month', 'month', 'day_of_week', 'op_unique_carrier', 'origin', 'dest', 'weather_type', ]      \n",
    "#'tail_num' , 'crs_dest_time', 'op_carrier_fl_num', 'op_carrier_fl_num'\n",
    "# crs_dep_time', crs_dep_hour', 'crs_arr_hour''crs_arr_time', 'crs_elapsed_time', 'crs_dep_time', 'dest', 'tail_num', \n",
    "#crs_arr_time', 'op_unique_carrier', 'crs_dep_hour', 'crs_arr_time', 'crs_elapsed_time']\n",
    "X = flights[cols]\n",
    "y = flights['arr_delay_flag']\n",
    "\n",
    "# Onehot encoding\n",
    "cat_vars = ['day_of_month', 'month', 'day_of_week', 'op_unique_carrier', 'origin', 'dest', 'weather_type']\n",
    "X = pd.get_dummies(X, columns=cat_vars)\n",
    "\n",
    "# Make train-test split and scale if needed\n",
    "#from sklearn.preprocessing import StandardScaler\n",
    "#scaler = StandardScaler()\n",
    "#Xsc = scaler.fit_transform(X)\n",
    "from sklearn.model_selection import train_test_split\n",
    "X_train, X_test, y_train, y_test = train_test_split(X, y, train_size=0.7, test_size=0.3, random_state=101)\n",
    "\n",
    "#Model\n",
    "import xgboost as xgb\n",
    "model = xgb.XGBClassifier(objective = 'reg:squarederror')\n",
    "model = model.fit(X_train, y_train)\n",
    "y_pred = model.predict(X_test)\n",
    "\n",
    "#Evaluate\n",
    "from sklearn.metrics import classification_report, accuracy_score, recall_score, f1_score, precision_recall_curve\n",
    "from sklearn.metrics import average_precision_score,roc_auc_score, confusion_matrix, plot_confusion_matrix, precision_score\n",
    "print(classification_report(y_test, y_pred))\n",
    "print(\"Accuracy:\", accuracy_score(y_test, y_pred))\n",
    "print(\"F1 Score:\", f1_score(y_test, y_pred))\n",
    "print(\"Recall:\", recall_score(y_test, y_pred))\n",
    "print(\"Precision:\", precision_score(y_test, y_pred))\n",
    "print(\"AUC Score:\", roc_auc_score(y_test, y_pred))"
   ]
  },
  {
   "cell_type": "markdown",
   "metadata": {},
   "source": [
    "### XGB Label Encoding Feature Importance"
   ]
  },
  {
   "cell_type": "code",
   "execution_count": 26,
   "metadata": {},
   "outputs": [
    {
     "name": "stderr",
     "output_type": "stream",
     "text": [
      "<ipython-input-26-b9f253f47b02>:21: SettingWithCopyWarning: \n",
      "A value is trying to be set on a copy of a slice from a DataFrame.\n",
      "Try using .loc[row_indexer,col_indexer] = value instead\n",
      "\n",
      "See the caveats in the documentation: https://pandas.pydata.org/pandas-docs/stable/user_guide/indexing.html#returning-a-view-versus-a-copy\n",
      "  X[col] = label_encoder.fit_transform(X[col])\n"
     ]
    },
    {
     "name": "stdout",
     "output_type": "stream",
     "text": [
      "              precision    recall  f1-score   support\n",
      "\n",
      "           0       0.51      0.50      0.51      7461\n",
      "           1       0.52      0.53      0.52      7539\n",
      "\n",
      "    accuracy                           0.52     15000\n",
      "   macro avg       0.52      0.52      0.52     15000\n",
      "weighted avg       0.52      0.52      0.52     15000\n",
      "\n",
      "Accuracy: 0.5154666666666666\n",
      "F1 Score: 0.5220936349289846\n",
      "Recall: 0.5265950391298581\n",
      "Precision: 0.517668535663059\n",
      "AUC Score: 0.5154084966457493\n"
     ]
    }
   ],
   "source": [
    "# XGB Classifier - Balanced Dataset - Onehot Encoding\n",
    "# New features added all\n",
    "\n",
    "# Select Features and Assign X and y\n",
    "cols = ['distance', 'crs_arr_time', 'crs_dep_time', 'day_of_month', 'month', 'day_of_week', 'op_unique_carrier', 'origin', 'dest', 'weather_type', \n",
    "       'origin_fl_density', 'dest_fl_density',\n",
    "       'predicted_speed_mi/min', 'actual_speed_mi/min', 'origin_passengers/mo',\n",
    "       'dest_passengers/mo', 'origin_freight/mo', 'dest_freight/mo',\n",
    "       'origin_intl_dep/mo', 'dest_intl_dep/mo', 'origin_intl_arr/mo',\n",
    "       'dest_intl_arr/mo', 'origin_airport_size', 'dest_airport_size',\n",
    "       'size_x', 'dest_airport_size.1', 'dist_group', 'season',\n",
    "       'dep_early_morning', 'quarter']      \n",
    "X = flights[cols]\n",
    "y = flights['arr_delay_flag']\n",
    "\n",
    "# encode categorical columns\n",
    "from sklearn import preprocessing\n",
    "label_encoder = preprocessing.LabelEncoder()\n",
    "cat_vars = X.select_dtypes(include= 'object').columns.tolist()\n",
    "for col in cat_vars:\n",
    "    X[col] = label_encoder.fit_transform(X[col])\n",
    "\n",
    "# Onehot encoding\n",
    "#cat_vars = ['day_of_month', 'month', 'day_of_week', 'op_unique_carrier', 'origin', 'dest', 'weather_type']\n",
    "#X = pd.get_dummies(X, columns=cat_vars)\n",
    "\n",
    "# Make train-test split and scale if needed\n",
    "#from sklearn.preprocessing import StandardScaler\n",
    "#scaler = StandardScaler()\n",
    "#Xsc = scaler.fit_transform(X)\n",
    "from sklearn.model_selection import train_test_split\n",
    "X_train, X_test, y_train, y_test = train_test_split(X, y, train_size=0.7, test_size=0.3, random_state=101)\n",
    "\n",
    "#Model\n",
    "import xgboost as xgb\n",
    "model = xgb.XGBClassifier(objective = 'reg:squarederror')\n",
    "model = model.fit(X_train, y_train)\n",
    "y_pred = model.predict(X_test)\n",
    "\n",
    "#Evaluate\n",
    "from sklearn.metrics import classification_report, accuracy_score, recall_score, f1_score, precision_recall_curve\n",
    "from sklearn.metrics import average_precision_score,roc_auc_score, confusion_matrix, plot_confusion_matrix, precision_score\n",
    "print(classification_report(y_test, y_pred))\n",
    "print(\"Accuracy:\", accuracy_score(y_test, y_pred))\n",
    "print(\"F1 Score:\", f1_score(y_test, y_pred))\n",
    "print(\"Recall:\", recall_score(y_test, y_pred))\n",
    "print(\"Precision:\", precision_score(y_test, y_pred))\n",
    "print(\"AUC Score:\", roc_auc_score(y_test, y_pred))"
   ]
  },
  {
   "cell_type": "markdown",
   "metadata": {},
   "source": [
    "### Feature Importance"
   ]
  },
  {
   "cell_type": "code",
   "execution_count": 29,
   "metadata": {},
   "outputs": [
    {
     "data": {
      "image/png": "[encoded data removed]",
      "text/plain": [
       "<Figure size 720x720 with 1 Axes>"
      ]
     },
     "metadata": {
      "needs_background": "light"
     },
     "output_type": "display_data"
    }
   ],
   "source": [
    "# Plot XGB Feature Importance\n",
    "# .set_yticklabels(cols)\n",
    "fig = xgb.plot_importance(model)\n",
    "#fig.set_yticklabels(cols)\n",
    "plt.rcParams['figure.figsize'] = [10, 10]\n",
    "plt.show()"
   ]
  },
  {
   "cell_type": "code",
   "execution_count": 28,
   "metadata": {},
   "outputs": [
    {
     "data": {
      "image/png": "[encoded data removed]",
      "text/plain": [
       "<Figure size 720x720 with 1 Axes>"
      ]
     },
     "metadata": {
      "needs_background": "light"
     },
     "output_type": "display_data"
    }
   ],
   "source": [
    "plt.rcParams['figure.figsize'] = [10, 10]\n",
    "sorted_idx = model.feature_importances_.argsort()\n",
    "plt.barh(flights[cols].columns[sorted_idx], model.feature_importances_[sorted_idx])\n",
    "plt.xlabel(\"Xgboost Feature Importance\")\n",
    "plt.show()"
   ]
  },
  {
   "cell_type": "markdown",
   "metadata": {},
   "source": [
    "### XGB One Hot with all new cat columns"
   ]
  },
  {
   "cell_type": "code",
   "execution_count": 73,
   "metadata": {},
   "outputs": [
    {
     "name": "stderr",
     "output_type": "stream",
     "text": [
      "C:\\Users\\Ryan\\anaconda3\\lib\\site-packages\\xgboost\\sklearn.py:888: UserWarning: The use of label encoder in XGBClassifier is deprecated and will be removed in a future release. To remove this warning, do the following: 1) Pass option use_label_encoder=False when constructing XGBClassifier object; and 2) Encode your labels (y) as integers starting with 0, i.e. 0, 1, 2, ..., [num_class - 1].\n",
      "  warnings.warn(label_encoder_deprecation_msg, UserWarning)\n"
     ]
    },
    {
     "name": "stdout",
     "output_type": "stream",
     "text": [
      "              precision    recall  f1-score   support\n",
      "\n",
      "           0       0.51      0.51      0.51      7461\n",
      "           1       0.52      0.52      0.52      7539\n",
      "\n",
      "    accuracy                           0.51     15000\n",
      "   macro avg       0.51      0.51      0.51     15000\n",
      "weighted avg       0.51      0.51      0.51     15000\n",
      "\n",
      "Accuracy: 0.5131333333333333\n",
      "F1 Score: 0.5172208633569115\n",
      "Recall: 0.5189017111022682\n",
      "Precision: 0.5155508697944122\n",
      "AUC Score: 0.5131031809766803\n"
     ]
    }
   ],
   "source": [
    "# XGB Classifier - Balanced Dataset - Onehot Encoding\n",
    "# New features added all\n",
    "\n",
    "# Select Features and Assign X and y\n",
    "cols = ['distance', 'crs_arr_time', 'crs_dep_time', 'day_of_month', 'month', 'day_of_week', 'op_unique_carrier', 'origin', 'dest', 'weather_type', \n",
    "        'origin_fl_density', 'dest_fl_density', 'crs_arr_daytime', 'crs_dep_daytime',\n",
    "        'predicted_speed_mi/min', 'actual_speed_mi/min', 'origin_passengers/mo', 'dest_passengers/mo', \n",
    "        'origin_freight/mo', 'dest_freight/mo', 'origin_intl_dep/mo', 'dest_intl_dep/mo', 'origin_intl_arr/mo', 'dest_intl_arr/mo',\n",
    "        'origin_airport_size', 'dest_airport_size', 'size_x', 'dist_group', 'season', 'dep_early_morning'\n",
    "       ] \n",
    "\n",
    "X = flights[cols]\n",
    "y = flights['arr_delay_flag']\n",
    "\n",
    "# encode categorical columns\n",
    "#from sklearn import preprocessing\n",
    "#label_encoder = preprocessing.LabelEncoder()\n",
    "#cat_vars = X.select_dtypes(include= 'object').columns.tolist()\n",
    "#for col in cat_vars:\n",
    "#    X[col] = label_encoder.fit_transform(X[col])\n",
    "\n",
    "#Onehot encoding\n",
    "cat_vars = ['day_of_month', 'month', 'day_of_week', 'op_unique_carrier', 'origin', 'dest', 'weather_type',\n",
    "           'crs_arr_daytime', 'crs_dep_daytime', \n",
    "           'origin_airport_size', 'dest_airport_size', 'size_x', 'dist_group', 'season', 'dep_early_morning'\n",
    "           ]\n",
    "X = pd.get_dummies(X, columns=cat_vars)\n",
    "\n",
    "# Make train-test split and scale if needed\n",
    "#from sklearn.preprocessing import StandardScaler\n",
    "#scaler = StandardScaler()\n",
    "#Xsc = scaler.fit_transform(X)\n",
    "from sklearn.model_selection import train_test_split\n",
    "X_train, X_test, y_train, y_test = train_test_split(X, y, train_size=0.7, test_size=0.3, random_state=101)\n",
    "\n",
    "#Model\n",
    "import xgboost as xgb\n",
    "model = xgb.XGBClassifier(objective = 'reg:squarederror')\n",
    "model = model.fit(X_train, y_train)\n",
    "y_pred = model.predict(X_test)\n",
    "\n",
    "#Evaluate\n",
    "from sklearn.metrics import classification_report, accuracy_score, recall_score, f1_score, precision_recall_curve\n",
    "from sklearn.metrics import average_precision_score,roc_auc_score, confusion_matrix, plot_confusion_matrix, precision_score\n",
    "print(classification_report(y_test, y_pred))\n",
    "print(\"Accuracy:\", accuracy_score(y_test, y_pred))\n",
    "print(\"F1 Score:\", f1_score(y_test, y_pred))\n",
    "print(\"Recall:\", recall_score(y_test, y_pred))\n",
    "print(\"Precision:\", precision_score(y_test, y_pred))\n",
    "print(\"AUC Score:\", roc_auc_score(y_test, y_pred))"
   ]
  },
  {
   "cell_type": "markdown",
   "metadata": {},
   "source": [
    "### XGB Classification Few Variables"
   ]
  },
  {
   "cell_type": "code",
   "execution_count": 72,
   "metadata": {},
   "outputs": [
    {
     "name": "stderr",
     "output_type": "stream",
     "text": [
      "C:\\Users\\Ryan\\anaconda3\\lib\\site-packages\\xgboost\\sklearn.py:888: UserWarning: The use of label encoder in XGBClassifier is deprecated and will be removed in a future release. To remove this warning, do the following: 1) Pass option use_label_encoder=False when constructing XGBClassifier object; and 2) Encode your labels (y) as integers starting with 0, i.e. 0, 1, 2, ..., [num_class - 1].\n",
      "  warnings.warn(label_encoder_deprecation_msg, UserWarning)\n"
     ]
    },
    {
     "name": "stdout",
     "output_type": "stream",
     "text": [
      "              precision    recall  f1-score   support\n",
      "\n",
      "           0       0.52      0.49      0.50      7461\n",
      "           1       0.52      0.55      0.54      7539\n",
      "\n",
      "    accuracy                           0.52     15000\n",
      "   macro avg       0.52      0.52      0.52     15000\n",
      "weighted avg       0.52      0.52      0.52     15000\n",
      "\n",
      "Accuracy: 0.5196\n",
      "F1 Score: 0.5366512345679012\n",
      "Recall: 0.5535216872264226\n",
      "Precision: 0.5207787345563459\n",
      "AUC Score: 0.5194226851894075\n"
     ]
    }
   ],
   "source": [
    "# XGB Classifier - Balanced Dataset - Onehot Encoding\n",
    "# New features added all\n",
    "\n",
    "# Select Features and Assign X and y\n",
    "cols = ['distance', 'crs_arr_hour', 'crs_dep_hour', \n",
    "        'day_of_month', 'month', 'day_of_week', 'op_unique_carrier', 'origin', 'dest', 'weather_type', \n",
    "       ] \n",
    "\n",
    "\n",
    "X = flights[cols]\n",
    "y = flights['arr_delay_flag']\n",
    "\n",
    "# encode categorical columns\n",
    "#from sklearn import preprocessing\n",
    "#label_encoder = preprocessing.LabelEncoder()\n",
    "#cat_vars = X.select_dtypes(include= 'object').columns.tolist()\n",
    "#for col in cat_vars:\n",
    "#    X[col] = label_encoder.fit_transform(X[col])\n",
    "\n",
    "#Onehot encoding\n",
    "cat_vars = ['crs_arr_hour', 'crs_dep_hour', 'day_of_month', 'month', 'day_of_week', 'op_unique_carrier', 'origin', 'dest', 'weather_type']\n",
    "X = pd.get_dummies(X, columns=cat_vars)\n",
    "\n",
    "# Make train-test split and scale if needed\n",
    "#from sklearn.preprocessing import StandardScaler\n",
    "#scaler = StandardScaler()\n",
    "#Xsc = scaler.fit_transform(X)\n",
    "from sklearn.model_selection import train_test_split\n",
    "X_train, X_test, y_train, y_test = train_test_split(X, y, train_size=0.7, test_size=0.3, random_state=101)\n",
    "\n",
    "#Model\n",
    "import xgboost as xgb\n",
    "model = xgb.XGBClassifier(objective = 'reg:squarederror')\n",
    "model = model.fit(X_train, y_train)\n",
    "y_pred = model.predict(X_test)\n",
    "\n",
    "#Evaluate\n",
    "from sklearn.metrics import classification_report, accuracy_score, recall_score, f1_score, precision_recall_curve\n",
    "from sklearn.metrics import average_precision_score,roc_auc_score, confusion_matrix, plot_confusion_matrix, precision_score\n",
    "print(classification_report(y_test, y_pred))\n",
    "print(\"Accuracy:\", accuracy_score(y_test, y_pred))\n",
    "print(\"F1 Score:\", f1_score(y_test, y_pred))\n",
    "print(\"Recall:\", recall_score(y_test, y_pred))\n",
    "print(\"Precision:\", precision_score(y_test, y_pred))\n",
    "print(\"AUC Score:\", roc_auc_score(y_test, y_pred))"
   ]
  },
  {
   "cell_type": "markdown",
   "metadata": {},
   "source": [
    "### XGB New Features"
   ]
  },
  {
   "cell_type": "code",
   "execution_count": 75,
   "metadata": {},
   "outputs": [
    {
     "name": "stderr",
     "output_type": "stream",
     "text": [
      "<ipython-input-75-051cfd8d4dd8>:24: SettingWithCopyWarning: \n",
      "A value is trying to be set on a copy of a slice from a DataFrame.\n",
      "Try using .loc[row_indexer,col_indexer] = value instead\n",
      "\n",
      "See the caveats in the documentation: https://pandas.pydata.org/pandas-docs/stable/user_guide/indexing.html#returning-a-view-versus-a-copy\n",
      "  X[col] = label_encoder.fit_transform(X[col])\n",
      "C:\\Users\\Ryan\\anaconda3\\lib\\site-packages\\xgboost\\sklearn.py:888: UserWarning: The use of label encoder in XGBClassifier is deprecated and will be removed in a future release. To remove this warning, do the following: 1) Pass option use_label_encoder=False when constructing XGBClassifier object; and 2) Encode your labels (y) as integers starting with 0, i.e. 0, 1, 2, ..., [num_class - 1].\n",
      "  warnings.warn(label_encoder_deprecation_msg, UserWarning)\n"
     ]
    },
    {
     "name": "stdout",
     "output_type": "stream",
     "text": [
      "              precision    recall  f1-score   support\n",
      "\n",
      "           0       0.51      0.51      0.51      7461\n",
      "           1       0.52      0.52      0.52      7539\n",
      "\n",
      "    accuracy                           0.52     15000\n",
      "   macro avg       0.52      0.52      0.52     15000\n",
      "weighted avg       0.52      0.52      0.52     15000\n",
      "\n",
      "Accuracy: 0.5150666666666667\n",
      "F1 Score: 0.5197411857916281\n",
      "Recall: 0.5220851571826503\n",
      "Precision: 0.5174181674773235\n",
      "AUC Score: 0.5150299797439856\n"
     ]
    }
   ],
   "source": [
    "# XGB Classifier - Balanced Dataset - Onehot Encoding\n",
    "# New features added all\n",
    "\n",
    "# Select Features and Assign X and y\n",
    "cols = ['distance', 'crs_arr_time', 'crs_dep_time', \n",
    "        'day_of_month', 'month', 'day_of_week', 'op_unique_carrier', 'origin', 'dest', 'weather_type', \n",
    "        'origin_fl_density', 'dest_fl_density', 'crs_arr_daytime', 'crs_dep_daytime',\n",
    "        'predicted_speed_mi/min',\n",
    "        'origin_airport_size', 'dest_airport_size', 'size_x', 'dist_group', 'season', 'dep_early_morning'\n",
    "       ] \n",
    "\n",
    "X = flights[cols]\n",
    "y = flights['arr_delay_flag']\n",
    "\n",
    "# Label encoding\n",
    "from sklearn import preprocessing\n",
    "label_encoder = preprocessing.LabelEncoder()\n",
    "#cat_vars = X.select_dtypes(include= 'object').columns.tolist()\n",
    "cat_vars = ['day_of_month', 'month', 'day_of_week', 'op_unique_carrier', 'origin', 'dest', 'weather_type',\n",
    "           'crs_arr_daytime', 'crs_dep_daytime', \n",
    "           'origin_airport_size', 'dest_airport_size', 'size_x', 'dist_group', 'season', 'dep_early_morning'\n",
    "           ]\n",
    "for col in cat_vars:\n",
    "    X[col] = label_encoder.fit_transform(X[col])\n",
    "\n",
    "#Onehot encoding\n",
    "#cat_vars = ['day_of_month', 'month', 'day_of_week', 'op_unique_carrier', 'origin', 'dest', 'weather_type',\n",
    "#           'crs_arr_daytime', 'crs_dep_daytime', \n",
    "#           'origin_airport_size', 'dest_airport_size', 'size_x', 'dist_group', 'season', 'dep_early_morning'\n",
    "#           ]\n",
    "#X = pd.get_dummies(X, columns=cat_vars)\n",
    "\n",
    "# Make train-test split and scale if needed\n",
    "#from sklearn.preprocessing import StandardScaler\n",
    "#scaler = StandardScaler()\n",
    "#Xsc = scaler.fit_transform(X)\n",
    "from sklearn.model_selection import train_test_split\n",
    "X_train, X_test, y_train, y_test = train_test_split(X, y, train_size=0.7, test_size=0.3, random_state=101)\n",
    "\n",
    "#Model\n",
    "import xgboost as xgb\n",
    "model = xgb.XGBClassifier(objective = 'reg:squarederror')\n",
    "model = model.fit(X_train, y_train)\n",
    "y_pred = model.predict(X_test)\n",
    "\n",
    "#Evaluate\n",
    "from sklearn.metrics import classification_report, accuracy_score, recall_score, f1_score, precision_recall_curve\n",
    "from sklearn.metrics import average_precision_score,roc_auc_score, confusion_matrix, plot_confusion_matrix, precision_score\n",
    "print(classification_report(y_test, y_pred))\n",
    "print(\"Accuracy:\", accuracy_score(y_test, y_pred))\n",
    "print(\"F1 Score:\", f1_score(y_test, y_pred))\n",
    "print(\"Recall:\", recall_score(y_test, y_pred))\n",
    "print(\"Precision:\", precision_score(y_test, y_pred))\n",
    "print(\"AUC Score:\", roc_auc_score(y_test, y_pred))"
   ]
  },
  {
   "cell_type": "code",
   "execution_count": 76,
   "metadata": {},
   "outputs": [
    {
     "data": {
      "image/png": "[encoded data removed]",
      "text/plain": [
       "<Figure size 720x720 with 1 Axes>"
      ]
     },
     "metadata": {
      "needs_background": "light"
     },
     "output_type": "display_data"
    }
   ],
   "source": [
    "# Plot XGB Feature Importance\n",
    "# .set_yticklabels(cols)\n",
    "fig = xgb.plot_importance(model)\n",
    "#fig.set_yticklabels(cols)\n",
    "plt.rcParams['figure.figsize'] = [10, 10]\n",
    "plt.show()"
   ]
  },
  {
   "cell_type": "markdown",
   "metadata": {},
   "source": [
    "### XGB New Features Label Encoding"
   ]
  },
  {
   "cell_type": "code",
   "execution_count": 100,
   "metadata": {},
   "outputs": [
    {
     "name": "stderr",
     "output_type": "stream",
     "text": [
      "<ipython-input-100-17b0be3ea898>:24: SettingWithCopyWarning: \n",
      "A value is trying to be set on a copy of a slice from a DataFrame.\n",
      "Try using .loc[row_indexer,col_indexer] = value instead\n",
      "\n",
      "See the caveats in the documentation: https://pandas.pydata.org/pandas-docs/stable/user_guide/indexing.html#returning-a-view-versus-a-copy\n",
      "  X[col] = label_encoder.fit_transform(X[col])\n",
      "C:\\Users\\Ryan\\anaconda3\\lib\\site-packages\\xgboost\\sklearn.py:888: UserWarning: The use of label encoder in XGBClassifier is deprecated and will be removed in a future release. To remove this warning, do the following: 1) Pass option use_label_encoder=False when constructing XGBClassifier object; and 2) Encode your labels (y) as integers starting with 0, i.e. 0, 1, 2, ..., [num_class - 1].\n",
      "  warnings.warn(label_encoder_deprecation_msg, UserWarning)\n"
     ]
    },
    {
     "name": "stdout",
     "output_type": "stream",
     "text": [
      "              precision    recall  f1-score   support\n",
      "\n",
      "           0       0.52      0.51      0.52      7461\n",
      "           1       0.52      0.52      0.52      7539\n",
      "\n",
      "    accuracy                           0.52     15000\n",
      "   macro avg       0.52      0.52      0.52     15000\n",
      "weighted avg       0.52      0.52      0.52     15000\n",
      "\n",
      "Accuracy: 0.5198666666666667\n",
      "F1 Score: 0.5235512040222281\n",
      "Recall: 0.5248706725029845\n",
      "Precision: 0.5222383529101228\n",
      "AUC Score: 0.5198405098207188\n"
     ]
    }
   ],
   "source": [
    "# XGB Classifier - Balanced Dataset - Onehot Encoding\n",
    "# New features added all\n",
    "\n",
    "# Select Features and Assign X and y\n",
    "cols = ['distance', 'crs_arr_time', 'crs_dep_time', \n",
    "        'day_of_month', 'month', 'day_of_week', 'op_unique_carrier', 'origin', 'dest', 'weather_type', \n",
    "        'origin_fl_density', 'dest_fl_density', 'crs_arr_daytime', 'crs_dep_daytime',\n",
    "        'predicted_speed',\n",
    "        'origin_airport_size', 'dest_airport_size', 'dist_group', 'season', 'dep_early_morning'\n",
    "       ] \n",
    "\n",
    "X = flights[cols]\n",
    "y = flights['arr_delay_flag']\n",
    "\n",
    "# Label encoding\n",
    "from sklearn import preprocessing\n",
    "label_encoder = preprocessing.LabelEncoder()\n",
    "#cat_vars = X.select_dtypes(include= 'object').columns.tolist()\n",
    "cat_vars = ['day_of_month', 'month', 'day_of_week', 'op_unique_carrier', 'origin', 'dest', 'weather_type',\n",
    "           'crs_arr_daytime', 'crs_dep_daytime', \n",
    "           'origin_airport_size', 'dest_airport_size', 'dist_group', 'season', 'dep_early_morning'\n",
    "           ]\n",
    "for col in cat_vars:\n",
    "    X[col] = label_encoder.fit_transform(X[col])\n",
    "\n",
    "#Onehot encoding\n",
    "#cat_vars = ['day_of_month', 'month', 'day_of_week', 'op_unique_carrier', 'origin', 'dest', 'weather_type',\n",
    "#           'crs_arr_daytime', 'crs_dep_daytime', \n",
    "#           'origin_airport_size', 'dest_airport_size', 'size_x', 'dist_group', 'season', 'dep_early_morning'\n",
    "#           ]\n",
    "#X = pd.get_dummies(X, columns=cat_vars)\n",
    "\n",
    "# Make train-test split and scale if needed\n",
    "#from sklearn.preprocessing import StandardScaler\n",
    "#scaler = StandardScaler()\n",
    "#Xsc = scaler.fit_transform(X)\n",
    "from sklearn.model_selection import train_test_split\n",
    "X_train, X_test, y_train, y_test = train_test_split(X, y, train_size=0.7, test_size=0.3, random_state=101)\n",
    "\n",
    "#Model\n",
    "import xgboost as xgb\n",
    "model = xgb.XGBClassifier(objective = 'reg:squarederror')\n",
    "model = model.fit(X_train, y_train)\n",
    "y_pred = model.predict(X_test)\n",
    "\n",
    "#Evaluate\n",
    "from sklearn.metrics import classification_report, accuracy_score, recall_score, f1_score, precision_recall_curve\n",
    "from sklearn.metrics import average_precision_score,roc_auc_score, confusion_matrix, plot_confusion_matrix, precision_score\n",
    "print(classification_report(y_test, y_pred))\n",
    "print(\"Accuracy:\", accuracy_score(y_test, y_pred))\n",
    "print(\"F1 Score:\", f1_score(y_test, y_pred))\n",
    "print(\"Recall:\", recall_score(y_test, y_pred))\n",
    "print(\"Precision:\", precision_score(y_test, y_pred))\n",
    "print(\"AUC Score:\", roc_auc_score(y_test, y_pred))"
   ]
  },
  {
   "cell_type": "code",
   "execution_count": 101,
   "metadata": {},
   "outputs": [
    {
     "data": {
      "image/png": "[encoded data removed]",
      "text/plain": [
       "<Figure size 720x720 with 1 Axes>"
      ]
     },
     "metadata": {
      "needs_background": "light"
     },
     "output_type": "display_data"
    }
   ],
   "source": [
    "# Plot XGB Feature Importance\n",
    "fig = xgb.plot_importance(model)\n",
    "plt.rcParams['figure.figsize'] = [10, 10]\n",
    "plt.show()"
   ]
  },
  {
   "cell_type": "markdown",
   "metadata": {},
   "source": [
    "### XGB New Features One Hot Encoding - Hyperparam Tuning - Best Model So Far"
   ]
  },
  {
   "cell_type": "code",
   "execution_count": 125,
   "metadata": {},
   "outputs": [
    {
     "name": "stderr",
     "output_type": "stream",
     "text": [
      "C:\\Users\\Ryan\\anaconda3\\lib\\site-packages\\xgboost\\sklearn.py:888: UserWarning: The use of label encoder in XGBClassifier is deprecated and will be removed in a future release. To remove this warning, do the following: 1) Pass option use_label_encoder=False when constructing XGBClassifier object; and 2) Encode your labels (y) as integers starting with 0, i.e. 0, 1, 2, ..., [num_class - 1].\n",
      "  warnings.warn(label_encoder_deprecation_msg, UserWarning)\n"
     ]
    },
    {
     "name": "stdout",
     "output_type": "stream",
     "text": [
      "              precision    recall  f1-score   support\n",
      "\n",
      "           0       0.52      0.38      0.44      7461\n",
      "           1       0.52      0.65      0.58      7539\n",
      "\n",
      "    accuracy                           0.52     15000\n",
      "   macro avg       0.52      0.52      0.51     15000\n",
      "weighted avg       0.52      0.52      0.51     15000\n",
      "\n",
      "Accuracy: 0.5174\n",
      "F1 Score: 0.5753505015545257\n",
      "Recall: 0.6504841490913914\n",
      "Precision: 0.515776188472865\n",
      "AUC Score: 0.5244875065866226\n"
     ]
    }
   ],
   "source": [
    "# XGB Classifier - Balanced Dataset - Onehot Encoding\n",
    "# New features added all\n",
    "\n",
    "# Select Features and Assign X and y\n",
    "cols = ['distance', 'crs_arr_time', 'crs_dep_time', \n",
    "        'day_of_month', 'month', 'day_of_week', 'op_unique_carrier', 'origin', 'dest', 'weather_type', \n",
    "        'origin_fl_density', 'dest_fl_density', 'crs_arr_daytime', 'crs_dep_daytime',\n",
    "        'predicted_speed',\n",
    "        'origin_airport_size', 'dest_airport_size', 'dist_group', 'season', 'dep_early_morning'\n",
    "       ] \n",
    "\n",
    "X = flights[cols]\n",
    "y = flights['arr_delay_flag']\n",
    "\n",
    "# Label encoding\n",
    "#from sklearn import preprocessing\n",
    "#label_encoder = preprocessing.LabelEncoder()\n",
    "#cat_vars = X.select_dtypes(include= 'object').columns.tolist()\n",
    "#cat_vars = ['day_of_month', 'month', 'day_of_week', 'op_unique_carrier', 'origin', 'dest', 'weather_type',\n",
    "#           'crs_arr_daytime', 'crs_dep_daytime', \n",
    "#           'origin_airport_size', 'dest_airport_size', 'dist_group', 'season', 'dep_early_morning'\n",
    "#           ]\n",
    "#for col in cat_vars:\n",
    "#    X[col] = label_encoder.fit_transform(X[col])\n",
    "\n",
    "#Onehot encoding\n",
    "cat_vars = ['day_of_month', 'month', 'day_of_week', 'op_unique_carrier', 'origin', 'dest', 'weather_type',\n",
    "           'crs_arr_daytime', 'crs_dep_daytime', \n",
    "           'origin_airport_size', 'dest_airport_size', 'dist_group', 'season', 'dep_early_morning'\n",
    "           ]\n",
    "X = pd.get_dummies(X, columns=cat_vars)\n",
    "\n",
    "# Make train-test split and scale if needed\n",
    "#from sklearn.preprocessing import StandardScaler\n",
    "#scaler = StandardScaler()\n",
    "#Xsc = scaler.fit_transform(X)\n",
    "from sklearn.model_selection import train_test_split\n",
    "X_train, X_test, y_train, y_test = train_test_split(X, y, train_size=0.7, test_size=0.3, random_state=101)\n",
    "\n",
    "#Model\n",
    "import xgboost as xgb\n",
    "model = xgb.XGBClassifier(objective = 'reg:squarederror', n_estimators=300, learning_rate=0.01, max_depth=8)\n",
    "#model = xgb.XGBClassifier(objective = 'reg:squarederror')  binary:logistic\n",
    "model = model.fit(X_train, y_train) \n",
    "y_pred = model.predict(X_test)\n",
    "y_score = model.predict_proba(X_test)[:,1]\n",
    "\n",
    "#Evaluate\n",
    "from sklearn.metrics import classification_report, accuracy_score, recall_score, f1_score, precision_recall_curve\n",
    "from sklearn.metrics import average_precision_score,roc_auc_score, confusion_matrix, plot_confusion_matrix, precision_score\n",
    "print(classification_report(y_test, y_pred))\n",
    "print(\"Accuracy:\", accuracy_score(y_test, y_pred))\n",
    "print(\"F1 Score:\", f1_score(y_test, y_pred))\n",
    "print(\"Recall:\", recall_score(y_test, y_pred))\n",
    "print(\"Precision:\", precision_score(y_test, y_pred))\n",
    "print(\"AUC Score:\", roc_auc_score(y_test, y_score))"
   ]
  },
  {
   "cell_type": "markdown",
   "metadata": {},
   "source": [
    "### RF Classifier"
   ]
  },
  {
   "cell_type": "code",
   "execution_count": 120,
   "metadata": {},
   "outputs": [
    {
     "name": "stdout",
     "output_type": "stream",
     "text": [
      "              precision    recall  f1-score   support\n",
      "\n",
      "           0       0.52      0.51      0.52      7461\n",
      "           1       0.53      0.54      0.53      7539\n",
      "\n",
      "    accuracy                           0.52     15000\n",
      "   macro avg       0.52      0.52      0.52     15000\n",
      "weighted avg       0.52      0.52      0.52     15000\n",
      "\n",
      "Accuracy: 0.5246\n",
      "F1 Score: 0.5315025294001708\n",
      "Recall: 0.5365433081310519\n",
      "Precision: 0.5265555844832075\n",
      "AUC Score: 0.535611869611621\n"
     ]
    }
   ],
   "source": [
    "# RF Classifier - Balanced Dataset - Onehot Encoding\n",
    "# New features added all\n",
    "\n",
    "# Select Features and Assign X and y\n",
    "cols = ['distance', 'crs_arr_time', 'crs_dep_time', \n",
    "        'day_of_month', 'month', 'day_of_week', 'op_unique_carrier', 'origin', 'dest', 'weather_type', \n",
    "        'origin_fl_density', 'dest_fl_density', 'crs_arr_daytime', 'crs_dep_daytime',\n",
    "        'predicted_speed',\n",
    "        'origin_airport_size', 'dest_airport_size', 'dist_group', 'season', 'dep_early_morning'\n",
    "       ] \n",
    "\n",
    "X = flights[cols]\n",
    "y = flights['arr_delay_flag']\n",
    "\n",
    "# Label encoding\n",
    "#from sklearn import preprocessing\n",
    "#label_encoder = preprocessing.LabelEncoder()\n",
    "#cat_vars = X.select_dtypes(include= 'object').columns.tolist()\n",
    "#cat_vars = ['day_of_month', 'month', 'day_of_week', 'op_unique_carrier', 'origin', 'dest', 'weather_type',\n",
    "#           'crs_arr_daytime', 'crs_dep_daytime', \n",
    "#           'origin_airport_size', 'dest_airport_size', 'dist_group', 'season', 'dep_early_morning'\n",
    "#           ]\n",
    "#for col in cat_vars:\n",
    "#    X[col] = label_encoder.fit_transform(X[col])\n",
    "\n",
    "#Onehot encoding\n",
    "cat_vars = ['day_of_month', 'month', 'day_of_week', 'op_unique_carrier', 'origin', 'dest', 'weather_type',\n",
    "           'crs_arr_daytime', 'crs_dep_daytime', \n",
    "           'origin_airport_size', 'dest_airport_size', 'dist_group', 'season', 'dep_early_morning'\n",
    "           ]\n",
    "X = pd.get_dummies(X, columns=cat_vars)\n",
    "\n",
    "# Make train-test split and scale if needed\n",
    "#from sklearn.preprocessing import StandardScaler\n",
    "#scaler = StandardScaler()\n",
    "#Xsc = scaler.fit_transform(X)\n",
    "from sklearn.model_selection import train_test_split\n",
    "X_train, X_test, y_train, y_test = train_test_split(X, y, train_size=0.7, test_size=0.3, random_state=101)\n",
    "\n",
    "#Model\n",
    "from sklearn.ensemble import RandomForestClassifier\n",
    "import xgboost as xgb\n",
    "model = RandomForestClassifier(n_estimators=500)\n",
    "model = model.fit(X_train, y_train)\n",
    "y_pred = model.predict(X_test)\n",
    "y_score = model.predict_proba(X_test)[:,1]\n",
    "\n",
    "#Evaluate\n",
    "from sklearn.metrics import classification_report, accuracy_score, recall_score, f1_score, precision_recall_curve\n",
    "from sklearn.metrics import average_precision_score,roc_auc_score, confusion_matrix, plot_confusion_matrix, precision_score\n",
    "print(classification_report(y_test, y_pred))\n",
    "print(\"Accuracy:\", accuracy_score(y_test, y_pred))\n",
    "print(\"F1 Score:\", f1_score(y_test, y_pred))\n",
    "print(\"Recall:\", recall_score(y_test, y_pred))\n",
    "print(\"Precision:\", precision_score(y_test, y_pred))\n",
    "print(\"AUC Score:\", roc_auc_score(y_test, y_score))"
   ]
  },
  {
   "cell_type": "markdown",
   "metadata": {},
   "source": [
    "### XGB Hyperparam Tuning"
   ]
  },
  {
   "cell_type": "code",
   "execution_count": 126,
   "metadata": {},
   "outputs": [
    {
     "name": "stderr",
     "output_type": "stream",
     "text": [
      "C:\\Users\\Ryan\\anaconda3\\lib\\site-packages\\xgboost\\sklearn.py:888: UserWarning: The use of label encoder in XGBClassifier is deprecated and will be removed in a future release. To remove this warning, do the following: 1) Pass option use_label_encoder=False when constructing XGBClassifier object; and 2) Encode your labels (y) as integers starting with 0, i.e. 0, 1, 2, ..., [num_class - 1].\n",
      "  warnings.warn(label_encoder_deprecation_msg, UserWarning)\n"
     ]
    },
    {
     "name": "stdout",
     "output_type": "stream",
     "text": [
      "              precision    recall  f1-score   support\n",
      "\n",
      "           0       0.52      0.35      0.42      7461\n",
      "           1       0.52      0.68      0.59      7539\n",
      "\n",
      "    accuracy                           0.52     15000\n",
      "   macro avg       0.52      0.52      0.51     15000\n",
      "weighted avg       0.52      0.52      0.51     15000\n",
      "\n",
      "Accuracy: 0.5191333333333333\n",
      "F1 Score: 0.5881345286358705\n",
      "Recall: 0.6831144714153071\n",
      "Precision: 0.5163424904752356\n",
      "AUC Score: 0.5182619426918194\n"
     ]
    }
   ],
   "source": [
    "# XGB Classifier - Balanced Dataset - Onehot Encoding\n",
    "# New features added all\n",
    "# Best model so far tuning hyperparams\n",
    "\n",
    "# Select Features and Assign X and y\n",
    "cols = ['distance', 'crs_arr_time', 'crs_dep_time', \n",
    "        'day_of_month', 'month', 'day_of_week', 'op_unique_carrier', 'origin', 'dest', 'weather_type', \n",
    "        'origin_fl_density', 'dest_fl_density', 'crs_arr_daytime', 'crs_dep_daytime',\n",
    "        'predicted_speed',\n",
    "        'origin_airport_size', 'dest_airport_size', 'dist_group', 'season', 'dep_early_morning'\n",
    "       ] \n",
    "\n",
    "X = flights[cols]\n",
    "y = flights['arr_delay_flag']\n",
    "\n",
    "# Label encoding\n",
    "#from sklearn import preprocessing\n",
    "#label_encoder = preprocessing.LabelEncoder()\n",
    "#cat_vars = X.select_dtypes(include= 'object').columns.tolist()\n",
    "#cat_vars = ['day_of_month', 'month', 'day_of_week', 'op_unique_carrier', 'origin', 'dest', 'weather_type',\n",
    "#           'crs_arr_daytime', 'crs_dep_daytime', \n",
    "#           'origin_airport_size', 'dest_airport_size', 'dist_group', 'season', 'dep_early_morning'\n",
    "#           ]\n",
    "#for col in cat_vars:\n",
    "#    X[col] = label_encoder.fit_transform(X[col])\n",
    "\n",
    "#Onehot encoding\n",
    "cat_vars = ['day_of_month', 'month', 'day_of_week', 'op_unique_carrier', 'origin', 'dest', 'weather_type',\n",
    "           'crs_arr_daytime', 'crs_dep_daytime', \n",
    "           'origin_airport_size', 'dest_airport_size', 'dist_group', 'season', 'dep_early_morning'\n",
    "           ]\n",
    "X = pd.get_dummies(X, columns=cat_vars)\n",
    "\n",
    "# Make train-test split and scale if needed\n",
    "#from sklearn.preprocessing import StandardScaler\n",
    "#scaler = StandardScaler()\n",
    "#Xsc = scaler.fit_transform(X)\n",
    "from sklearn.model_selection import train_test_split\n",
    "X_train, X_test, y_train, y_test = train_test_split(X, y, train_size=0.7, test_size=0.3, random_state=101)\n",
    "\n",
    "#Model\n",
    "import xgboost as xgb\n",
    "model = xgb.XGBClassifier(objective = 'reg:squarederror', n_estimators=400, learning_rate=0.001, max_depth=10)\n",
    "#model = xgb.XGBClassifier(objective = 'reg:squarederror')  binary:logistic\n",
    "model = model.fit(X_train, y_train) \n",
    "y_pred = model.predict(X_test)\n",
    "y_score = model.predict_proba(X_test)[:,1]\n",
    "\n",
    "#Evaluate\n",
    "from sklearn.metrics import classification_report, accuracy_score, recall_score, f1_score, precision_recall_curve\n",
    "from sklearn.metrics import average_precision_score,roc_auc_score, confusion_matrix, plot_confusion_matrix, precision_score\n",
    "print(classification_report(y_test, y_pred))\n",
    "print(\"Accuracy:\", accuracy_score(y_test, y_pred))\n",
    "print(\"F1 Score:\", f1_score(y_test, y_pred))\n",
    "print(\"Recall:\", recall_score(y_test, y_pred))\n",
    "print(\"Precision:\", precision_score(y_test, y_pred))\n",
    "print(\"AUC Score:\", roc_auc_score(y_test, y_score))"
   ]
  },
  {
   "cell_type": "code",
   "execution_count": 128,
   "metadata": {},
   "outputs": [
    {
     "name": "stderr",
     "output_type": "stream",
     "text": [
      "C:\\Users\\Ryan\\anaconda3\\lib\\site-packages\\xgboost\\sklearn.py:888: UserWarning: The use of label encoder in XGBClassifier is deprecated and will be removed in a future release. To remove this warning, do the following: 1) Pass option use_label_encoder=False when constructing XGBClassifier object; and 2) Encode your labels (y) as integers starting with 0, i.e. 0, 1, 2, ..., [num_class - 1].\n",
      "  warnings.warn(label_encoder_deprecation_msg, UserWarning)\n"
     ]
    },
    {
     "name": "stdout",
     "output_type": "stream",
     "text": [
      "              precision    recall  f1-score   support\n",
      "\n",
      "           0       0.53      0.36      0.43      7461\n",
      "           1       0.52      0.68      0.59      7539\n",
      "\n",
      "    accuracy                           0.52     15000\n",
      "   macro avg       0.52      0.52      0.51     15000\n",
      "weighted avg       0.52      0.52      0.51     15000\n",
      "\n",
      "Accuracy: 0.5224666666666666\n",
      "F1 Score: 0.5898654451760664\n",
      "Recall: 0.6832471150019896\n",
      "Precision: 0.5189401571630062\n",
      "AUC Score: 0.5219661850767556\n"
     ]
    }
   ],
   "source": [
    "# XGB Classifier - Balanced Dataset - Onehot Encoding\n",
    "# New features added all\n",
    "# Change to objective logistic\n",
    "\n",
    "# Select Features and Assign X and y\n",
    "cols = ['distance', 'crs_arr_time', 'crs_dep_time', \n",
    "        'day_of_month', 'month', 'day_of_week', 'op_unique_carrier', 'origin', 'dest', 'weather_type', \n",
    "        'origin_fl_density', 'dest_fl_density', 'crs_arr_daytime', 'crs_dep_daytime',\n",
    "        'predicted_speed',\n",
    "        'origin_airport_size', 'dest_airport_size', 'dist_group', 'season', 'dep_early_morning'\n",
    "       ] \n",
    "\n",
    "X = flights[cols]\n",
    "y = flights['arr_delay_flag']\n",
    "\n",
    "# Label encoding\n",
    "#from sklearn import preprocessing\n",
    "#label_encoder = preprocessing.LabelEncoder()\n",
    "#cat_vars = X.select_dtypes(include= 'object').columns.tolist()\n",
    "#cat_vars = ['day_of_month', 'month', 'day_of_week', 'op_unique_carrier', 'origin', 'dest', 'weather_type',\n",
    "#           'crs_arr_daytime', 'crs_dep_daytime', \n",
    "#           'origin_airport_size', 'dest_airport_size', 'dist_group', 'season', 'dep_early_morning'\n",
    "#           ]\n",
    "#for col in cat_vars:\n",
    "#    X[col] = label_encoder.fit_transform(X[col])\n",
    "\n",
    "#Onehot encoding\n",
    "cat_vars = ['day_of_month', 'month', 'day_of_week', 'op_unique_carrier', 'origin', 'dest', 'weather_type',\n",
    "           'crs_arr_daytime', 'crs_dep_daytime', \n",
    "           'origin_airport_size', 'dest_airport_size', 'dist_group', 'season', 'dep_early_morning'\n",
    "           ]\n",
    "X = pd.get_dummies(X, columns=cat_vars)\n",
    "\n",
    "# Make train-test split and scale if needed\n",
    "#from sklearn.preprocessing import StandardScaler\n",
    "#scaler = StandardScaler()\n",
    "#Xsc = scaler.fit_transform(X)\n",
    "from sklearn.model_selection import train_test_split\n",
    "X_train, X_test, y_train, y_test = train_test_split(X, y, train_size=0.7, test_size=0.3, random_state=101)\n",
    "\n",
    "#Model\n",
    "import xgboost as xgb\n",
    "model = xgb.XGBClassifier(objective = 'reg:logistic', n_estimators=400, learning_rate=0.001, max_depth=10)\n",
    "#model = xgb.XGBClassifier(objective = 'reg:squarederror')  binary:logistic\n",
    "model = model.fit(X_train, y_train) \n",
    "y_pred = model.predict(X_test)\n",
    "y_score = model.predict_proba(X_test)[:,1]\n",
    "\n",
    "#Evaluate\n",
    "from sklearn.metrics import classification_report, accuracy_score, recall_score, f1_score, precision_recall_curve\n",
    "from sklearn.metrics import average_precision_score,roc_auc_score, confusion_matrix, plot_confusion_matrix, precision_score\n",
    "print(classification_report(y_test, y_pred))\n",
    "print(\"Accuracy:\", accuracy_score(y_test, y_pred))\n",
    "print(\"F1 Score:\", f1_score(y_test, y_pred))\n",
    "print(\"Recall:\", recall_score(y_test, y_pred))\n",
    "print(\"Precision:\", precision_score(y_test, y_pred))\n",
    "print(\"AUC Score:\", roc_auc_score(y_test, y_score))"
   ]
  },
  {
   "cell_type": "code",
   "execution_count": 134,
   "metadata": {},
   "outputs": [
    {
     "name": "stderr",
     "output_type": "stream",
     "text": [
      "C:\\Users\\Ryan\\anaconda3\\lib\\site-packages\\xgboost\\sklearn.py:888: UserWarning: The use of label encoder in XGBClassifier is deprecated and will be removed in a future release. To remove this warning, do the following: 1) Pass option use_label_encoder=False when constructing XGBClassifier object; and 2) Encode your labels (y) as integers starting with 0, i.e. 0, 1, 2, ..., [num_class - 1].\n",
      "  warnings.warn(label_encoder_deprecation_msg, UserWarning)\n"
     ]
    },
    {
     "name": "stdout",
     "output_type": "stream",
     "text": [
      "              precision    recall  f1-score   support\n",
      "\n",
      "           0       0.52      0.33      0.41      7461\n",
      "           1       0.51      0.70      0.59      7539\n",
      "\n",
      "    accuracy                           0.52     15000\n",
      "   macro avg       0.52      0.52      0.50     15000\n",
      "weighted avg       0.52      0.52      0.50     15000\n",
      "\n",
      "Accuracy: 0.5162666666666667\n",
      "F1 Score: 0.5918551018112274\n",
      "Recall: 0.6978379095370739\n",
      "Precision: 0.5138197089559527\n",
      "AUC Score: 0.5184729795093659\n"
     ]
    }
   ],
   "source": [
    "# XGB Classifier - Balanced Dataset - Onehot Encoding\n",
    "# New features added all\n",
    "# Best model so far tuning hyperparams\n",
    "\n",
    "# Select Features and Assign X and y\n",
    "cols = ['distance', 'crs_arr_time', 'crs_dep_time', \n",
    "        'day_of_month', 'month', 'day_of_week', 'op_unique_carrier', 'origin', 'dest', 'weather_type', \n",
    "        'origin_fl_density', 'dest_fl_density', 'crs_arr_daytime', 'crs_dep_daytime',\n",
    "        'predicted_speed',\n",
    "        'origin_airport_size', 'dest_airport_size', 'dist_group', 'season', 'dep_early_morning'\n",
    "       ] \n",
    "\n",
    "X = flights[cols]\n",
    "y = flights['arr_delay_flag']\n",
    "\n",
    "# Label encoding\n",
    "#from sklearn import preprocessing\n",
    "#label_encoder = preprocessing.LabelEncoder()\n",
    "#cat_vars = X.select_dtypes(include= 'object').columns.tolist()\n",
    "#cat_vars = ['day_of_month', 'month', 'day_of_week', 'op_unique_carrier', 'origin', 'dest', 'weather_type',\n",
    "#           'crs_arr_daytime', 'crs_dep_daytime', \n",
    "#           'origin_airport_size', 'dest_airport_size', 'dist_group', 'season', 'dep_early_morning'\n",
    "#           ]\n",
    "#for col in cat_vars:\n",
    "#    X[col] = label_encoder.fit_transform(X[col])\n",
    "\n",
    "#Onehot encoding\n",
    "cat_vars = ['day_of_month', 'month', 'day_of_week', 'op_unique_carrier', 'origin', 'dest', 'weather_type',\n",
    "           'crs_arr_daytime', 'crs_dep_daytime', \n",
    "           'origin_airport_size', 'dest_airport_size', 'dist_group', 'season', 'dep_early_morning'\n",
    "           ]\n",
    "X = pd.get_dummies(X, columns=cat_vars)\n",
    "\n",
    "# Make train-test split and scale if needed\n",
    "#from sklearn.preprocessing import StandardScaler\n",
    "#scaler = StandardScaler()\n",
    "#Xsc = scaler.fit_transform(X)\n",
    "from sklearn.model_selection import train_test_split\n",
    "X_train, X_test, y_train, y_test = train_test_split(X, y, train_size=0.7, test_size=0.3, random_state=101)\n",
    "\n",
    "#Model\n",
    "import xgboost as xgb\n",
    "model = xgb.XGBClassifier(objective = 'reg:squarederror', n_estimators=1000, learning_rate=0.001, max_depth=10)\n",
    "#model = xgb.XGBClassifier(objective = 'reg:squarederror')  binary:logistic\n",
    "model = model.fit(X_train, y_train) \n",
    "y_pred = model.predict(X_test)\n",
    "y_score = model.predict_proba(X_test)[:,1]\n",
    "\n",
    "#Evaluate\n",
    "from sklearn.metrics import classification_report, accuracy_score, recall_score, f1_score, precision_recall_curve\n",
    "from sklearn.metrics import average_precision_score,roc_auc_score, confusion_matrix, plot_confusion_matrix, precision_score\n",
    "print(classification_report(y_test, y_pred))\n",
    "print(\"Accuracy:\", accuracy_score(y_test, y_pred))\n",
    "print(\"F1 Score:\", f1_score(y_test, y_pred))\n",
    "print(\"Recall:\", recall_score(y_test, y_pred))\n",
    "print(\"Precision:\", precision_score(y_test, y_pred))\n",
    "print(\"AUC Score:\", roc_auc_score(y_test, y_score))"
   ]
  },
  {
   "cell_type": "code",
   "execution_count": 138,
   "metadata": {},
   "outputs": [
    {
     "name": "stderr",
     "output_type": "stream",
     "text": [
      "C:\\Users\\Ryan\\anaconda3\\lib\\site-packages\\xgboost\\sklearn.py:888: UserWarning: The use of label encoder in XGBClassifier is deprecated and will be removed in a future release. To remove this warning, do the following: 1) Pass option use_label_encoder=False when constructing XGBClassifier object; and 2) Encode your labels (y) as integers starting with 0, i.e. 0, 1, 2, ..., [num_class - 1].\n",
      "  warnings.warn(label_encoder_deprecation_msg, UserWarning)\n"
     ]
    },
    {
     "name": "stdout",
     "output_type": "stream",
     "text": [
      "              precision    recall  f1-score   support\n",
      "\n",
      "           0       0.52      0.33      0.40      7461\n",
      "           1       0.51      0.70      0.59      7539\n",
      "\n",
      "    accuracy                           0.52     15000\n",
      "   macro avg       0.52      0.52      0.50     15000\n",
      "weighted avg       0.52      0.52      0.50     15000\n",
      "\n",
      "Accuracy: 0.518\n",
      "F1 Score: 0.5949579831932772\n",
      "Recall: 0.7043374452845205\n",
      "Precision: 0.5149839976723887\n",
      "AUC Score: 0.5189279607009463\n"
     ]
    }
   ],
   "source": [
    "# XGB Classifier - Balanced Dataset - Onehot Encoding\n",
    "# New features added all\n",
    "# Best model so far tuning hyperparams\n",
    "\n",
    "# Select Features and Assign X and y\n",
    "cols = ['distance', 'crs_arr_time', 'crs_dep_time', \n",
    "        'day_of_month', 'month', 'day_of_week', 'op_unique_carrier', 'origin', 'dest', 'weather_type', \n",
    "        'origin_fl_density', 'dest_fl_density', 'crs_arr_daytime', 'crs_dep_daytime',\n",
    "        'predicted_speed',\n",
    "        'origin_airport_size', 'dest_airport_size', 'dist_group', 'season', 'dep_early_morning'\n",
    "       ] \n",
    "\n",
    "X = flights[cols]\n",
    "y = flights['arr_delay_flag']\n",
    "\n",
    "# Label encoding\n",
    "#from sklearn import preprocessing\n",
    "#label_encoder = preprocessing.LabelEncoder()\n",
    "#cat_vars = X.select_dtypes(include= 'object').columns.tolist()\n",
    "#cat_vars = ['day_of_month', 'month', 'day_of_week', 'op_unique_carrier', 'origin', 'dest', 'weather_type',\n",
    "#           'crs_arr_daytime', 'crs_dep_daytime', \n",
    "#           'origin_airport_size', 'dest_airport_size', 'dist_group', 'season', 'dep_early_morning'\n",
    "#           ]\n",
    "#for col in cat_vars:\n",
    "#    X[col] = label_encoder.fit_transform(X[col])\n",
    "\n",
    "#Onehot encoding\n",
    "cat_vars = ['day_of_month', 'month', 'day_of_week', 'op_unique_carrier', 'origin', 'dest', 'weather_type',\n",
    "           'crs_arr_daytime', 'crs_dep_daytime', \n",
    "           'origin_airport_size', 'dest_airport_size', 'dist_group', 'season', 'dep_early_morning'\n",
    "           ]\n",
    "X = pd.get_dummies(X, columns=cat_vars)\n",
    "\n",
    "# Make train-test split and scale if needed\n",
    "#from sklearn.preprocessing import StandardScaler\n",
    "#scaler = StandardScaler()\n",
    "#Xsc = scaler.fit_transform(X)\n",
    "from sklearn.model_selection import train_test_split\n",
    "X_train, X_test, y_train, y_test = train_test_split(X, y, train_size=0.7, test_size=0.3, random_state=101)\n",
    "\n",
    "#Model\n",
    "import xgboost as xgb\n",
    "model = xgb.XGBClassifier(objective = 'reg:squarederror', n_estimators=500, learning_rate=0.001, max_depth=10)\n",
    "#model = xgb.XGBClassifier(objective = 'reg:squarederror')  binary:logistic\n",
    "model = model.fit(X_train, y_train) \n",
    "y_pred = model.predict(X_test)\n",
    "y_score = model.predict_proba(X_test)[:,1]\n",
    "\n",
    "#Evaluate\n",
    "from sklearn.metrics import classification_report, accuracy_score, recall_score, f1_score, precision_recall_curve\n",
    "from sklearn.metrics import average_precision_score,roc_auc_score, confusion_matrix, plot_confusion_matrix, precision_score\n",
    "print(classification_report(y_test, y_pred))\n",
    "print(\"Accuracy:\", accuracy_score(y_test, y_pred))\n",
    "print(\"F1 Score:\", f1_score(y_test, y_pred))\n",
    "print(\"Recall:\", recall_score(y_test, y_pred))\n",
    "print(\"Precision:\", precision_score(y_test, y_pred))\n",
    "print(\"AUC Score:\", roc_auc_score(y_test, y_score))"
   ]
  },
  {
   "cell_type": "markdown",
   "metadata": {},
   "source": [
    "# Mini-Sample Dataset 15min Cutoff for Delay and No Delay Balanced Dataset\n",
    "### Using Best XGB Model"
   ]
  },
  {
   "cell_type": "code",
   "execution_count": 192,
   "metadata": {},
   "outputs": [
    {
     "name": "stderr",
     "output_type": "stream",
     "text": [
      "C:\\Users\\Ryan\\anaconda3\\lib\\site-packages\\xgboost\\sklearn.py:888: UserWarning: The use of label encoder in XGBClassifier is deprecated and will be removed in a future release. To remove this warning, do the following: 1) Pass option use_label_encoder=False when constructing XGBClassifier object; and 2) Encode your labels (y) as integers starting with 0, i.e. 0, 1, 2, ..., [num_class - 1].\n",
      "  warnings.warn(label_encoder_deprecation_msg, UserWarning)\n"
     ]
    },
    {
     "name": "stdout",
     "output_type": "stream",
     "text": [
      "              precision    recall  f1-score   support\n",
      "\n",
      "           0       0.52      0.71      0.60      7764\n",
      "           1       0.49      0.30      0.37      7236\n",
      "\n",
      "    accuracy                           0.51     15000\n",
      "   macro avg       0.50      0.50      0.49     15000\n",
      "weighted avg       0.51      0.51      0.49     15000\n",
      "\n",
      "Accuracy: 0.5112\n",
      "F1 Score: 0.37204522096608433\n",
      "Recall: 0.30016583747927034\n",
      "Precision: 0.4891891891891892\n",
      "AUC Score: 0.511736559844888\n"
     ]
    }
   ],
   "source": [
    "# XGB Classifier - Balanced Dataset - Onehot Encoding\n",
    "# New features added all\n",
    "# Best model so far tuning hyperparams\n",
    "\n",
    "# Select Features and Assign X and y\n",
    "cols = ['distance', 'crs_arr_time', 'crs_dep_time', \n",
    "        'day_of_month', 'month', 'day_of_week', 'op_unique_carrier', 'origin', 'dest', 'weather_type', \n",
    "        'origin_fl_density', 'dest_fl_density', 'crs_arr_daytime', 'crs_dep_daytime',\n",
    "        'predicted_speed',\n",
    "        'origin_airport_size', 'dest_airport_size', 'dist_group', 'season', 'dep_early_morning'\n",
    "       ] \n",
    "\n",
    "X = flights[cols]\n",
    "y = flights['arr_delay_flag']\n",
    "\n",
    "# Label encoding\n",
    "#from sklearn import preprocessing\n",
    "#label_encoder = preprocessing.LabelEncoder()\n",
    "#cat_vars = X.select_dtypes(include= 'object').columns.tolist()\n",
    "#cat_vars = ['day_of_month', 'month', 'day_of_week', 'op_unique_carrier', 'origin', 'dest', 'weather_type',\n",
    "#           'crs_arr_daytime', 'crs_dep_daytime', \n",
    "#           'origin_airport_size', 'dest_airport_size', 'dist_group', 'season', 'dep_early_morning'\n",
    "#           ]\n",
    "#for col in cat_vars:\n",
    "#    X[col] = label_encoder.fit_transform(X[col])\n",
    "\n",
    "#Onehot encoding\n",
    "cat_vars = ['day_of_month', 'month', 'day_of_week', 'op_unique_carrier', 'origin', 'dest', 'weather_type',\n",
    "           'crs_arr_daytime', 'crs_dep_daytime', \n",
    "           'origin_airport_size', 'dest_airport_size', 'dist_group', 'season', 'dep_early_morning'\n",
    "           ]\n",
    "X = pd.get_dummies(X, columns=cat_vars)\n",
    "\n",
    "# Make train-test split and scale if needed\n",
    "#from sklearn.preprocessing import StandardScaler\n",
    "#scaler = StandardScaler()\n",
    "#Xsc = scaler.fit_transform(X)\n",
    "from sklearn.model_selection import train_test_split\n",
    "X_train, X_test, y_train, y_test = train_test_split(X, y, train_size=0.7, test_size=0.3, random_state=101)\n",
    "\n",
    "#Model\n",
    "import xgboost as xgb\n",
    "model = xgb.XGBClassifier(objective = 'reg:squarederror', n_estimators=100, learning_rate=0.001, max_depth=10)\n",
    "#model = xgb.XGBClassifier(objective = 'reg:squarederror')  binary:logistic\n",
    "model = model.fit(X_train, y_train) \n",
    "y_pred = model.predict(X_test)\n",
    "y_score = model.predict_proba(X_test)[:,1]\n",
    "\n",
    "#Evaluate\n",
    "from sklearn.metrics import classification_report, accuracy_score, recall_score, f1_score, precision_recall_curve\n",
    "from sklearn.metrics import average_precision_score,roc_auc_score, confusion_matrix, plot_confusion_matrix, precision_score\n",
    "print(classification_report(y_test, y_pred))\n",
    "print(\"Accuracy:\", accuracy_score(y_test, y_pred))\n",
    "print(\"F1 Score:\", f1_score(y_test, y_pred))\n",
    "print(\"Recall:\", recall_score(y_test, y_pred))\n",
    "print(\"Precision:\", precision_score(y_test, y_pred))\n",
    "print(\"AUC Score:\", roc_auc_score(y_test, y_score))"
   ]
  },
  {
   "cell_type": "code",
   "execution_count": 193,
   "metadata": {},
   "outputs": [
    {
     "data": {
      "text/plain": [
       "0    25869\n",
       "1    24129\n",
       "Name: arr_delay_flag, dtype: int64"
      ]
     },
     "execution_count": 193,
     "metadata": {},
     "output_type": "execute_result"
    }
   ],
   "source": [
    "flights['arr_delay_flag'].value_counts()"
   ]
  },
  {
   "cell_type": "code",
   "execution_count": 194,
   "metadata": {},
   "outputs": [
    {
     "data": {
      "text/plain": [
       "Text(0.5, 637.6, 'Predicted label')"
      ]
     },
     "execution_count": 194,
     "metadata": {},
     "output_type": "execute_result"
    },
    {
     "data": {
      "image/png": "[encoded data removed]",
      "text/plain": [
       "<Figure size 720x720 with 2 Axes>"
      ]
     },
     "metadata": {
      "needs_background": "light"
     },
     "output_type": "display_data"
    }
   ],
   "source": [
    "from sklearn import metrics\n",
    "cnf_matrix = metrics.confusion_matrix(y_test, y_pred)\n",
    "cnf_matrix\n",
    "\n",
    "# create heatmap\n",
    "class_names=[0,1] # name  of classes\n",
    "fig, ax = plt.subplots()\n",
    "tick_marks = np.arange(len(class_names))\n",
    "plt.xticks(tick_marks, class_names)\n",
    "plt.yticks(tick_marks, class_names)\n",
    "# create heatmap\n",
    "sns.heatmap(pd.DataFrame(cnf_matrix), annot=True, cmap=\"YlGnBu\" ,fmt='g')\n",
    "ax.xaxis.set_label_position(\"top\")\n",
    "plt.tight_layout()\n",
    "plt.title('Confusion matrix', y=1.1)\n",
    "plt.ylabel('Actual label')\n",
    "plt.xlabel('Predicted label')"
   ]
  },
  {
   "cell_type": "markdown",
   "metadata": {},
   "source": [
    "# Mini-Sample Dataset Back To 0min Cutoff for Delay and No Delay Balanced Dataset"
   ]
  },
  {
   "cell_type": "markdown",
   "metadata": {},
   "source": [
    "### Using Best XGB Model (Label Encoding for Feature Importance)"
   ]
  },
  {
   "cell_type": "code",
   "execution_count": 199,
   "metadata": {},
   "outputs": [
    {
     "name": "stderr",
     "output_type": "stream",
     "text": [
      "<ipython-input-199-8dbde3467789>:25: SettingWithCopyWarning: \n",
      "A value is trying to be set on a copy of a slice from a DataFrame.\n",
      "Try using .loc[row_indexer,col_indexer] = value instead\n",
      "\n",
      "See the caveats in the documentation: https://pandas.pydata.org/pandas-docs/stable/user_guide/indexing.html#returning-a-view-versus-a-copy\n",
      "  X[col] = label_encoder.fit_transform(X[col])\n",
      "C:\\Users\\Ryan\\anaconda3\\lib\\site-packages\\xgboost\\sklearn.py:888: UserWarning: The use of label encoder in XGBClassifier is deprecated and will be removed in a future release. To remove this warning, do the following: 1) Pass option use_label_encoder=False when constructing XGBClassifier object; and 2) Encode your labels (y) as integers starting with 0, i.e. 0, 1, 2, ..., [num_class - 1].\n",
      "  warnings.warn(label_encoder_deprecation_msg, UserWarning)\n"
     ]
    },
    {
     "name": "stdout",
     "output_type": "stream",
     "text": [
      "              precision    recall  f1-score   support\n",
      "\n",
      "           0       0.51      0.48      0.50      7461\n",
      "           1       0.52      0.55      0.53      7539\n",
      "\n",
      "    accuracy                           0.52     15000\n",
      "   macro avg       0.52      0.52      0.51     15000\n",
      "weighted avg       0.52      0.52      0.51     15000\n",
      "\n",
      "Accuracy: 0.5153333333333333\n",
      "F1 Score: 0.5309677419354838\n",
      "Recall: 0.5458283591988328\n",
      "Precision: 0.5168948624544655\n",
      "AUC Score: 0.5224445713456536\n"
     ]
    }
   ],
   "source": [
    "# XGB Classifier - Balanced Dataset - Onehot Encoding\n",
    "# New features added all\n",
    "# Best model so far tuning hyperparams\n",
    "\n",
    "# Select Features and Assign X and y\n",
    "cols = ['distance', 'crs_arr_time', 'crs_dep_time', \n",
    "        'day_of_month', 'month', 'day_of_week', 'op_unique_carrier', 'origin', 'dest', 'weather_type', \n",
    "        'origin_fl_density', 'dest_fl_density', 'crs_arr_daytime', 'crs_dep_daytime',\n",
    "        'predicted_speed',\n",
    "        'origin_airport_size', 'dest_airport_size', 'dist_group', 'season', 'dep_early_morning'\n",
    "       ] \n",
    "\n",
    "X = flights[cols]\n",
    "y = flights['arr_delay_flag']\n",
    "\n",
    "#Label encoding\n",
    "from sklearn import preprocessing\n",
    "label_encoder = preprocessing.LabelEncoder()\n",
    "#cat_vars = X.select_dtypes(include= 'object').columns.tolist()\n",
    "cat_vars = ['day_of_month', 'month', 'day_of_week', 'op_unique_carrier', 'origin', 'dest', 'weather_type',\n",
    "           'crs_arr_daytime', 'crs_dep_daytime', \n",
    "           'origin_airport_size', 'dest_airport_size', 'dist_group', 'season', 'dep_early_morning'\n",
    "           ]\n",
    "for col in cat_vars:\n",
    "    X[col] = label_encoder.fit_transform(X[col])\n",
    "\n",
    "#Onehot encoding\n",
    "#cat_vars = ['day_of_month', 'month', 'day_of_week', 'op_unique_carrier', 'origin', 'dest', 'weather_type',\n",
    "#           'crs_arr_daytime', 'crs_dep_daytime', \n",
    "#           'origin_airport_size', 'dest_airport_size', 'dist_group', 'season', 'dep_early_morning'\n",
    "#           ]\n",
    "#X = pd.get_dummies(X, columns=cat_vars)\n",
    "\n",
    "# Make train-test split and scale if needed\n",
    "#from sklearn.preprocessing import StandardScaler\n",
    "#scaler = StandardScaler()\n",
    "#Xsc = scaler.fit_transform(X)\n",
    "from sklearn.model_selection import train_test_split\n",
    "X_train, X_test, y_train, y_test = train_test_split(X, y, train_size=0.7, test_size=0.3, random_state=101)\n",
    "\n",
    "#Model\n",
    "import xgboost as xgb\n",
    "model = xgb.XGBClassifier(objective = 'reg:squarederror', n_estimators=1000, learning_rate=0.001, max_depth=10)\n",
    "#model = xgb.XGBClassifier(objective = 'reg:squarederror')  binary:logistic\n",
    "model = model.fit(X_train, y_train) \n",
    "y_pred = model.predict(X_test)\n",
    "y_score = model.predict_proba(X_test)[:,1]\n",
    "\n",
    "#Evaluate\n",
    "from sklearn.metrics import classification_report, accuracy_score, recall_score, f1_score, precision_recall_curve\n",
    "from sklearn.metrics import average_precision_score,roc_auc_score, confusion_matrix, plot_confusion_matrix, precision_score\n",
    "print(classification_report(y_test, y_pred))\n",
    "print(\"Accuracy:\", accuracy_score(y_test, y_pred))\n",
    "print(\"F1 Score:\", f1_score(y_test, y_pred))\n",
    "print(\"Recall:\", recall_score(y_test, y_pred))\n",
    "print(\"Precision:\", precision_score(y_test, y_pred))\n",
    "print(\"AUC Score:\", roc_auc_score(y_test, y_score))"
   ]
  },
  {
   "cell_type": "code",
   "execution_count": 200,
   "metadata": {},
   "outputs": [
    {
     "data": {
      "image/png": "[encoded data removed]",
      "text/plain": [
       "<Figure size 720x720 with 1 Axes>"
      ]
     },
     "metadata": {
      "needs_background": "light"
     },
     "output_type": "display_data"
    }
   ],
   "source": [
    "# Plot XGB Feature Importance\n",
    "fig = xgb.plot_importance(model)\n",
    "plt.rcParams['figure.figsize'] = [10, 10]\n",
    "plt.show()"
   ]
  },
  {
   "cell_type": "markdown",
   "metadata": {},
   "source": [
    "### Using Best XGB Model (Back To One Hot Encoding)"
   ]
  },
  {
   "cell_type": "code",
   "execution_count": 214,
   "metadata": {},
   "outputs": [
    {
     "name": "stderr",
     "output_type": "stream",
     "text": [
      "C:\\Users\\Ryan\\anaconda3\\lib\\site-packages\\xgboost\\sklearn.py:888: UserWarning: The use of label encoder in XGBClassifier is deprecated and will be removed in a future release. To remove this warning, do the following: 1) Pass option use_label_encoder=False when constructing XGBClassifier object; and 2) Encode your labels (y) as integers starting with 0, i.e. 0, 1, 2, ..., [num_class - 1].\n",
      "  warnings.warn(label_encoder_deprecation_msg, UserWarning)\n"
     ]
    },
    {
     "name": "stdout",
     "output_type": "stream",
     "text": [
      "              precision    recall  f1-score   support\n",
      "\n",
      "           0       0.52      0.34      0.41      7429\n",
      "           1       0.52      0.69      0.59      7571\n",
      "\n",
      "    accuracy                           0.52     15000\n",
      "   macro avg       0.52      0.52      0.50     15000\n",
      "weighted avg       0.52      0.52      0.50     15000\n",
      "\n",
      "Accuracy: 0.5180666666666667\n",
      "F1 Score: 0.5916972606608303\n",
      "Recall: 0.6918504821027606\n",
      "Precision: 0.5168738898756661\n",
      "AUC Score: 0.5201080064793007\n"
     ]
    }
   ],
   "source": [
    "# XGB Classifier - Balanced Dataset - Onehot Encoding\n",
    "# New features added all\n",
    "# Best model so far tuning hyperparams\n",
    "\n",
    "# Select Features and Assign X and y\n",
    "cols = ['distance', 'crs_arr_time', 'crs_dep_time', \n",
    "        'day_of_month', 'month', 'day_of_week', 'op_unique_carrier', 'origin', 'dest', 'weather_type', \n",
    "        'origin_fl_density', 'dest_fl_density', 'crs_arr_daytime', 'crs_dep_daytime',\n",
    "        'predicted_speed',\n",
    "        'origin_airport_size', 'dest_airport_size', 'dist_group', 'season', 'dep_early_morning'\n",
    "       ] \n",
    "\n",
    "X = flights[cols]\n",
    "y = flights['arr_delay_flag']\n",
    "\n",
    "# Label encoding\n",
    "#from sklearn import preprocessing\n",
    "#label_encoder = preprocessing.LabelEncoder()\n",
    "#cat_vars = X.select_dtypes(include= 'object').columns.tolist()\n",
    "#cat_vars = ['day_of_month', 'month', 'day_of_week', 'op_unique_carrier', 'origin', 'dest', 'weather_type',\n",
    "#           'crs_arr_daytime', 'crs_dep_daytime', \n",
    "#           'origin_airport_size', 'dest_airport_size', 'dist_group', 'season', 'dep_early_morning'\n",
    "#           ]\n",
    "#for col in cat_vars:\n",
    "#    X[col] = label_encoder.fit_transform(X[col])\n",
    "\n",
    "#Onehot encoding\n",
    "cat_vars = ['day_of_month', 'month', 'day_of_week', 'op_unique_carrier', 'origin', 'dest', 'weather_type',\n",
    "           'crs_arr_daytime', 'crs_dep_daytime', \n",
    "           'origin_airport_size', 'dest_airport_size', 'dist_group', 'season', 'dep_early_morning'\n",
    "           ]\n",
    "X = pd.get_dummies(X, columns=cat_vars)\n",
    "\n",
    "# Make train-test split and scale if needed\n",
    "#from sklearn.preprocessing import StandardScaler\n",
    "#scaler = StandardScaler()\n",
    "#Xsc = scaler.fit_transform(X)\n",
    "from sklearn.model_selection import train_test_split\n",
    "X_train, X_test, y_train, y_test = train_test_split(X, y, train_size=0.7, test_size=0.3, random_state=101)\n",
    "\n",
    "#Model\n",
    "import xgboost as xgb\n",
    "model = xgb.XGBClassifier(objective = 'reg:logistic', eval_metric='auc', n_estimators=1000, learning_rate=0.001, max_depth=10)\n",
    "#model = xgb.XGBClassifier(objective = 'reg:squarederror')  binary:logistic\n",
    "model = model.fit(X_train, y_train) \n",
    "y_pred = model.predict(X_test)\n",
    "y_score = model.predict_proba(X_test)[:,1]\n",
    "\n",
    "#Evaluate\n",
    "from sklearn.metrics import classification_report, accuracy_score, recall_score, f1_score, precision_recall_curve\n",
    "from sklearn.metrics import average_precision_score,roc_auc_score, confusion_matrix, plot_confusion_matrix, precision_score\n",
    "print(classification_report(y_test, y_pred))\n",
    "print(\"Accuracy:\", accuracy_score(y_test, y_pred))\n",
    "print(\"F1 Score:\", f1_score(y_test, y_pred))\n",
    "print(\"Recall:\", recall_score(y_test, y_pred))\n",
    "print(\"Precision:\", precision_score(y_test, y_pred))\n",
    "print(\"AUC Score:\", roc_auc_score(y_test, y_score))"
   ]
  },
  {
   "cell_type": "code",
   "execution_count": 215,
   "metadata": {},
   "outputs": [
    {
     "name": "stderr",
     "output_type": "stream",
     "text": [
      "C:\\Users\\Ryan\\anaconda3\\lib\\site-packages\\xgboost\\sklearn.py:888: UserWarning: The use of label encoder in XGBClassifier is deprecated and will be removed in a future release. To remove this warning, do the following: 1) Pass option use_label_encoder=False when constructing XGBClassifier object; and 2) Encode your labels (y) as integers starting with 0, i.e. 0, 1, 2, ..., [num_class - 1].\n",
      "  warnings.warn(label_encoder_deprecation_msg, UserWarning)\n"
     ]
    },
    {
     "name": "stdout",
     "output_type": "stream",
     "text": [
      "              precision    recall  f1-score   support\n",
      "\n",
      "           0       0.85      0.24      0.38      7429\n",
      "           1       0.56      0.96      0.71      7571\n",
      "\n",
      "    accuracy                           0.60     15000\n",
      "   macro avg       0.70      0.60      0.54     15000\n",
      "weighted avg       0.70      0.60      0.55     15000\n",
      "\n",
      "Accuracy: 0.6037333333333333\n",
      "F1 Score: 0.708969839404622\n",
      "Recall: 0.9562805441817461\n",
      "Precision: 0.5632926165097643\n",
      "AUC Score: 0.6254482201684954\n"
     ]
    }
   ],
   "source": [
    "# Try Renees columns\n",
    "\n",
    "# XGB Classifier - Balanced Dataset - Onehot Encoding\n",
    "# New features added all\n",
    "# Best model so far tuning hyperparams\n",
    "\n",
    "# Select Features and Assign X and y\n",
    "cols=['day', 'month', 'weekday', 'op_unique_carrier', \n",
    "      'origin', 'dest',\n",
    "      'crs_arr_daytime', 'crs_dep_daytime', \n",
    "       'origin_airport_size', 'dest_airport_size', \n",
    "      'dist_group', 'season', 'dep_early_morning',\n",
    "      'percent_delay_dep', 'dist_group_delay_ratio']\n",
    "\n",
    "X = flights[cols]\n",
    "y = flights['arr_delay_flag']\n",
    "\n",
    "# Label encoding\n",
    "#from sklearn import preprocessing\n",
    "#label_encoder = preprocessing.LabelEncoder()\n",
    "#cat_vars = X.select_dtypes(include= 'object').columns.tolist()\n",
    "#cat_vars = ['day_of_month', 'month', 'day_of_week', 'op_unique_carrier', 'origin', 'dest', 'weather_type',\n",
    "#           'crs_arr_daytime', 'crs_dep_daytime', \n",
    "#           'origin_airport_size', 'dest_airport_size', 'dist_group', 'season', 'dep_early_morning'\n",
    "#           ]\n",
    "#for col in cat_vars:\n",
    "#    X[col] = label_encoder.fit_transform(X[col])\n",
    "\n",
    "#Onehot encoding\n",
    "cat_vars = ['day', 'month', 'weekday', 'op_unique_carrier', 'origin', 'dest',\n",
    "           'crs_arr_daytime', 'crs_dep_daytime', 'origin_airport_size', 'dest_airport_size',\n",
    "            'dist_group', 'season', 'dep_early_morning', 'percent_delay_dep', 'dist_group_delay_ratio'\n",
    "           ]\n",
    "X = pd.get_dummies(X, columns=cat_vars)\n",
    "\n",
    "# Make train-test split and scale if needed\n",
    "#from sklearn.preprocessing import StandardScaler\n",
    "#scaler = StandardScaler()\n",
    "#Xsc = scaler.fit_transform(X)\n",
    "from sklearn.model_selection import train_test_split\n",
    "X_train, X_test, y_train, y_test = train_test_split(X, y, train_size=0.7, test_size=0.3, random_state=101)\n",
    "\n",
    "#Model\n",
    "import xgboost as xgb\n",
    "model = xgb.XGBClassifier(objective = 'reg:logistic', eval_metric='auc', n_estimators=1000, learning_rate=0.001, max_depth=10)\n",
    "#model = xgb.XGBClassifier(objective = 'reg:squarederror')  binary:logistic\n",
    "model = model.fit(X_train, y_train) \n",
    "y_pred = model.predict(X_test)\n",
    "y_score = model.predict_proba(X_test)[:,1]\n",
    "\n",
    "#Evaluate\n",
    "from sklearn.metrics import classification_report, accuracy_score, recall_score, f1_score, precision_recall_curve\n",
    "from sklearn.metrics import average_precision_score,roc_auc_score, confusion_matrix, plot_confusion_matrix, precision_score\n",
    "print(classification_report(y_test, y_pred))\n",
    "print(\"Accuracy:\", accuracy_score(y_test, y_pred))\n",
    "print(\"F1 Score:\", f1_score(y_test, y_pred))\n",
    "print(\"Recall:\", recall_score(y_test, y_pred))\n",
    "print(\"Precision:\", precision_score(y_test, y_pred))\n",
    "print(\"AUC Score:\", roc_auc_score(y_test, y_score))"
   ]
  },
  {
   "cell_type": "code",
   "execution_count": 223,
   "metadata": {},
   "outputs": [
    {
     "name": "stderr",
     "output_type": "stream",
     "text": [
      "C:\\Users\\Ryan\\anaconda3\\lib\\site-packages\\xgboost\\sklearn.py:888: UserWarning: The use of label encoder in XGBClassifier is deprecated and will be removed in a future release. To remove this warning, do the following: 1) Pass option use_label_encoder=False when constructing XGBClassifier object; and 2) Encode your labels (y) as integers starting with 0, i.e. 0, 1, 2, ..., [num_class - 1].\n",
      "  warnings.warn(label_encoder_deprecation_msg, UserWarning)\n"
     ]
    },
    {
     "name": "stdout",
     "output_type": "stream",
     "text": [
      "              precision    recall  f1-score   support\n",
      "\n",
      "           0       0.53      0.36      0.43      7624\n",
      "           1       0.50      0.68      0.58      7376\n",
      "\n",
      "    accuracy                           0.51     15000\n",
      "   macro avg       0.52      0.52      0.50     15000\n",
      "weighted avg       0.52      0.51      0.50     15000\n",
      "\n",
      "Accuracy: 0.5141333333333333\n",
      "F1 Score: 0.5782895498206225\n",
      "Recall: 0.6774674620390455\n",
      "Precision: 0.5044417524732485\n",
      "AUC Score: 0.5158167146276287\n"
     ]
    }
   ],
   "source": [
    "# Add 'ap_carr_percent_dep_delay'\n",
    "\n",
    "# XGB Classifier - Balanced Dataset - Onehot Encoding\n",
    "# New features added all\n",
    "# Best model so far tuning hyperparams\n",
    "\n",
    "# Select Features and Assign X and y\n",
    "cols = ['distance', 'crs_arr_time', 'crs_dep_time', \n",
    "        'day_of_month', 'month', 'day_of_week', 'op_unique_carrier', 'origin', 'dest', 'weather_type', \n",
    "        'origin_fl_density', 'dest_fl_density', 'season',\n",
    "        'predicted_speed',\n",
    "        'origin_airport_size', 'dest_airport_size', 'dist_group', 'ap_carr_percent_dep_delay'\n",
    "       ] \n",
    "\n",
    "X = flights[cols]\n",
    "y = flights['arr_delay_flag']\n",
    "\n",
    "# Label encoding\n",
    "#from sklearn import preprocessing\n",
    "#label_encoder = preprocessing.LabelEncoder()\n",
    "#cat_vars = X.select_dtypes(include= 'object').columns.tolist()\n",
    "#cat_vars = ['day_of_month', 'month', 'day_of_week', 'op_unique_carrier', 'origin', 'dest', 'weather_type',\n",
    "#           'crs_arr_daytime', 'crs_dep_daytime', \n",
    "#           'origin_airport_size', 'dest_airport_size', 'dist_group', 'season', 'dep_early_morning'\n",
    "#           ]\n",
    "#for col in cat_vars:\n",
    "#    X[col] = label_encoder.fit_transform(X[col])\n",
    "\n",
    "#Onehot encoding\n",
    "cat_vars = ['day_of_month', 'month', 'day_of_week', 'op_unique_carrier', 'origin', 'dest', 'weather_type',\n",
    "           'origin_airport_size', 'dest_airport_size', 'dist_group', 'season'\n",
    "           ]\n",
    "X = pd.get_dummies(X, columns=cat_vars)\n",
    "\n",
    "# Make train-test split and scale if needed\n",
    "#from sklearn.preprocessing import StandardScaler\n",
    "#scaler = StandardScaler()\n",
    "#Xsc = scaler.fit_transform(X)\n",
    "from sklearn.model_selection import train_test_split\n",
    "X_train, X_test, y_train, y_test = train_test_split(X, y, train_size=0.7, test_size=0.3, random_state=101)\n",
    "\n",
    "#Model\n",
    "import xgboost as xgb\n",
    "model = xgb.XGBClassifier(objective = 'reg:logistic', eval_metric='auc', n_estimators=200, learning_rate=0.001, max_depth=10)\n",
    "#model = xgb.XGBClassifier(objective = 'reg:squarederror')  binary:logistic\n",
    "model = model.fit(X_train, y_train) \n",
    "y_pred = model.predict(X_test)\n",
    "y_score = model.predict_proba(X_test)[:,1]\n",
    "\n",
    "#Evaluate\n",
    "from sklearn.metrics import classification_report, accuracy_score, recall_score, f1_score, precision_recall_curve\n",
    "from sklearn.metrics import average_precision_score,roc_auc_score, confusion_matrix, plot_confusion_matrix, precision_score\n",
    "print(classification_report(y_test, y_pred))\n",
    "print(\"Accuracy:\", accuracy_score(y_test, y_pred))\n",
    "print(\"F1 Score:\", f1_score(y_test, y_pred))\n",
    "print(\"Recall:\", recall_score(y_test, y_pred))\n",
    "print(\"Precision:\", precision_score(y_test, y_pred))\n",
    "print(\"AUC Score:\", roc_auc_score(y_test, y_score))"
   ]
  },
  {
   "cell_type": "code",
   "execution_count": 225,
   "metadata": {},
   "outputs": [
    {
     "name": "stderr",
     "output_type": "stream",
     "text": [
      "C:\\Users\\Ryan\\anaconda3\\lib\\site-packages\\xgboost\\sklearn.py:888: UserWarning: The use of label encoder in XGBClassifier is deprecated and will be removed in a future release. To remove this warning, do the following: 1) Pass option use_label_encoder=False when constructing XGBClassifier object; and 2) Encode your labels (y) as integers starting with 0, i.e. 0, 1, 2, ..., [num_class - 1].\n",
      "  warnings.warn(label_encoder_deprecation_msg, UserWarning)\n"
     ]
    },
    {
     "name": "stdout",
     "output_type": "stream",
     "text": [
      "              precision    recall  f1-score   support\n",
      "\n",
      "           0       0.54      0.32      0.40      7624\n",
      "           1       0.50      0.72      0.59      7376\n",
      "\n",
      "    accuracy                           0.51     15000\n",
      "   macro avg       0.52      0.52      0.50     15000\n",
      "weighted avg       0.52      0.51      0.49     15000\n",
      "\n",
      "Accuracy: 0.5148\n",
      "F1 Score: 0.5929074840586196\n",
      "Recall: 0.7185466377440347\n",
      "Precision: 0.5046657779470577\n",
      "AUC Score: 0.5228231898554172\n"
     ]
    }
   ],
   "source": [
    "# Try Renees columns updated removed mean delay columns\n",
    "\n",
    "# XGB Classifier - Balanced Dataset - Onehot Encoding\n",
    "# New features added all\n",
    "# Best model so far tuning hyperparams\n",
    "\n",
    "# Select Features and Assign X and y\n",
    "cols=['day', 'month', 'weekday', 'op_unique_carrier', \n",
    "      'origin', 'dest',\n",
    "      'crs_arr_daytime', 'crs_dep_daytime', \n",
    "       'origin_airport_size', 'dest_airport_size', \n",
    "      'dist_group', 'season', 'dep_early_morning']\n",
    "\n",
    "X = flights[cols]\n",
    "y = flights['arr_delay_flag']\n",
    "\n",
    "# Label encoding\n",
    "#from sklearn import preprocessing\n",
    "#label_encoder = preprocessing.LabelEncoder()\n",
    "#cat_vars = X.select_dtypes(include= 'object').columns.tolist()\n",
    "#cat_vars = ['day_of_month', 'month', 'day_of_week', 'op_unique_carrier', 'origin', 'dest', 'weather_type',\n",
    "#           'crs_arr_daytime', 'crs_dep_daytime', \n",
    "#           'origin_airport_size', 'dest_airport_size', 'dist_group', 'season', 'dep_early_morning'\n",
    "#           ]\n",
    "#for col in cat_vars:\n",
    "#    X[col] = label_encoder.fit_transform(X[col])\n",
    "\n",
    "#Onehot encoding\n",
    "cat_vars = ['day', 'month', 'weekday', 'op_unique_carrier', 'origin', 'dest',\n",
    "           'crs_arr_daytime', 'crs_dep_daytime', 'origin_airport_size', 'dest_airport_size',\n",
    "            'dist_group', 'season', 'dep_early_morning'\n",
    "           ]\n",
    "X = pd.get_dummies(X, columns=cat_vars)\n",
    "\n",
    "# Make train-test split and scale if needed\n",
    "#from sklearn.preprocessing import StandardScaler\n",
    "#scaler = StandardScaler()\n",
    "#Xsc = scaler.fit_transform(X)\n",
    "from sklearn.model_selection import train_test_split\n",
    "X_train, X_test, y_train, y_test = train_test_split(X, y, train_size=0.7, test_size=0.3, random_state=101)\n",
    "\n",
    "#Model\n",
    "import xgboost as xgb\n",
    "model = xgb.XGBClassifier(objective = 'reg:logistic', eval_metric='auc', n_estimators=200, learning_rate=0.001, max_depth=10)\n",
    "#model = xgb.XGBClassifier(objective = 'reg:squarederror')  binary:logistic\n",
    "model = model.fit(X_train, y_train) \n",
    "y_pred = model.predict(X_test)\n",
    "y_score = model.predict_proba(X_test)[:,1]\n",
    "\n",
    "#Evaluate\n",
    "from sklearn.metrics import classification_report, accuracy_score, recall_score, f1_score, precision_recall_curve\n",
    "from sklearn.metrics import average_precision_score,roc_auc_score, confusion_matrix, plot_confusion_matrix, precision_score\n",
    "print(classification_report(y_test, y_pred))\n",
    "print(\"Accuracy:\", accuracy_score(y_test, y_pred))\n",
    "print(\"F1 Score:\", f1_score(y_test, y_pred))\n",
    "print(\"Recall:\", recall_score(y_test, y_pred))\n",
    "print(\"Precision:\", precision_score(y_test, y_pred))\n",
    "print(\"AUC Score:\", roc_auc_score(y_test, y_score))"
   ]
  },
  {
   "cell_type": "markdown",
   "metadata": {},
   "source": [
    "# Best XGB Model with 200,000 rows of data"
   ]
  },
  {
   "cell_type": "code",
   "execution_count": 233,
   "metadata": {},
   "outputs": [
    {
     "name": "stdout",
     "output_type": "stream",
     "text": [
      "              precision    recall  f1-score   support\n",
      "\n",
      "           0       0.55      0.39      0.45     30078\n",
      "           1       0.52      0.67      0.59     29921\n",
      "\n",
      "    accuracy                           0.53     59999\n",
      "   macro avg       0.53      0.53      0.52     59999\n",
      "weighted avg       0.53      0.53      0.52     59999\n",
      "\n",
      "Accuracy: 0.5310088501475024\n",
      "F1 Score: 0.5886171254806216\n",
      "Recall: 0.6728050533070419\n",
      "Precision: 0.5231548856548857\n",
      "AUC Score: 0.5467906022686214\n"
     ]
    }
   ],
   "source": [
    "# 1000 Trees\n",
    "# XGB Classifier - Balanced Dataset - Onehot Encoding\n",
    "# New features added all\n",
    "# Best model so far tuning hyperparams\n",
    "\n",
    "# Select Features and Assign X and y\n",
    "cols = ['distance', 'crs_arr_time', 'crs_dep_time', \n",
    "        'day_of_month', 'month', 'day_of_week', 'op_unique_carrier', 'origin', 'dest', 'weather_type', \n",
    "        'origin_fl_density', 'dest_fl_density', 'crs_arr_daytime', 'crs_dep_daytime',\n",
    "        'predicted_speed',\n",
    "        'origin_airport_size', 'dest_airport_size', 'dist_group', 'season', 'dep_early_morning'\n",
    "       ] \n",
    "\n",
    "X = flights[cols]\n",
    "y = flights['arr_delay_flag']\n",
    "\n",
    "# Label encoding\n",
    "#from sklearn import preprocessing\n",
    "#label_encoder = preprocessing.LabelEncoder()\n",
    "#cat_vars = X.select_dtypes(include= 'object').columns.tolist()\n",
    "#cat_vars = ['day_of_month', 'month', 'day_of_week', 'op_unique_carrier', 'origin', 'dest', 'weather_type',\n",
    "#           'crs_arr_daytime', 'crs_dep_daytime', \n",
    "#           'origin_airport_size', 'dest_airport_size', 'dist_group', 'season', 'dep_early_morning'\n",
    "#           ]\n",
    "#for col in cat_vars:\n",
    "#    X[col] = label_encoder.fit_transform(X[col])\n",
    "\n",
    "#Onehot encoding\n",
    "cat_vars = ['day_of_month', 'month', 'day_of_week', 'op_unique_carrier', 'origin', 'dest', 'weather_type',\n",
    "           'crs_arr_daytime', 'crs_dep_daytime', \n",
    "           'origin_airport_size', 'dest_airport_size', 'dist_group', 'season', 'dep_early_morning'\n",
    "           ]\n",
    "X = pd.get_dummies(X, columns=cat_vars)\n",
    "\n",
    "# Make train-test split and scale if needed\n",
    "#from sklearn.preprocessing import StandardScaler\n",
    "#scaler = StandardScaler()\n",
    "#Xsc = scaler.fit_transform(X)\n",
    "from sklearn.model_selection import train_test_split\n",
    "X_train, X_test, y_train, y_test = train_test_split(X, y, train_size=0.7, test_size=0.3, random_state=101)\n",
    "\n",
    "#Model\n",
    "import xgboost as xgb\n",
    "model = xgb.XGBClassifier(objective = 'reg:logistic', eval_metric='auc', n_estimators=1000, learning_rate=0.001, max_depth=10)\n",
    "#model = xgb.XGBClassifier(objective = 'reg:squarederror')  binary:logistic\n",
    "model = model.fit(X_train, y_train) \n",
    "y_pred = model.predict(X_test)\n",
    "y_score = model.predict_proba(X_test)[:,1]\n",
    "\n",
    "#Evaluate\n",
    "from sklearn.metrics import classification_report, accuracy_score, recall_score, f1_score, precision_recall_curve\n",
    "from sklearn.metrics import average_precision_score,roc_auc_score, confusion_matrix, plot_confusion_matrix, precision_score\n",
    "print(classification_report(y_test, y_pred))\n",
    "print(\"Accuracy:\", accuracy_score(y_test, y_pred))\n",
    "print(\"F1 Score:\", f1_score(y_test, y_pred))\n",
    "print(\"Recall:\", recall_score(y_test, y_pred))\n",
    "print(\"Precision:\", precision_score(y_test, y_pred))\n",
    "print(\"AUC Score:\", roc_auc_score(y_test, y_score))"
   ]
  },
  {
   "cell_type": "code",
   "execution_count": 234,
   "metadata": {},
   "outputs": [
    {
     "data": {
      "text/plain": [
       "Text(0.5, 637.6, 'Predicted label')"
      ]
     },
     "execution_count": 234,
     "metadata": {},
     "output_type": "execute_result"
    },
    {
     "data": {
      "image/png": "[encoded data removed]",
      "text/plain": [
       "<Figure size 720x720 with 2 Axes>"
      ]
     },
     "metadata": {
      "needs_background": "light"
     },
     "output_type": "display_data"
    }
   ],
   "source": [
    "from sklearn import metrics\n",
    "cnf_matrix = metrics.confusion_matrix(y_test, y_pred)\n",
    "cnf_matrix\n",
    "\n",
    "# create heatmap\n",
    "class_names=[0,1] # name  of classes\n",
    "fig, ax = plt.subplots()\n",
    "tick_marks = np.arange(len(class_names))\n",
    "plt.xticks(tick_marks, class_names)\n",
    "plt.yticks(tick_marks, class_names)\n",
    "# create heatmap\n",
    "sns.heatmap(pd.DataFrame(cnf_matrix), annot=True, cmap=\"YlGnBu\" ,fmt='g')\n",
    "ax.xaxis.set_label_position(\"top\")\n",
    "plt.tight_layout()\n",
    "plt.title('Confusion matrix', y=1.1)\n",
    "plt.ylabel('Actual label')\n",
    "plt.xlabel('Predicted label')"
   ]
  },
  {
   "cell_type": "code",
   "execution_count": 235,
   "metadata": {},
   "outputs": [
    {
     "name": "stderr",
     "output_type": "stream",
     "text": [
      "C:\\Users\\Ryan\\anaconda3\\lib\\site-packages\\xgboost\\sklearn.py:888: UserWarning: The use of label encoder in XGBClassifier is deprecated and will be removed in a future release. To remove this warning, do the following: 1) Pass option use_label_encoder=False when constructing XGBClassifier object; and 2) Encode your labels (y) as integers starting with 0, i.e. 0, 1, 2, ..., [num_class - 1].\n",
      "  warnings.warn(label_encoder_deprecation_msg, UserWarning)\n"
     ]
    },
    {
     "name": "stdout",
     "output_type": "stream",
     "text": [
      "              precision    recall  f1-score   support\n",
      "\n",
      "           0       0.54      0.47      0.50     30078\n",
      "           1       0.53      0.60      0.56     29921\n",
      "\n",
      "    accuracy                           0.53     59999\n",
      "   macro avg       0.53      0.53      0.53     59999\n",
      "weighted avg       0.53      0.53      0.53     59999\n",
      "\n",
      "Accuracy: 0.5330088834813913\n",
      "F1 Score: 0.5619909643733684\n",
      "Recall: 0.6007486380802781\n",
      "Precision: 0.5279311560150376\n",
      "AUC Score: 0.5472017476773328\n"
     ]
    }
   ],
   "source": [
    "# 10,000 Trees\n",
    "# XGB Classifier - Balanced Dataset - Onehot Encoding\n",
    "# New features added all\n",
    "# Best model so far tuning hyperparams\n",
    "\n",
    "# Select Features and Assign X and y\n",
    "cols = ['distance', 'crs_arr_time', 'crs_dep_time', \n",
    "        'day_of_month', 'month', 'day_of_week', 'op_unique_carrier', 'origin', 'dest', 'weather_type', \n",
    "        'origin_fl_density', 'dest_fl_density', 'crs_arr_daytime', 'crs_dep_daytime',\n",
    "        'predicted_speed',\n",
    "        'origin_airport_size', 'dest_airport_size', 'dist_group', 'season', 'dep_early_morning'\n",
    "       ] \n",
    "\n",
    "X = flights[cols]\n",
    "y = flights['arr_delay_flag']\n",
    "\n",
    "# Label encoding\n",
    "#from sklearn import preprocessing\n",
    "#label_encoder = preprocessing.LabelEncoder()\n",
    "#cat_vars = X.select_dtypes(include= 'object').columns.tolist()\n",
    "#cat_vars = ['day_of_month', 'month', 'day_of_week', 'op_unique_carrier', 'origin', 'dest', 'weather_type',\n",
    "#           'crs_arr_daytime', 'crs_dep_daytime', \n",
    "#           'origin_airport_size', 'dest_airport_size', 'dist_group', 'season', 'dep_early_morning'\n",
    "#           ]\n",
    "#for col in cat_vars:\n",
    "#    X[col] = label_encoder.fit_transform(X[col])\n",
    "\n",
    "#Onehot encoding\n",
    "cat_vars = ['day_of_month', 'month', 'day_of_week', 'op_unique_carrier', 'origin', 'dest', 'weather_type',\n",
    "           'crs_arr_daytime', 'crs_dep_daytime', \n",
    "           'origin_airport_size', 'dest_airport_size', 'dist_group', 'season', 'dep_early_morning'\n",
    "           ]\n",
    "X = pd.get_dummies(X, columns=cat_vars)\n",
    "\n",
    "# Make train-test split and scale if needed\n",
    "#from sklearn.preprocessing import StandardScaler\n",
    "#scaler = StandardScaler()\n",
    "#Xsc = scaler.fit_transform(X)\n",
    "from sklearn.model_selection import train_test_split\n",
    "X_train, X_test, y_train, y_test = train_test_split(X, y, train_size=0.7, test_size=0.3, random_state=101)\n",
    "\n",
    "#Model\n",
    "import xgboost as xgb\n",
    "model2 = xgb.XGBClassifier(objective = 'reg:logistic', eval_metric='auc', n_estimators=10000, learning_rate=0.001, max_depth=10)\n",
    "#model = xgb.XGBClassifier(objective = 'reg:squarederror')  binary:logistic\n",
    "model2 = model2.fit(X_train, y_train) \n",
    "y_pred = model2.predict(X_test)\n",
    "y_score = model2.predict_proba(X_test)[:,1]\n",
    "\n",
    "#Evaluate\n",
    "from sklearn.metrics import classification_report, accuracy_score, recall_score, f1_score, precision_recall_curve\n",
    "from sklearn.metrics import average_precision_score,roc_auc_score, confusion_matrix, plot_confusion_matrix, precision_score\n",
    "print(classification_report(y_test, y_pred))\n",
    "print(\"Accuracy:\", accuracy_score(y_test, y_pred))\n",
    "print(\"F1 Score:\", f1_score(y_test, y_pred))\n",
    "print(\"Recall:\", recall_score(y_test, y_pred))\n",
    "print(\"Precision:\", precision_score(y_test, y_pred))\n",
    "print(\"AUC Score:\", roc_auc_score(y_test, y_score))"
   ]
  },
  {
   "cell_type": "code",
   "execution_count": 231,
   "metadata": {},
   "outputs": [
    {
     "data": {
      "text/plain": [
       "0    100209\n",
       "1     99785\n",
       "Name: arr_delay_flag, dtype: int64"
      ]
     },
     "execution_count": 231,
     "metadata": {},
     "output_type": "execute_result"
    }
   ],
   "source": [
    "flights['arr_delay_flag'].value_counts()"
   ]
  },
  {
   "cell_type": "code",
   "execution_count": null,
   "metadata": {},
   "outputs": [],
   "source": []
  }
 ],
 "metadata": {
  "kernelspec": {
   "display_name": "Python 3",
   "language": "python",
   "name": "python3"
  },
  "language_info": {
   "codemirror_mode": {
    "name": "ipython",
    "version": 3
   },
   "file_extension": ".py",
   "mimetype": "text/x-python",
   "name": "python",
   "nbconvert_exporter": "python",
   "pygments_lexer": "ipython3",
   "version": "3.8.5"
  }
 },
 "nbformat": 4,
 "nbformat_minor": 4
}
