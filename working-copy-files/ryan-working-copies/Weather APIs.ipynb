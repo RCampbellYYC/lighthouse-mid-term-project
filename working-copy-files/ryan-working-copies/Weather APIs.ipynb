{
 "cells": [
  {
   "cell_type": "markdown",
   "metadata": {},
   "source": [
    "# World Weather API Requests"
   ]
  },
  {
   "cell_type": "code",
   "execution_count": null,
   "metadata": {},
   "outputs": [],
   "source": [
    "import requests\n",
    "import os\n",
    "import json\n",
    "from IPython.display import JSON"
   ]
  },
  {
   "cell_type": "code",
   "execution_count": null,
   "metadata": {},
   "outputs": [],
   "source": [
    "api_key = 'd385b2b23e2c4b2392535423211101'\n",
    "#url = f'https://api.worldweatheronline.com/premium/v1/past-weather.ashx?q=45.6387,-122.6615&date=2020-12-24&format=json&key={api_key}'\n",
    "url = 'https://api.worldweatheronline.com/premium/v1/past-weather.ashx?key=d385b2b23e2c4b2392535423211101&q=EWR&format=json&date=2018-01-01&enddate=2018-02-01&tp=24'"
   ]
  },
  {
   "cell_type": "code",
   "execution_count": 27,
   "metadata": {},
   "outputs": [],
   "source": [
    "res = requests.get(url)"
   ]
  },
  {
   "cell_type": "code",
   "execution_count": 28,
   "metadata": {},
   "outputs": [
    {
     "data": {
      "text/plain": [
       "200"
      ]
     },
     "execution_count": 28,
     "metadata": {},
     "output_type": "execute_result"
    }
   ],
   "source": [
    "res.status_code"
   ]
  },
  {
   "cell_type": "code",
   "execution_count": 29,
   "metadata": {},
   "outputs": [
    {
     "data": {
      "application/json": {
       "data": {
        "request": [
         {
          "query": "Lar-Lar, Indonesia",
          "type": "City"
         }
        ],
        "weather": [
         {
          "astronomy": [
           {
            "moon_illumination": "97",
            "moon_phase": "Waxing Gibbous",
            "moonrise": "04:59 PM",
            "moonset": "04:06 AM",
            "sunrise": "05:16 AM",
            "sunset": "05:47 PM"
           }
          ],
          "avgtempC": "29",
          "avgtempF": "84",
          "date": "2018-01-01",
          "hourly": [
           {
            "DewPointC": "23",
            "DewPointF": "74",
            "FeelsLikeC": "32",
            "FeelsLikeF": "89",
            "HeatIndexC": "32",
            "HeatIndexF": "89",
            "WindChillC": "28",
            "WindChillF": "82",
            "WindGustKmph": "6",
            "WindGustMiles": "4",
            "cloudcover": "31",
            "humidity": "76",
            "precipInches": "0.1",
            "precipMM": "2.5",
            "pressure": "1007",
            "pressureInches": "30",
            "tempC": "31",
            "tempF": "89",
            "time": "24",
            "uvIndex": "6",
            "visibility": "10",
            "visibilityMiles": "6",
            "weatherCode": "176",
            "weatherDesc": [
             {
              "value": "Patchy rain possible"
             }
            ],
            "weatherIconUrl": [
             {
              "value": "http://cdn.worldweatheronline.com/images/wsymbols01_png_64/wsymbol_0009_light_rain_showers.png"
             }
            ],
            "winddir16Point": "SW",
            "winddirDegree": "224",
            "windspeedKmph": "4",
            "windspeedMiles": "2"
           }
          ],
          "maxtempC": "31",
          "maxtempF": "89",
          "mintempC": "25",
          "mintempF": "77",
          "sunHour": "11.6",
          "totalSnow_cm": "0.0",
          "uvIndex": "6"
         },
         {
          "astronomy": [
           {
            "moon_illumination": "100",
            "moon_phase": "Full Moon",
            "moonrise": "06:03 PM",
            "moonset": "05:09 AM",
            "sunrise": "05:16 AM",
            "sunset": "05:48 PM"
           }
          ],
          "avgtempC": "29",
          "avgtempF": "84",
          "date": "2018-01-02",
          "hourly": [
           {
            "DewPointC": "23",
            "DewPointF": "74",
            "FeelsLikeC": "32",
            "FeelsLikeF": "89",
            "HeatIndexC": "32",
            "HeatIndexF": "89",
            "WindChillC": "28",
            "WindChillF": "82",
            "WindGustKmph": "9",
            "WindGustMiles": "5",
            "cloudcover": "39",
            "humidity": "77",
            "precipInches": "0.1",
            "precipMM": "2.9",
            "pressure": "1007",
            "pressureInches": "30",
            "tempC": "31",
            "tempF": "88",
            "time": "24",
            "uvIndex": "6",
            "visibility": "10",
            "visibilityMiles": "5",
            "weatherCode": "356",
            "weatherDesc": [
             {
              "value": "Moderate or heavy rain shower"
             }
            ],
            "weatherIconUrl": [
             {
              "value": "http://cdn.worldweatheronline.com/images/wsymbols01_png_64/wsymbol_0010_heavy_rain_showers.png"
             }
            ],
            "winddir16Point": "ESE",
            "winddirDegree": "119",
            "windspeedKmph": "6",
            "windspeedMiles": "4"
           }
          ],
          "maxtempC": "31",
          "maxtempF": "88",
          "mintempC": "25",
          "mintempF": "77",
          "sunHour": "11.6",
          "totalSnow_cm": "0.0",
          "uvIndex": "6"
         },
         {
          "astronomy": [
           {
            "moon_illumination": "89",
            "moon_phase": "Waxing Gibbous",
            "moonrise": "07:05 PM",
            "moonset": "06:13 AM",
            "sunrise": "05:17 AM",
            "sunset": "05:48 PM"
           }
          ],
          "avgtempC": "29",
          "avgtempF": "83",
          "date": "2018-01-03",
          "hourly": [
           {
            "DewPointC": "24",
            "DewPointF": "75",
            "FeelsLikeC": "32",
            "FeelsLikeF": "90",
            "HeatIndexC": "32",
            "HeatIndexF": "90",
            "WindChillC": "28",
            "WindChillF": "82",
            "WindGustKmph": "9",
            "WindGustMiles": "6",
            "cloudcover": "26",
            "humidity": "80",
            "precipInches": "0.3",
            "precipMM": "7.9",
            "pressure": "1007",
            "pressureInches": "30",
            "tempC": "31",
            "tempF": "87",
            "time": "24",
            "uvIndex": "6",
            "visibility": "10",
            "visibilityMiles": "5",
            "weatherCode": "356",
            "weatherDesc": [
             {
              "value": "Moderate or heavy rain shower"
             }
            ],
            "weatherIconUrl": [
             {
              "value": "http://cdn.worldweatheronline.com/images/wsymbols01_png_64/wsymbol_0010_heavy_rain_showers.png"
             }
            ],
            "winddir16Point": "E",
            "winddirDegree": "95",
            "windspeedKmph": "6",
            "windspeedMiles": "4"
           }
          ],
          "maxtempC": "31",
          "maxtempF": "87",
          "mintempC": "26",
          "mintempF": "78",
          "sunHour": "11.6",
          "totalSnow_cm": "0.0",
          "uvIndex": "6"
         },
         {
          "astronomy": [
           {
            "moon_illumination": "81",
            "moon_phase": "Waxing Gibbous",
            "moonrise": "08:03 PM",
            "moonset": "07:16 AM",
            "sunrise": "05:17 AM",
            "sunset": "05:48 PM"
           }
          ],
          "avgtempC": "28",
          "avgtempF": "83",
          "date": "2018-01-04",
          "hourly": [
           {
            "DewPointC": "24",
            "DewPointF": "75",
            "FeelsLikeC": "32",
            "FeelsLikeF": "89",
            "HeatIndexC": "32",
            "HeatIndexF": "89",
            "WindChillC": "28",
            "WindChillF": "82",
            "WindGustKmph": "8",
            "WindGustMiles": "5",
            "cloudcover": "45",
            "humidity": "79",
            "precipInches": "0.4",
            "precipMM": "9.7",
            "pressure": "1008",
            "pressureInches": "30",
            "tempC": "30",
            "tempF": "85",
            "time": "24",
            "uvIndex": "6",
            "visibility": "9",
            "visibilityMiles": "5",
            "weatherCode": "356",
            "weatherDesc": [
             {
              "value": "Moderate or heavy rain shower"
             }
            ],
            "weatherIconUrl": [
             {
              "value": "http://cdn.worldweatheronline.com/images/wsymbols01_png_64/wsymbol_0010_heavy_rain_showers.png"
             }
            ],
            "winddir16Point": "SE",
            "winddirDegree": "138",
            "windspeedKmph": "5",
            "windspeedMiles": "3"
           }
          ],
          "maxtempC": "30",
          "maxtempF": "85",
          "mintempC": "26",
          "mintempF": "78",
          "sunHour": "11.6",
          "totalSnow_cm": "0.0",
          "uvIndex": "6"
         },
         {
          "astronomy": [
           {
            "moon_illumination": "74",
            "moon_phase": "Waning Gibbous",
            "moonrise": "08:58 PM",
            "moonset": "08:15 AM",
            "sunrise": "05:18 AM",
            "sunset": "05:49 PM"
           }
          ],
          "avgtempC": "29",
          "avgtempF": "84",
          "date": "2018-01-05",
          "hourly": [
           {
            "DewPointC": "23",
            "DewPointF": "74",
            "FeelsLikeC": "32",
            "FeelsLikeF": "89",
            "HeatIndexC": "32",
            "HeatIndexF": "89",
            "WindChillC": "28",
            "WindChillF": "82",
            "WindGustKmph": "11",
            "WindGustMiles": "7",
            "cloudcover": "29",
            "humidity": "78",
            "precipInches": "0.0",
            "precipMM": "0.1",
            "pressure": "1008",
            "pressureInches": "30",
            "tempC": "32",
            "tempF": "89",
            "time": "24",
            "uvIndex": "7",
            "visibility": "10",
            "visibilityMiles": "6",
            "weatherCode": "116",
            "weatherDesc": [
             {
              "value": "Partly cloudy"
             }
            ],
            "weatherIconUrl": [
             {
              "value": "http://cdn.worldweatheronline.com/images/wsymbols01_png_64/wsymbol_0002_sunny_intervals.png"
             }
            ],
            "winddir16Point": "S",
            "winddirDegree": "178",
            "windspeedKmph": "7",
            "windspeedMiles": "5"
           }
          ],
          "maxtempC": "32",
          "maxtempF": "89",
          "mintempC": "25",
          "mintempF": "78",
          "sunHour": "11.6",
          "totalSnow_cm": "0.0",
          "uvIndex": "7"
         },
         {
          "astronomy": [
           {
            "moon_illumination": "67",
            "moon_phase": "Waning Gibbous",
            "moonrise": "09:48 PM",
            "moonset": "09:12 AM",
            "sunrise": "05:18 AM",
            "sunset": "05:49 PM"
           }
          ],
          "avgtempC": "29",
          "avgtempF": "84",
          "date": "2018-01-06",
          "hourly": [
           {
            "DewPointC": "23",
            "DewPointF": "74",
            "FeelsLikeC": "31",
            "FeelsLikeF": "89",
            "HeatIndexC": "31",
            "HeatIndexF": "89",
            "WindChillC": "28",
            "WindChillF": "82",
            "WindGustKmph": "11",
            "WindGustMiles": "7",
            "cloudcover": "46",
            "humidity": "78",
            "precipInches": "0.3",
            "precipMM": "7.6",
            "pressure": "1008",
            "pressureInches": "30",
            "tempC": "31",
            "tempF": "88",
            "time": "24",
            "uvIndex": "6",
            "visibility": "9",
            "visibilityMiles": "5",
            "weatherCode": "359",
            "weatherDesc": [
             {
              "value": "Torrential rain shower"
             }
            ],
            "weatherIconUrl": [
             {
              "value": "http://cdn.worldweatheronline.com/images/wsymbols01_png_64/wsymbol_0018_cloudy_with_heavy_rain.png"
             }
            ],
            "winddir16Point": "WSW",
            "winddirDegree": "256",
            "windspeedKmph": "6",
            "windspeedMiles": "4"
           }
          ],
          "maxtempC": "31",
          "maxtempF": "88",
          "mintempC": "25",
          "mintempF": "78",
          "sunHour": "11.6",
          "totalSnow_cm": "0.0",
          "uvIndex": "6"
         },
         {
          "astronomy": [
           {
            "moon_illumination": "59",
            "moon_phase": "Waning Gibbous",
            "moonrise": "10:34 PM",
            "moonset": "10:05 AM",
            "sunrise": "05:19 AM",
            "sunset": "05:49 PM"
           }
          ],
          "avgtempC": "27",
          "avgtempF": "80",
          "date": "2018-01-07",
          "hourly": [
           {
            "DewPointC": "23",
            "DewPointF": "73",
            "FeelsLikeC": "29",
            "FeelsLikeF": "85",
            "HeatIndexC": "29",
            "HeatIndexF": "85",
            "WindChillC": "26",
            "WindChillF": "79",
            "WindGustKmph": "10",
            "WindGustMiles": "6",
            "cloudcover": "64",
            "humidity": "82",
            "precipInches": "0.1",
            "precipMM": "1.6",
            "pressure": "1009",
            "pressureInches": "30",
            "tempC": "29",
            "tempF": "84",
            "time": "24",
            "uvIndex": "6",
            "visibility": "10",
            "visibilityMiles": "6",
            "weatherCode": "353",
            "weatherDesc": [
             {
              "value": "Light rain shower"
             }
            ],
            "weatherIconUrl": [
             {
              "value": "http://cdn.worldweatheronline.com/images/wsymbols01_png_64/wsymbol_0009_light_rain_showers.png"
             }
            ],
            "winddir16Point": "W",
            "winddirDegree": "271",
            "windspeedKmph": "6",
            "windspeedMiles": "4"
           }
          ],
          "maxtempC": "29",
          "maxtempF": "84",
          "mintempC": "25",
          "mintempF": "76",
          "sunHour": "7.5",
          "totalSnow_cm": "0.0",
          "uvIndex": "6"
         },
         {
          "astronomy": [
           {
            "moon_illumination": "52",
            "moon_phase": "Last Quarter",
            "moonrise": "11:19 PM",
            "moonset": "10:55 AM",
            "sunrise": "05:19 AM",
            "sunset": "05:50 PM"
           }
          ],
          "avgtempC": "27",
          "avgtempF": "81",
          "date": "2018-01-08",
          "hourly": [
           {
            "DewPointC": "23",
            "DewPointF": "74",
            "FeelsLikeC": "30",
            "FeelsLikeF": "86",
            "HeatIndexC": "30",
            "HeatIndexF": "86",
            "WindChillC": "27",
            "WindChillF": "80",
            "WindGustKmph": "7",
            "WindGustMiles": "4",
            "cloudcover": "51",
            "humidity": "82",
            "precipInches": "0.0",
            "precipMM": "0.3",
            "pressure": "1010",
            "pressureInches": "30",
            "tempC": "29",
            "tempF": "83",
            "time": "24",
            "uvIndex": "6",
            "visibility": "10",
            "visibilityMiles": "6",
            "weatherCode": "119",
            "weatherDesc": [
             {
              "value": "Cloudy"
             }
            ],
            "weatherIconUrl": [
             {
              "value": "http://cdn.worldweatheronline.com/images/wsymbols01_png_64/wsymbol_0003_white_cloud.png"
             }
            ],
            "winddir16Point": "SSW",
            "winddirDegree": "200",
            "windspeedKmph": "4",
            "windspeedMiles": "3"
           }
          ],
          "maxtempC": "29",
          "maxtempF": "83",
          "mintempC": "24",
          "mintempF": "76",
          "sunHour": "8.9",
          "totalSnow_cm": "0.0",
          "uvIndex": "6"
         },
         {
          "astronomy": [
           {
            "moon_illumination": "45",
            "moon_phase": "Last Quarter",
            "moonrise": "No moonrise",
            "moonset": "11:43 AM",
            "sunrise": "05:20 AM",
            "sunset": "05:50 PM"
           }
          ],
          "avgtempC": "29",
          "avgtempF": "84",
          "date": "2018-01-09",
          "hourly": [
           {
            "DewPointC": "23",
            "DewPointF": "73",
            "FeelsLikeC": "31",
            "FeelsLikeF": "88",
            "HeatIndexC": "31",
            "HeatIndexF": "88",
            "WindChillC": "28",
            "WindChillF": "82",
            "WindGustKmph": "12",
            "WindGustMiles": "8",
            "cloudcover": "38",
            "humidity": "76",
            "precipInches": "0.1",
            "precipMM": "2.4",
            "pressure": "1010",
            "pressureInches": "30",
            "tempC": "32",
            "tempF": "89",
            "time": "24",
            "uvIndex": "6",
            "visibility": "10",
            "visibilityMiles": "6",
            "weatherCode": "176",
            "weatherDesc": [
             {
              "value": "Patchy rain possible"
             }
            ],
            "weatherIconUrl": [
             {
              "value": "http://cdn.worldweatheronline.com/images/wsymbols01_png_64/wsymbol_0009_light_rain_showers.png"
             }
            ],
            "winddir16Point": "W",
            "winddirDegree": "278",
            "windspeedKmph": "8",
            "windspeedMiles": "5"
           }
          ],
          "maxtempC": "32",
          "maxtempF": "89",
          "mintempC": "25",
          "mintempF": "77",
          "sunHour": "11.6",
          "totalSnow_cm": "0.0",
          "uvIndex": "6"
         },
         {
          "astronomy": [
           {
            "moon_illumination": "38",
            "moon_phase": "Last Quarter",
            "moonrise": "12:01 AM",
            "moonset": "12:30 PM",
            "sunrise": "05:20 AM",
            "sunset": "05:50 PM"
           }
          ],
          "avgtempC": "28",
          "avgtempF": "83",
          "date": "2018-01-10",
          "hourly": [
           {
            "DewPointC": "22",
            "DewPointF": "72",
            "FeelsLikeC": "30",
            "FeelsLikeF": "87",
            "HeatIndexC": "30",
            "HeatIndexF": "87",
            "WindChillC": "27",
            "WindChillF": "81",
            "WindGustKmph": "20",
            "WindGustMiles": "12",
            "cloudcover": "58",
            "humidity": "75",
            "precipInches": "0.0",
            "precipMM": "0.0",
            "pressure": "1009",
            "pressureInches": "30",
            "tempC": "30",
            "tempF": "87",
            "time": "24",
            "uvIndex": "6",
            "visibility": "10",
            "visibilityMiles": "6",
            "weatherCode": "122",
            "weatherDesc": [
             {
              "value": "Overcast"
             }
            ],
            "weatherIconUrl": [
             {
              "value": "http://cdn.worldweatheronline.com/images/wsymbols01_png_64/wsymbol_0004_black_low_cloud.png"
             }
            ],
            "winddir16Point": "W",
            "winddirDegree": "263",
            "windspeedKmph": "13",
            "windspeedMiles": "8"
           }
          ],
          "maxtempC": "30",
          "maxtempF": "87",
          "mintempC": "25",
          "mintempF": "78",
          "sunHour": "7.5",
          "totalSnow_cm": "0.0",
          "uvIndex": "6"
         },
         {
          "astronomy": [
           {
            "moon_illumination": "30",
            "moon_phase": "Last Quarter",
            "moonrise": "12:44 AM",
            "moonset": "01:17 PM",
            "sunrise": "05:21 AM",
            "sunset": "05:51 PM"
           }
          ],
          "avgtempC": "27",
          "avgtempF": "81",
          "date": "2018-01-11",
          "hourly": [
           {
            "DewPointC": "23",
            "DewPointF": "73",
            "FeelsLikeC": "29",
            "FeelsLikeF": "85",
            "HeatIndexC": "29",
            "HeatIndexF": "85",
            "WindChillC": "26",
            "WindChillF": "80",
            "WindGustKmph": "23",
            "WindGustMiles": "14",
            "cloudcover": "61",
            "humidity": "80",
            "precipInches": "0.3",
            "precipMM": "7.7",
            "pressure": "1009",
            "pressureInches": "30",
            "tempC": "29",
            "tempF": "84",
            "time": "24",
            "uvIndex": "6",
            "visibility": "9",
            "visibilityMiles": "5",
            "weatherCode": "356",
            "weatherDesc": [
             {
              "value": "Moderate or heavy rain shower"
             }
            ],
            "weatherIconUrl": [
             {
              "value": "http://cdn.worldweatheronline.com/images/wsymbols01_png_64/wsymbol_0010_heavy_rain_showers.png"
             }
            ],
            "winddir16Point": "W",
            "winddirDegree": "265",
            "windspeedKmph": "14",
            "windspeedMiles": "9"
           }
          ],
          "maxtempC": "29",
          "maxtempF": "84",
          "mintempC": "25",
          "mintempF": "77",
          "sunHour": "10.2",
          "totalSnow_cm": "0.0",
          "uvIndex": "6"
         },
         {
          "astronomy": [
           {
            "moon_illumination": "23",
            "moon_phase": "Waning Crescent",
            "moonrise": "01:27 AM",
            "moonset": "02:04 PM",
            "sunrise": "05:21 AM",
            "sunset": "05:51 PM"
           }
          ],
          "avgtempC": "27",
          "avgtempF": "81",
          "date": "2018-01-12",
          "hourly": [
           {
            "DewPointC": "22",
            "DewPointF": "72",
            "FeelsLikeC": "29",
            "FeelsLikeF": "84",
            "HeatIndexC": "29",
            "HeatIndexF": "84",
            "WindChillC": "26",
            "WindChillF": "80",
            "WindGustKmph": "22",
            "WindGustMiles": "14",
            "cloudcover": "70",
            "humidity": "78",
            "precipInches": "0.1",
            "precipMM": "2.0",
            "pressure": "1009",
            "pressureInches": "30",
            "tempC": "29",
            "tempF": "85",
            "time": "24",
            "uvIndex": "6",
            "visibility": "10",
            "visibilityMiles": "6",
            "weatherCode": "353",
            "weatherDesc": [
             {
              "value": "Light rain shower"
             }
            ],
            "weatherIconUrl": [
             {
              "value": "http://cdn.worldweatheronline.com/images/wsymbols01_png_64/wsymbol_0009_light_rain_showers.png"
             }
            ],
            "winddir16Point": "W",
            "winddirDegree": "280",
            "windspeedKmph": "13",
            "windspeedMiles": "8"
           }
          ],
          "maxtempC": "29",
          "maxtempF": "85",
          "mintempC": "25",
          "mintempF": "76",
          "sunHour": "8.9",
          "totalSnow_cm": "0.0",
          "uvIndex": "6"
         },
         {
          "astronomy": [
           {
            "moon_illumination": "16",
            "moon_phase": "Waning Crescent",
            "moonrise": "02:11 AM",
            "moonset": "02:51 PM",
            "sunrise": "05:22 AM",
            "sunset": "05:51 PM"
           }
          ],
          "avgtempC": "28",
          "avgtempF": "83",
          "date": "2018-01-13",
          "hourly": [
           {
            "DewPointC": "23",
            "DewPointF": "73",
            "FeelsLikeC": "30",
            "FeelsLikeF": "87",
            "HeatIndexC": "30",
            "HeatIndexF": "87",
            "WindChillC": "27",
            "WindChillF": "81",
            "WindGustKmph": "24",
            "WindGustMiles": "15",
            "cloudcover": "82",
            "humidity": "78",
            "precipInches": "0.2",
            "precipMM": "5.6",
            "pressure": "1008",
            "pressureInches": "30",
            "tempC": "30",
            "tempF": "87",
            "time": "24",
            "uvIndex": "6",
            "visibility": "9",
            "visibilityMiles": "5",
            "weatherCode": "356",
            "weatherDesc": [
             {
              "value": "Moderate or heavy rain shower"
             }
            ],
            "weatherIconUrl": [
             {
              "value": "http://cdn.worldweatheronline.com/images/wsymbols01_png_64/wsymbol_0010_heavy_rain_showers.png"
             }
            ],
            "winddir16Point": "W",
            "winddirDegree": "280",
            "windspeedKmph": "15",
            "windspeedMiles": "9"
           }
          ],
          "maxtempC": "30",
          "maxtempF": "87",
          "mintempC": "25",
          "mintempF": "77",
          "sunHour": "7.5",
          "totalSnow_cm": "0.0",
          "uvIndex": "6"
         },
         {
          "astronomy": [
           {
            "moon_illumination": "9",
            "moon_phase": "Waning Crescent",
            "moonrise": "02:57 AM",
            "moonset": "03:39 PM",
            "sunrise": "05:22 AM",
            "sunset": "05:52 PM"
           }
          ],
          "avgtempC": "28",
          "avgtempF": "82",
          "date": "2018-01-14",
          "hourly": [
           {
            "DewPointC": "23",
            "DewPointF": "73",
            "FeelsLikeC": "30",
            "FeelsLikeF": "85",
            "HeatIndexC": "30",
            "HeatIndexF": "85",
            "WindChillC": "27",
            "WindChillF": "80",
            "WindGustKmph": "22",
            "WindGustMiles": "14",
            "cloudcover": "70",
            "humidity": "78",
            "precipInches": "0.1",
            "precipMM": "1.8",
            "pressure": "1009",
            "pressureInches": "30",
            "tempC": "30",
            "tempF": "86",
            "time": "24",
            "uvIndex": "6",
            "visibility": "10",
            "visibilityMiles": "6",
            "weatherCode": "353",
            "weatherDesc": [
             {
              "value": "Light rain shower"
             }
            ],
            "weatherIconUrl": [
             {
              "value": "http://cdn.worldweatheronline.com/images/wsymbols01_png_64/wsymbol_0009_light_rain_showers.png"
             }
            ],
            "winddir16Point": "W",
            "winddirDegree": "275",
            "windspeedKmph": "14",
            "windspeedMiles": "9"
           }
          ],
          "maxtempC": "30",
          "maxtempF": "86",
          "mintempC": "25",
          "mintempF": "77",
          "sunHour": "8.9",
          "totalSnow_cm": "0.0",
          "uvIndex": "6"
         },
         {
          "astronomy": [
           {
            "moon_illumination": "1",
            "moon_phase": "Waning Crescent",
            "moonrise": "03:44 AM",
            "moonset": "04:27 PM",
            "sunrise": "05:23 AM",
            "sunset": "05:52 PM"
           }
          ],
          "avgtempC": "27",
          "avgtempF": "81",
          "date": "2018-01-15",
          "hourly": [
           {
            "DewPointC": "23",
            "DewPointF": "73",
            "FeelsLikeC": "29",
            "FeelsLikeF": "85",
            "HeatIndexC": "29",
            "HeatIndexF": "85",
            "WindChillC": "26",
            "WindChillF": "80",
            "WindGustKmph": "21",
            "WindGustMiles": "13",
            "cloudcover": "53",
            "humidity": "80",
            "precipInches": "0.1",
            "precipMM": "1.5",
            "pressure": "1008",
            "pressureInches": "30",
            "tempC": "29",
            "tempF": "85",
            "time": "24",
            "uvIndex": "6",
            "visibility": "10",
            "visibilityMiles": "6",
            "weatherCode": "353",
            "weatherDesc": [
             {
              "value": "Light rain shower"
             }
            ],
            "weatherIconUrl": [
             {
              "value": "http://cdn.worldweatheronline.com/images/wsymbols01_png_64/wsymbol_0009_light_rain_showers.png"
             }
            ],
            "winddir16Point": "WNW",
            "winddirDegree": "290",
            "windspeedKmph": "14",
            "windspeedMiles": "8"
           }
          ],
          "maxtempC": "29",
          "maxtempF": "85",
          "mintempC": "25",
          "mintempF": "76",
          "sunHour": "10.2",
          "totalSnow_cm": "0.0",
          "uvIndex": "6"
         },
         {
          "astronomy": [
           {
            "moon_illumination": "0",
            "moon_phase": "New Moon",
            "moonrise": "04:31 AM",
            "moonset": "05:15 PM",
            "sunrise": "05:23 AM",
            "sunset": "05:52 PM"
           }
          ],
          "avgtempC": "27",
          "avgtempF": "81",
          "date": "2018-01-16",
          "hourly": [
           {
            "DewPointC": "23",
            "DewPointF": "73",
            "FeelsLikeC": "29",
            "FeelsLikeF": "85",
            "HeatIndexC": "29",
            "HeatIndexF": "85",
            "WindChillC": "27",
            "WindChillF": "80",
            "WindGustKmph": "25",
            "WindGustMiles": "15",
            "cloudcover": "61",
            "humidity": "79",
            "precipInches": "0.1",
            "precipMM": "3.3",
            "pressure": "1008",
            "pressureInches": "30",
            "tempC": "30",
            "tempF": "87",
            "time": "24",
            "uvIndex": "6",
            "visibility": "10",
            "visibilityMiles": "6",
            "weatherCode": "176",
            "weatherDesc": [
             {
              "value": "Patchy rain possible"
             }
            ],
            "weatherIconUrl": [
             {
              "value": "http://cdn.worldweatheronline.com/images/wsymbols01_png_64/wsymbol_0009_light_rain_showers.png"
             }
            ],
            "winddir16Point": "WNW",
            "winddirDegree": "288",
            "windspeedKmph": "16",
            "windspeedMiles": "10"
           }
          ],
          "maxtempC": "30",
          "maxtempF": "87",
          "mintempC": "25",
          "mintempF": "77",
          "sunHour": "8.9",
          "totalSnow_cm": "0.0",
          "uvIndex": "6"
         },
         {
          "astronomy": [
           {
            "moon_illumination": "0",
            "moon_phase": "New Moon",
            "moonrise": "05:20 AM",
            "moonset": "06:02 PM",
            "sunrise": "05:24 AM",
            "sunset": "05:52 PM"
           }
          ],
          "avgtempC": "28",
          "avgtempF": "82",
          "date": "2018-01-17",
          "hourly": [
           {
            "DewPointC": "23",
            "DewPointF": "73",
            "FeelsLikeC": "30",
            "FeelsLikeF": "86",
            "HeatIndexC": "30",
            "HeatIndexF": "86",
            "WindChillC": "27",
            "WindChillF": "80",
            "WindGustKmph": "21",
            "WindGustMiles": "13",
            "cloudcover": "67",
            "humidity": "80",
            "precipInches": "0.4",
            "precipMM": "11.2",
            "pressure": "1007",
            "pressureInches": "30",
            "tempC": "30",
            "tempF": "86",
            "time": "24",
            "uvIndex": "6",
            "visibility": "9",
            "visibilityMiles": "5",
            "weatherCode": "353",
            "weatherDesc": [
             {
              "value": "Light rain shower"
             }
            ],
            "weatherIconUrl": [
             {
              "value": "http://cdn.worldweatheronline.com/images/wsymbols01_png_64/wsymbol_0009_light_rain_showers.png"
             }
            ],
            "winddir16Point": "W",
            "winddirDegree": "280",
            "windspeedKmph": "14",
            "windspeedMiles": "9"
           }
          ],
          "maxtempC": "30",
          "maxtempF": "86",
          "mintempC": "25",
          "mintempF": "76",
          "sunHour": "6.1",
          "totalSnow_cm": "0.0",
          "uvIndex": "6"
         },
         {
          "astronomy": [
           {
            "moon_illumination": "6",
            "moon_phase": "Waxing Crescent",
            "moonrise": "06:08 AM",
            "moonset": "06:48 PM",
            "sunrise": "05:24 AM",
            "sunset": "05:52 PM"
           }
          ],
          "avgtempC": "27",
          "avgtempF": "81",
          "date": "2018-01-18",
          "hourly": [
           {
            "DewPointC": "23",
            "DewPointF": "74",
            "FeelsLikeC": "30",
            "FeelsLikeF": "86",
            "HeatIndexC": "30",
            "HeatIndexF": "86",
            "WindChillC": "26",
            "WindChillF": "80",
            "WindGustKmph": "20",
            "WindGustMiles": "12",
            "cloudcover": "64",
            "humidity": "83",
            "precipInches": "0.3",
            "precipMM": "8.0",
            "pressure": "1008",
            "pressureInches": "30",
            "tempC": "29",
            "tempF": "85",
            "time": "24",
            "uvIndex": "6",
            "visibility": "9",
            "visibilityMiles": "5",
            "weatherCode": "356",
            "weatherDesc": [
             {
              "value": "Moderate or heavy rain shower"
             }
            ],
            "weatherIconUrl": [
             {
              "value": "http://cdn.worldweatheronline.com/images/wsymbols01_png_64/wsymbol_0010_heavy_rain_showers.png"
             }
            ],
            "winddir16Point": "W",
            "winddirDegree": "276",
            "windspeedKmph": "13",
            "windspeedMiles": "8"
           }
          ],
          "maxtempC": "29",
          "maxtempF": "85",
          "mintempC": "25",
          "mintempF": "76",
          "sunHour": "8.9",
          "totalSnow_cm": "0.0",
          "uvIndex": "6"
         },
         {
          "astronomy": [
           {
            "moon_illumination": "13",
            "moon_phase": "Waxing Crescent",
            "moonrise": "06:56 AM",
            "moonset": "07:33 PM",
            "sunrise": "05:25 AM",
            "sunset": "05:53 PM"
           }
          ],
          "avgtempC": "27",
          "avgtempF": "81",
          "date": "2018-01-19",
          "hourly": [
           {
            "DewPointC": "23",
            "DewPointF": "74",
            "FeelsLikeC": "29",
            "FeelsLikeF": "85",
            "HeatIndexC": "29",
            "HeatIndexF": "85",
            "WindChillC": "26",
            "WindChillF": "79",
            "WindGustKmph": "21",
            "WindGustMiles": "13",
            "cloudcover": "58",
            "humidity": "84",
            "precipInches": "0.4",
            "precipMM": "10.2",
            "pressure": "1008",
            "pressureInches": "30",
            "tempC": "29",
            "tempF": "85",
            "time": "24",
            "uvIndex": "6",
            "visibility": "9",
            "visibilityMiles": "5",
            "weatherCode": "359",
            "weatherDesc": [
             {
              "value": "Torrential rain shower"
             }
            ],
            "weatherIconUrl": [
             {
              "value": "http://cdn.worldweatheronline.com/images/wsymbols01_png_64/wsymbol_0018_cloudy_with_heavy_rain.png"
             }
            ],
            "winddir16Point": "WSW",
            "winddirDegree": "258",
            "windspeedKmph": "12",
            "windspeedMiles": "8"
           }
          ],
          "maxtempC": "29",
          "maxtempF": "85",
          "mintempC": "24",
          "mintempF": "76",
          "sunHour": "10.2",
          "totalSnow_cm": "0.0",
          "uvIndex": "6"
         },
         {
          "astronomy": [
           {
            "moon_illumination": "20",
            "moon_phase": "Waxing Crescent",
            "moonrise": "07:44 AM",
            "moonset": "08:17 PM",
            "sunrise": "05:25 AM",
            "sunset": "05:53 PM"
           }
          ],
          "avgtempC": "27",
          "avgtempF": "80",
          "date": "2018-01-20",
          "hourly": [
           {
            "DewPointC": "23",
            "DewPointF": "73",
            "FeelsLikeC": "29",
            "FeelsLikeF": "84",
            "HeatIndexC": "29",
            "HeatIndexF": "84",
            "WindChillC": "26",
            "WindChillF": "79",
            "WindGustKmph": "17",
            "WindGustMiles": "10",
            "cloudcover": "51",
            "humidity": "83",
            "precipInches": "0.1",
            "precipMM": "3.1",
            "pressure": "1007",
            "pressureInches": "30",
            "tempC": "29",
            "tempF": "84",
            "time": "24",
            "uvIndex": "6",
            "visibility": "10",
            "visibilityMiles": "5",
            "weatherCode": "356",
            "weatherDesc": [
             {
              "value": "Moderate or heavy rain shower"
             }
            ],
            "weatherIconUrl": [
             {
              "value": "http://cdn.worldweatheronline.com/images/wsymbols01_png_64/wsymbol_0010_heavy_rain_showers.png"
             }
            ],
            "winddir16Point": "WNW",
            "winddirDegree": "281",
            "windspeedKmph": "11",
            "windspeedMiles": "7"
           }
          ],
          "maxtempC": "29",
          "maxtempF": "84",
          "mintempC": "25",
          "mintempF": "76",
          "sunHour": "11.6",
          "totalSnow_cm": "0.0",
          "uvIndex": "6"
         },
         {
          "astronomy": [
           {
            "moon_illumination": "28",
            "moon_phase": "Waxing Crescent",
            "moonrise": "08:31 AM",
            "moonset": "09:00 PM",
            "sunrise": "05:26 AM",
            "sunset": "05:53 PM"
           }
          ],
          "avgtempC": "26",
          "avgtempF": "80",
          "date": "2018-01-21",
          "hourly": [
           {
            "DewPointC": "23",
            "DewPointF": "73",
            "FeelsLikeC": "29",
            "FeelsLikeF": "83",
            "HeatIndexC": "29",
            "HeatIndexF": "83",
            "WindChillC": "26",
            "WindChillF": "78",
            "WindGustKmph": "18",
            "WindGustMiles": "11",
            "cloudcover": "63",
            "humidity": "85",
            "precipInches": "0.3",
            "precipMM": "7.0",
            "pressure": "1006",
            "pressureInches": "30",
            "tempC": "28",
            "tempF": "83",
            "time": "24",
            "uvIndex": "6",
            "visibility": "10",
            "visibilityMiles": "5",
            "weatherCode": "356",
            "weatherDesc": [
             {
              "value": "Moderate or heavy rain shower"
             }
            ],
            "weatherIconUrl": [
             {
              "value": "http://cdn.worldweatheronline.com/images/wsymbols01_png_64/wsymbol_0010_heavy_rain_showers.png"
             }
            ],
            "winddir16Point": "W",
            "winddirDegree": "269",
            "windspeedKmph": "11",
            "windspeedMiles": "7"
           }
          ],
          "maxtempC": "28",
          "maxtempF": "83",
          "mintempC": "24",
          "mintempF": "76",
          "sunHour": "8.9",
          "totalSnow_cm": "0.0",
          "uvIndex": "6"
         },
         {
          "astronomy": [
           {
            "moon_illumination": "35",
            "moon_phase": "Waxing Crescent",
            "moonrise": "09:19 AM",
            "moonset": "09:43 PM",
            "sunrise": "05:26 AM",
            "sunset": "05:53 PM"
           }
          ],
          "avgtempC": "27",
          "avgtempF": "81",
          "date": "2018-01-22",
          "hourly": [
           {
            "DewPointC": "23",
            "DewPointF": "74",
            "FeelsLikeC": "29",
            "FeelsLikeF": "85",
            "HeatIndexC": "29",
            "HeatIndexF": "85",
            "WindChillC": "26",
            "WindChillF": "79",
            "WindGustKmph": "23",
            "WindGustMiles": "14",
            "cloudcover": "64",
            "humidity": "85",
            "precipInches": "0.3",
            "precipMM": "7.2",
            "pressure": "1006",
            "pressureInches": "30",
            "tempC": "29",
            "tempF": "84",
            "time": "24",
            "uvIndex": "6",
            "visibility": "10",
            "visibilityMiles": "5",
            "weatherCode": "356",
            "weatherDesc": [
             {
              "value": "Moderate or heavy rain shower"
             }
            ],
            "weatherIconUrl": [
             {
              "value": "http://cdn.worldweatheronline.com/images/wsymbols01_png_64/wsymbol_0010_heavy_rain_showers.png"
             }
            ],
            "winddir16Point": "WNW",
            "winddirDegree": "285",
            "windspeedKmph": "15",
            "windspeedMiles": "9"
           }
          ],
          "maxtempC": "29",
          "maxtempF": "84",
          "mintempC": "24",
          "mintempF": "76",
          "sunHour": "7.5",
          "totalSnow_cm": "0.0",
          "uvIndex": "6"
         },
         {
          "astronomy": [
           {
            "moon_illumination": "42",
            "moon_phase": "First Quarter",
            "moonrise": "10:06 AM",
            "moonset": "10:27 PM",
            "sunrise": "05:26 AM",
            "sunset": "05:53 PM"
           }
          ],
          "avgtempC": "27",
          "avgtempF": "81",
          "date": "2018-01-23",
          "hourly": [
           {
            "DewPointC": "23",
            "DewPointF": "74",
            "FeelsLikeC": "30",
            "FeelsLikeF": "85",
            "HeatIndexC": "30",
            "HeatIndexF": "85",
            "WindChillC": "26",
            "WindChillF": "79",
            "WindGustKmph": "27",
            "WindGustMiles": "17",
            "cloudcover": "55",
            "humidity": "83",
            "precipInches": "0.2",
            "precipMM": "5.9",
            "pressure": "1006",
            "pressureInches": "30",
            "tempC": "28",
            "tempF": "83",
            "time": "24",
            "uvIndex": "6",
            "visibility": "9",
            "visibilityMiles": "5",
            "weatherCode": "356",
            "weatherDesc": [
             {
              "value": "Moderate or heavy rain shower"
             }
            ],
            "weatherIconUrl": [
             {
              "value": "http://cdn.worldweatheronline.com/images/wsymbols01_png_64/wsymbol_0010_heavy_rain_showers.png"
             }
            ],
            "winddir16Point": "WNW",
            "winddirDegree": "288",
            "windspeedKmph": "17",
            "windspeedMiles": "10"
           }
          ],
          "maxtempC": "28",
          "maxtempF": "83",
          "mintempC": "25",
          "mintempF": "76",
          "sunHour": "8.9",
          "totalSnow_cm": "0.0",
          "uvIndex": "6"
         },
         {
          "astronomy": [
           {
            "moon_illumination": "49",
            "moon_phase": "First Quarter",
            "moonrise": "10:55 AM",
            "moonset": "11:12 PM",
            "sunrise": "05:27 AM",
            "sunset": "05:53 PM"
           }
          ],
          "avgtempC": "28",
          "avgtempF": "83",
          "date": "2018-01-24",
          "hourly": [
           {
            "DewPointC": "24",
            "DewPointF": "74",
            "FeelsLikeC": "31",
            "FeelsLikeF": "88",
            "HeatIndexC": "31",
            "HeatIndexF": "88",
            "WindChillC": "27",
            "WindChillF": "81",
            "WindGustKmph": "21",
            "WindGustMiles": "13",
            "cloudcover": "48",
            "humidity": "81",
            "precipInches": "0.3",
            "precipMM": "7.5",
            "pressure": "1006",
            "pressureInches": "30",
            "tempC": "30",
            "tempF": "86",
            "time": "24",
            "uvIndex": "6",
            "visibility": "10",
            "visibilityMiles": "5",
            "weatherCode": "353",
            "weatherDesc": [
             {
              "value": "Light rain shower"
             }
            ],
            "weatherIconUrl": [
             {
              "value": "http://cdn.worldweatheronline.com/images/wsymbols01_png_64/wsymbol_0009_light_rain_showers.png"
             }
            ],
            "winddir16Point": "WNW",
            "winddirDegree": "286",
            "windspeedKmph": "14",
            "windspeedMiles": "9"
           }
          ],
          "maxtempC": "30",
          "maxtempF": "86",
          "mintempC": "25",
          "mintempF": "77",
          "sunHour": "11.6",
          "totalSnow_cm": "0.0",
          "uvIndex": "6"
         },
         {
          "astronomy": [
           {
            "moon_illumination": "57",
            "moon_phase": "First Quarter",
            "moonrise": "11:47 AM",
            "moonset": "No moonset",
            "sunrise": "05:27 AM",
            "sunset": "05:53 PM"
           }
          ],
          "avgtempC": "27",
          "avgtempF": "80",
          "date": "2018-01-25",
          "hourly": [
           {
            "DewPointC": "24",
            "DewPointF": "74",
            "FeelsLikeC": "30",
            "FeelsLikeF": "85",
            "HeatIndexC": "30",
            "HeatIndexF": "85",
            "WindChillC": "26",
            "WindChillF": "79",
            "WindGustKmph": "26",
            "WindGustMiles": "16",
            "cloudcover": "53",
            "humidity": "85",
            "precipInches": "0.4",
            "precipMM": "11.1",
            "pressure": "1005",
            "pressureInches": "30",
            "tempC": "28",
            "tempF": "83",
            "time": "24",
            "uvIndex": "6",
            "visibility": "9",
            "visibilityMiles": "5",
            "weatherCode": "356",
            "weatherDesc": [
             {
              "value": "Moderate or heavy rain shower"
             }
            ],
            "weatherIconUrl": [
             {
              "value": "http://cdn.worldweatheronline.com/images/wsymbols01_png_64/wsymbol_0010_heavy_rain_showers.png"
             }
            ],
            "winddir16Point": "W",
            "winddirDegree": "274",
            "windspeedKmph": "15",
            "windspeedMiles": "9"
           }
          ],
          "maxtempC": "28",
          "maxtempF": "83",
          "mintempC": "25",
          "mintempF": "77",
          "sunHour": "7.5",
          "totalSnow_cm": "0.0",
          "uvIndex": "6"
         },
         {
          "astronomy": [
           {
            "moon_illumination": "64",
            "moon_phase": "First Quarter",
            "moonrise": "12:40 PM",
            "moonset": "12:00 AM",
            "sunrise": "05:27 AM",
            "sunset": "05:54 PM"
           }
          ],
          "avgtempC": "28",
          "avgtempF": "82",
          "date": "2018-01-26",
          "hourly": [
           {
            "DewPointC": "23",
            "DewPointF": "74",
            "FeelsLikeC": "30",
            "FeelsLikeF": "86",
            "HeatIndexC": "30",
            "HeatIndexF": "86",
            "WindChillC": "27",
            "WindChillF": "80",
            "WindGustKmph": "24",
            "WindGustMiles": "15",
            "cloudcover": "52",
            "humidity": "82",
            "precipInches": "0.1",
            "precipMM": "2.0",
            "pressure": "1005",
            "pressureInches": "30",
            "tempC": "30",
            "tempF": "85",
            "time": "24",
            "uvIndex": "6",
            "visibility": "10",
            "visibilityMiles": "6",
            "weatherCode": "119",
            "weatherDesc": [
             {
              "value": "Cloudy"
             }
            ],
            "weatherIconUrl": [
             {
              "value": "http://cdn.worldweatheronline.com/images/wsymbols01_png_64/wsymbol_0003_white_cloud.png"
             }
            ],
            "winddir16Point": "WNW",
            "winddirDegree": "283",
            "windspeedKmph": "15",
            "windspeedMiles": "10"
           }
          ],
          "maxtempC": "30",
          "maxtempF": "85",
          "mintempC": "25",
          "mintempF": "77",
          "sunHour": "11.6",
          "totalSnow_cm": "0.0",
          "uvIndex": "6"
         },
         {
          "astronomy": [
           {
            "moon_illumination": "71",
            "moon_phase": "Waxing Gibbous",
            "moonrise": "01:38 PM",
            "moonset": "12:52 AM",
            "sunrise": "05:28 AM",
            "sunset": "05:54 PM"
           }
          ],
          "avgtempC": "28",
          "avgtempF": "83",
          "date": "2018-01-27",
          "hourly": [
           {
            "DewPointC": "23",
            "DewPointF": "74",
            "FeelsLikeC": "31",
            "FeelsLikeF": "88",
            "HeatIndexC": "31",
            "HeatIndexF": "88",
            "WindChillC": "27",
            "WindChillF": "81",
            "WindGustKmph": "29",
            "WindGustMiles": "18",
            "cloudcover": "46",
            "humidity": "78",
            "precipInches": "0.0",
            "precipMM": "0.2",
            "pressure": "1006",
            "pressureInches": "30",
            "tempC": "30",
            "tempF": "85",
            "time": "24",
            "uvIndex": "6",
            "visibility": "10",
            "visibilityMiles": "6",
            "weatherCode": "353",
            "weatherDesc": [
             {
              "value": "Light rain shower"
             }
            ],
            "weatherIconUrl": [
             {
              "value": "http://cdn.worldweatheronline.com/images/wsymbols01_png_64/wsymbol_0009_light_rain_showers.png"
             }
            ],
            "winddir16Point": "WNW",
            "winddirDegree": "284",
            "windspeedKmph": "19",
            "windspeedMiles": "12"
           }
          ],
          "maxtempC": "30",
          "maxtempF": "85",
          "mintempC": "25",
          "mintempF": "78",
          "sunHour": "11.6",
          "totalSnow_cm": "0.0",
          "uvIndex": "6"
         },
         {
          "astronomy": [
           {
            "moon_illumination": "78",
            "moon_phase": "Waxing Gibbous",
            "moonrise": "02:38 PM",
            "moonset": "01:48 AM",
            "sunrise": "05:28 AM",
            "sunset": "05:54 PM"
           }
          ],
          "avgtempC": "28",
          "avgtempF": "83",
          "date": "2018-01-28",
          "hourly": [
           {
            "DewPointC": "24",
            "DewPointF": "74",
            "FeelsLikeC": "31",
            "FeelsLikeF": "88",
            "HeatIndexC": "31",
            "HeatIndexF": "88",
            "WindChillC": "27",
            "WindChillF": "81",
            "WindGustKmph": "29",
            "WindGustMiles": "18",
            "cloudcover": "59",
            "humidity": "79",
            "precipInches": "0.1",
            "precipMM": "1.6",
            "pressure": "1006",
            "pressureInches": "30",
            "tempC": "30",
            "tempF": "86",
            "time": "24",
            "uvIndex": "6",
            "visibility": "10",
            "visibilityMiles": "6",
            "weatherCode": "353",
            "weatherDesc": [
             {
              "value": "Light rain shower"
             }
            ],
            "weatherIconUrl": [
             {
              "value": "http://cdn.worldweatheronline.com/images/wsymbols01_png_64/wsymbol_0009_light_rain_showers.png"
             }
            ],
            "winddir16Point": "WNW",
            "winddirDegree": "292",
            "windspeedKmph": "19",
            "windspeedMiles": "12"
           }
          ],
          "maxtempC": "30",
          "maxtempF": "86",
          "mintempC": "26",
          "mintempF": "78",
          "sunHour": "7.5",
          "totalSnow_cm": "0.0",
          "uvIndex": "6"
         },
         {
          "astronomy": [
           {
            "moon_illumination": "86",
            "moon_phase": "Waxing Gibbous",
            "moonrise": "03:41 PM",
            "moonset": "02:47 AM",
            "sunrise": "05:29 AM",
            "sunset": "05:54 PM"
           }
          ],
          "avgtempC": "28",
          "avgtempF": "83",
          "date": "2018-01-29",
          "hourly": [
           {
            "DewPointC": "23",
            "DewPointF": "74",
            "FeelsLikeC": "31",
            "FeelsLikeF": "87",
            "HeatIndexC": "31",
            "HeatIndexF": "87",
            "WindChillC": "27",
            "WindChillF": "81",
            "WindGustKmph": "27",
            "WindGustMiles": "17",
            "cloudcover": "55",
            "humidity": "78",
            "precipInches": "0.0",
            "precipMM": "0.6",
            "pressure": "1007",
            "pressureInches": "30",
            "tempC": "31",
            "tempF": "87",
            "time": "24",
            "uvIndex": "6",
            "visibility": "10",
            "visibilityMiles": "6",
            "weatherCode": "353",
            "weatherDesc": [
             {
              "value": "Light rain shower"
             }
            ],
            "weatherIconUrl": [
             {
              "value": "http://cdn.worldweatheronline.com/images/wsymbols01_png_64/wsymbol_0009_light_rain_showers.png"
             }
            ],
            "winddir16Point": "WNW",
            "winddirDegree": "285",
            "windspeedKmph": "18",
            "windspeedMiles": "11"
           }
          ],
          "maxtempC": "31",
          "maxtempF": "87",
          "mintempC": "25",
          "mintempF": "78",
          "sunHour": "7.5",
          "totalSnow_cm": "0.0",
          "uvIndex": "6"
         },
         {
          "astronomy": [
           {
            "moon_illumination": "93",
            "moon_phase": "Waxing Gibbous",
            "moonrise": "04:43 PM",
            "moonset": "03:50 AM",
            "sunrise": "05:29 AM",
            "sunset": "05:54 PM"
           }
          ],
          "avgtempC": "28",
          "avgtempF": "83",
          "date": "2018-01-30",
          "hourly": [
           {
            "DewPointC": "23",
            "DewPointF": "73",
            "FeelsLikeC": "30",
            "FeelsLikeF": "86",
            "HeatIndexC": "30",
            "HeatIndexF": "86",
            "WindChillC": "27",
            "WindChillF": "81",
            "WindGustKmph": "25",
            "WindGustMiles": "15",
            "cloudcover": "37",
            "humidity": "77",
            "precipInches": "0.1",
            "precipMM": "2.4",
            "pressure": "1008",
            "pressureInches": "30",
            "tempC": "30",
            "tempF": "87",
            "time": "24",
            "uvIndex": "7",
            "visibility": "10",
            "visibilityMiles": "6",
            "weatherCode": "116",
            "weatherDesc": [
             {
              "value": "Partly cloudy"
             }
            ],
            "weatherIconUrl": [
             {
              "value": "http://cdn.worldweatheronline.com/images/wsymbols01_png_64/wsymbol_0002_sunny_intervals.png"
             }
            ],
            "winddir16Point": "WNW",
            "winddirDegree": "285",
            "windspeedKmph": "16",
            "windspeedMiles": "10"
           }
          ],
          "maxtempC": "30",
          "maxtempF": "87",
          "mintempC": "25",
          "mintempF": "77",
          "sunHour": "11.6",
          "totalSnow_cm": "0.0",
          "uvIndex": "7"
         },
         {
          "astronomy": [
           {
            "moon_illumination": "97",
            "moon_phase": "Waxing Gibbous",
            "moonrise": "05:44 PM",
            "moonset": "04:53 AM",
            "sunrise": "05:29 AM",
            "sunset": "05:54 PM"
           }
          ],
          "avgtempC": "27",
          "avgtempF": "81",
          "date": "2018-01-31",
          "hourly": [
           {
            "DewPointC": "23",
            "DewPointF": "74",
            "FeelsLikeC": "30",
            "FeelsLikeF": "85",
            "HeatIndexC": "30",
            "HeatIndexF": "85",
            "WindChillC": "26",
            "WindChillF": "79",
            "WindGustKmph": "30",
            "WindGustMiles": "18",
            "cloudcover": "67",
            "humidity": "84",
            "precipInches": "0.1",
            "precipMM": "2.4",
            "pressure": "1009",
            "pressureInches": "30",
            "tempC": "28",
            "tempF": "83",
            "time": "24",
            "uvIndex": "6",
            "visibility": "10",
            "visibilityMiles": "6",
            "weatherCode": "353",
            "weatherDesc": [
             {
              "value": "Light rain shower"
             }
            ],
            "weatherIconUrl": [
             {
              "value": "http://cdn.worldweatheronline.com/images/wsymbols01_png_64/wsymbol_0009_light_rain_showers.png"
             }
            ],
            "winddir16Point": "WNW",
            "winddirDegree": "284",
            "windspeedKmph": "19",
            "windspeedMiles": "12"
           }
          ],
          "maxtempC": "28",
          "maxtempF": "83",
          "mintempC": "25",
          "mintempF": "76",
          "sunHour": "7.5",
          "totalSnow_cm": "0.0",
          "uvIndex": "6"
         },
         {
          "astronomy": [
           {
            "moon_illumination": "88",
            "moon_phase": "Waxing Gibbous",
            "moonrise": "06:41 PM",
            "moonset": "05:55 AM",
            "sunrise": "05:29 AM",
            "sunset": "05:54 PM"
           }
          ],
          "avgtempC": "28",
          "avgtempF": "82",
          "date": "2018-02-01",
          "hourly": [
           {
            "DewPointC": "23",
            "DewPointF": "74",
            "FeelsLikeC": "30",
            "FeelsLikeF": "86",
            "HeatIndexC": "30",
            "HeatIndexF": "86",
            "WindChillC": "27",
            "WindChillF": "80",
            "WindGustKmph": "24",
            "WindGustMiles": "15",
            "cloudcover": "43",
            "humidity": "83",
            "precipInches": "0.2",
            "precipMM": "4.1",
            "pressure": "1009",
            "pressureInches": "30",
            "tempC": "29",
            "tempF": "84",
            "time": "24",
            "uvIndex": "6",
            "visibility": "10",
            "visibilityMiles": "5",
            "weatherCode": "356",
            "weatherDesc": [
             {
              "value": "Moderate or heavy rain shower"
             }
            ],
            "weatherIconUrl": [
             {
              "value": "http://cdn.worldweatheronline.com/images/wsymbols01_png_64/wsymbol_0010_heavy_rain_showers.png"
             }
            ],
            "winddir16Point": "W",
            "winddirDegree": "280",
            "windspeedKmph": "15",
            "windspeedMiles": "9"
           }
          ],
          "maxtempC": "29",
          "maxtempF": "84",
          "mintempC": "25",
          "mintempF": "76",
          "sunHour": "10.2",
          "totalSnow_cm": "0.0",
          "uvIndex": "6"
         }
        ]
       }
      },
      "text/plain": [
       "<IPython.core.display.JSON object>"
      ]
     },
     "execution_count": 29,
     "metadata": {
      "application/json": {
       "expanded": false,
       "root": "root"
      }
     },
     "output_type": "execute_result"
    }
   ],
   "source": [
    "JSON(res.json())"
   ]
  },
  {
   "cell_type": "markdown",
   "metadata": {},
   "source": [
    "# Virtual Crossing API"
   ]
  },
  {
   "cell_type": "code",
   "execution_count": 31,
   "metadata": {},
   "outputs": [],
   "source": [
    "import requests\n",
    "import os\n",
    "import json\n",
    "from IPython.display import JSON"
   ]
  },
  {
   "cell_type": "code",
   "execution_count": null,
   "metadata": {},
   "outputs": [],
   "source": [
    "api_key = 'd385b2b23e2c4b2392535423211101'\n",
    "#url = f'https://api.worldweatheronline.com/premium/v1/past-weather.ashx?q=45.6387,-122.6615&date=2020-12-24&format=json&key={api_key}'\n",
    "url = 'https://api.worldweatheronline.com/premium/v1/past-weather.ashx?key=d385b2b23e2c4b2392535423211101&q=EWR, LAR&format=json&date=2018-01-01&enddate=2018-02-01&tp=24'"
   ]
  },
  {
   "cell_type": "markdown",
   "metadata": {},
   "source": [
    "# Airport Locations from flights"
   ]
  },
  {
   "cell_type": "code",
   "execution_count": null,
   "metadata": {},
   "outputs": [],
   "source": [
    "import pandas as pd\n",
    "import numpy as np\n",
    "flights = pd.read_csv(r'C:\\Users\\Ryan\\Lighthouse\\Bootcamp\\w6\\midterm\\Data\\cleaned\\cleaned_flights_sample.csv', delimiter=',', low_memory=False)\n",
    "locations = flights[['origin', 'op_unique_carrier']].dropna()\n",
    "locations = locations.groupby('origin')['op_unique_carrier'].count().sort_values(ascending=False)"
   ]
  },
  {
   "cell_type": "code",
   "execution_count": 6,
   "metadata": {},
   "outputs": [
    {
     "data": {
      "text/plain": [
       "375"
      ]
     },
     "execution_count": 6,
     "metadata": {},
     "output_type": "execute_result"
    }
   ],
   "source": [
    "len(locations)"
   ]
  },
  {
   "cell_type": "code",
   "execution_count": 21,
   "metadata": {},
   "outputs": [
    {
     "data": {
      "text/plain": [
       "array(['ORD', 'ATL', 'DFW', 'DEN', 'CLT', 'LAX', 'SEA', 'SFO', 'PHX',\n",
       "       'IAH', 'DTW', 'LGA', 'LAS', 'MSP', 'EWR', 'BOS', 'PHL', 'DCA',\n",
       "       'MCO', 'JFK', 'SLC', 'BWI', 'FLL', 'SAN', 'IAD', 'MIA', 'MDW',\n",
       "       'PDX', 'BNA', 'TPA', 'STL', 'DAL', 'RDU', 'SJC', 'AUS', 'HOU',\n",
       "       'MSY', 'MCI', 'SMF', 'HNL', 'OAK', 'CVG', 'IND', 'CLE', 'PIT',\n",
       "       'CMH', 'SNA', 'SAT', 'MKE', 'JAX', 'RSW', 'BDL', 'BUR', 'BUF',\n",
       "       'RIC', 'OMA', 'ABQ', 'MEM', 'SDF', 'OGG', 'CHS', 'PBI', 'ORF',\n",
       "       'SJU', 'OKC', 'BOI', 'ONT', 'RNO', 'GEG', 'GRR', 'BHM', 'PVD',\n",
       "       'ANC', 'TYS', 'TUL', 'ELP', 'ROC', 'SAV', 'DSM', 'TUS', 'DAY',\n",
       "       'SYR', 'ALB', 'LGB', 'GSO', 'GSP', 'MSN', 'KOA', 'LIH', 'PWM',\n",
       "       'XNA', 'LIT', 'FAT', 'MYR', 'LEX', 'PNS', 'BTV', 'HPN', 'ICT',\n",
       "       'PSP', 'MHT', 'MDT', 'COS', 'CAE', 'CID', 'HSV', 'SGF', 'CHA',\n",
       "       'SFB', 'EUG', 'MAF', 'CHO', 'RDM', 'MFR', 'AVL', 'JAN', 'FSD',\n",
       "       'CAK', 'ILM', 'VPS', 'PIE', 'BTR', 'BZN', 'SBA', 'SRQ', 'FAR',\n",
       "       'SBN', 'ROA', 'ASE', 'FWA', 'ISP', 'LBB', 'ABE', 'GRB', 'PSC',\n",
       "       'RAP', 'SHV', 'BGR', 'ATW', 'MLI', 'TLH', 'MOB', 'MSO', 'PIA',\n",
       "       'ITO', 'ECP', 'CRP', 'TVC', 'AMA', 'EVV', 'AVP', 'CRW', 'BIL',\n",
       "       'BIS', 'EYW', 'AZA', 'AGS', 'MFE', 'FAI', 'GJT', 'PGD', 'GNV',\n",
       "       'JAC', 'FNT', 'LFT', 'MRY', 'RST', 'GPT', 'FAY', 'JNU', 'LAN',\n",
       "       'SCE', 'SBP', 'FCA', 'TRI', 'STS', 'HRL', 'DRO', 'MGM', 'AZO',\n",
       "       'PHF', 'PAE', 'LNK', 'ACY', 'BLI', 'CWA', 'DAB', 'OAJ', 'AEX',\n",
       "       'CMI', 'MBS', 'GTF', 'GRK', 'COU', 'MLU', 'MOT', 'STT', 'SGU',\n",
       "       'BRO', 'BMI', 'ITH', 'MTJ', 'SWF', 'DLH', 'TTN', 'ELM', 'EWN',\n",
       "       'MLB', 'SAF', 'IDA', 'EGE', 'LRD', 'CPR', 'BFL', 'CLL', 'LSE',\n",
       "       'ERI', 'KTN', 'TOL', 'BQN', 'FSM', 'SPI', 'LCH', 'HLN', 'GFK',\n",
       "       'ABI', 'SUN', 'LYH', 'MHK', 'HHH', 'SBY', 'LNY', 'FLG', 'ACV',\n",
       "       'HTS', 'HDN', 'TYR', 'YUM', 'PGV', 'ISN', 'MQT', 'DHN', 'JHM',\n",
       "       'USA', 'ACT', 'PIH', 'RDD', 'ROW', 'YKM', 'SJT', 'CSG', 'ORH',\n",
       "       'FLO', 'ACK', 'SIT', 'PUW', 'SPS', 'SUX', 'LAW', 'GTR', 'MKK',\n",
       "       'LWS', 'LCK', 'TWF', 'EAT', 'PAH', 'PBG', 'BQK', 'GRI', 'LBE',\n",
       "       'TXK', 'HYS', 'STX', 'VLD', 'ABY', 'DBQ', 'BLV', 'SPN', 'SCC',\n",
       "       'COD', 'PSE', 'SCK', 'GUC', 'GUM', 'PLN', 'SWO', 'PUB', 'JMS',\n",
       "       'BGM', 'JLN', 'BPT', 'SLN', 'ALW', 'MEI', 'HVN', 'CDV', 'IAG',\n",
       "       'PSG', 'BET', 'DUT', 'IMT', 'GCK', 'IPT', 'UIN', 'GCC', 'ART',\n",
       "       'RHI', 'WRG', 'OTZ', 'CGI', 'HOB', 'BTM', 'CIU', 'CKB', 'CDC',\n",
       "       'CMX', 'OME', 'GGG', 'MKG', 'PIB', 'DIK', 'MVY', 'MMH', 'SHD',\n",
       "       'ESC', 'ALO', 'BRW', 'ABR', 'BRD', 'DVL', 'EAU', 'PQI', 'HIB',\n",
       "       'RFD', 'LBF', 'BFF', 'INL', 'RKS', 'EKO', 'LWB', 'LAR', 'ADQ',\n",
       "       'YAK', 'PRC', 'PVU', 'APN', 'EAR', 'BJI', 'VEL', 'LBL', 'DRT',\n",
       "       'CNY', 'WYS', 'PSM', 'OGS', 'OTH', 'ATY', 'CYS', 'SMX', 'PIR',\n",
       "       'XWA', 'STC', 'BKG', 'BFM', 'HGR', 'OWB', 'OGD', 'PPG', 'ADK',\n",
       "       'DLG', 'GST', 'HYA', 'ROP', 'IFP', 'AKN'], dtype=object)"
      ]
     },
     "execution_count": 21,
     "metadata": {},
     "output_type": "execute_result"
    }
   ],
   "source": [
    "locations.to_frame().reset_index()['origin'].values"
   ]
  },
  {
   "cell_type": "markdown",
   "metadata": {},
   "source": [
    "# World Weather Python API"
   ]
  },
  {
   "cell_type": "code",
   "execution_count": null,
   "metadata": {},
   "outputs": [
    {
     "name": "stdout",
     "output_type": "stream",
     "text": [
      "\n",
      "\n",
      "Retrieving weather data for ORD\n",
      "\n",
      "\n",
      "Currently retrieving data for ORD: from 2018-01-01 to 2018-01-31\n",
      "Time elapsed (hh:mm:ss.ms) 0:00:01.506183\n",
      "Currently retrieving data for ORD: from 2018-02-01 to 2018-02-28\n",
      "Time elapsed (hh:mm:ss.ms) 0:00:02.853672\n",
      "Currently retrieving data for ORD: from 2018-03-01 to 2018-03-31\n",
      "Time elapsed (hh:mm:ss.ms) 0:00:04.356153\n",
      "Currently retrieving data for ORD: from 2018-04-01 to 2018-04-30\n",
      "Time elapsed (hh:mm:ss.ms) 0:00:06.804600\n",
      "Currently retrieving data for ORD: from 2018-05-01 to 2018-05-31\n",
      "Time elapsed (hh:mm:ss.ms) 0:00:08.174161\n",
      "Currently retrieving data for ORD: from 2018-06-01 to 2018-06-30\n",
      "Time elapsed (hh:mm:ss.ms) 0:00:09.564418\n",
      "Currently retrieving data for ORD: from 2018-07-01 to 2018-07-31\n",
      "Time elapsed (hh:mm:ss.ms) 0:00:10.979418\n",
      "Currently retrieving data for ORD: from 2018-08-01 to 2018-08-31\n",
      "Time elapsed (hh:mm:ss.ms) 0:00:12.363106\n",
      "Currently retrieving data for ORD: from 2018-09-01 to 2018-09-30\n",
      "Time elapsed (hh:mm:ss.ms) 0:00:13.777402\n",
      "Currently retrieving data for ORD: from 2018-10-01 to 2018-10-31\n",
      "Time elapsed (hh:mm:ss.ms) 0:00:15.191968\n",
      "Currently retrieving data for ORD: from 2018-11-01 to 2018-11-30\n",
      "Time elapsed (hh:mm:ss.ms) 0:00:16.573476\n",
      "Currently retrieving data for ORD: from 2018-12-01 to 2018-12-31\n",
      "Time elapsed (hh:mm:ss.ms) 0:00:17.935910\n",
      "Currently retrieving data for ORD: from 2019-01-01 to 2019-01-31\n",
      "Time elapsed (hh:mm:ss.ms) 0:00:19.334615\n",
      "Currently retrieving data for ORD: from 2019-02-01 to 2019-02-28\n",
      "Time elapsed (hh:mm:ss.ms) 0:00:20.620451\n",
      "Currently retrieving data for ORD: from 2019-03-01 to 2019-03-31\n",
      "Time elapsed (hh:mm:ss.ms) 0:00:22.076432\n",
      "Currently retrieving data for ORD: from 2019-04-01 to 2019-04-30\n",
      "Time elapsed (hh:mm:ss.ms) 0:00:23.520386\n",
      "Currently retrieving data for ORD: from 2019-05-01 to 2019-05-31\n",
      "Time elapsed (hh:mm:ss.ms) 0:00:24.923789\n",
      "Currently retrieving data for ORD: from 2019-06-01 to 2019-06-30\n",
      "Time elapsed (hh:mm:ss.ms) 0:00:26.272751\n",
      "Currently retrieving data for ORD: from 2019-07-01 to 2019-07-31\n",
      "Time elapsed (hh:mm:ss.ms) 0:00:27.908985\n",
      "Currently retrieving data for ORD: from 2019-08-01 to 2019-08-31\n",
      "Time elapsed (hh:mm:ss.ms) 0:00:29.314779\n",
      "Currently retrieving data for ORD: from 2019-09-01 to 2019-09-30\n",
      "Time elapsed (hh:mm:ss.ms) 0:00:30.659160\n",
      "Currently retrieving data for ORD: from 2019-10-01 to 2019-10-31\n",
      "Time elapsed (hh:mm:ss.ms) 0:00:32.023451\n",
      "Currently retrieving data for ORD: from 2019-11-01 to 2019-11-30\n",
      "Time elapsed (hh:mm:ss.ms) 0:00:33.358735\n",
      "Currently retrieving data for ORD: from 2019-12-01 to 2019-12-31\n",
      "Time elapsed (hh:mm:ss.ms) 0:00:34.693538\n",
      "\n",
      "\n",
      "export ORD completed!\n",
      "\n",
      "\n",
      "\n",
      "\n",
      "Retrieving weather data for ATL\n",
      "\n",
      "\n",
      "Currently retrieving data for ATL: from 2018-01-01 to 2018-01-31\n",
      "Time elapsed (hh:mm:ss.ms) 0:00:01.335345\n",
      "Currently retrieving data for ATL: from 2018-02-01 to 2018-02-28\n",
      "Time elapsed (hh:mm:ss.ms) 0:00:02.569350\n",
      "Currently retrieving data for ATL: from 2018-03-01 to 2018-03-31\n",
      "Time elapsed (hh:mm:ss.ms) 0:00:03.916590\n",
      "Currently retrieving data for ATL: from 2018-04-01 to 2018-04-30\n",
      "Time elapsed (hh:mm:ss.ms) 0:00:05.263612\n",
      "Currently retrieving data for ATL: from 2018-05-01 to 2018-05-31\n",
      "Time elapsed (hh:mm:ss.ms) 0:00:06.754392\n",
      "Currently retrieving data for ATL: from 2018-06-01 to 2018-06-30\n",
      "Time elapsed (hh:mm:ss.ms) 0:00:08.213483\n",
      "Currently retrieving data for ATL: from 2018-07-01 to 2018-07-31\n",
      "Time elapsed (hh:mm:ss.ms) 0:00:09.577829\n",
      "Currently retrieving data for ATL: from 2018-08-01 to 2018-08-31\n",
      "Time elapsed (hh:mm:ss.ms) 0:00:10.986264\n",
      "Currently retrieving data for ATL: from 2018-09-01 to 2018-09-30\n",
      "Time elapsed (hh:mm:ss.ms) 0:00:12.375032\n",
      "Currently retrieving data for ATL: from 2018-10-01 to 2018-10-31\n",
      "Time elapsed (hh:mm:ss.ms) 0:00:13.733067\n",
      "Currently retrieving data for ATL: from 2018-11-01 to 2018-11-30\n",
      "Time elapsed (hh:mm:ss.ms) 0:00:15.101886\n",
      "Currently retrieving data for ATL: from 2018-12-01 to 2018-12-31\n",
      "Time elapsed (hh:mm:ss.ms) 0:00:16.528185\n",
      "Currently retrieving data for ATL: from 2019-01-01 to 2019-01-31\n",
      "Time elapsed (hh:mm:ss.ms) 0:00:17.913814\n",
      "Currently retrieving data for ATL: from 2019-02-01 to 2019-02-28\n",
      "Time elapsed (hh:mm:ss.ms) 0:00:19.263907\n",
      "Currently retrieving data for ATL: from 2019-03-01 to 2019-03-31\n",
      "Time elapsed (hh:mm:ss.ms) 0:00:20.617976\n",
      "Currently retrieving data for ATL: from 2019-04-01 to 2019-04-30\n",
      "Time elapsed (hh:mm:ss.ms) 0:00:21.927422\n",
      "Currently retrieving data for ATL: from 2019-05-01 to 2019-05-31\n",
      "Time elapsed (hh:mm:ss.ms) 0:00:23.308678\n",
      "Currently retrieving data for ATL: from 2019-06-01 to 2019-06-30\n",
      "Time elapsed (hh:mm:ss.ms) 0:00:24.759886\n",
      "Currently retrieving data for ATL: from 2019-07-01 to 2019-07-31\n",
      "Time elapsed (hh:mm:ss.ms) 0:00:26.105989\n",
      "Currently retrieving data for ATL: from 2019-08-01 to 2019-08-31\n",
      "Time elapsed (hh:mm:ss.ms) 0:00:27.486012\n",
      "Currently retrieving data for ATL: from 2019-09-01 to 2019-09-30\n",
      "Time elapsed (hh:mm:ss.ms) 0:00:28.802742\n",
      "Currently retrieving data for ATL: from 2019-10-01 to 2019-10-31\n",
      "Time elapsed (hh:mm:ss.ms) 0:00:30.211728\n",
      "Currently retrieving data for ATL: from 2019-11-01 to 2019-11-30\n",
      "Time elapsed (hh:mm:ss.ms) 0:00:31.557408\n",
      "Currently retrieving data for ATL: from 2019-12-01 to 2019-12-31\n",
      "Time elapsed (hh:mm:ss.ms) 0:00:33.004999\n",
      "\n",
      "\n",
      "export ATL completed!\n",
      "\n",
      "\n",
      "\n",
      "\n",
      "Retrieving weather data for DFW\n",
      "\n",
      "\n",
      "Currently retrieving data for DFW: from 2018-01-01 to 2018-01-31\n",
      "Time elapsed (hh:mm:ss.ms) 0:00:01.412162\n",
      "Currently retrieving data for DFW: from 2018-02-01 to 2018-02-28\n",
      "Time elapsed (hh:mm:ss.ms) 0:00:02.696033\n",
      "Currently retrieving data for DFW: from 2018-03-01 to 2018-03-31\n",
      "Time elapsed (hh:mm:ss.ms) 0:00:04.236867\n",
      "Currently retrieving data for DFW: from 2018-04-01 to 2018-04-30\n",
      "Time elapsed (hh:mm:ss.ms) 0:00:05.521046\n",
      "Currently retrieving data for DFW: from 2018-05-01 to 2018-05-31\n",
      "Time elapsed (hh:mm:ss.ms) 0:00:06.915059\n",
      "Currently retrieving data for DFW: from 2018-06-01 to 2018-06-30\n",
      "Time elapsed (hh:mm:ss.ms) 0:00:08.262060\n",
      "Currently retrieving data for DFW: from 2018-07-01 to 2018-07-31\n",
      "Time elapsed (hh:mm:ss.ms) 0:00:09.653003\n",
      "Currently retrieving data for DFW: from 2018-08-01 to 2018-08-31\n",
      "Time elapsed (hh:mm:ss.ms) 0:00:11.068474\n",
      "Currently retrieving data for DFW: from 2018-09-01 to 2018-09-30\n",
      "Time elapsed (hh:mm:ss.ms) 0:00:12.405154\n",
      "Currently retrieving data for DFW: from 2018-10-01 to 2018-10-31\n",
      "Time elapsed (hh:mm:ss.ms) 0:00:13.845843\n",
      "Currently retrieving data for DFW: from 2018-11-01 to 2018-11-30\n",
      "Time elapsed (hh:mm:ss.ms) 0:00:15.172834\n",
      "Currently retrieving data for DFW: from 2018-12-01 to 2018-12-31\n",
      "Time elapsed (hh:mm:ss.ms) 0:00:16.575171\n",
      "Currently retrieving data for DFW: from 2019-01-01 to 2019-01-31\n",
      "Time elapsed (hh:mm:ss.ms) 0:00:17.939464\n",
      "Currently retrieving data for DFW: from 2019-02-01 to 2019-02-28\n",
      "Time elapsed (hh:mm:ss.ms) 0:00:19.240789\n",
      "Currently retrieving data for DFW: from 2019-03-01 to 2019-03-31\n",
      "Time elapsed (hh:mm:ss.ms) 0:00:21.661172\n",
      "Currently retrieving data for DFW: from 2019-04-01 to 2019-04-30\n",
      "Time elapsed (hh:mm:ss.ms) 0:00:23.002692\n",
      "Currently retrieving data for DFW: from 2019-05-01 to 2019-05-31\n",
      "Time elapsed (hh:mm:ss.ms) 0:00:24.355644\n",
      "Currently retrieving data for DFW: from 2019-06-01 to 2019-06-30\n",
      "Time elapsed (hh:mm:ss.ms) 0:00:25.685234\n",
      "Currently retrieving data for DFW: from 2019-07-01 to 2019-07-31\n",
      "Time elapsed (hh:mm:ss.ms) 0:00:27.034375\n",
      "Currently retrieving data for DFW: from 2019-08-01 to 2019-08-31\n",
      "Time elapsed (hh:mm:ss.ms) 0:00:28.476287\n",
      "Currently retrieving data for DFW: from 2019-09-01 to 2019-09-30\n",
      "Time elapsed (hh:mm:ss.ms) 0:00:29.795151\n",
      "Currently retrieving data for DFW: from 2019-10-01 to 2019-10-31\n",
      "Time elapsed (hh:mm:ss.ms) 0:00:31.158110\n",
      "Currently retrieving data for DFW: from 2019-11-01 to 2019-11-30\n",
      "Time elapsed (hh:mm:ss.ms) 0:00:32.464659\n",
      "Currently retrieving data for DFW: from 2019-12-01 to 2019-12-31\n",
      "Time elapsed (hh:mm:ss.ms) 0:00:33.827294\n",
      "\n",
      "\n",
      "export DFW completed!\n",
      "\n",
      "\n",
      "\n",
      "\n",
      "Retrieving weather data for DEN\n",
      "\n",
      "\n",
      "Currently retrieving data for DEN: from 2018-01-01 to 2018-01-31\n",
      "Time elapsed (hh:mm:ss.ms) 0:00:01.393611\n",
      "Currently retrieving data for DEN: from 2018-02-01 to 2018-02-28\n",
      "Time elapsed (hh:mm:ss.ms) 0:00:02.727248\n",
      "Currently retrieving data for DEN: from 2018-03-01 to 2018-03-31\n",
      "Time elapsed (hh:mm:ss.ms) 0:00:04.074571\n",
      "Currently retrieving data for DEN: from 2018-04-01 to 2018-04-30\n",
      "Time elapsed (hh:mm:ss.ms) 0:00:05.567167\n",
      "Currently retrieving data for DEN: from 2018-05-01 to 2018-05-31\n",
      "Time elapsed (hh:mm:ss.ms) 0:00:07.054982\n",
      "Currently retrieving data for DEN: from 2018-06-01 to 2018-06-30\n",
      "Time elapsed (hh:mm:ss.ms) 0:00:08.355096\n",
      "Currently retrieving data for DEN: from 2018-07-01 to 2018-07-31\n",
      "Time elapsed (hh:mm:ss.ms) 0:00:09.752075\n",
      "Currently retrieving data for DEN: from 2018-08-01 to 2018-08-31\n",
      "Time elapsed (hh:mm:ss.ms) 0:00:11.068866\n",
      "Currently retrieving data for DEN: from 2018-09-01 to 2018-09-30\n",
      "Time elapsed (hh:mm:ss.ms) 0:00:12.371826\n",
      "Currently retrieving data for DEN: from 2018-10-01 to 2018-10-31\n",
      "Time elapsed (hh:mm:ss.ms) 0:00:13.774372\n",
      "Currently retrieving data for DEN: from 2018-11-01 to 2018-11-30\n",
      "Time elapsed (hh:mm:ss.ms) 0:00:15.115007\n",
      "Currently retrieving data for DEN: from 2018-12-01 to 2018-12-31\n",
      "Time elapsed (hh:mm:ss.ms) 0:00:16.470004\n",
      "Currently retrieving data for DEN: from 2019-01-01 to 2019-01-31\n",
      "Time elapsed (hh:mm:ss.ms) 0:00:17.940283\n",
      "Currently retrieving data for DEN: from 2019-02-01 to 2019-02-28\n",
      "Time elapsed (hh:mm:ss.ms) 0:00:19.208697\n",
      "Currently retrieving data for DEN: from 2019-03-01 to 2019-03-31\n",
      "Time elapsed (hh:mm:ss.ms) 0:00:20.543074\n",
      "Currently retrieving data for DEN: from 2019-04-01 to 2019-04-30\n",
      "Time elapsed (hh:mm:ss.ms) 0:00:21.874292\n",
      "Currently retrieving data for DEN: from 2019-05-01 to 2019-05-31\n",
      "Time elapsed (hh:mm:ss.ms) 0:00:23.221946\n",
      "Currently retrieving data for DEN: from 2019-06-01 to 2019-06-30\n",
      "Time elapsed (hh:mm:ss.ms) 0:00:24.555315\n",
      "Currently retrieving data for DEN: from 2019-07-01 to 2019-07-31\n",
      "Time elapsed (hh:mm:ss.ms) 0:00:25.994102\n",
      "Currently retrieving data for DEN: from 2019-08-01 to 2019-08-31\n",
      "Time elapsed (hh:mm:ss.ms) 0:00:27.359857\n",
      "Currently retrieving data for DEN: from 2019-09-01 to 2019-09-30\n",
      "Time elapsed (hh:mm:ss.ms) 0:00:28.899455\n",
      "Currently retrieving data for DEN: from 2019-10-01 to 2019-10-31\n",
      "Time elapsed (hh:mm:ss.ms) 0:00:30.262140\n",
      "Currently retrieving data for DEN: from 2019-11-01 to 2019-11-30\n",
      "Time elapsed (hh:mm:ss.ms) 0:00:31.561217\n",
      "Currently retrieving data for DEN: from 2019-12-01 to 2019-12-31\n",
      "Time elapsed (hh:mm:ss.ms) 0:00:32.972809\n",
      "\n",
      "\n",
      "export DEN completed!\n",
      "\n",
      "\n",
      "\n",
      "\n",
      "Retrieving weather data for CLT\n",
      "\n",
      "\n",
      "Currently retrieving data for CLT: from 2018-01-01 to 2018-01-31\n",
      "Time elapsed (hh:mm:ss.ms) 0:00:01.381786\n",
      "Currently retrieving data for CLT: from 2018-02-01 to 2018-02-28\n",
      "Time elapsed (hh:mm:ss.ms) 0:00:02.650931\n",
      "Currently retrieving data for CLT: from 2018-03-01 to 2018-03-31\n",
      "Time elapsed (hh:mm:ss.ms) 0:00:04.154190\n",
      "Currently retrieving data for CLT: from 2018-04-01 to 2018-04-30\n",
      "Time elapsed (hh:mm:ss.ms) 0:00:05.472446\n",
      "Currently retrieving data for CLT: from 2018-05-01 to 2018-05-31\n",
      "Time elapsed (hh:mm:ss.ms) 0:00:06.818866\n",
      "Currently retrieving data for CLT: from 2018-06-01 to 2018-06-30\n",
      "Time elapsed (hh:mm:ss.ms) 0:00:08.335810\n",
      "Currently retrieving data for CLT: from 2018-07-01 to 2018-07-31\n",
      "Time elapsed (hh:mm:ss.ms) 0:00:09.726218\n",
      "Currently retrieving data for CLT: from 2018-08-01 to 2018-08-31\n",
      "Time elapsed (hh:mm:ss.ms) 0:00:11.102381\n",
      "Currently retrieving data for CLT: from 2018-09-01 to 2018-09-30\n",
      "Time elapsed (hh:mm:ss.ms) 0:00:12.497758\n",
      "Currently retrieving data for CLT: from 2018-10-01 to 2018-10-31\n",
      "Time elapsed (hh:mm:ss.ms) 0:00:13.965154\n",
      "Currently retrieving data for CLT: from 2018-11-01 to 2018-11-30\n",
      "Time elapsed (hh:mm:ss.ms) 0:00:15.370289\n",
      "Currently retrieving data for CLT: from 2018-12-01 to 2018-12-31\n",
      "Time elapsed (hh:mm:ss.ms) 0:00:16.728675\n",
      "Currently retrieving data for CLT: from 2019-01-01 to 2019-01-31\n",
      "Time elapsed (hh:mm:ss.ms) 0:00:18.154147\n",
      "Currently retrieving data for CLT: from 2019-02-01 to 2019-02-28\n",
      "Time elapsed (hh:mm:ss.ms) 0:00:19.411937\n",
      "Currently retrieving data for CLT: from 2019-03-01 to 2019-03-31\n",
      "Time elapsed (hh:mm:ss.ms) 0:00:20.834486\n",
      "Currently retrieving data for CLT: from 2019-04-01 to 2019-04-30\n",
      "Time elapsed (hh:mm:ss.ms) 0:00:22.259403\n",
      "Currently retrieving data for CLT: from 2019-05-01 to 2019-05-31\n",
      "Time elapsed (hh:mm:ss.ms) 0:00:23.613873\n",
      "Currently retrieving data for CLT: from 2019-06-01 to 2019-06-30\n",
      "Time elapsed (hh:mm:ss.ms) 0:00:24.948421\n",
      "Currently retrieving data for CLT: from 2019-07-01 to 2019-07-31\n",
      "Time elapsed (hh:mm:ss.ms) 0:00:26.358967\n",
      "Currently retrieving data for CLT: from 2019-08-01 to 2019-08-31\n",
      "Time elapsed (hh:mm:ss.ms) 0:00:27.765440\n",
      "Currently retrieving data for CLT: from 2019-09-01 to 2019-09-30\n",
      "Time elapsed (hh:mm:ss.ms) 0:00:29.128942\n",
      "Currently retrieving data for CLT: from 2019-10-01 to 2019-10-31\n",
      "Time elapsed (hh:mm:ss.ms) 0:00:30.482378\n",
      "Currently retrieving data for CLT: from 2019-11-01 to 2019-11-30\n",
      "Time elapsed (hh:mm:ss.ms) 0:00:31.798904\n",
      "Currently retrieving data for CLT: from 2019-12-01 to 2019-12-31\n",
      "Time elapsed (hh:mm:ss.ms) 0:00:33.148940\n",
      "\n",
      "\n",
      "export CLT completed!\n",
      "\n",
      "\n",
      "\n",
      "\n",
      "Retrieving weather data for LAX\n",
      "\n",
      "\n",
      "Currently retrieving data for LAX: from 2018-01-01 to 2018-01-31\n",
      "Time elapsed (hh:mm:ss.ms) 0:00:01.373838\n",
      "Currently retrieving data for LAX: from 2018-02-01 to 2018-02-28\n",
      "Time elapsed (hh:mm:ss.ms) 0:00:02.714453\n",
      "Currently retrieving data for LAX: from 2018-03-01 to 2018-03-31\n",
      "Time elapsed (hh:mm:ss.ms) 0:00:04.188812\n",
      "Currently retrieving data for LAX: from 2018-04-01 to 2018-04-30\n",
      "Time elapsed (hh:mm:ss.ms) 0:00:05.572762\n",
      "Currently retrieving data for LAX: from 2018-05-01 to 2018-05-31\n",
      "Time elapsed (hh:mm:ss.ms) 0:00:06.969700\n",
      "Currently retrieving data for LAX: from 2018-06-01 to 2018-06-30\n",
      "Time elapsed (hh:mm:ss.ms) 0:00:08.298661\n",
      "Currently retrieving data for LAX: from 2018-07-01 to 2018-07-31\n",
      "Time elapsed (hh:mm:ss.ms) 0:00:09.683049\n",
      "Currently retrieving data for LAX: from 2018-08-01 to 2018-08-31\n",
      "Time elapsed (hh:mm:ss.ms) 0:00:11.071593\n",
      "Currently retrieving data for LAX: from 2018-09-01 to 2018-09-30\n",
      "Time elapsed (hh:mm:ss.ms) 0:00:12.463643\n",
      "Currently retrieving data for LAX: from 2018-10-01 to 2018-10-31\n",
      "Time elapsed (hh:mm:ss.ms) 0:00:13.839175\n",
      "Currently retrieving data for LAX: from 2018-11-01 to 2018-11-30\n",
      "Time elapsed (hh:mm:ss.ms) 0:00:15.158869\n",
      "Currently retrieving data for LAX: from 2018-12-01 to 2018-12-31\n",
      "Time elapsed (hh:mm:ss.ms) 0:00:16.529658\n",
      "Currently retrieving data for LAX: from 2019-01-01 to 2019-01-31\n",
      "Time elapsed (hh:mm:ss.ms) 0:00:17.898186\n",
      "Currently retrieving data for LAX: from 2019-02-01 to 2019-02-28\n",
      "Time elapsed (hh:mm:ss.ms) 0:00:19.213587\n",
      "Currently retrieving data for LAX: from 2019-03-01 to 2019-03-31\n",
      "Time elapsed (hh:mm:ss.ms) 0:00:20.779350\n",
      "Currently retrieving data for LAX: from 2019-04-01 to 2019-04-30\n",
      "Time elapsed (hh:mm:ss.ms) 0:00:22.130444\n",
      "Currently retrieving data for LAX: from 2019-05-01 to 2019-05-31\n",
      "Time elapsed (hh:mm:ss.ms) 0:00:23.579224\n",
      "Currently retrieving data for LAX: from 2019-06-01 to 2019-06-30\n",
      "Time elapsed (hh:mm:ss.ms) 0:00:25.015391\n",
      "Currently retrieving data for LAX: from 2019-07-01 to 2019-07-31\n",
      "Time elapsed (hh:mm:ss.ms) 0:00:26.360070\n",
      "Currently retrieving data for LAX: from 2019-08-01 to 2019-08-31\n",
      "Time elapsed (hh:mm:ss.ms) 0:00:29.855389\n",
      "Currently retrieving data for LAX: from 2019-09-01 to 2019-09-30\n",
      "Time elapsed (hh:mm:ss.ms) 0:00:31.274164\n",
      "Currently retrieving data for LAX: from 2019-10-01 to 2019-10-31\n",
      "Time elapsed (hh:mm:ss.ms) 0:00:32.646873\n",
      "Currently retrieving data for LAX: from 2019-11-01 to 2019-11-30\n",
      "Time elapsed (hh:mm:ss.ms) 0:00:34.000694\n",
      "Currently retrieving data for LAX: from 2019-12-01 to 2019-12-31\n",
      "Time elapsed (hh:mm:ss.ms) 0:00:35.394797\n",
      "\n",
      "\n",
      "export LAX completed!\n",
      "\n",
      "\n",
      "\n",
      "\n",
      "Retrieving weather data for SEA\n",
      "\n",
      "\n",
      "Currently retrieving data for SEA: from 2018-01-01 to 2018-01-31\n",
      "Time elapsed (hh:mm:ss.ms) 0:00:01.540802\n",
      "Currently retrieving data for SEA: from 2018-02-01 to 2018-02-28\n",
      "Time elapsed (hh:mm:ss.ms) 0:00:02.840935\n",
      "Currently retrieving data for SEA: from 2018-03-01 to 2018-03-31\n",
      "Time elapsed (hh:mm:ss.ms) 0:00:04.262636\n",
      "Currently retrieving data for SEA: from 2018-04-01 to 2018-04-30\n",
      "Time elapsed (hh:mm:ss.ms) 0:00:05.662830\n",
      "Currently retrieving data for SEA: from 2018-05-01 to 2018-05-31\n",
      "Time elapsed (hh:mm:ss.ms) 0:00:07.081376\n",
      "Currently retrieving data for SEA: from 2018-06-01 to 2018-06-30\n",
      "Time elapsed (hh:mm:ss.ms) 0:00:08.603276\n",
      "Currently retrieving data for SEA: from 2018-07-01 to 2018-07-31\n",
      "Time elapsed (hh:mm:ss.ms) 0:00:09.950238\n",
      "Currently retrieving data for SEA: from 2018-08-01 to 2018-08-31\n",
      "Time elapsed (hh:mm:ss.ms) 0:00:11.389141\n",
      "Currently retrieving data for SEA: from 2018-09-01 to 2018-09-30\n",
      "Time elapsed (hh:mm:ss.ms) 0:00:12.762799\n",
      "Currently retrieving data for SEA: from 2018-10-01 to 2018-10-31\n",
      "Time elapsed (hh:mm:ss.ms) 0:00:14.110655\n",
      "Currently retrieving data for SEA: from 2018-11-01 to 2018-11-30\n",
      "Time elapsed (hh:mm:ss.ms) 0:00:15.502437\n",
      "Currently retrieving data for SEA: from 2018-12-01 to 2018-12-31\n",
      "Time elapsed (hh:mm:ss.ms) 0:00:18.516407\n",
      "Currently retrieving data for SEA: from 2019-01-01 to 2019-01-31\n",
      "Time elapsed (hh:mm:ss.ms) 0:00:20.008605\n",
      "Currently retrieving data for SEA: from 2019-02-01 to 2019-02-28\n",
      "Time elapsed (hh:mm:ss.ms) 0:00:21.381389\n",
      "Currently retrieving data for SEA: from 2019-03-01 to 2019-03-31\n",
      "Time elapsed (hh:mm:ss.ms) 0:00:22.882730\n",
      "Currently retrieving data for SEA: from 2019-04-01 to 2019-04-30\n",
      "Time elapsed (hh:mm:ss.ms) 0:00:24.355801\n",
      "Currently retrieving data for SEA: from 2019-05-01 to 2019-05-31\n",
      "Time elapsed (hh:mm:ss.ms) 0:00:25.778368\n",
      "Currently retrieving data for SEA: from 2019-06-01 to 2019-06-30\n",
      "Time elapsed (hh:mm:ss.ms) 0:00:27.172950\n",
      "Currently retrieving data for SEA: from 2019-07-01 to 2019-07-31\n",
      "Time elapsed (hh:mm:ss.ms) 0:00:28.516460\n",
      "Currently retrieving data for SEA: from 2019-08-01 to 2019-08-31\n",
      "Time elapsed (hh:mm:ss.ms) 0:00:29.872607\n",
      "Currently retrieving data for SEA: from 2019-09-01 to 2019-09-30\n",
      "Time elapsed (hh:mm:ss.ms) 0:00:31.211742\n",
      "Currently retrieving data for SEA: from 2019-10-01 to 2019-10-31\n",
      "Time elapsed (hh:mm:ss.ms) 0:00:32.627744\n",
      "Currently retrieving data for SEA: from 2019-11-01 to 2019-11-30\n",
      "Time elapsed (hh:mm:ss.ms) 0:00:33.926360\n",
      "Currently retrieving data for SEA: from 2019-12-01 to 2019-12-31\n",
      "Time elapsed (hh:mm:ss.ms) 0:00:35.305024\n",
      "\n",
      "\n",
      "export SEA completed!\n",
      "\n",
      "\n",
      "\n",
      "\n",
      "Retrieving weather data for SFO\n",
      "\n",
      "\n",
      "Currently retrieving data for SFO: from 2018-01-01 to 2018-01-31\n",
      "Time elapsed (hh:mm:ss.ms) 0:00:01.427418\n",
      "Currently retrieving data for SFO: from 2018-02-01 to 2018-02-28\n",
      "Time elapsed (hh:mm:ss.ms) 0:00:02.729233\n",
      "Currently retrieving data for SFO: from 2018-03-01 to 2018-03-31\n",
      "Time elapsed (hh:mm:ss.ms) 0:00:04.203376\n",
      "Currently retrieving data for SFO: from 2018-04-01 to 2018-04-30\n",
      "Time elapsed (hh:mm:ss.ms) 0:00:05.552946\n",
      "Currently retrieving data for SFO: from 2018-05-01 to 2018-05-31\n",
      "Time elapsed (hh:mm:ss.ms) 0:00:06.923154\n",
      "Currently retrieving data for SFO: from 2018-06-01 to 2018-06-30\n",
      "Time elapsed (hh:mm:ss.ms) 0:00:08.334191\n",
      "Currently retrieving data for SFO: from 2018-07-01 to 2018-07-31\n",
      "Time elapsed (hh:mm:ss.ms) 0:00:09.698750\n",
      "Currently retrieving data for SFO: from 2018-08-01 to 2018-08-31\n",
      "Time elapsed (hh:mm:ss.ms) 0:00:11.937678\n",
      "Currently retrieving data for SFO: from 2018-09-01 to 2018-09-30\n",
      "Time elapsed (hh:mm:ss.ms) 0:00:13.333318\n",
      "Currently retrieving data for SFO: from 2018-10-01 to 2018-10-31\n",
      "Time elapsed (hh:mm:ss.ms) 0:00:14.690080\n",
      "Currently retrieving data for SFO: from 2018-11-01 to 2018-11-30\n",
      "Time elapsed (hh:mm:ss.ms) 0:00:16.017066\n",
      "Currently retrieving data for SFO: from 2018-12-01 to 2018-12-31\n",
      "Time elapsed (hh:mm:ss.ms) 0:00:17.351554\n",
      "Currently retrieving data for SFO: from 2019-01-01 to 2019-01-31\n",
      "Time elapsed (hh:mm:ss.ms) 0:00:18.718031\n",
      "Currently retrieving data for SFO: from 2019-02-01 to 2019-02-28\n",
      "Time elapsed (hh:mm:ss.ms) 0:00:20.011133\n",
      "Currently retrieving data for SFO: from 2019-03-01 to 2019-03-31\n",
      "Time elapsed (hh:mm:ss.ms) 0:00:21.409055\n",
      "Currently retrieving data for SFO: from 2019-04-01 to 2019-04-30\n",
      "Time elapsed (hh:mm:ss.ms) 0:00:22.922660\n",
      "Currently retrieving data for SFO: from 2019-05-01 to 2019-05-31\n",
      "Time elapsed (hh:mm:ss.ms) 0:00:24.304015\n",
      "Currently retrieving data for SFO: from 2019-06-01 to 2019-06-30\n",
      "Time elapsed (hh:mm:ss.ms) 0:00:25.675547\n",
      "Currently retrieving data for SFO: from 2019-07-01 to 2019-07-31\n",
      "Time elapsed (hh:mm:ss.ms) 0:00:27.735494\n",
      "Currently retrieving data for SFO: from 2019-08-01 to 2019-08-31\n",
      "Time elapsed (hh:mm:ss.ms) 0:00:29.152174\n",
      "Currently retrieving data for SFO: from 2019-09-01 to 2019-09-30\n",
      "Time elapsed (hh:mm:ss.ms) 0:00:30.518780\n",
      "Currently retrieving data for SFO: from 2019-10-01 to 2019-10-31\n",
      "Time elapsed (hh:mm:ss.ms) 0:00:31.909863\n",
      "Currently retrieving data for SFO: from 2019-11-01 to 2019-11-30\n",
      "Time elapsed (hh:mm:ss.ms) 0:00:33.272652\n",
      "Currently retrieving data for SFO: from 2019-12-01 to 2019-12-31\n",
      "Time elapsed (hh:mm:ss.ms) 0:00:34.641488\n",
      "\n",
      "\n",
      "export SFO completed!\n",
      "\n",
      "\n",
      "\n",
      "\n",
      "Retrieving weather data for PHX\n",
      "\n",
      "\n",
      "Currently retrieving data for PHX: from 2018-01-01 to 2018-01-31\n",
      "Time elapsed (hh:mm:ss.ms) 0:00:01.528602\n",
      "Currently retrieving data for PHX: from 2018-02-01 to 2018-02-28\n",
      "Time elapsed (hh:mm:ss.ms) 0:00:02.778134\n",
      "Currently retrieving data for PHX: from 2018-03-01 to 2018-03-31\n",
      "Time elapsed (hh:mm:ss.ms) 0:00:04.281759\n",
      "Currently retrieving data for PHX: from 2018-04-01 to 2018-04-30\n",
      "Time elapsed (hh:mm:ss.ms) 0:00:07.090755\n",
      "Currently retrieving data for PHX: from 2018-05-01 to 2018-05-31\n",
      "Time elapsed (hh:mm:ss.ms) 0:00:08.493844\n",
      "Currently retrieving data for PHX: from 2018-06-01 to 2018-06-30\n",
      "Time elapsed (hh:mm:ss.ms) 0:00:09.939515\n",
      "Currently retrieving data for PHX: from 2018-07-01 to 2018-07-31\n",
      "Time elapsed (hh:mm:ss.ms) 0:00:11.524471\n",
      "Currently retrieving data for PHX: from 2018-08-01 to 2018-08-31\n",
      "Time elapsed (hh:mm:ss.ms) 0:00:12.874062\n",
      "Currently retrieving data for PHX: from 2018-09-01 to 2018-09-30\n",
      "Time elapsed (hh:mm:ss.ms) 0:00:14.260801\n",
      "Currently retrieving data for PHX: from 2018-10-01 to 2018-10-31\n",
      "Time elapsed (hh:mm:ss.ms) 0:00:15.662423\n",
      "Currently retrieving data for PHX: from 2018-11-01 to 2018-11-30\n",
      "Time elapsed (hh:mm:ss.ms) 0:00:16.965942\n",
      "Currently retrieving data for PHX: from 2018-12-01 to 2018-12-31\n",
      "Time elapsed (hh:mm:ss.ms) 0:00:18.389059\n",
      "Currently retrieving data for PHX: from 2019-01-01 to 2019-01-31\n",
      "Time elapsed (hh:mm:ss.ms) 0:00:19.781029\n",
      "Currently retrieving data for PHX: from 2019-02-01 to 2019-02-28\n",
      "Time elapsed (hh:mm:ss.ms) 0:00:21.049124\n",
      "Currently retrieving data for PHX: from 2019-03-01 to 2019-03-31\n",
      "Time elapsed (hh:mm:ss.ms) 0:00:22.389245\n",
      "Currently retrieving data for PHX: from 2019-04-01 to 2019-04-30\n",
      "Time elapsed (hh:mm:ss.ms) 0:00:23.966626\n",
      "Currently retrieving data for PHX: from 2019-05-01 to 2019-05-31\n",
      "Time elapsed (hh:mm:ss.ms) 0:00:25.835750\n",
      "Currently retrieving data for PHX: from 2019-06-01 to 2019-06-30\n",
      "Time elapsed (hh:mm:ss.ms) 0:00:27.284617\n",
      "Currently retrieving data for PHX: from 2019-07-01 to 2019-07-31\n",
      "Time elapsed (hh:mm:ss.ms) 0:00:28.723263\n",
      "Currently retrieving data for PHX: from 2019-08-01 to 2019-08-31\n",
      "Time elapsed (hh:mm:ss.ms) 0:00:30.162035\n",
      "Currently retrieving data for PHX: from 2019-09-01 to 2019-09-30\n",
      "Time elapsed (hh:mm:ss.ms) 0:00:31.622518\n",
      "Currently retrieving data for PHX: from 2019-10-01 to 2019-10-31\n",
      "Time elapsed (hh:mm:ss.ms) 0:00:33.268154\n",
      "Currently retrieving data for PHX: from 2019-11-01 to 2019-11-30\n",
      "Time elapsed (hh:mm:ss.ms) 0:00:34.652586\n",
      "Currently retrieving data for PHX: from 2019-12-01 to 2019-12-31\n",
      "Time elapsed (hh:mm:ss.ms) 0:00:36.180287\n",
      "\n",
      "\n",
      "export PHX completed!\n",
      "\n",
      "\n",
      "\n",
      "\n",
      "Retrieving weather data for IAH\n",
      "\n",
      "\n",
      "Currently retrieving data for IAH: from 2018-01-01 to 2018-01-31\n",
      "Time elapsed (hh:mm:ss.ms) 0:00:01.478419\n",
      "Currently retrieving data for IAH: from 2018-02-01 to 2018-02-28\n",
      "Time elapsed (hh:mm:ss.ms) 0:00:02.886979\n",
      "Currently retrieving data for IAH: from 2018-03-01 to 2018-03-31\n",
      "Time elapsed (hh:mm:ss.ms) 0:00:04.388197\n",
      "Currently retrieving data for IAH: from 2018-04-01 to 2018-04-30\n",
      "Time elapsed (hh:mm:ss.ms) 0:00:05.913509\n",
      "Currently retrieving data for IAH: from 2018-05-01 to 2018-05-31\n",
      "Time elapsed (hh:mm:ss.ms) 0:00:07.414647\n",
      "Currently retrieving data for IAH: from 2018-06-01 to 2018-06-30\n",
      "Time elapsed (hh:mm:ss.ms) 0:00:08.885685\n",
      "Currently retrieving data for IAH: from 2018-07-01 to 2018-07-31\n",
      "Time elapsed (hh:mm:ss.ms) 0:00:10.461943\n",
      "Currently retrieving data for IAH: from 2018-08-01 to 2018-08-31\n",
      "Time elapsed (hh:mm:ss.ms) 0:00:11.989012\n",
      "Currently retrieving data for IAH: from 2018-09-01 to 2018-09-30\n",
      "Time elapsed (hh:mm:ss.ms) 0:00:13.379893\n",
      "Currently retrieving data for IAH: from 2018-10-01 to 2018-10-31\n",
      "Time elapsed (hh:mm:ss.ms) 0:00:15.035578\n",
      "Currently retrieving data for IAH: from 2018-11-01 to 2018-11-30\n",
      "Time elapsed (hh:mm:ss.ms) 0:00:16.542215\n",
      "Currently retrieving data for IAH: from 2018-12-01 to 2018-12-31\n",
      "Time elapsed (hh:mm:ss.ms) 0:00:17.974066\n",
      "Currently retrieving data for IAH: from 2019-01-01 to 2019-01-31\n",
      "Time elapsed (hh:mm:ss.ms) 0:00:19.484603\n",
      "Currently retrieving data for IAH: from 2019-02-01 to 2019-02-28\n",
      "Time elapsed (hh:mm:ss.ms) 0:00:20.760694\n",
      "Currently retrieving data for IAH: from 2019-03-01 to 2019-03-31\n",
      "Time elapsed (hh:mm:ss.ms) 0:00:22.128405\n",
      "Currently retrieving data for IAH: from 2019-04-01 to 2019-04-30\n",
      "Time elapsed (hh:mm:ss.ms) 0:00:23.535935\n",
      "Currently retrieving data for IAH: from 2019-05-01 to 2019-05-31\n",
      "Time elapsed (hh:mm:ss.ms) 0:00:24.991575\n",
      "Currently retrieving data for IAH: from 2019-06-01 to 2019-06-30\n",
      "Time elapsed (hh:mm:ss.ms) 0:00:26.323864\n",
      "Currently retrieving data for IAH: from 2019-07-01 to 2019-07-31\n",
      "Time elapsed (hh:mm:ss.ms) 0:00:27.710299\n",
      "Currently retrieving data for IAH: from 2019-08-01 to 2019-08-31\n",
      "Time elapsed (hh:mm:ss.ms) 0:00:29.239419\n",
      "Currently retrieving data for IAH: from 2019-09-01 to 2019-09-30\n",
      "Time elapsed (hh:mm:ss.ms) 0:00:30.558361\n",
      "Currently retrieving data for IAH: from 2019-10-01 to 2019-10-31\n",
      "Time elapsed (hh:mm:ss.ms) 0:00:31.949766\n",
      "Currently retrieving data for IAH: from 2019-11-01 to 2019-11-30\n",
      "Time elapsed (hh:mm:ss.ms) 0:00:33.314755\n",
      "Currently retrieving data for IAH: from 2019-12-01 to 2019-12-31\n",
      "Time elapsed (hh:mm:ss.ms) 0:00:34.686115\n",
      "\n",
      "\n",
      "export IAH completed!\n",
      "\n",
      "\n",
      "\n",
      "\n",
      "Retrieving weather data for DTW\n",
      "\n",
      "\n",
      "Currently retrieving data for DTW: from 2018-01-01 to 2018-01-31\n",
      "Time elapsed (hh:mm:ss.ms) 0:00:01.352722\n",
      "Currently retrieving data for DTW: from 2018-02-01 to 2018-02-28\n",
      "Time elapsed (hh:mm:ss.ms) 0:00:02.650900\n",
      "Currently retrieving data for DTW: from 2018-03-01 to 2018-03-31\n",
      "Time elapsed (hh:mm:ss.ms) 0:00:03.995870\n",
      "Currently retrieving data for DTW: from 2018-04-01 to 2018-04-30\n",
      "Time elapsed (hh:mm:ss.ms) 0:00:05.395931\n",
      "Currently retrieving data for DTW: from 2018-05-01 to 2018-05-31\n",
      "Time elapsed (hh:mm:ss.ms) 0:00:07.355592\n",
      "Currently retrieving data for DTW: from 2018-06-01 to 2018-06-30\n",
      "Time elapsed (hh:mm:ss.ms) 0:00:08.778575\n",
      "Currently retrieving data for DTW: from 2018-07-01 to 2018-07-31\n",
      "Time elapsed (hh:mm:ss.ms) 0:00:10.343318\n",
      "Currently retrieving data for DTW: from 2018-08-01 to 2018-08-31\n",
      "Time elapsed (hh:mm:ss.ms) 0:00:11.715019\n",
      "Currently retrieving data for DTW: from 2018-09-01 to 2018-09-30\n",
      "Time elapsed (hh:mm:ss.ms) 0:00:13.154817\n",
      "Currently retrieving data for DTW: from 2018-10-01 to 2018-10-31\n",
      "Time elapsed (hh:mm:ss.ms) 0:00:14.593431\n",
      "Currently retrieving data for DTW: from 2018-11-01 to 2018-11-30\n",
      "Time elapsed (hh:mm:ss.ms) 0:00:16.021529\n",
      "Currently retrieving data for DTW: from 2018-12-01 to 2018-12-31\n",
      "Time elapsed (hh:mm:ss.ms) 0:00:17.529017\n",
      "Currently retrieving data for DTW: from 2019-01-01 to 2019-01-31\n",
      "Time elapsed (hh:mm:ss.ms) 0:00:19.087281\n",
      "Currently retrieving data for DTW: from 2019-02-01 to 2019-02-28\n",
      "Time elapsed (hh:mm:ss.ms) 0:00:20.389390\n",
      "Currently retrieving data for DTW: from 2019-03-01 to 2019-03-31\n",
      "Time elapsed (hh:mm:ss.ms) 0:00:21.838404\n",
      "Currently retrieving data for DTW: from 2019-04-01 to 2019-04-30\n",
      "Time elapsed (hh:mm:ss.ms) 0:00:23.231135\n",
      "Currently retrieving data for DTW: from 2019-05-01 to 2019-05-31\n",
      "Time elapsed (hh:mm:ss.ms) 0:00:24.653804\n",
      "Currently retrieving data for DTW: from 2019-06-01 to 2019-06-30\n",
      "Time elapsed (hh:mm:ss.ms) 0:00:26.069688\n",
      "Currently retrieving data for DTW: from 2019-07-01 to 2019-07-31\n",
      "Time elapsed (hh:mm:ss.ms) 0:00:27.586444\n",
      "Currently retrieving data for DTW: from 2019-08-01 to 2019-08-31\n",
      "Time elapsed (hh:mm:ss.ms) 0:00:28.962641\n",
      "Currently retrieving data for DTW: from 2019-09-01 to 2019-09-30\n",
      "Time elapsed (hh:mm:ss.ms) 0:00:30.455427\n",
      "Currently retrieving data for DTW: from 2019-10-01 to 2019-10-31\n",
      "Time elapsed (hh:mm:ss.ms) 0:00:31.818905\n",
      "Currently retrieving data for DTW: from 2019-11-01 to 2019-11-30\n",
      "Time elapsed (hh:mm:ss.ms) 0:00:33.180421\n",
      "Currently retrieving data for DTW: from 2019-12-01 to 2019-12-31\n",
      "Time elapsed (hh:mm:ss.ms) 0:00:34.712833\n",
      "\n",
      "\n",
      "export DTW completed!\n",
      "\n",
      "\n",
      "\n",
      "\n",
      "Retrieving weather data for LGA\n",
      "\n",
      "\n",
      "Currently retrieving data for LGA: from 2018-01-01 to 2018-01-31\n",
      "Time elapsed (hh:mm:ss.ms) 0:00:01.393349\n",
      "Currently retrieving data for LGA: from 2018-02-01 to 2018-02-28\n",
      "Time elapsed (hh:mm:ss.ms) 0:00:02.722583\n",
      "Currently retrieving data for LGA: from 2018-03-01 to 2018-03-31\n",
      "Time elapsed (hh:mm:ss.ms) 0:00:04.117328\n",
      "Currently retrieving data for LGA: from 2018-04-01 to 2018-04-30\n",
      "Time elapsed (hh:mm:ss.ms) 0:00:05.463586\n",
      "Currently retrieving data for LGA: from 2018-05-01 to 2018-05-31\n",
      "Time elapsed (hh:mm:ss.ms) 0:00:06.883420\n",
      "Currently retrieving data for LGA: from 2018-06-01 to 2018-06-30\n",
      "Time elapsed (hh:mm:ss.ms) 0:00:08.228481\n",
      "Currently retrieving data for LGA: from 2018-07-01 to 2018-07-31\n",
      "Time elapsed (hh:mm:ss.ms) 0:00:09.732648\n",
      "Currently retrieving data for LGA: from 2018-08-01 to 2018-08-31\n",
      "Time elapsed (hh:mm:ss.ms) 0:00:11.143736\n",
      "Currently retrieving data for LGA: from 2018-09-01 to 2018-09-30\n",
      "Time elapsed (hh:mm:ss.ms) 0:00:12.494190\n",
      "Currently retrieving data for LGA: from 2018-10-01 to 2018-10-31\n",
      "Time elapsed (hh:mm:ss.ms) 0:00:13.839160\n",
      "Currently retrieving data for LGA: from 2018-11-01 to 2018-11-30\n",
      "Time elapsed (hh:mm:ss.ms) 0:00:15.186935\n",
      "Currently retrieving data for LGA: from 2018-12-01 to 2018-12-31\n",
      "Time elapsed (hh:mm:ss.ms) 0:00:16.677783\n",
      "Currently retrieving data for LGA: from 2019-01-01 to 2019-01-31\n",
      "Time elapsed (hh:mm:ss.ms) 0:00:18.062161\n",
      "Currently retrieving data for LGA: from 2019-02-01 to 2019-02-28\n",
      "Time elapsed (hh:mm:ss.ms) 0:00:19.365318\n",
      "Currently retrieving data for LGA: from 2019-03-01 to 2019-03-31\n",
      "Time elapsed (hh:mm:ss.ms) 0:00:20.764126\n",
      "Currently retrieving data for LGA: from 2019-04-01 to 2019-04-30\n",
      "Time elapsed (hh:mm:ss.ms) 0:00:22.069091\n",
      "Currently retrieving data for LGA: from 2019-05-01 to 2019-05-31\n",
      "Time elapsed (hh:mm:ss.ms) 0:00:23.432409\n",
      "Currently retrieving data for LGA: from 2019-06-01 to 2019-06-30\n",
      "Time elapsed (hh:mm:ss.ms) 0:00:24.761679\n",
      "Currently retrieving data for LGA: from 2019-07-01 to 2019-07-31\n",
      "Time elapsed (hh:mm:ss.ms) 0:00:26.186048\n",
      "Currently retrieving data for LGA: from 2019-08-01 to 2019-08-31\n",
      "Time elapsed (hh:mm:ss.ms) 0:00:27.567646\n",
      "Currently retrieving data for LGA: from 2019-09-01 to 2019-09-30\n",
      "Time elapsed (hh:mm:ss.ms) 0:00:28.954766\n",
      "Currently retrieving data for LGA: from 2019-10-01 to 2019-10-31\n",
      "Time elapsed (hh:mm:ss.ms) 0:00:30.314565\n",
      "Currently retrieving data for LGA: from 2019-11-01 to 2019-11-30\n",
      "Time elapsed (hh:mm:ss.ms) 0:00:31.688230\n",
      "Currently retrieving data for LGA: from 2019-12-01 to 2019-12-31\n",
      "Time elapsed (hh:mm:ss.ms) 0:00:33.111307\n",
      "\n",
      "\n",
      "export LGA completed!\n",
      "\n",
      "\n",
      "\n",
      "\n",
      "Retrieving weather data for LAS\n",
      "\n",
      "\n",
      "Currently retrieving data for LAS: from 2018-01-01 to 2018-01-31\n",
      "Time elapsed (hh:mm:ss.ms) 0:00:01.452572\n",
      "Currently retrieving data for LAS: from 2018-02-01 to 2018-02-28\n",
      "Time elapsed (hh:mm:ss.ms) 0:00:02.841175\n",
      "Currently retrieving data for LAS: from 2018-03-01 to 2018-03-31\n",
      "Time elapsed (hh:mm:ss.ms) 0:00:04.255128\n",
      "Currently retrieving data for LAS: from 2018-04-01 to 2018-04-30\n",
      "Time elapsed (hh:mm:ss.ms) 0:00:05.594492\n",
      "Currently retrieving data for LAS: from 2018-05-01 to 2018-05-31\n",
      "Time elapsed (hh:mm:ss.ms) 0:00:07.063527\n",
      "Currently retrieving data for LAS: from 2018-06-01 to 2018-06-30\n",
      "Time elapsed (hh:mm:ss.ms) 0:00:08.425024\n",
      "Currently retrieving data for LAS: from 2018-07-01 to 2018-07-31\n",
      "Time elapsed (hh:mm:ss.ms) 0:00:09.815672\n",
      "Currently retrieving data for LAS: from 2018-08-01 to 2018-08-31\n",
      "Time elapsed (hh:mm:ss.ms) 0:00:11.185668\n",
      "Currently retrieving data for LAS: from 2018-09-01 to 2018-09-30\n",
      "Time elapsed (hh:mm:ss.ms) 0:00:12.676311\n",
      "Currently retrieving data for LAS: from 2018-10-01 to 2018-10-31\n",
      "Time elapsed (hh:mm:ss.ms) 0:00:14.111924\n",
      "Currently retrieving data for LAS: from 2018-11-01 to 2018-11-30\n",
      "Time elapsed (hh:mm:ss.ms) 0:00:15.440368\n",
      "Currently retrieving data for LAS: from 2018-12-01 to 2018-12-31\n",
      "Time elapsed (hh:mm:ss.ms) 0:00:16.818771\n",
      "Currently retrieving data for LAS: from 2019-01-01 to 2019-01-31\n",
      "Time elapsed (hh:mm:ss.ms) 0:00:18.202928\n",
      "Currently retrieving data for LAS: from 2019-02-01 to 2019-02-28\n",
      "Time elapsed (hh:mm:ss.ms) 0:00:19.502879\n",
      "Currently retrieving data for LAS: from 2019-03-01 to 2019-03-31\n",
      "Time elapsed (hh:mm:ss.ms) 0:00:20.949654\n",
      "Currently retrieving data for LAS: from 2019-04-01 to 2019-04-30\n",
      "Time elapsed (hh:mm:ss.ms) 0:00:22.311643\n",
      "Currently retrieving data for LAS: from 2019-05-01 to 2019-05-31\n",
      "Time elapsed (hh:mm:ss.ms) 0:00:23.645791\n",
      "Currently retrieving data for LAS: from 2019-06-01 to 2019-06-30\n",
      "Time elapsed (hh:mm:ss.ms) 0:00:24.986540\n",
      "Currently retrieving data for LAS: from 2019-07-01 to 2019-07-31\n",
      "Time elapsed (hh:mm:ss.ms) 0:00:26.370030\n",
      "Currently retrieving data for LAS: from 2019-08-01 to 2019-08-31\n",
      "Time elapsed (hh:mm:ss.ms) 0:00:27.744393\n",
      "Currently retrieving data for LAS: from 2019-09-01 to 2019-09-30\n",
      "Time elapsed (hh:mm:ss.ms) 0:00:29.232575\n",
      "Currently retrieving data for LAS: from 2019-10-01 to 2019-10-31\n",
      "Time elapsed (hh:mm:ss.ms) 0:00:30.761547\n",
      "Currently retrieving data for LAS: from 2019-11-01 to 2019-11-30\n",
      "Time elapsed (hh:mm:ss.ms) 0:00:32.129043\n",
      "Currently retrieving data for LAS: from 2019-12-01 to 2019-12-31\n",
      "Time elapsed (hh:mm:ss.ms) 0:00:33.545780\n",
      "\n",
      "\n",
      "export LAS completed!\n",
      "\n",
      "\n",
      "\n",
      "\n",
      "Retrieving weather data for MSP\n",
      "\n",
      "\n",
      "Currently retrieving data for MSP: from 2018-01-01 to 2018-01-31\n",
      "Time elapsed (hh:mm:ss.ms) 0:00:01.547176\n",
      "Currently retrieving data for MSP: from 2018-02-01 to 2018-02-28\n",
      "Time elapsed (hh:mm:ss.ms) 0:00:02.874893\n",
      "Currently retrieving data for MSP: from 2018-03-01 to 2018-03-31\n",
      "Time elapsed (hh:mm:ss.ms) 0:00:04.324253\n",
      "Currently retrieving data for MSP: from 2018-04-01 to 2018-04-30\n",
      "Time elapsed (hh:mm:ss.ms) 0:00:05.672606\n",
      "Currently retrieving data for MSP: from 2018-05-01 to 2018-05-31\n",
      "Time elapsed (hh:mm:ss.ms) 0:00:07.062238\n",
      "Currently retrieving data for MSP: from 2018-06-01 to 2018-06-30\n",
      "Time elapsed (hh:mm:ss.ms) 0:00:08.411682\n",
      "Currently retrieving data for MSP: from 2018-07-01 to 2018-07-31\n",
      "Time elapsed (hh:mm:ss.ms) 0:00:09.797632\n",
      "Currently retrieving data for MSP: from 2018-08-01 to 2018-08-31\n",
      "Time elapsed (hh:mm:ss.ms) 0:00:11.299666\n",
      "Currently retrieving data for MSP: from 2018-09-01 to 2018-09-30\n",
      "Time elapsed (hh:mm:ss.ms) 0:00:12.735149\n",
      "Currently retrieving data for MSP: from 2018-10-01 to 2018-10-31\n",
      "Time elapsed (hh:mm:ss.ms) 0:00:14.142610\n",
      "Currently retrieving data for MSP: from 2018-11-01 to 2018-11-30\n"
     ]
    }
   ],
   "source": [
    "from wwo_hist import retrieve_hist_data\n",
    "frequency=24\n",
    "start_date = '01-JAN-2018'\n",
    "end_date = '31-DEC-2019'\n",
    "api_key = 'd385b2b23e2c4b2392535423211101'\n",
    "location_list = ['ORD', 'ATL', 'DFW', 'DEN', 'CLT', 'LAX', 'SEA', 'SFO', 'PHX',\n",
    "       'IAH', 'DTW', 'LGA', 'LAS', 'MSP', 'EWR', 'BOS', 'PHL', 'DCA',\n",
    "       'MCO', 'JFK', 'SLC', 'BWI', 'FLL', 'SAN', 'IAD', 'MIA', 'MDW',\n",
    "       'PDX', 'BNA', 'TPA', 'STL', 'DAL', 'RDU', 'SJC', 'AUS', 'HOU',\n",
    "       'MSY', 'MCI', 'SMF', 'HNL', 'OAK', 'CVG', 'IND', 'CLE', 'PIT',\n",
    "       'CMH', 'SNA', 'SAT', 'MKE', 'JAX', 'RSW', 'BDL', 'BUR', 'BUF',\n",
    "       'RIC', 'OMA', 'ABQ', 'MEM', 'SDF', 'OGG', 'CHS', 'PBI', 'ORF',\n",
    "       'SJU', 'OKC', 'BOI', 'ONT', 'RNO', 'GEG', 'GRR', 'BHM', 'PVD',\n",
    "       'ANC', 'TYS', 'TUL', 'ELP', 'ROC', 'SAV', 'DSM', 'TUS', 'DAY',\n",
    "       'SYR', 'ALB', 'LGB', 'GSO', 'GSP', 'MSN', 'KOA', 'LIH', 'PWM',\n",
    "       'XNA', 'LIT', 'FAT', 'MYR', 'LEX', 'PNS', 'BTV', 'HPN', 'ICT',\n",
    "       'PSP', 'MHT', 'MDT', 'COS', 'CAE', 'CID', 'HSV', 'SGF', 'CHA',\n",
    "       'SFB', 'EUG', 'MAF', 'CHO', 'RDM', 'MFR', 'AVL', 'JAN', 'FSD',\n",
    "       'CAK', 'ILM', 'VPS', 'PIE', 'BTR', 'BZN', 'SBA', 'SRQ', 'FAR',\n",
    "       'SBN', 'ROA', 'ASE', 'FWA', 'ISP', 'LBB', 'ABE', 'GRB', 'PSC',\n",
    "       'RAP', 'SHV', 'BGR', 'ATW', 'MLI', 'TLH', 'MOB', 'MSO', 'PIA',\n",
    "       'ITO', 'ECP', 'CRP', 'TVC', 'AMA', 'EVV', 'AVP', 'CRW', 'BIL',\n",
    "       'BIS', 'EYW', 'AZA', 'AGS', 'MFE', 'FAI', 'GJT', 'PGD', 'GNV',\n",
    "       'JAC', 'FNT', 'LFT', 'MRY', 'RST', 'GPT', 'FAY', 'JNU', 'LAN',\n",
    "       'SCE', 'SBP', 'FCA', 'TRI', 'STS', 'HRL', 'DRO', 'MGM', 'AZO',\n",
    "       'PHF', 'PAE', 'LNK', 'ACY', 'BLI', 'CWA', 'DAB', 'OAJ', 'AEX',\n",
    "       'CMI', 'MBS', 'GTF', 'GRK', 'COU', 'MLU', 'MOT', 'STT', 'SGU',\n",
    "       'BRO', 'BMI', 'ITH', 'MTJ', 'SWF', 'DLH', 'TTN', 'ELM', 'EWN',\n",
    "       'MLB', 'SAF', 'IDA', 'EGE', 'LRD', 'CPR', 'BFL', 'CLL', 'LSE',\n",
    "       'ERI', 'KTN', 'TOL', 'BQN', 'FSM', 'SPI', 'LCH', 'HLN', 'GFK',\n",
    "       'ABI', 'SUN', 'LYH', 'MHK', 'HHH', 'SBY', 'LNY', 'FLG', 'ACV',\n",
    "       'HTS', 'HDN', 'TYR', 'YUM', 'PGV', 'ISN', 'MQT', 'DHN', 'JHM',\n",
    "       'USA', 'ACT', 'PIH', 'RDD', 'ROW', 'YKM', 'SJT', 'CSG', 'ORH',\n",
    "       'FLO', 'ACK', 'SIT', 'PUW', 'SPS', 'SUX', 'LAW', 'GTR', 'MKK',\n",
    "       'LWS', 'LCK', 'TWF', 'EAT', 'PAH', 'PBG', 'BQK', 'GRI', 'LBE',\n",
    "       'TXK', 'HYS', 'STX', 'VLD', 'ABY', 'DBQ', 'BLV', 'SPN', 'SCC',\n",
    "       'COD', 'PSE', 'SCK', 'GUC', 'GUM', 'PLN', 'SWO', 'PUB', 'JMS',\n",
    "       'BGM', 'JLN', 'BPT', 'SLN', 'ALW', 'MEI', 'HVN', 'CDV', 'IAG',\n",
    "       'PSG', 'BET', 'DUT', 'IMT', 'GCK', 'IPT', 'UIN', 'GCC', 'ART',\n",
    "       'RHI', 'WRG', 'OTZ', 'CGI', 'HOB', 'BTM', 'CIU', 'CKB', 'CDC',\n",
    "       'CMX', 'OME', 'GGG', 'MKG', 'PIB', 'DIK', 'MVY', 'MMH', 'SHD',\n",
    "       'ESC', 'ALO', 'BRW', 'ABR', 'BRD', 'DVL', 'EAU', 'PQI', 'HIB',\n",
    "       'RFD', 'LBF', 'BFF', 'INL', 'RKS', 'EKO', 'LWB', 'LAR', 'ADQ',\n",
    "       'YAK', 'PRC', 'PVU', 'APN', 'EAR', 'BJI', 'VEL', 'LBL', 'DRT',\n",
    "       'CNY', 'WYS', 'PSM', 'OGS', 'OTH', 'ATY', 'CYS', 'SMX', 'PIR',\n",
    "       'XWA', 'STC', 'BKG', 'BFM', 'HGR', 'OWB', 'OGD', 'PPG', 'ADK',\n",
    "       'DLG', 'GST', 'HYA', 'ROP', 'IFP', 'AKN']\n",
    "\n",
    "hist_weather_data = retrieve_hist_data(api_key,\n",
    "                                location_list,\n",
    "                                start_date,\n",
    "                                end_date,\n",
    "                                frequency,\n",
    "                                location_label = False,\n",
    "                                export_csv = True,\n",
    "                                store_df = True)"
   ]
  }
 ],
 "metadata": {
  "kernelspec": {
   "display_name": "Python 3",
   "language": "python",
   "name": "python3"
  },
  "language_info": {
   "codemirror_mode": {
    "name": "ipython",
    "version": 3
   },
   "file_extension": ".py",
   "mimetype": "text/x-python",
   "name": "python",
   "nbconvert_exporter": "python",
   "pygments_lexer": "ipython3",
   "version": "3.8.5"
  }
 },
 "nbformat": 4,
 "nbformat_minor": 4
}
