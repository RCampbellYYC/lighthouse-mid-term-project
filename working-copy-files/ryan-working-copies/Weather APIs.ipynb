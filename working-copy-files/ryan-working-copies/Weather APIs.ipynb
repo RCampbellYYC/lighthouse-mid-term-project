{
 "cells": [
  {
   "cell_type": "markdown",
   "metadata": {},
   "source": [
    "# World Weather API Requests"
   ]
  },
  {
   "cell_type": "code",
   "execution_count": 6,
   "metadata": {},
   "outputs": [],
   "source": [
    "import requests\n",
    "import os\n",
    "import json\n",
    "from IPython.display import JSON"
   ]
  },
  {
   "cell_type": "code",
   "execution_count": 26,
   "metadata": {},
   "outputs": [],
   "source": [
    "api_key = 'd385b2b23e2c4b2392535423211101'\n",
    "#url = f'https://api.worldweatheronline.com/premium/v1/past-weather.ashx?q=45.6387,-122.6615&date=2020-12-24&format=json&key={api_key}'\n",
    "url = 'https://api.worldweatheronline.com/premium/v1/past-weather.ashx?key=d385b2b23e2c4b2392535423211101&q=EWR, LAR&format=json&date=2018-01-01&enddate=2018-02-01&tp=24'"
   ]
  },
  {
   "cell_type": "code",
   "execution_count": 27,
   "metadata": {},
   "outputs": [],
   "source": [
    "res = requests.get(url)"
   ]
  },
  {
   "cell_type": "code",
   "execution_count": 28,
   "metadata": {},
   "outputs": [
    {
     "data": {
      "text/plain": [
       "200"
      ]
     },
     "execution_count": 28,
     "metadata": {},
     "output_type": "execute_result"
    }
   ],
   "source": [
    "res.status_code"
   ]
  },
  {
   "cell_type": "code",
   "execution_count": 29,
   "metadata": {},
   "outputs": [
    {
     "data": {
      "application/json": {
       "data": {
        "request": [
         {
          "query": "Lar-Lar, Indonesia",
          "type": "City"
         }
        ],
        "weather": [
         {
          "astronomy": [
           {
            "moon_illumination": "97",
            "moon_phase": "Waxing Gibbous",
            "moonrise": "04:59 PM",
            "moonset": "04:06 AM",
            "sunrise": "05:16 AM",
            "sunset": "05:47 PM"
           }
          ],
          "avgtempC": "29",
          "avgtempF": "84",
          "date": "2018-01-01",
          "hourly": [
           {
            "DewPointC": "23",
            "DewPointF": "74",
            "FeelsLikeC": "32",
            "FeelsLikeF": "89",
            "HeatIndexC": "32",
            "HeatIndexF": "89",
            "WindChillC": "28",
            "WindChillF": "82",
            "WindGustKmph": "6",
            "WindGustMiles": "4",
            "cloudcover": "31",
            "humidity": "76",
            "precipInches": "0.1",
            "precipMM": "2.5",
            "pressure": "1007",
            "pressureInches": "30",
            "tempC": "31",
            "tempF": "89",
            "time": "24",
            "uvIndex": "6",
            "visibility": "10",
            "visibilityMiles": "6",
            "weatherCode": "176",
            "weatherDesc": [
             {
              "value": "Patchy rain possible"
             }
            ],
            "weatherIconUrl": [
             {
              "value": "http://cdn.worldweatheronline.com/images/wsymbols01_png_64/wsymbol_0009_light_rain_showers.png"
             }
            ],
            "winddir16Point": "SW",
            "winddirDegree": "224",
            "windspeedKmph": "4",
            "windspeedMiles": "2"
           }
          ],
          "maxtempC": "31",
          "maxtempF": "89",
          "mintempC": "25",
          "mintempF": "77",
          "sunHour": "11.6",
          "totalSnow_cm": "0.0",
          "uvIndex": "6"
         },
         {
          "astronomy": [
           {
            "moon_illumination": "100",
            "moon_phase": "Full Moon",
            "moonrise": "06:03 PM",
            "moonset": "05:09 AM",
            "sunrise": "05:16 AM",
            "sunset": "05:48 PM"
           }
          ],
          "avgtempC": "29",
          "avgtempF": "84",
          "date": "2018-01-02",
          "hourly": [
           {
            "DewPointC": "23",
            "DewPointF": "74",
            "FeelsLikeC": "32",
            "FeelsLikeF": "89",
            "HeatIndexC": "32",
            "HeatIndexF": "89",
            "WindChillC": "28",
            "WindChillF": "82",
            "WindGustKmph": "9",
            "WindGustMiles": "5",
            "cloudcover": "39",
            "humidity": "77",
            "precipInches": "0.1",
            "precipMM": "2.9",
            "pressure": "1007",
            "pressureInches": "30",
            "tempC": "31",
            "tempF": "88",
            "time": "24",
            "uvIndex": "6",
            "visibility": "10",
            "visibilityMiles": "5",
            "weatherCode": "356",
            "weatherDesc": [
             {
              "value": "Moderate or heavy rain shower"
             }
            ],
            "weatherIconUrl": [
             {
              "value": "http://cdn.worldweatheronline.com/images/wsymbols01_png_64/wsymbol_0010_heavy_rain_showers.png"
             }
            ],
            "winddir16Point": "ESE",
            "winddirDegree": "119",
            "windspeedKmph": "6",
            "windspeedMiles": "4"
           }
          ],
          "maxtempC": "31",
          "maxtempF": "88",
          "mintempC": "25",
          "mintempF": "77",
          "sunHour": "11.6",
          "totalSnow_cm": "0.0",
          "uvIndex": "6"
         },
         {
          "astronomy": [
           {
            "moon_illumination": "89",
            "moon_phase": "Waxing Gibbous",
            "moonrise": "07:05 PM",
            "moonset": "06:13 AM",
            "sunrise": "05:17 AM",
            "sunset": "05:48 PM"
           }
          ],
          "avgtempC": "29",
          "avgtempF": "83",
          "date": "2018-01-03",
          "hourly": [
           {
            "DewPointC": "24",
            "DewPointF": "75",
            "FeelsLikeC": "32",
            "FeelsLikeF": "90",
            "HeatIndexC": "32",
            "HeatIndexF": "90",
            "WindChillC": "28",
            "WindChillF": "82",
            "WindGustKmph": "9",
            "WindGustMiles": "6",
            "cloudcover": "26",
            "humidity": "80",
            "precipInches": "0.3",
            "precipMM": "7.9",
            "pressure": "1007",
            "pressureInches": "30",
            "tempC": "31",
            "tempF": "87",
            "time": "24",
            "uvIndex": "6",
            "visibility": "10",
            "visibilityMiles": "5",
            "weatherCode": "356",
            "weatherDesc": [
             {
              "value": "Moderate or heavy rain shower"
             }
            ],
            "weatherIconUrl": [
             {
              "value": "http://cdn.worldweatheronline.com/images/wsymbols01_png_64/wsymbol_0010_heavy_rain_showers.png"
             }
            ],
            "winddir16Point": "E",
            "winddirDegree": "95",
            "windspeedKmph": "6",
            "windspeedMiles": "4"
           }
          ],
          "maxtempC": "31",
          "maxtempF": "87",
          "mintempC": "26",
          "mintempF": "78",
          "sunHour": "11.6",
          "totalSnow_cm": "0.0",
          "uvIndex": "6"
         },
         {
          "astronomy": [
           {
            "moon_illumination": "81",
            "moon_phase": "Waxing Gibbous",
            "moonrise": "08:03 PM",
            "moonset": "07:16 AM",
            "sunrise": "05:17 AM",
            "sunset": "05:48 PM"
           }
          ],
          "avgtempC": "28",
          "avgtempF": "83",
          "date": "2018-01-04",
          "hourly": [
           {
            "DewPointC": "24",
            "DewPointF": "75",
            "FeelsLikeC": "32",
            "FeelsLikeF": "89",
            "HeatIndexC": "32",
            "HeatIndexF": "89",
            "WindChillC": "28",
            "WindChillF": "82",
            "WindGustKmph": "8",
            "WindGustMiles": "5",
            "cloudcover": "45",
            "humidity": "79",
            "precipInches": "0.4",
            "precipMM": "9.7",
            "pressure": "1008",
            "pressureInches": "30",
            "tempC": "30",
            "tempF": "85",
            "time": "24",
            "uvIndex": "6",
            "visibility": "9",
            "visibilityMiles": "5",
            "weatherCode": "356",
            "weatherDesc": [
             {
              "value": "Moderate or heavy rain shower"
             }
            ],
            "weatherIconUrl": [
             {
              "value": "http://cdn.worldweatheronline.com/images/wsymbols01_png_64/wsymbol_0010_heavy_rain_showers.png"
             }
            ],
            "winddir16Point": "SE",
            "winddirDegree": "138",
            "windspeedKmph": "5",
            "windspeedMiles": "3"
           }
          ],
          "maxtempC": "30",
          "maxtempF": "85",
          "mintempC": "26",
          "mintempF": "78",
          "sunHour": "11.6",
          "totalSnow_cm": "0.0",
          "uvIndex": "6"
         },
         {
          "astronomy": [
           {
            "moon_illumination": "74",
            "moon_phase": "Waning Gibbous",
            "moonrise": "08:58 PM",
            "moonset": "08:15 AM",
            "sunrise": "05:18 AM",
            "sunset": "05:49 PM"
           }
          ],
          "avgtempC": "29",
          "avgtempF": "84",
          "date": "2018-01-05",
          "hourly": [
           {
            "DewPointC": "23",
            "DewPointF": "74",
            "FeelsLikeC": "32",
            "FeelsLikeF": "89",
            "HeatIndexC": "32",
            "HeatIndexF": "89",
            "WindChillC": "28",
            "WindChillF": "82",
            "WindGustKmph": "11",
            "WindGustMiles": "7",
            "cloudcover": "29",
            "humidity": "78",
            "precipInches": "0.0",
            "precipMM": "0.1",
            "pressure": "1008",
            "pressureInches": "30",
            "tempC": "32",
            "tempF": "89",
            "time": "24",
            "uvIndex": "7",
            "visibility": "10",
            "visibilityMiles": "6",
            "weatherCode": "116",
            "weatherDesc": [
             {
              "value": "Partly cloudy"
             }
            ],
            "weatherIconUrl": [
             {
              "value": "http://cdn.worldweatheronline.com/images/wsymbols01_png_64/wsymbol_0002_sunny_intervals.png"
             }
            ],
            "winddir16Point": "S",
            "winddirDegree": "178",
            "windspeedKmph": "7",
            "windspeedMiles": "5"
           }
          ],
          "maxtempC": "32",
          "maxtempF": "89",
          "mintempC": "25",
          "mintempF": "78",
          "sunHour": "11.6",
          "totalSnow_cm": "0.0",
          "uvIndex": "7"
         },
         {
          "astronomy": [
           {
            "moon_illumination": "67",
            "moon_phase": "Waning Gibbous",
            "moonrise": "09:48 PM",
            "moonset": "09:12 AM",
            "sunrise": "05:18 AM",
            "sunset": "05:49 PM"
           }
          ],
          "avgtempC": "29",
          "avgtempF": "84",
          "date": "2018-01-06",
          "hourly": [
           {
            "DewPointC": "23",
            "DewPointF": "74",
            "FeelsLikeC": "31",
            "FeelsLikeF": "89",
            "HeatIndexC": "31",
            "HeatIndexF": "89",
            "WindChillC": "28",
            "WindChillF": "82",
            "WindGustKmph": "11",
            "WindGustMiles": "7",
            "cloudcover": "46",
            "humidity": "78",
            "precipInches": "0.3",
            "precipMM": "7.6",
            "pressure": "1008",
            "pressureInches": "30",
            "tempC": "31",
            "tempF": "88",
            "time": "24",
            "uvIndex": "6",
            "visibility": "9",
            "visibilityMiles": "5",
            "weatherCode": "359",
            "weatherDesc": [
             {
              "value": "Torrential rain shower"
             }
            ],
            "weatherIconUrl": [
             {
              "value": "http://cdn.worldweatheronline.com/images/wsymbols01_png_64/wsymbol_0018_cloudy_with_heavy_rain.png"
             }
            ],
            "winddir16Point": "WSW",
            "winddirDegree": "256",
            "windspeedKmph": "6",
            "windspeedMiles": "4"
           }
          ],
          "maxtempC": "31",
          "maxtempF": "88",
          "mintempC": "25",
          "mintempF": "78",
          "sunHour": "11.6",
          "totalSnow_cm": "0.0",
          "uvIndex": "6"
         },
         {
          "astronomy": [
           {
            "moon_illumination": "59",
            "moon_phase": "Waning Gibbous",
            "moonrise": "10:34 PM",
            "moonset": "10:05 AM",
            "sunrise": "05:19 AM",
            "sunset": "05:49 PM"
           }
          ],
          "avgtempC": "27",
          "avgtempF": "80",
          "date": "2018-01-07",
          "hourly": [
           {
            "DewPointC": "23",
            "DewPointF": "73",
            "FeelsLikeC": "29",
            "FeelsLikeF": "85",
            "HeatIndexC": "29",
            "HeatIndexF": "85",
            "WindChillC": "26",
            "WindChillF": "79",
            "WindGustKmph": "10",
            "WindGustMiles": "6",
            "cloudcover": "64",
            "humidity": "82",
            "precipInches": "0.1",
            "precipMM": "1.6",
            "pressure": "1009",
            "pressureInches": "30",
            "tempC": "29",
            "tempF": "84",
            "time": "24",
            "uvIndex": "6",
            "visibility": "10",
            "visibilityMiles": "6",
            "weatherCode": "353",
            "weatherDesc": [
             {
              "value": "Light rain shower"
             }
            ],
            "weatherIconUrl": [
             {
              "value": "http://cdn.worldweatheronline.com/images/wsymbols01_png_64/wsymbol_0009_light_rain_showers.png"
             }
            ],
            "winddir16Point": "W",
            "winddirDegree": "271",
            "windspeedKmph": "6",
            "windspeedMiles": "4"
           }
          ],
          "maxtempC": "29",
          "maxtempF": "84",
          "mintempC": "25",
          "mintempF": "76",
          "sunHour": "7.5",
          "totalSnow_cm": "0.0",
          "uvIndex": "6"
         },
         {
          "astronomy": [
           {
            "moon_illumination": "52",
            "moon_phase": "Last Quarter",
            "moonrise": "11:19 PM",
            "moonset": "10:55 AM",
            "sunrise": "05:19 AM",
            "sunset": "05:50 PM"
           }
          ],
          "avgtempC": "27",
          "avgtempF": "81",
          "date": "2018-01-08",
          "hourly": [
           {
            "DewPointC": "23",
            "DewPointF": "74",
            "FeelsLikeC": "30",
            "FeelsLikeF": "86",
            "HeatIndexC": "30",
            "HeatIndexF": "86",
            "WindChillC": "27",
            "WindChillF": "80",
            "WindGustKmph": "7",
            "WindGustMiles": "4",
            "cloudcover": "51",
            "humidity": "82",
            "precipInches": "0.0",
            "precipMM": "0.3",
            "pressure": "1010",
            "pressureInches": "30",
            "tempC": "29",
            "tempF": "83",
            "time": "24",
            "uvIndex": "6",
            "visibility": "10",
            "visibilityMiles": "6",
            "weatherCode": "119",
            "weatherDesc": [
             {
              "value": "Cloudy"
             }
            ],
            "weatherIconUrl": [
             {
              "value": "http://cdn.worldweatheronline.com/images/wsymbols01_png_64/wsymbol_0003_white_cloud.png"
             }
            ],
            "winddir16Point": "SSW",
            "winddirDegree": "200",
            "windspeedKmph": "4",
            "windspeedMiles": "3"
           }
          ],
          "maxtempC": "29",
          "maxtempF": "83",
          "mintempC": "24",
          "mintempF": "76",
          "sunHour": "8.9",
          "totalSnow_cm": "0.0",
          "uvIndex": "6"
         },
         {
          "astronomy": [
           {
            "moon_illumination": "45",
            "moon_phase": "Last Quarter",
            "moonrise": "No moonrise",
            "moonset": "11:43 AM",
            "sunrise": "05:20 AM",
            "sunset": "05:50 PM"
           }
          ],
          "avgtempC": "29",
          "avgtempF": "84",
          "date": "2018-01-09",
          "hourly": [
           {
            "DewPointC": "23",
            "DewPointF": "73",
            "FeelsLikeC": "31",
            "FeelsLikeF": "88",
            "HeatIndexC": "31",
            "HeatIndexF": "88",
            "WindChillC": "28",
            "WindChillF": "82",
            "WindGustKmph": "12",
            "WindGustMiles": "8",
            "cloudcover": "38",
            "humidity": "76",
            "precipInches": "0.1",
            "precipMM": "2.4",
            "pressure": "1010",
            "pressureInches": "30",
            "tempC": "32",
            "tempF": "89",
            "time": "24",
            "uvIndex": "6",
            "visibility": "10",
            "visibilityMiles": "6",
            "weatherCode": "176",
            "weatherDesc": [
             {
              "value": "Patchy rain possible"
             }
            ],
            "weatherIconUrl": [
             {
              "value": "http://cdn.worldweatheronline.com/images/wsymbols01_png_64/wsymbol_0009_light_rain_showers.png"
             }
            ],
            "winddir16Point": "W",
            "winddirDegree": "278",
            "windspeedKmph": "8",
            "windspeedMiles": "5"
           }
          ],
          "maxtempC": "32",
          "maxtempF": "89",
          "mintempC": "25",
          "mintempF": "77",
          "sunHour": "11.6",
          "totalSnow_cm": "0.0",
          "uvIndex": "6"
         },
         {
          "astronomy": [
           {
            "moon_illumination": "38",
            "moon_phase": "Last Quarter",
            "moonrise": "12:01 AM",
            "moonset": "12:30 PM",
            "sunrise": "05:20 AM",
            "sunset": "05:50 PM"
           }
          ],
          "avgtempC": "28",
          "avgtempF": "83",
          "date": "2018-01-10",
          "hourly": [
           {
            "DewPointC": "22",
            "DewPointF": "72",
            "FeelsLikeC": "30",
            "FeelsLikeF": "87",
            "HeatIndexC": "30",
            "HeatIndexF": "87",
            "WindChillC": "27",
            "WindChillF": "81",
            "WindGustKmph": "20",
            "WindGustMiles": "12",
            "cloudcover": "58",
            "humidity": "75",
            "precipInches": "0.0",
            "precipMM": "0.0",
            "pressure": "1009",
            "pressureInches": "30",
            "tempC": "30",
            "tempF": "87",
            "time": "24",
            "uvIndex": "6",
            "visibility": "10",
            "visibilityMiles": "6",
            "weatherCode": "122",
            "weatherDesc": [
             {
              "value": "Overcast"
             }
            ],
            "weatherIconUrl": [
             {
              "value": "http://cdn.worldweatheronline.com/images/wsymbols01_png_64/wsymbol_0004_black_low_cloud.png"
             }
            ],
            "winddir16Point": "W",
            "winddirDegree": "263",
            "windspeedKmph": "13",
            "windspeedMiles": "8"
           }
          ],
          "maxtempC": "30",
          "maxtempF": "87",
          "mintempC": "25",
          "mintempF": "78",
          "sunHour": "7.5",
          "totalSnow_cm": "0.0",
          "uvIndex": "6"
         },
         {
          "astronomy": [
           {
            "moon_illumination": "30",
            "moon_phase": "Last Quarter",
            "moonrise": "12:44 AM",
            "moonset": "01:17 PM",
            "sunrise": "05:21 AM",
            "sunset": "05:51 PM"
           }
          ],
          "avgtempC": "27",
          "avgtempF": "81",
          "date": "2018-01-11",
          "hourly": [
           {
            "DewPointC": "23",
            "DewPointF": "73",
            "FeelsLikeC": "29",
            "FeelsLikeF": "85",
            "HeatIndexC": "29",
            "HeatIndexF": "85",
            "WindChillC": "26",
            "WindChillF": "80",
            "WindGustKmph": "23",
            "WindGustMiles": "14",
            "cloudcover": "61",
            "humidity": "80",
            "precipInches": "0.3",
            "precipMM": "7.7",
            "pressure": "1009",
            "pressureInches": "30",
            "tempC": "29",
            "tempF": "84",
            "time": "24",
            "uvIndex": "6",
            "visibility": "9",
            "visibilityMiles": "5",
            "weatherCode": "356",
            "weatherDesc": [
             {
              "value": "Moderate or heavy rain shower"
             }
            ],
            "weatherIconUrl": [
             {
              "value": "http://cdn.worldweatheronline.com/images/wsymbols01_png_64/wsymbol_0010_heavy_rain_showers.png"
             }
            ],
            "winddir16Point": "W",
            "winddirDegree": "265",
            "windspeedKmph": "14",
            "windspeedMiles": "9"
           }
          ],
          "maxtempC": "29",
          "maxtempF": "84",
          "mintempC": "25",
          "mintempF": "77",
          "sunHour": "10.2",
          "totalSnow_cm": "0.0",
          "uvIndex": "6"
         },
         {
          "astronomy": [
           {
            "moon_illumination": "23",
            "moon_phase": "Waning Crescent",
            "moonrise": "01:27 AM",
            "moonset": "02:04 PM",
            "sunrise": "05:21 AM",
            "sunset": "05:51 PM"
           }
          ],
          "avgtempC": "27",
          "avgtempF": "81",
          "date": "2018-01-12",
          "hourly": [
           {
            "DewPointC": "22",
            "DewPointF": "72",
            "FeelsLikeC": "29",
            "FeelsLikeF": "84",
            "HeatIndexC": "29",
            "HeatIndexF": "84",
            "WindChillC": "26",
            "WindChillF": "80",
            "WindGustKmph": "22",
            "WindGustMiles": "14",
            "cloudcover": "70",
            "humidity": "78",
            "precipInches": "0.1",
            "precipMM": "2.0",
            "pressure": "1009",
            "pressureInches": "30",
            "tempC": "29",
            "tempF": "85",
            "time": "24",
            "uvIndex": "6",
            "visibility": "10",
            "visibilityMiles": "6",
            "weatherCode": "353",
            "weatherDesc": [
             {
              "value": "Light rain shower"
             }
            ],
            "weatherIconUrl": [
             {
              "value": "http://cdn.worldweatheronline.com/images/wsymbols01_png_64/wsymbol_0009_light_rain_showers.png"
             }
            ],
            "winddir16Point": "W",
            "winddirDegree": "280",
            "windspeedKmph": "13",
            "windspeedMiles": "8"
           }
          ],
          "maxtempC": "29",
          "maxtempF": "85",
          "mintempC": "25",
          "mintempF": "76",
          "sunHour": "8.9",
          "totalSnow_cm": "0.0",
          "uvIndex": "6"
         },
         {
          "astronomy": [
           {
            "moon_illumination": "16",
            "moon_phase": "Waning Crescent",
            "moonrise": "02:11 AM",
            "moonset": "02:51 PM",
            "sunrise": "05:22 AM",
            "sunset": "05:51 PM"
           }
          ],
          "avgtempC": "28",
          "avgtempF": "83",
          "date": "2018-01-13",
          "hourly": [
           {
            "DewPointC": "23",
            "DewPointF": "73",
            "FeelsLikeC": "30",
            "FeelsLikeF": "87",
            "HeatIndexC": "30",
            "HeatIndexF": "87",
            "WindChillC": "27",
            "WindChillF": "81",
            "WindGustKmph": "24",
            "WindGustMiles": "15",
            "cloudcover": "82",
            "humidity": "78",
            "precipInches": "0.2",
            "precipMM": "5.6",
            "pressure": "1008",
            "pressureInches": "30",
            "tempC": "30",
            "tempF": "87",
            "time": "24",
            "uvIndex": "6",
            "visibility": "9",
            "visibilityMiles": "5",
            "weatherCode": "356",
            "weatherDesc": [
             {
              "value": "Moderate or heavy rain shower"
             }
            ],
            "weatherIconUrl": [
             {
              "value": "http://cdn.worldweatheronline.com/images/wsymbols01_png_64/wsymbol_0010_heavy_rain_showers.png"
             }
            ],
            "winddir16Point": "W",
            "winddirDegree": "280",
            "windspeedKmph": "15",
            "windspeedMiles": "9"
           }
          ],
          "maxtempC": "30",
          "maxtempF": "87",
          "mintempC": "25",
          "mintempF": "77",
          "sunHour": "7.5",
          "totalSnow_cm": "0.0",
          "uvIndex": "6"
         },
         {
          "astronomy": [
           {
            "moon_illumination": "9",
            "moon_phase": "Waning Crescent",
            "moonrise": "02:57 AM",
            "moonset": "03:39 PM",
            "sunrise": "05:22 AM",
            "sunset": "05:52 PM"
           }
          ],
          "avgtempC": "28",
          "avgtempF": "82",
          "date": "2018-01-14",
          "hourly": [
           {
            "DewPointC": "23",
            "DewPointF": "73",
            "FeelsLikeC": "30",
            "FeelsLikeF": "85",
            "HeatIndexC": "30",
            "HeatIndexF": "85",
            "WindChillC": "27",
            "WindChillF": "80",
            "WindGustKmph": "22",
            "WindGustMiles": "14",
            "cloudcover": "70",
            "humidity": "78",
            "precipInches": "0.1",
            "precipMM": "1.8",
            "pressure": "1009",
            "pressureInches": "30",
            "tempC": "30",
            "tempF": "86",
            "time": "24",
            "uvIndex": "6",
            "visibility": "10",
            "visibilityMiles": "6",
            "weatherCode": "353",
            "weatherDesc": [
             {
              "value": "Light rain shower"
             }
            ],
            "weatherIconUrl": [
             {
              "value": "http://cdn.worldweatheronline.com/images/wsymbols01_png_64/wsymbol_0009_light_rain_showers.png"
             }
            ],
            "winddir16Point": "W",
            "winddirDegree": "275",
            "windspeedKmph": "14",
            "windspeedMiles": "9"
           }
          ],
          "maxtempC": "30",
          "maxtempF": "86",
          "mintempC": "25",
          "mintempF": "77",
          "sunHour": "8.9",
          "totalSnow_cm": "0.0",
          "uvIndex": "6"
         },
         {
          "astronomy": [
           {
            "moon_illumination": "1",
            "moon_phase": "Waning Crescent",
            "moonrise": "03:44 AM",
            "moonset": "04:27 PM",
            "sunrise": "05:23 AM",
            "sunset": "05:52 PM"
           }
          ],
          "avgtempC": "27",
          "avgtempF": "81",
          "date": "2018-01-15",
          "hourly": [
           {
            "DewPointC": "23",
            "DewPointF": "73",
            "FeelsLikeC": "29",
            "FeelsLikeF": "85",
            "HeatIndexC": "29",
            "HeatIndexF": "85",
            "WindChillC": "26",
            "WindChillF": "80",
            "WindGustKmph": "21",
            "WindGustMiles": "13",
            "cloudcover": "53",
            "humidity": "80",
            "precipInches": "0.1",
            "precipMM": "1.5",
            "pressure": "1008",
            "pressureInches": "30",
            "tempC": "29",
            "tempF": "85",
            "time": "24",
            "uvIndex": "6",
            "visibility": "10",
            "visibilityMiles": "6",
            "weatherCode": "353",
            "weatherDesc": [
             {
              "value": "Light rain shower"
             }
            ],
            "weatherIconUrl": [
             {
              "value": "http://cdn.worldweatheronline.com/images/wsymbols01_png_64/wsymbol_0009_light_rain_showers.png"
             }
            ],
            "winddir16Point": "WNW",
            "winddirDegree": "290",
            "windspeedKmph": "14",
            "windspeedMiles": "8"
           }
          ],
          "maxtempC": "29",
          "maxtempF": "85",
          "mintempC": "25",
          "mintempF": "76",
          "sunHour": "10.2",
          "totalSnow_cm": "0.0",
          "uvIndex": "6"
         },
         {
          "astronomy": [
           {
            "moon_illumination": "0",
            "moon_phase": "New Moon",
            "moonrise": "04:31 AM",
            "moonset": "05:15 PM",
            "sunrise": "05:23 AM",
            "sunset": "05:52 PM"
           }
          ],
          "avgtempC": "27",
          "avgtempF": "81",
          "date": "2018-01-16",
          "hourly": [
           {
            "DewPointC": "23",
            "DewPointF": "73",
            "FeelsLikeC": "29",
            "FeelsLikeF": "85",
            "HeatIndexC": "29",
            "HeatIndexF": "85",
            "WindChillC": "27",
            "WindChillF": "80",
            "WindGustKmph": "25",
            "WindGustMiles": "15",
            "cloudcover": "61",
            "humidity": "79",
            "precipInches": "0.1",
            "precipMM": "3.3",
            "pressure": "1008",
            "pressureInches": "30",
            "tempC": "30",
            "tempF": "87",
            "time": "24",
            "uvIndex": "6",
            "visibility": "10",
            "visibilityMiles": "6",
            "weatherCode": "176",
            "weatherDesc": [
             {
              "value": "Patchy rain possible"
             }
            ],
            "weatherIconUrl": [
             {
              "value": "http://cdn.worldweatheronline.com/images/wsymbols01_png_64/wsymbol_0009_light_rain_showers.png"
             }
            ],
            "winddir16Point": "WNW",
            "winddirDegree": "288",
            "windspeedKmph": "16",
            "windspeedMiles": "10"
           }
          ],
          "maxtempC": "30",
          "maxtempF": "87",
          "mintempC": "25",
          "mintempF": "77",
          "sunHour": "8.9",
          "totalSnow_cm": "0.0",
          "uvIndex": "6"
         },
         {
          "astronomy": [
           {
            "moon_illumination": "0",
            "moon_phase": "New Moon",
            "moonrise": "05:20 AM",
            "moonset": "06:02 PM",
            "sunrise": "05:24 AM",
            "sunset": "05:52 PM"
           }
          ],
          "avgtempC": "28",
          "avgtempF": "82",
          "date": "2018-01-17",
          "hourly": [
           {
            "DewPointC": "23",
            "DewPointF": "73",
            "FeelsLikeC": "30",
            "FeelsLikeF": "86",
            "HeatIndexC": "30",
            "HeatIndexF": "86",
            "WindChillC": "27",
            "WindChillF": "80",
            "WindGustKmph": "21",
            "WindGustMiles": "13",
            "cloudcover": "67",
            "humidity": "80",
            "precipInches": "0.4",
            "precipMM": "11.2",
            "pressure": "1007",
            "pressureInches": "30",
            "tempC": "30",
            "tempF": "86",
            "time": "24",
            "uvIndex": "6",
            "visibility": "9",
            "visibilityMiles": "5",
            "weatherCode": "353",
            "weatherDesc": [
             {
              "value": "Light rain shower"
             }
            ],
            "weatherIconUrl": [
             {
              "value": "http://cdn.worldweatheronline.com/images/wsymbols01_png_64/wsymbol_0009_light_rain_showers.png"
             }
            ],
            "winddir16Point": "W",
            "winddirDegree": "280",
            "windspeedKmph": "14",
            "windspeedMiles": "9"
           }
          ],
          "maxtempC": "30",
          "maxtempF": "86",
          "mintempC": "25",
          "mintempF": "76",
          "sunHour": "6.1",
          "totalSnow_cm": "0.0",
          "uvIndex": "6"
         },
         {
          "astronomy": [
           {
            "moon_illumination": "6",
            "moon_phase": "Waxing Crescent",
            "moonrise": "06:08 AM",
            "moonset": "06:48 PM",
            "sunrise": "05:24 AM",
            "sunset": "05:52 PM"
           }
          ],
          "avgtempC": "27",
          "avgtempF": "81",
          "date": "2018-01-18",
          "hourly": [
           {
            "DewPointC": "23",
            "DewPointF": "74",
            "FeelsLikeC": "30",
            "FeelsLikeF": "86",
            "HeatIndexC": "30",
            "HeatIndexF": "86",
            "WindChillC": "26",
            "WindChillF": "80",
            "WindGustKmph": "20",
            "WindGustMiles": "12",
            "cloudcover": "64",
            "humidity": "83",
            "precipInches": "0.3",
            "precipMM": "8.0",
            "pressure": "1008",
            "pressureInches": "30",
            "tempC": "29",
            "tempF": "85",
            "time": "24",
            "uvIndex": "6",
            "visibility": "9",
            "visibilityMiles": "5",
            "weatherCode": "356",
            "weatherDesc": [
             {
              "value": "Moderate or heavy rain shower"
             }
            ],
            "weatherIconUrl": [
             {
              "value": "http://cdn.worldweatheronline.com/images/wsymbols01_png_64/wsymbol_0010_heavy_rain_showers.png"
             }
            ],
            "winddir16Point": "W",
            "winddirDegree": "276",
            "windspeedKmph": "13",
            "windspeedMiles": "8"
           }
          ],
          "maxtempC": "29",
          "maxtempF": "85",
          "mintempC": "25",
          "mintempF": "76",
          "sunHour": "8.9",
          "totalSnow_cm": "0.0",
          "uvIndex": "6"
         },
         {
          "astronomy": [
           {
            "moon_illumination": "13",
            "moon_phase": "Waxing Crescent",
            "moonrise": "06:56 AM",
            "moonset": "07:33 PM",
            "sunrise": "05:25 AM",
            "sunset": "05:53 PM"
           }
          ],
          "avgtempC": "27",
          "avgtempF": "81",
          "date": "2018-01-19",
          "hourly": [
           {
            "DewPointC": "23",
            "DewPointF": "74",
            "FeelsLikeC": "29",
            "FeelsLikeF": "85",
            "HeatIndexC": "29",
            "HeatIndexF": "85",
            "WindChillC": "26",
            "WindChillF": "79",
            "WindGustKmph": "21",
            "WindGustMiles": "13",
            "cloudcover": "58",
            "humidity": "84",
            "precipInches": "0.4",
            "precipMM": "10.2",
            "pressure": "1008",
            "pressureInches": "30",
            "tempC": "29",
            "tempF": "85",
            "time": "24",
            "uvIndex": "6",
            "visibility": "9",
            "visibilityMiles": "5",
            "weatherCode": "359",
            "weatherDesc": [
             {
              "value": "Torrential rain shower"
             }
            ],
            "weatherIconUrl": [
             {
              "value": "http://cdn.worldweatheronline.com/images/wsymbols01_png_64/wsymbol_0018_cloudy_with_heavy_rain.png"
             }
            ],
            "winddir16Point": "WSW",
            "winddirDegree": "258",
            "windspeedKmph": "12",
            "windspeedMiles": "8"
           }
          ],
          "maxtempC": "29",
          "maxtempF": "85",
          "mintempC": "24",
          "mintempF": "76",
          "sunHour": "10.2",
          "totalSnow_cm": "0.0",
          "uvIndex": "6"
         },
         {
          "astronomy": [
           {
            "moon_illumination": "20",
            "moon_phase": "Waxing Crescent",
            "moonrise": "07:44 AM",
            "moonset": "08:17 PM",
            "sunrise": "05:25 AM",
            "sunset": "05:53 PM"
           }
          ],
          "avgtempC": "27",
          "avgtempF": "80",
          "date": "2018-01-20",
          "hourly": [
           {
            "DewPointC": "23",
            "DewPointF": "73",
            "FeelsLikeC": "29",
            "FeelsLikeF": "84",
            "HeatIndexC": "29",
            "HeatIndexF": "84",
            "WindChillC": "26",
            "WindChillF": "79",
            "WindGustKmph": "17",
            "WindGustMiles": "10",
            "cloudcover": "51",
            "humidity": "83",
            "precipInches": "0.1",
            "precipMM": "3.1",
            "pressure": "1007",
            "pressureInches": "30",
            "tempC": "29",
            "tempF": "84",
            "time": "24",
            "uvIndex": "6",
            "visibility": "10",
            "visibilityMiles": "5",
            "weatherCode": "356",
            "weatherDesc": [
             {
              "value": "Moderate or heavy rain shower"
             }
            ],
            "weatherIconUrl": [
             {
              "value": "http://cdn.worldweatheronline.com/images/wsymbols01_png_64/wsymbol_0010_heavy_rain_showers.png"
             }
            ],
            "winddir16Point": "WNW",
            "winddirDegree": "281",
            "windspeedKmph": "11",
            "windspeedMiles": "7"
           }
          ],
          "maxtempC": "29",
          "maxtempF": "84",
          "mintempC": "25",
          "mintempF": "76",
          "sunHour": "11.6",
          "totalSnow_cm": "0.0",
          "uvIndex": "6"
         },
         {
          "astronomy": [
           {
            "moon_illumination": "28",
            "moon_phase": "Waxing Crescent",
            "moonrise": "08:31 AM",
            "moonset": "09:00 PM",
            "sunrise": "05:26 AM",
            "sunset": "05:53 PM"
           }
          ],
          "avgtempC": "26",
          "avgtempF": "80",
          "date": "2018-01-21",
          "hourly": [
           {
            "DewPointC": "23",
            "DewPointF": "73",
            "FeelsLikeC": "29",
            "FeelsLikeF": "83",
            "HeatIndexC": "29",
            "HeatIndexF": "83",
            "WindChillC": "26",
            "WindChillF": "78",
            "WindGustKmph": "18",
            "WindGustMiles": "11",
            "cloudcover": "63",
            "humidity": "85",
            "precipInches": "0.3",
            "precipMM": "7.0",
            "pressure": "1006",
            "pressureInches": "30",
            "tempC": "28",
            "tempF": "83",
            "time": "24",
            "uvIndex": "6",
            "visibility": "10",
            "visibilityMiles": "5",
            "weatherCode": "356",
            "weatherDesc": [
             {
              "value": "Moderate or heavy rain shower"
             }
            ],
            "weatherIconUrl": [
             {
              "value": "http://cdn.worldweatheronline.com/images/wsymbols01_png_64/wsymbol_0010_heavy_rain_showers.png"
             }
            ],
            "winddir16Point": "W",
            "winddirDegree": "269",
            "windspeedKmph": "11",
            "windspeedMiles": "7"
           }
          ],
          "maxtempC": "28",
          "maxtempF": "83",
          "mintempC": "24",
          "mintempF": "76",
          "sunHour": "8.9",
          "totalSnow_cm": "0.0",
          "uvIndex": "6"
         },
         {
          "astronomy": [
           {
            "moon_illumination": "35",
            "moon_phase": "Waxing Crescent",
            "moonrise": "09:19 AM",
            "moonset": "09:43 PM",
            "sunrise": "05:26 AM",
            "sunset": "05:53 PM"
           }
          ],
          "avgtempC": "27",
          "avgtempF": "81",
          "date": "2018-01-22",
          "hourly": [
           {
            "DewPointC": "23",
            "DewPointF": "74",
            "FeelsLikeC": "29",
            "FeelsLikeF": "85",
            "HeatIndexC": "29",
            "HeatIndexF": "85",
            "WindChillC": "26",
            "WindChillF": "79",
            "WindGustKmph": "23",
            "WindGustMiles": "14",
            "cloudcover": "64",
            "humidity": "85",
            "precipInches": "0.3",
            "precipMM": "7.2",
            "pressure": "1006",
            "pressureInches": "30",
            "tempC": "29",
            "tempF": "84",
            "time": "24",
            "uvIndex": "6",
            "visibility": "10",
            "visibilityMiles": "5",
            "weatherCode": "356",
            "weatherDesc": [
             {
              "value": "Moderate or heavy rain shower"
             }
            ],
            "weatherIconUrl": [
             {
              "value": "http://cdn.worldweatheronline.com/images/wsymbols01_png_64/wsymbol_0010_heavy_rain_showers.png"
             }
            ],
            "winddir16Point": "WNW",
            "winddirDegree": "285",
            "windspeedKmph": "15",
            "windspeedMiles": "9"
           }
          ],
          "maxtempC": "29",
          "maxtempF": "84",
          "mintempC": "24",
          "mintempF": "76",
          "sunHour": "7.5",
          "totalSnow_cm": "0.0",
          "uvIndex": "6"
         },
         {
          "astronomy": [
           {
            "moon_illumination": "42",
            "moon_phase": "First Quarter",
            "moonrise": "10:06 AM",
            "moonset": "10:27 PM",
            "sunrise": "05:26 AM",
            "sunset": "05:53 PM"
           }
          ],
          "avgtempC": "27",
          "avgtempF": "81",
          "date": "2018-01-23",
          "hourly": [
           {
            "DewPointC": "23",
            "DewPointF": "74",
            "FeelsLikeC": "30",
            "FeelsLikeF": "85",
            "HeatIndexC": "30",
            "HeatIndexF": "85",
            "WindChillC": "26",
            "WindChillF": "79",
            "WindGustKmph": "27",
            "WindGustMiles": "17",
            "cloudcover": "55",
            "humidity": "83",
            "precipInches": "0.2",
            "precipMM": "5.9",
            "pressure": "1006",
            "pressureInches": "30",
            "tempC": "28",
            "tempF": "83",
            "time": "24",
            "uvIndex": "6",
            "visibility": "9",
            "visibilityMiles": "5",
            "weatherCode": "356",
            "weatherDesc": [
             {
              "value": "Moderate or heavy rain shower"
             }
            ],
            "weatherIconUrl": [
             {
              "value": "http://cdn.worldweatheronline.com/images/wsymbols01_png_64/wsymbol_0010_heavy_rain_showers.png"
             }
            ],
            "winddir16Point": "WNW",
            "winddirDegree": "288",
            "windspeedKmph": "17",
            "windspeedMiles": "10"
           }
          ],
          "maxtempC": "28",
          "maxtempF": "83",
          "mintempC": "25",
          "mintempF": "76",
          "sunHour": "8.9",
          "totalSnow_cm": "0.0",
          "uvIndex": "6"
         },
         {
          "astronomy": [
           {
            "moon_illumination": "49",
            "moon_phase": "First Quarter",
            "moonrise": "10:55 AM",
            "moonset": "11:12 PM",
            "sunrise": "05:27 AM",
            "sunset": "05:53 PM"
           }
          ],
          "avgtempC": "28",
          "avgtempF": "83",
          "date": "2018-01-24",
          "hourly": [
           {
            "DewPointC": "24",
            "DewPointF": "74",
            "FeelsLikeC": "31",
            "FeelsLikeF": "88",
            "HeatIndexC": "31",
            "HeatIndexF": "88",
            "WindChillC": "27",
            "WindChillF": "81",
            "WindGustKmph": "21",
            "WindGustMiles": "13",
            "cloudcover": "48",
            "humidity": "81",
            "precipInches": "0.3",
            "precipMM": "7.5",
            "pressure": "1006",
            "pressureInches": "30",
            "tempC": "30",
            "tempF": "86",
            "time": "24",
            "uvIndex": "6",
            "visibility": "10",
            "visibilityMiles": "5",
            "weatherCode": "353",
            "weatherDesc": [
             {
              "value": "Light rain shower"
             }
            ],
            "weatherIconUrl": [
             {
              "value": "http://cdn.worldweatheronline.com/images/wsymbols01_png_64/wsymbol_0009_light_rain_showers.png"
             }
            ],
            "winddir16Point": "WNW",
            "winddirDegree": "286",
            "windspeedKmph": "14",
            "windspeedMiles": "9"
           }
          ],
          "maxtempC": "30",
          "maxtempF": "86",
          "mintempC": "25",
          "mintempF": "77",
          "sunHour": "11.6",
          "totalSnow_cm": "0.0",
          "uvIndex": "6"
         },
         {
          "astronomy": [
           {
            "moon_illumination": "57",
            "moon_phase": "First Quarter",
            "moonrise": "11:47 AM",
            "moonset": "No moonset",
            "sunrise": "05:27 AM",
            "sunset": "05:53 PM"
           }
          ],
          "avgtempC": "27",
          "avgtempF": "80",
          "date": "2018-01-25",
          "hourly": [
           {
            "DewPointC": "24",
            "DewPointF": "74",
            "FeelsLikeC": "30",
            "FeelsLikeF": "85",
            "HeatIndexC": "30",
            "HeatIndexF": "85",
            "WindChillC": "26",
            "WindChillF": "79",
            "WindGustKmph": "26",
            "WindGustMiles": "16",
            "cloudcover": "53",
            "humidity": "85",
            "precipInches": "0.4",
            "precipMM": "11.1",
            "pressure": "1005",
            "pressureInches": "30",
            "tempC": "28",
            "tempF": "83",
            "time": "24",
            "uvIndex": "6",
            "visibility": "9",
            "visibilityMiles": "5",
            "weatherCode": "356",
            "weatherDesc": [
             {
              "value": "Moderate or heavy rain shower"
             }
            ],
            "weatherIconUrl": [
             {
              "value": "http://cdn.worldweatheronline.com/images/wsymbols01_png_64/wsymbol_0010_heavy_rain_showers.png"
             }
            ],
            "winddir16Point": "W",
            "winddirDegree": "274",
            "windspeedKmph": "15",
            "windspeedMiles": "9"
           }
          ],
          "maxtempC": "28",
          "maxtempF": "83",
          "mintempC": "25",
          "mintempF": "77",
          "sunHour": "7.5",
          "totalSnow_cm": "0.0",
          "uvIndex": "6"
         },
         {
          "astronomy": [
           {
            "moon_illumination": "64",
            "moon_phase": "First Quarter",
            "moonrise": "12:40 PM",
            "moonset": "12:00 AM",
            "sunrise": "05:27 AM",
            "sunset": "05:54 PM"
           }
          ],
          "avgtempC": "28",
          "avgtempF": "82",
          "date": "2018-01-26",
          "hourly": [
           {
            "DewPointC": "23",
            "DewPointF": "74",
            "FeelsLikeC": "30",
            "FeelsLikeF": "86",
            "HeatIndexC": "30",
            "HeatIndexF": "86",
            "WindChillC": "27",
            "WindChillF": "80",
            "WindGustKmph": "24",
            "WindGustMiles": "15",
            "cloudcover": "52",
            "humidity": "82",
            "precipInches": "0.1",
            "precipMM": "2.0",
            "pressure": "1005",
            "pressureInches": "30",
            "tempC": "30",
            "tempF": "85",
            "time": "24",
            "uvIndex": "6",
            "visibility": "10",
            "visibilityMiles": "6",
            "weatherCode": "119",
            "weatherDesc": [
             {
              "value": "Cloudy"
             }
            ],
            "weatherIconUrl": [
             {
              "value": "http://cdn.worldweatheronline.com/images/wsymbols01_png_64/wsymbol_0003_white_cloud.png"
             }
            ],
            "winddir16Point": "WNW",
            "winddirDegree": "283",
            "windspeedKmph": "15",
            "windspeedMiles": "10"
           }
          ],
          "maxtempC": "30",
          "maxtempF": "85",
          "mintempC": "25",
          "mintempF": "77",
          "sunHour": "11.6",
          "totalSnow_cm": "0.0",
          "uvIndex": "6"
         },
         {
          "astronomy": [
           {
            "moon_illumination": "71",
            "moon_phase": "Waxing Gibbous",
            "moonrise": "01:38 PM",
            "moonset": "12:52 AM",
            "sunrise": "05:28 AM",
            "sunset": "05:54 PM"
           }
          ],
          "avgtempC": "28",
          "avgtempF": "83",
          "date": "2018-01-27",
          "hourly": [
           {
            "DewPointC": "23",
            "DewPointF": "74",
            "FeelsLikeC": "31",
            "FeelsLikeF": "88",
            "HeatIndexC": "31",
            "HeatIndexF": "88",
            "WindChillC": "27",
            "WindChillF": "81",
            "WindGustKmph": "29",
            "WindGustMiles": "18",
            "cloudcover": "46",
            "humidity": "78",
            "precipInches": "0.0",
            "precipMM": "0.2",
            "pressure": "1006",
            "pressureInches": "30",
            "tempC": "30",
            "tempF": "85",
            "time": "24",
            "uvIndex": "6",
            "visibility": "10",
            "visibilityMiles": "6",
            "weatherCode": "353",
            "weatherDesc": [
             {
              "value": "Light rain shower"
             }
            ],
            "weatherIconUrl": [
             {
              "value": "http://cdn.worldweatheronline.com/images/wsymbols01_png_64/wsymbol_0009_light_rain_showers.png"
             }
            ],
            "winddir16Point": "WNW",
            "winddirDegree": "284",
            "windspeedKmph": "19",
            "windspeedMiles": "12"
           }
          ],
          "maxtempC": "30",
          "maxtempF": "85",
          "mintempC": "25",
          "mintempF": "78",
          "sunHour": "11.6",
          "totalSnow_cm": "0.0",
          "uvIndex": "6"
         },
         {
          "astronomy": [
           {
            "moon_illumination": "78",
            "moon_phase": "Waxing Gibbous",
            "moonrise": "02:38 PM",
            "moonset": "01:48 AM",
            "sunrise": "05:28 AM",
            "sunset": "05:54 PM"
           }
          ],
          "avgtempC": "28",
          "avgtempF": "83",
          "date": "2018-01-28",
          "hourly": [
           {
            "DewPointC": "24",
            "DewPointF": "74",
            "FeelsLikeC": "31",
            "FeelsLikeF": "88",
            "HeatIndexC": "31",
            "HeatIndexF": "88",
            "WindChillC": "27",
            "WindChillF": "81",
            "WindGustKmph": "29",
            "WindGustMiles": "18",
            "cloudcover": "59",
            "humidity": "79",
            "precipInches": "0.1",
            "precipMM": "1.6",
            "pressure": "1006",
            "pressureInches": "30",
            "tempC": "30",
            "tempF": "86",
            "time": "24",
            "uvIndex": "6",
            "visibility": "10",
            "visibilityMiles": "6",
            "weatherCode": "353",
            "weatherDesc": [
             {
              "value": "Light rain shower"
             }
            ],
            "weatherIconUrl": [
             {
              "value": "http://cdn.worldweatheronline.com/images/wsymbols01_png_64/wsymbol_0009_light_rain_showers.png"
             }
            ],
            "winddir16Point": "WNW",
            "winddirDegree": "292",
            "windspeedKmph": "19",
            "windspeedMiles": "12"
           }
          ],
          "maxtempC": "30",
          "maxtempF": "86",
          "mintempC": "26",
          "mintempF": "78",
          "sunHour": "7.5",
          "totalSnow_cm": "0.0",
          "uvIndex": "6"
         },
         {
          "astronomy": [
           {
            "moon_illumination": "86",
            "moon_phase": "Waxing Gibbous",
            "moonrise": "03:41 PM",
            "moonset": "02:47 AM",
            "sunrise": "05:29 AM",
            "sunset": "05:54 PM"
           }
          ],
          "avgtempC": "28",
          "avgtempF": "83",
          "date": "2018-01-29",
          "hourly": [
           {
            "DewPointC": "23",
            "DewPointF": "74",
            "FeelsLikeC": "31",
            "FeelsLikeF": "87",
            "HeatIndexC": "31",
            "HeatIndexF": "87",
            "WindChillC": "27",
            "WindChillF": "81",
            "WindGustKmph": "27",
            "WindGustMiles": "17",
            "cloudcover": "55",
            "humidity": "78",
            "precipInches": "0.0",
            "precipMM": "0.6",
            "pressure": "1007",
            "pressureInches": "30",
            "tempC": "31",
            "tempF": "87",
            "time": "24",
            "uvIndex": "6",
            "visibility": "10",
            "visibilityMiles": "6",
            "weatherCode": "353",
            "weatherDesc": [
             {
              "value": "Light rain shower"
             }
            ],
            "weatherIconUrl": [
             {
              "value": "http://cdn.worldweatheronline.com/images/wsymbols01_png_64/wsymbol_0009_light_rain_showers.png"
             }
            ],
            "winddir16Point": "WNW",
            "winddirDegree": "285",
            "windspeedKmph": "18",
            "windspeedMiles": "11"
           }
          ],
          "maxtempC": "31",
          "maxtempF": "87",
          "mintempC": "25",
          "mintempF": "78",
          "sunHour": "7.5",
          "totalSnow_cm": "0.0",
          "uvIndex": "6"
         },
         {
          "astronomy": [
           {
            "moon_illumination": "93",
            "moon_phase": "Waxing Gibbous",
            "moonrise": "04:43 PM",
            "moonset": "03:50 AM",
            "sunrise": "05:29 AM",
            "sunset": "05:54 PM"
           }
          ],
          "avgtempC": "28",
          "avgtempF": "83",
          "date": "2018-01-30",
          "hourly": [
           {
            "DewPointC": "23",
            "DewPointF": "73",
            "FeelsLikeC": "30",
            "FeelsLikeF": "86",
            "HeatIndexC": "30",
            "HeatIndexF": "86",
            "WindChillC": "27",
            "WindChillF": "81",
            "WindGustKmph": "25",
            "WindGustMiles": "15",
            "cloudcover": "37",
            "humidity": "77",
            "precipInches": "0.1",
            "precipMM": "2.4",
            "pressure": "1008",
            "pressureInches": "30",
            "tempC": "30",
            "tempF": "87",
            "time": "24",
            "uvIndex": "7",
            "visibility": "10",
            "visibilityMiles": "6",
            "weatherCode": "116",
            "weatherDesc": [
             {
              "value": "Partly cloudy"
             }
            ],
            "weatherIconUrl": [
             {
              "value": "http://cdn.worldweatheronline.com/images/wsymbols01_png_64/wsymbol_0002_sunny_intervals.png"
             }
            ],
            "winddir16Point": "WNW",
            "winddirDegree": "285",
            "windspeedKmph": "16",
            "windspeedMiles": "10"
           }
          ],
          "maxtempC": "30",
          "maxtempF": "87",
          "mintempC": "25",
          "mintempF": "77",
          "sunHour": "11.6",
          "totalSnow_cm": "0.0",
          "uvIndex": "7"
         },
         {
          "astronomy": [
           {
            "moon_illumination": "97",
            "moon_phase": "Waxing Gibbous",
            "moonrise": "05:44 PM",
            "moonset": "04:53 AM",
            "sunrise": "05:29 AM",
            "sunset": "05:54 PM"
           }
          ],
          "avgtempC": "27",
          "avgtempF": "81",
          "date": "2018-01-31",
          "hourly": [
           {
            "DewPointC": "23",
            "DewPointF": "74",
            "FeelsLikeC": "30",
            "FeelsLikeF": "85",
            "HeatIndexC": "30",
            "HeatIndexF": "85",
            "WindChillC": "26",
            "WindChillF": "79",
            "WindGustKmph": "30",
            "WindGustMiles": "18",
            "cloudcover": "67",
            "humidity": "84",
            "precipInches": "0.1",
            "precipMM": "2.4",
            "pressure": "1009",
            "pressureInches": "30",
            "tempC": "28",
            "tempF": "83",
            "time": "24",
            "uvIndex": "6",
            "visibility": "10",
            "visibilityMiles": "6",
            "weatherCode": "353",
            "weatherDesc": [
             {
              "value": "Light rain shower"
             }
            ],
            "weatherIconUrl": [
             {
              "value": "http://cdn.worldweatheronline.com/images/wsymbols01_png_64/wsymbol_0009_light_rain_showers.png"
             }
            ],
            "winddir16Point": "WNW",
            "winddirDegree": "284",
            "windspeedKmph": "19",
            "windspeedMiles": "12"
           }
          ],
          "maxtempC": "28",
          "maxtempF": "83",
          "mintempC": "25",
          "mintempF": "76",
          "sunHour": "7.5",
          "totalSnow_cm": "0.0",
          "uvIndex": "6"
         },
         {
          "astronomy": [
           {
            "moon_illumination": "88",
            "moon_phase": "Waxing Gibbous",
            "moonrise": "06:41 PM",
            "moonset": "05:55 AM",
            "sunrise": "05:29 AM",
            "sunset": "05:54 PM"
           }
          ],
          "avgtempC": "28",
          "avgtempF": "82",
          "date": "2018-02-01",
          "hourly": [
           {
            "DewPointC": "23",
            "DewPointF": "74",
            "FeelsLikeC": "30",
            "FeelsLikeF": "86",
            "HeatIndexC": "30",
            "HeatIndexF": "86",
            "WindChillC": "27",
            "WindChillF": "80",
            "WindGustKmph": "24",
            "WindGustMiles": "15",
            "cloudcover": "43",
            "humidity": "83",
            "precipInches": "0.2",
            "precipMM": "4.1",
            "pressure": "1009",
            "pressureInches": "30",
            "tempC": "29",
            "tempF": "84",
            "time": "24",
            "uvIndex": "6",
            "visibility": "10",
            "visibilityMiles": "5",
            "weatherCode": "356",
            "weatherDesc": [
             {
              "value": "Moderate or heavy rain shower"
             }
            ],
            "weatherIconUrl": [
             {
              "value": "http://cdn.worldweatheronline.com/images/wsymbols01_png_64/wsymbol_0010_heavy_rain_showers.png"
             }
            ],
            "winddir16Point": "W",
            "winddirDegree": "280",
            "windspeedKmph": "15",
            "windspeedMiles": "9"
           }
          ],
          "maxtempC": "29",
          "maxtempF": "84",
          "mintempC": "25",
          "mintempF": "76",
          "sunHour": "10.2",
          "totalSnow_cm": "0.0",
          "uvIndex": "6"
         }
        ]
       }
      },
      "text/plain": [
       "<IPython.core.display.JSON object>"
      ]
     },
     "execution_count": 29,
     "metadata": {
      "application/json": {
       "expanded": false,
       "root": "root"
      }
     },
     "output_type": "execute_result"
    }
   ],
   "source": [
    "JSON(res.json())"
   ]
  },
  {
   "cell_type": "markdown",
   "metadata": {},
   "source": [
    "# World Weather Python API"
   ]
  },
  {
   "cell_type": "code",
   "execution_count": 32,
   "metadata": {},
   "outputs": [
    {
     "name": "stdout",
     "output_type": "stream",
     "text": [
      "\n",
      "\n",
      "Retrieving weather data for ORD\n",
      "\n",
      "\n",
      "Currently retrieving data for ORD: from 2018-01-01 to 2018-01-31\n",
      "Time elapsed (hh:mm:ss.ms) 0:00:01.658990\n",
      "Currently retrieving data for ORD: from 2018-02-01 to 2018-02-28\n",
      "Time elapsed (hh:mm:ss.ms) 0:00:03.267098\n",
      "Currently retrieving data for ORD: from 2018-03-01 to 2018-03-31\n",
      "Time elapsed (hh:mm:ss.ms) 0:00:04.967921\n",
      "Currently retrieving data for ORD: from 2018-04-01 to 2018-04-30\n",
      "Time elapsed (hh:mm:ss.ms) 0:00:06.752053\n",
      "Currently retrieving data for ORD: from 2018-05-01 to 2018-05-31\n",
      "Time elapsed (hh:mm:ss.ms) 0:00:08.410253\n",
      "Currently retrieving data for ORD: from 2018-06-01 to 2018-06-30\n",
      "Time elapsed (hh:mm:ss.ms) 0:00:10.056222\n",
      "Currently retrieving data for ORD: from 2018-07-01 to 2018-07-31\n",
      "Time elapsed (hh:mm:ss.ms) 0:00:13.917755\n",
      "Currently retrieving data for ORD: from 2018-08-01 to 2018-08-31\n",
      "Time elapsed (hh:mm:ss.ms) 0:00:15.582357\n",
      "Currently retrieving data for ORD: from 2018-09-01 to 2018-09-30\n",
      "Time elapsed (hh:mm:ss.ms) 0:00:17.240547\n",
      "Currently retrieving data for ORD: from 2018-10-01 to 2018-10-31\n",
      "Time elapsed (hh:mm:ss.ms) 0:00:18.959636\n",
      "Currently retrieving data for ORD: from 2018-11-01 to 2018-11-30\n",
      "Time elapsed (hh:mm:ss.ms) 0:00:20.481687\n",
      "Currently retrieving data for ORD: from 2018-12-01 to 2018-12-31\n",
      "Time elapsed (hh:mm:ss.ms) 0:00:22.170928\n",
      "Currently retrieving data for ORD: from 2019-01-01 to 2019-01-31\n",
      "Time elapsed (hh:mm:ss.ms) 0:00:23.886286\n",
      "Currently retrieving data for ORD: from 2019-02-01 to 2019-02-28\n",
      "Time elapsed (hh:mm:ss.ms) 0:00:25.490748\n",
      "Currently retrieving data for ORD: from 2019-03-01 to 2019-03-31\n",
      "Time elapsed (hh:mm:ss.ms) 0:00:27.263887\n",
      "Currently retrieving data for ORD: from 2019-04-01 to 2019-04-30\n",
      "Time elapsed (hh:mm:ss.ms) 0:00:28.921027\n",
      "Currently retrieving data for ORD: from 2019-05-01 to 2019-05-31\n",
      "Time elapsed (hh:mm:ss.ms) 0:00:30.898511\n",
      "Currently retrieving data for ORD: from 2019-06-01 to 2019-06-30\n",
      "Time elapsed (hh:mm:ss.ms) 0:00:32.540363\n",
      "Currently retrieving data for ORD: from 2019-07-01 to 2019-07-31\n",
      "Time elapsed (hh:mm:ss.ms) 0:00:34.250703\n",
      "Currently retrieving data for ORD: from 2019-08-01 to 2019-08-31\n",
      "Time elapsed (hh:mm:ss.ms) 0:00:36.313601\n",
      "Currently retrieving data for ORD: from 2019-09-01 to 2019-09-30\n",
      "Time elapsed (hh:mm:ss.ms) 0:00:38.116280\n",
      "Currently retrieving data for ORD: from 2019-10-01 to 2019-10-31\n",
      "Time elapsed (hh:mm:ss.ms) 0:00:39.934683\n",
      "Currently retrieving data for ORD: from 2019-11-01 to 2019-11-30\n",
      "Time elapsed (hh:mm:ss.ms) 0:00:42.525767\n",
      "Currently retrieving data for ORD: from 2019-12-01 to 2019-12-31\n",
      "Time elapsed (hh:mm:ss.ms) 0:00:44.230837\n",
      "\n",
      "\n",
      "export ORD completed!\n",
      "\n",
      "\n",
      "\n",
      "\n",
      "Retrieving weather data for ATL\n",
      "\n",
      "\n",
      "Currently retrieving data for ATL: from 2018-01-01 to 2018-01-31\n",
      "Time elapsed (hh:mm:ss.ms) 0:00:01.755955\n",
      "Currently retrieving data for ATL: from 2018-02-01 to 2018-02-28\n",
      "Time elapsed (hh:mm:ss.ms) 0:00:03.185228\n",
      "Currently retrieving data for ATL: from 2018-03-01 to 2018-03-31\n",
      "Time elapsed (hh:mm:ss.ms) 0:00:04.863370\n",
      "Currently retrieving data for ATL: from 2018-04-01 to 2018-04-30\n",
      "Time elapsed (hh:mm:ss.ms) 0:00:06.543877\n",
      "Currently retrieving data for ATL: from 2018-05-01 to 2018-05-31\n",
      "Time elapsed (hh:mm:ss.ms) 0:00:09.250287\n",
      "Currently retrieving data for ATL: from 2018-06-01 to 2018-06-30\n",
      "Time elapsed (hh:mm:ss.ms) 0:00:11.024003\n",
      "Currently retrieving data for ATL: from 2018-07-01 to 2018-07-31\n",
      "Time elapsed (hh:mm:ss.ms) 0:00:12.701525\n",
      "Currently retrieving data for ATL: from 2018-08-01 to 2018-08-31\n",
      "Time elapsed (hh:mm:ss.ms) 0:00:14.388108\n",
      "Currently retrieving data for ATL: from 2018-09-01 to 2018-09-30\n",
      "Time elapsed (hh:mm:ss.ms) 0:00:16.339808\n",
      "Currently retrieving data for ATL: from 2018-10-01 to 2018-10-31\n",
      "Time elapsed (hh:mm:ss.ms) 0:00:18.204483\n",
      "Currently retrieving data for ATL: from 2018-11-01 to 2018-11-30\n",
      "Time elapsed (hh:mm:ss.ms) 0:00:19.899647\n",
      "Currently retrieving data for ATL: from 2018-12-01 to 2018-12-31\n",
      "Time elapsed (hh:mm:ss.ms) 0:00:21.676412\n",
      "Currently retrieving data for ATL: from 2019-01-01 to 2019-01-31\n",
      "Time elapsed (hh:mm:ss.ms) 0:00:23.374191\n",
      "Currently retrieving data for ATL: from 2019-02-01 to 2019-02-28\n",
      "Time elapsed (hh:mm:ss.ms) 0:00:24.831276\n",
      "Currently retrieving data for ATL: from 2019-03-01 to 2019-03-31\n",
      "Time elapsed (hh:mm:ss.ms) 0:00:26.499134\n",
      "Currently retrieving data for ATL: from 2019-04-01 to 2019-04-30\n",
      "Time elapsed (hh:mm:ss.ms) 0:00:28.182922\n",
      "Currently retrieving data for ATL: from 2019-05-01 to 2019-05-31\n",
      "Time elapsed (hh:mm:ss.ms) 0:00:29.906081\n",
      "Currently retrieving data for ATL: from 2019-06-01 to 2019-06-30\n",
      "Time elapsed (hh:mm:ss.ms) 0:00:31.555518\n",
      "Currently retrieving data for ATL: from 2019-07-01 to 2019-07-31\n",
      "Time elapsed (hh:mm:ss.ms) 0:00:33.335519\n",
      "Currently retrieving data for ATL: from 2019-08-01 to 2019-08-31\n",
      "Time elapsed (hh:mm:ss.ms) 0:00:35.022661\n",
      "Currently retrieving data for ATL: from 2019-09-01 to 2019-09-30\n",
      "Time elapsed (hh:mm:ss.ms) 0:00:36.852522\n",
      "Currently retrieving data for ATL: from 2019-10-01 to 2019-10-31\n",
      "Time elapsed (hh:mm:ss.ms) 0:00:38.560613\n",
      "Currently retrieving data for ATL: from 2019-11-01 to 2019-11-30\n",
      "Time elapsed (hh:mm:ss.ms) 0:00:40.209901\n",
      "Currently retrieving data for ATL: from 2019-12-01 to 2019-12-31\n",
      "Time elapsed (hh:mm:ss.ms) 0:00:41.908916\n",
      "\n",
      "\n",
      "export ATL completed!\n",
      "\n",
      "\n",
      "\n",
      "\n",
      "Retrieving weather data for DFW\n",
      "\n",
      "\n",
      "Currently retrieving data for DFW: from 2018-01-01 to 2018-01-31\n",
      "Time elapsed (hh:mm:ss.ms) 0:00:01.765120\n",
      "Currently retrieving data for DFW: from 2018-02-01 to 2018-02-28\n",
      "Time elapsed (hh:mm:ss.ms) 0:00:03.701675\n",
      "Currently retrieving data for DFW: from 2018-03-01 to 2018-03-31\n",
      "Time elapsed (hh:mm:ss.ms) 0:00:05.799713\n",
      "Currently retrieving data for DFW: from 2018-04-01 to 2018-04-30\n",
      "Time elapsed (hh:mm:ss.ms) 0:00:07.545941\n",
      "Currently retrieving data for DFW: from 2018-05-01 to 2018-05-31\n",
      "Time elapsed (hh:mm:ss.ms) 0:00:09.265080\n",
      "Currently retrieving data for DFW: from 2018-06-01 to 2018-06-30\n",
      "Time elapsed (hh:mm:ss.ms) 0:00:10.936795\n",
      "Currently retrieving data for DFW: from 2018-07-01 to 2018-07-31\n",
      "Time elapsed (hh:mm:ss.ms) 0:00:12.651704\n",
      "Currently retrieving data for DFW: from 2018-08-01 to 2018-08-31\n",
      "Time elapsed (hh:mm:ss.ms) 0:00:14.461492\n",
      "Currently retrieving data for DFW: from 2018-09-01 to 2018-09-30\n",
      "Time elapsed (hh:mm:ss.ms) 0:00:16.127651\n",
      "Currently retrieving data for DFW: from 2018-10-01 to 2018-10-31\n",
      "Time elapsed (hh:mm:ss.ms) 0:00:17.873479\n",
      "Currently retrieving data for DFW: from 2018-11-01 to 2018-11-30\n",
      "Time elapsed (hh:mm:ss.ms) 0:00:19.545911\n",
      "Currently retrieving data for DFW: from 2018-12-01 to 2018-12-31\n",
      "Time elapsed (hh:mm:ss.ms) 0:00:21.313333\n",
      "Currently retrieving data for DFW: from 2019-01-01 to 2019-01-31\n",
      "Time elapsed (hh:mm:ss.ms) 0:00:23.088256\n",
      "Currently retrieving data for DFW: from 2019-02-01 to 2019-02-28\n",
      "Time elapsed (hh:mm:ss.ms) 0:00:24.758174\n",
      "Currently retrieving data for DFW: from 2019-03-01 to 2019-03-31\n",
      "Time elapsed (hh:mm:ss.ms) 0:00:26.441632\n",
      "Currently retrieving data for DFW: from 2019-04-01 to 2019-04-30\n",
      "Time elapsed (hh:mm:ss.ms) 0:00:28.611114\n",
      "Currently retrieving data for DFW: from 2019-05-01 to 2019-05-31\n",
      "Time elapsed (hh:mm:ss.ms) 0:00:30.372422\n",
      "Currently retrieving data for DFW: from 2019-06-01 to 2019-06-30\n",
      "Time elapsed (hh:mm:ss.ms) 0:00:32.037530\n",
      "Currently retrieving data for DFW: from 2019-07-01 to 2019-07-31\n",
      "Time elapsed (hh:mm:ss.ms) 0:00:33.739272\n",
      "Currently retrieving data for DFW: from 2019-08-01 to 2019-08-31\n",
      "Time elapsed (hh:mm:ss.ms) 0:00:35.464353\n",
      "Currently retrieving data for DFW: from 2019-09-01 to 2019-09-30\n",
      "Time elapsed (hh:mm:ss.ms) 0:00:37.176610\n",
      "Currently retrieving data for DFW: from 2019-10-01 to 2019-10-31\n",
      "Time elapsed (hh:mm:ss.ms) 0:00:38.877537\n",
      "Currently retrieving data for DFW: from 2019-11-01 to 2019-11-30\n",
      "Time elapsed (hh:mm:ss.ms) 0:00:40.643596\n",
      "Currently retrieving data for DFW: from 2019-12-01 to 2019-12-31\n",
      "Time elapsed (hh:mm:ss.ms) 0:00:42.436676\n",
      "\n",
      "\n",
      "export DFW completed!\n",
      "\n",
      "\n",
      "\n",
      "\n",
      "Retrieving weather data for DEN\n",
      "\n",
      "\n",
      "Currently retrieving data for DEN: from 2018-01-01 to 2018-01-31\n",
      "Time elapsed (hh:mm:ss.ms) 0:00:01.713915\n",
      "Currently retrieving data for DEN: from 2018-02-01 to 2018-02-28\n",
      "Time elapsed (hh:mm:ss.ms) 0:00:03.323192\n",
      "Currently retrieving data for DEN: from 2018-03-01 to 2018-03-31\n",
      "Time elapsed (hh:mm:ss.ms) 0:00:04.875888\n",
      "Currently retrieving data for DEN: from 2018-04-01 to 2018-04-30\n",
      "Time elapsed (hh:mm:ss.ms) 0:00:06.565052\n",
      "Currently retrieving data for DEN: from 2018-05-01 to 2018-05-31\n",
      "Time elapsed (hh:mm:ss.ms) 0:00:08.199952\n",
      "Currently retrieving data for DEN: from 2018-06-01 to 2018-06-30\n",
      "Time elapsed (hh:mm:ss.ms) 0:00:09.963014\n",
      "Currently retrieving data for DEN: from 2018-07-01 to 2018-07-31\n",
      "Time elapsed (hh:mm:ss.ms) 0:00:11.604484\n",
      "Currently retrieving data for DEN: from 2018-08-01 to 2018-08-31\n",
      "Time elapsed (hh:mm:ss.ms) 0:00:13.371319\n",
      "Currently retrieving data for DEN: from 2018-09-01 to 2018-09-30\n",
      "Time elapsed (hh:mm:ss.ms) 0:00:15.083881\n",
      "Currently retrieving data for DEN: from 2018-10-01 to 2018-10-31\n",
      "Time elapsed (hh:mm:ss.ms) 0:00:16.858623\n",
      "Currently retrieving data for DEN: from 2018-11-01 to 2018-11-30\n",
      "Time elapsed (hh:mm:ss.ms) 0:00:18.527806\n",
      "Currently retrieving data for DEN: from 2018-12-01 to 2018-12-31\n",
      "Time elapsed (hh:mm:ss.ms) 0:00:20.224481\n",
      "Currently retrieving data for DEN: from 2019-01-01 to 2019-01-31\n",
      "Time elapsed (hh:mm:ss.ms) 0:00:21.974453\n",
      "Currently retrieving data for DEN: from 2019-02-01 to 2019-02-28\n",
      "Time elapsed (hh:mm:ss.ms) 0:00:23.665754\n",
      "Currently retrieving data for DEN: from 2019-03-01 to 2019-03-31\n",
      "Time elapsed (hh:mm:ss.ms) 0:00:25.360859\n",
      "Currently retrieving data for DEN: from 2019-04-01 to 2019-04-30\n",
      "Time elapsed (hh:mm:ss.ms) 0:00:26.911569\n",
      "Currently retrieving data for DEN: from 2019-05-01 to 2019-05-31\n",
      "Time elapsed (hh:mm:ss.ms) 0:00:28.601534\n",
      "Currently retrieving data for DEN: from 2019-06-01 to 2019-06-30\n",
      "Time elapsed (hh:mm:ss.ms) 0:00:30.260380\n",
      "Currently retrieving data for DEN: from 2019-07-01 to 2019-07-31\n",
      "Time elapsed (hh:mm:ss.ms) 0:00:31.927744\n",
      "Currently retrieving data for DEN: from 2019-08-01 to 2019-08-31\n",
      "Time elapsed (hh:mm:ss.ms) 0:00:33.602950\n",
      "Currently retrieving data for DEN: from 2019-09-01 to 2019-09-30\n",
      "Time elapsed (hh:mm:ss.ms) 0:00:35.910329\n",
      "Currently retrieving data for DEN: from 2019-10-01 to 2019-10-31\n",
      "Time elapsed (hh:mm:ss.ms) 0:00:37.603792\n",
      "Currently retrieving data for DEN: from 2019-11-01 to 2019-11-30\n",
      "Time elapsed (hh:mm:ss.ms) 0:00:40.437089\n",
      "Currently retrieving data for DEN: from 2019-12-01 to 2019-12-31\n",
      "Time elapsed (hh:mm:ss.ms) 0:00:42.244276\n",
      "\n",
      "\n",
      "export DEN completed!\n",
      "\n",
      "\n",
      "\n",
      "\n",
      "Retrieving weather data for LAX\n",
      "\n",
      "\n",
      "Currently retrieving data for LAX: from 2018-01-01 to 2018-01-31\n",
      "Time elapsed (hh:mm:ss.ms) 0:00:01.646608\n",
      "Currently retrieving data for LAX: from 2018-02-01 to 2018-02-28\n",
      "Time elapsed (hh:mm:ss.ms) 0:00:03.260257\n",
      "Currently retrieving data for LAX: from 2018-03-01 to 2018-03-31\n",
      "Time elapsed (hh:mm:ss.ms) 0:00:05.035049\n",
      "Currently retrieving data for LAX: from 2018-04-01 to 2018-04-30\n",
      "Time elapsed (hh:mm:ss.ms) 0:00:06.691768\n",
      "Currently retrieving data for LAX: from 2018-05-01 to 2018-05-31\n",
      "Time elapsed (hh:mm:ss.ms) 0:00:08.504289\n",
      "Currently retrieving data for LAX: from 2018-06-01 to 2018-06-30\n",
      "Time elapsed (hh:mm:ss.ms) 0:00:10.165337\n",
      "Currently retrieving data for LAX: from 2018-07-01 to 2018-07-31\n",
      "Time elapsed (hh:mm:ss.ms) 0:00:11.828536\n",
      "Currently retrieving data for LAX: from 2018-08-01 to 2018-08-31\n",
      "Time elapsed (hh:mm:ss.ms) 0:00:13.498550\n",
      "Currently retrieving data for LAX: from 2018-09-01 to 2018-09-30\n",
      "Time elapsed (hh:mm:ss.ms) 0:00:15.169095\n",
      "Currently retrieving data for LAX: from 2018-10-01 to 2018-10-31\n",
      "Time elapsed (hh:mm:ss.ms) 0:00:16.842251\n",
      "Currently retrieving data for LAX: from 2018-11-01 to 2018-11-30\n",
      "Time elapsed (hh:mm:ss.ms) 0:00:18.539451\n",
      "Currently retrieving data for LAX: from 2018-12-01 to 2018-12-31\n",
      "Time elapsed (hh:mm:ss.ms) 0:00:20.350821\n",
      "Currently retrieving data for LAX: from 2019-01-01 to 2019-01-31\n",
      "Time elapsed (hh:mm:ss.ms) 0:00:22.020697\n",
      "Currently retrieving data for LAX: from 2019-02-01 to 2019-02-28\n",
      "Time elapsed (hh:mm:ss.ms) 0:00:23.578445\n",
      "Currently retrieving data for LAX: from 2019-03-01 to 2019-03-31\n",
      "Time elapsed (hh:mm:ss.ms) 0:00:25.362741\n",
      "Currently retrieving data for LAX: from 2019-04-01 to 2019-04-30\n",
      "Time elapsed (hh:mm:ss.ms) 0:00:27.034941\n",
      "Currently retrieving data for LAX: from 2019-05-01 to 2019-05-31\n",
      "Time elapsed (hh:mm:ss.ms) 0:00:28.730407\n",
      "Currently retrieving data for LAX: from 2019-06-01 to 2019-06-30\n",
      "Time elapsed (hh:mm:ss.ms) 0:00:30.475872\n",
      "Currently retrieving data for LAX: from 2019-07-01 to 2019-07-31\n",
      "Time elapsed (hh:mm:ss.ms) 0:00:32.154063\n",
      "Currently retrieving data for LAX: from 2019-08-01 to 2019-08-31\n",
      "Time elapsed (hh:mm:ss.ms) 0:00:33.830400\n",
      "Currently retrieving data for LAX: from 2019-09-01 to 2019-09-30\n",
      "Time elapsed (hh:mm:ss.ms) 0:00:35.490378\n",
      "Currently retrieving data for LAX: from 2019-10-01 to 2019-10-31\n",
      "Time elapsed (hh:mm:ss.ms) 0:00:37.192102\n",
      "Currently retrieving data for LAX: from 2019-11-01 to 2019-11-30\n",
      "Time elapsed (hh:mm:ss.ms) 0:00:38.929897\n",
      "Currently retrieving data for LAX: from 2019-12-01 to 2019-12-31\n",
      "Time elapsed (hh:mm:ss.ms) 0:00:40.608153\n",
      "\n",
      "\n",
      "export LAX completed!\n",
      "\n",
      "\n",
      "\n",
      "\n",
      "Retrieving weather data for CLT\n",
      "\n",
      "\n",
      "Currently retrieving data for CLT: from 2018-01-01 to 2018-01-31\n",
      "Time elapsed (hh:mm:ss.ms) 0:00:01.750802\n",
      "Currently retrieving data for CLT: from 2018-02-01 to 2018-02-28\n",
      "Time elapsed (hh:mm:ss.ms) 0:00:03.375472\n",
      "Currently retrieving data for CLT: from 2018-03-01 to 2018-03-31\n",
      "Time elapsed (hh:mm:ss.ms) 0:00:05.136607\n",
      "Currently retrieving data for CLT: from 2018-04-01 to 2018-04-30\n",
      "Time elapsed (hh:mm:ss.ms) 0:00:06.805837\n",
      "Currently retrieving data for CLT: from 2018-05-01 to 2018-05-31\n",
      "Time elapsed (hh:mm:ss.ms) 0:00:08.564512\n",
      "Currently retrieving data for CLT: from 2018-06-01 to 2018-06-30\n",
      "Time elapsed (hh:mm:ss.ms) 0:00:10.298691\n",
      "Currently retrieving data for CLT: from 2018-07-01 to 2018-07-31\n",
      "Time elapsed (hh:mm:ss.ms) 0:00:12.171799\n",
      "Currently retrieving data for CLT: from 2018-08-01 to 2018-08-31\n",
      "Time elapsed (hh:mm:ss.ms) 0:00:13.872715\n",
      "Currently retrieving data for CLT: from 2018-09-01 to 2018-09-30\n",
      "Time elapsed (hh:mm:ss.ms) 0:00:15.423101\n",
      "Currently retrieving data for CLT: from 2018-10-01 to 2018-10-31\n",
      "Time elapsed (hh:mm:ss.ms) 0:00:17.212279\n",
      "Currently retrieving data for CLT: from 2018-11-01 to 2018-11-30\n",
      "Time elapsed (hh:mm:ss.ms) 0:00:18.907387\n",
      "Currently retrieving data for CLT: from 2018-12-01 to 2018-12-31\n",
      "Time elapsed (hh:mm:ss.ms) 0:00:20.585600\n",
      "Currently retrieving data for CLT: from 2019-01-01 to 2019-01-31\n",
      "Time elapsed (hh:mm:ss.ms) 0:00:22.270754\n",
      "Currently retrieving data for CLT: from 2019-02-01 to 2019-02-28\n",
      "Time elapsed (hh:mm:ss.ms) 0:00:23.864722\n",
      "Currently retrieving data for CLT: from 2019-03-01 to 2019-03-31\n",
      "Time elapsed (hh:mm:ss.ms) 0:00:25.519125\n",
      "Currently retrieving data for CLT: from 2019-04-01 to 2019-04-30\n",
      "Time elapsed (hh:mm:ss.ms) 0:00:27.180378\n",
      "Currently retrieving data for CLT: from 2019-05-01 to 2019-05-31\n",
      "Time elapsed (hh:mm:ss.ms) 0:00:28.986517\n",
      "Currently retrieving data for CLT: from 2019-06-01 to 2019-06-30\n",
      "Time elapsed (hh:mm:ss.ms) 0:00:31.743384\n",
      "Currently retrieving data for CLT: from 2019-07-01 to 2019-07-31\n",
      "Time elapsed (hh:mm:ss.ms) 0:00:33.425936\n",
      "Currently retrieving data for CLT: from 2019-08-01 to 2019-08-31\n",
      "Time elapsed (hh:mm:ss.ms) 0:00:35.112411\n",
      "Currently retrieving data for CLT: from 2019-09-01 to 2019-09-30\n",
      "Time elapsed (hh:mm:ss.ms) 0:00:36.761512\n",
      "Currently retrieving data for CLT: from 2019-10-01 to 2019-10-31\n",
      "Time elapsed (hh:mm:ss.ms) 0:00:38.641480\n",
      "Currently retrieving data for CLT: from 2019-11-01 to 2019-11-30\n",
      "Time elapsed (hh:mm:ss.ms) 0:00:40.373662\n",
      "Currently retrieving data for CLT: from 2019-12-01 to 2019-12-31\n",
      "Time elapsed (hh:mm:ss.ms) 0:00:42.267296\n",
      "\n",
      "\n",
      "export CLT completed!\n",
      "\n",
      "\n",
      "\n",
      "\n",
      "Retrieving weather data for SEA\n",
      "\n",
      "\n",
      "Currently retrieving data for SEA: from 2018-01-01 to 2018-01-31\n",
      "Time elapsed (hh:mm:ss.ms) 0:00:01.809604\n",
      "Currently retrieving data for SEA: from 2018-02-01 to 2018-02-28\n",
      "Time elapsed (hh:mm:ss.ms) 0:00:03.500793\n",
      "Currently retrieving data for SEA: from 2018-03-01 to 2018-03-31\n",
      "Time elapsed (hh:mm:ss.ms) 0:00:05.230074\n",
      "Currently retrieving data for SEA: from 2018-04-01 to 2018-04-30\n",
      "Time elapsed (hh:mm:ss.ms) 0:00:06.876276\n",
      "Currently retrieving data for SEA: from 2018-05-01 to 2018-05-31\n",
      "Time elapsed (hh:mm:ss.ms) 0:00:08.601891\n",
      "Currently retrieving data for SEA: from 2018-06-01 to 2018-06-30\n",
      "Time elapsed (hh:mm:ss.ms) 0:00:10.317433\n",
      "Currently retrieving data for SEA: from 2018-07-01 to 2018-07-31\n",
      "Time elapsed (hh:mm:ss.ms) 0:00:12.061838\n",
      "Currently retrieving data for SEA: from 2018-08-01 to 2018-08-31\n",
      "Time elapsed (hh:mm:ss.ms) 0:00:13.759676\n",
      "Currently retrieving data for SEA: from 2018-09-01 to 2018-09-30\n",
      "Time elapsed (hh:mm:ss.ms) 0:00:15.943870\n",
      "Currently retrieving data for SEA: from 2018-10-01 to 2018-10-31\n",
      "Time elapsed (hh:mm:ss.ms) 0:00:17.611726\n",
      "Currently retrieving data for SEA: from 2018-11-01 to 2018-11-30\n",
      "Time elapsed (hh:mm:ss.ms) 0:00:19.284370\n",
      "Currently retrieving data for SEA: from 2018-12-01 to 2018-12-31\n",
      "Time elapsed (hh:mm:ss.ms) 0:00:21.040895\n",
      "Currently retrieving data for SEA: from 2019-01-01 to 2019-01-31\n",
      "Time elapsed (hh:mm:ss.ms) 0:00:22.819158\n",
      "Currently retrieving data for SEA: from 2019-02-01 to 2019-02-28\n",
      "Time elapsed (hh:mm:ss.ms) 0:00:24.636181\n",
      "Currently retrieving data for SEA: from 2019-03-01 to 2019-03-31\n",
      "Time elapsed (hh:mm:ss.ms) 0:00:26.329672\n",
      "Currently retrieving data for SEA: from 2019-04-01 to 2019-04-30\n",
      "Time elapsed (hh:mm:ss.ms) 0:00:28.077693\n",
      "Currently retrieving data for SEA: from 2019-05-01 to 2019-05-31\n",
      "Time elapsed (hh:mm:ss.ms) 0:00:29.741828\n",
      "Currently retrieving data for SEA: from 2019-06-01 to 2019-06-30\n",
      "Time elapsed (hh:mm:ss.ms) 0:00:31.574850\n",
      "Currently retrieving data for SEA: from 2019-07-01 to 2019-07-31\n",
      "Time elapsed (hh:mm:ss.ms) 0:00:33.266570\n",
      "Currently retrieving data for SEA: from 2019-08-01 to 2019-08-31\n",
      "Time elapsed (hh:mm:ss.ms) 0:00:34.933682\n",
      "Currently retrieving data for SEA: from 2019-09-01 to 2019-09-30\n",
      "Time elapsed (hh:mm:ss.ms) 0:00:36.593673\n",
      "Currently retrieving data for SEA: from 2019-10-01 to 2019-10-31\n",
      "Time elapsed (hh:mm:ss.ms) 0:00:38.269915\n",
      "Currently retrieving data for SEA: from 2019-11-01 to 2019-11-30\n",
      "Time elapsed (hh:mm:ss.ms) 0:00:39.938366\n",
      "Currently retrieving data for SEA: from 2019-12-01 to 2019-12-31\n",
      "Time elapsed (hh:mm:ss.ms) 0:00:41.686087\n",
      "\n",
      "\n",
      "export SEA completed!\n",
      "\n",
      "\n",
      "\n",
      "\n",
      "Retrieving weather data for SFO\n",
      "\n",
      "\n",
      "Currently retrieving data for SFO: from 2018-01-01 to 2018-01-31\n",
      "Time elapsed (hh:mm:ss.ms) 0:00:01.727762\n",
      "Currently retrieving data for SFO: from 2018-02-01 to 2018-02-28\n",
      "Time elapsed (hh:mm:ss.ms) 0:00:03.367645\n",
      "Currently retrieving data for SFO: from 2018-03-01 to 2018-03-31\n",
      "Time elapsed (hh:mm:ss.ms) 0:00:05.025772\n",
      "Currently retrieving data for SFO: from 2018-04-01 to 2018-04-30\n",
      "Time elapsed (hh:mm:ss.ms) 0:00:06.633581\n",
      "Currently retrieving data for SFO: from 2018-05-01 to 2018-05-31\n",
      "Time elapsed (hh:mm:ss.ms) 0:00:08.422384\n",
      "Currently retrieving data for SFO: from 2018-06-01 to 2018-06-30\n",
      "Time elapsed (hh:mm:ss.ms) 0:00:13.311323\n",
      "Currently retrieving data for SFO: from 2018-07-01 to 2018-07-31\n",
      "Time elapsed (hh:mm:ss.ms) 0:00:15.055566\n",
      "Currently retrieving data for SFO: from 2018-08-01 to 2018-08-31\n",
      "Time elapsed (hh:mm:ss.ms) 0:00:16.742088\n",
      "Currently retrieving data for SFO: from 2018-09-01 to 2018-09-30\n",
      "Time elapsed (hh:mm:ss.ms) 0:00:18.417823\n",
      "Currently retrieving data for SFO: from 2018-10-01 to 2018-10-31\n",
      "Time elapsed (hh:mm:ss.ms) 0:00:20.182865\n",
      "Currently retrieving data for SFO: from 2018-11-01 to 2018-11-30\n",
      "Time elapsed (hh:mm:ss.ms) 0:00:21.834455\n",
      "Currently retrieving data for SFO: from 2018-12-01 to 2018-12-31\n",
      "Time elapsed (hh:mm:ss.ms) 0:00:23.465085\n",
      "Currently retrieving data for SFO: from 2019-01-01 to 2019-01-31\n",
      "Time elapsed (hh:mm:ss.ms) 0:00:25.162888\n",
      "Currently retrieving data for SFO: from 2019-02-01 to 2019-02-28\n",
      "Time elapsed (hh:mm:ss.ms) 0:00:26.797229\n",
      "Currently retrieving data for SFO: from 2019-03-01 to 2019-03-31\n",
      "Time elapsed (hh:mm:ss.ms) 0:00:28.475332\n",
      "Currently retrieving data for SFO: from 2019-04-01 to 2019-04-30\n",
      "Time elapsed (hh:mm:ss.ms) 0:00:29.991336\n",
      "Currently retrieving data for SFO: from 2019-05-01 to 2019-05-31\n",
      "Time elapsed (hh:mm:ss.ms) 0:00:31.689851\n",
      "Currently retrieving data for SFO: from 2019-06-01 to 2019-06-30\n",
      "Time elapsed (hh:mm:ss.ms) 0:00:33.465212\n",
      "Currently retrieving data for SFO: from 2019-07-01 to 2019-07-31\n",
      "Time elapsed (hh:mm:ss.ms) 0:00:35.154155\n",
      "Currently retrieving data for SFO: from 2019-08-01 to 2019-08-31\n",
      "Time elapsed (hh:mm:ss.ms) 0:00:36.899855\n",
      "Currently retrieving data for SFO: from 2019-09-01 to 2019-09-30\n",
      "Time elapsed (hh:mm:ss.ms) 0:00:38.653253\n",
      "Currently retrieving data for SFO: from 2019-10-01 to 2019-10-31\n",
      "Time elapsed (hh:mm:ss.ms) 0:00:40.339439\n",
      "Currently retrieving data for SFO: from 2019-11-01 to 2019-11-30\n",
      "Time elapsed (hh:mm:ss.ms) 0:00:42.000965\n",
      "Currently retrieving data for SFO: from 2019-12-01 to 2019-12-31\n",
      "Time elapsed (hh:mm:ss.ms) 0:00:43.675372\n",
      "\n",
      "\n",
      "export SFO completed!\n",
      "\n",
      "\n",
      "\n",
      "\n",
      "Retrieving weather data for SFO\n",
      "\n",
      "\n",
      "Currently retrieving data for SFO: from 2018-01-01 to 2018-01-31\n",
      "Time elapsed (hh:mm:ss.ms) 0:00:01.754754\n",
      "Currently retrieving data for SFO: from 2018-02-01 to 2018-02-28\n",
      "Time elapsed (hh:mm:ss.ms) 0:00:03.339071\n",
      "Currently retrieving data for SFO: from 2018-03-01 to 2018-03-31\n",
      "Time elapsed (hh:mm:ss.ms) 0:00:05.013799\n",
      "Currently retrieving data for SFO: from 2018-04-01 to 2018-04-30\n",
      "Time elapsed (hh:mm:ss.ms) 0:00:06.443961\n",
      "Currently retrieving data for SFO: from 2018-05-01 to 2018-05-31\n",
      "Time elapsed (hh:mm:ss.ms) 0:00:08.114628\n",
      "Currently retrieving data for SFO: from 2018-06-01 to 2018-06-30\n",
      "Time elapsed (hh:mm:ss.ms) 0:00:09.632765\n",
      "Currently retrieving data for SFO: from 2018-07-01 to 2018-07-31\n",
      "Time elapsed (hh:mm:ss.ms) 0:00:10.588185\n",
      "Currently retrieving data for SFO: from 2018-08-01 to 2018-08-31\n",
      "Time elapsed (hh:mm:ss.ms) 0:00:11.611191\n",
      "Currently retrieving data for SFO: from 2018-09-01 to 2018-09-30\n",
      "Time elapsed (hh:mm:ss.ms) 0:00:13.340107\n",
      "Currently retrieving data for SFO: from 2018-10-01 to 2018-10-31\n",
      "Time elapsed (hh:mm:ss.ms) 0:00:14.257154\n",
      "Currently retrieving data for SFO: from 2018-11-01 to 2018-11-30\n",
      "Time elapsed (hh:mm:ss.ms) 0:00:15.166565\n",
      "Currently retrieving data for SFO: from 2018-12-01 to 2018-12-31\n",
      "Time elapsed (hh:mm:ss.ms) 0:00:16.756037\n",
      "Currently retrieving data for SFO: from 2019-01-01 to 2019-01-31\n",
      "Time elapsed (hh:mm:ss.ms) 0:00:18.536661\n",
      "Currently retrieving data for SFO: from 2019-02-01 to 2019-02-28\n",
      "Time elapsed (hh:mm:ss.ms) 0:00:19.386574\n",
      "Currently retrieving data for SFO: from 2019-03-01 to 2019-03-31\n",
      "Time elapsed (hh:mm:ss.ms) 0:00:21.069254\n",
      "Currently retrieving data for SFO: from 2019-04-01 to 2019-04-30\n",
      "Time elapsed (hh:mm:ss.ms) 0:00:22.634854\n",
      "Currently retrieving data for SFO: from 2019-05-01 to 2019-05-31\n",
      "Time elapsed (hh:mm:ss.ms) 0:00:24.475962\n",
      "Currently retrieving data for SFO: from 2019-06-01 to 2019-06-30\n",
      "Time elapsed (hh:mm:ss.ms) 0:00:25.452934\n",
      "Currently retrieving data for SFO: from 2019-07-01 to 2019-07-31\n",
      "Time elapsed (hh:mm:ss.ms) 0:00:27.335120\n",
      "Currently retrieving data for SFO: from 2019-08-01 to 2019-08-31\n",
      "Time elapsed (hh:mm:ss.ms) 0:00:29.208114\n",
      "Currently retrieving data for SFO: from 2019-09-01 to 2019-09-30\n",
      "Time elapsed (hh:mm:ss.ms) 0:00:30.930119\n",
      "Currently retrieving data for SFO: from 2019-10-01 to 2019-10-31\n",
      "Time elapsed (hh:mm:ss.ms) 0:00:31.883114\n",
      "Currently retrieving data for SFO: from 2019-11-01 to 2019-11-30\n",
      "Time elapsed (hh:mm:ss.ms) 0:00:33.549347\n",
      "Currently retrieving data for SFO: from 2019-12-01 to 2019-12-31\n",
      "Time elapsed (hh:mm:ss.ms) 0:00:35.071347\n",
      "\n",
      "\n",
      "export SFO completed!\n",
      "\n",
      "\n",
      "\n",
      "\n",
      "Retrieving weather data for PHX\n",
      "\n",
      "\n",
      "Currently retrieving data for PHX: from 2018-01-01 to 2018-01-31\n",
      "Time elapsed (hh:mm:ss.ms) 0:00:01.738190\n",
      "Currently retrieving data for PHX: from 2018-02-01 to 2018-02-28\n",
      "Time elapsed (hh:mm:ss.ms) 0:00:03.344376\n",
      "Currently retrieving data for PHX: from 2018-03-01 to 2018-03-31\n",
      "Time elapsed (hh:mm:ss.ms) 0:00:05.028489\n",
      "Currently retrieving data for PHX: from 2018-04-01 to 2018-04-30\n",
      "Time elapsed (hh:mm:ss.ms) 0:00:06.828493\n",
      "Currently retrieving data for PHX: from 2018-05-01 to 2018-05-31\n",
      "Time elapsed (hh:mm:ss.ms) 0:00:08.652632\n",
      "Currently retrieving data for PHX: from 2018-06-01 to 2018-06-30\n",
      "Time elapsed (hh:mm:ss.ms) 0:00:10.410631\n",
      "Currently retrieving data for PHX: from 2018-07-01 to 2018-07-31\n",
      "Time elapsed (hh:mm:ss.ms) 0:00:12.216635\n",
      "Currently retrieving data for PHX: from 2018-08-01 to 2018-08-31\n",
      "Time elapsed (hh:mm:ss.ms) 0:00:13.946439\n",
      "Currently retrieving data for PHX: from 2018-09-01 to 2018-09-30\n",
      "Time elapsed (hh:mm:ss.ms) 0:00:15.681041\n",
      "Currently retrieving data for PHX: from 2018-10-01 to 2018-10-31\n",
      "Time elapsed (hh:mm:ss.ms) 0:00:17.479043\n",
      "Currently retrieving data for PHX: from 2018-11-01 to 2018-11-30\n",
      "Time elapsed (hh:mm:ss.ms) 0:00:19.195717\n",
      "Currently retrieving data for PHX: from 2018-12-01 to 2018-12-31\n",
      "Time elapsed (hh:mm:ss.ms) 0:00:20.864326\n",
      "Currently retrieving data for PHX: from 2019-01-01 to 2019-01-31\n",
      "Time elapsed (hh:mm:ss.ms) 0:00:22.504980\n",
      "Currently retrieving data for PHX: from 2019-02-01 to 2019-02-28\n",
      "Time elapsed (hh:mm:ss.ms) 0:00:24.166902\n",
      "Currently retrieving data for PHX: from 2019-03-01 to 2019-03-31\n",
      "Time elapsed (hh:mm:ss.ms) 0:00:25.722993\n",
      "Currently retrieving data for PHX: from 2019-04-01 to 2019-04-30\n",
      "Time elapsed (hh:mm:ss.ms) 0:00:27.531533\n",
      "Currently retrieving data for PHX: from 2019-05-01 to 2019-05-31\n",
      "Time elapsed (hh:mm:ss.ms) 0:00:29.261246\n",
      "Currently retrieving data for PHX: from 2019-06-01 to 2019-06-30\n",
      "Time elapsed (hh:mm:ss.ms) 0:00:30.906424\n",
      "Currently retrieving data for PHX: from 2019-07-01 to 2019-07-31\n",
      "Time elapsed (hh:mm:ss.ms) 0:00:32.659716\n",
      "Currently retrieving data for PHX: from 2019-08-01 to 2019-08-31\n",
      "Time elapsed (hh:mm:ss.ms) 0:00:34.382675\n",
      "Currently retrieving data for PHX: from 2019-09-01 to 2019-09-30\n",
      "Time elapsed (hh:mm:ss.ms) 0:00:36.130211\n",
      "Currently retrieving data for PHX: from 2019-10-01 to 2019-10-31\n",
      "Time elapsed (hh:mm:ss.ms) 0:00:37.767600\n",
      "Currently retrieving data for PHX: from 2019-11-01 to 2019-11-30\n",
      "Time elapsed (hh:mm:ss.ms) 0:00:39.425479\n",
      "Currently retrieving data for PHX: from 2019-12-01 to 2019-12-31\n",
      "Time elapsed (hh:mm:ss.ms) 0:00:41.085944\n",
      "\n",
      "\n",
      "export PHX completed!\n",
      "\n",
      "\n"
     ]
    }
   ],
   "source": [
    "from wwo_hist import retrieve_hist_data\n",
    "frequency=12\n",
    "start_date = '01-JAN-2018'\n",
    "end_date = '31-DEC-2019'\n",
    "api_key = 'd385b2b23e2c4b2392535423211101'\n",
    "location_list = ['ORD', 'ATL', 'DFW', 'DEN', 'LAX', 'CLT', 'SEA', 'SFO', 'PHX', 'LGA']\n",
    "\n",
    "hist_weather_data = retrieve_hist_data(api_key,\n",
    "                                location_list,\n",
    "                                start_date,\n",
    "                                end_date,\n",
    "                                frequency,\n",
    "                                location_label = False,\n",
    "                                export_csv = True,\n",
    "                                store_df = True)"
   ]
  },
  {
   "cell_type": "markdown",
   "metadata": {},
   "source": [
    "# Virtual Crossing API"
   ]
  },
  {
   "cell_type": "code",
   "execution_count": 31,
   "metadata": {},
   "outputs": [],
   "source": [
    "import requests\n",
    "import os\n",
    "import json\n",
    "from IPython.display import JSON"
   ]
  },
  {
   "cell_type": "code",
   "execution_count": null,
   "metadata": {},
   "outputs": [],
   "source": [
    "api_key = 'd385b2b23e2c4b2392535423211101'\n",
    "#url = f'https://api.worldweatheronline.com/premium/v1/past-weather.ashx?q=45.6387,-122.6615&date=2020-12-24&format=json&key={api_key}'\n",
    "url = 'https://api.worldweatheronline.com/premium/v1/past-weather.ashx?key=d385b2b23e2c4b2392535423211101&q=EWR, LAR&format=json&date=2018-01-01&enddate=2018-02-01&tp=24'"
   ]
  }
 ],
 "metadata": {
  "kernelspec": {
   "display_name": "Python 3",
   "language": "python",
   "name": "python3"
  },
  "language_info": {
   "codemirror_mode": {
    "name": "ipython",
    "version": 3
   },
   "file_extension": ".py",
   "mimetype": "text/x-python",
   "name": "python",
   "nbconvert_exporter": "python",
   "pygments_lexer": "ipython3",
   "version": "3.8.5"
  }
 },
 "nbformat": 4,
 "nbformat_minor": 4
}
